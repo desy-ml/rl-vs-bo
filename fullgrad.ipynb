{
 "cells": [
  {
   "cell_type": "code",
   "execution_count": 1,
   "metadata": {},
   "outputs": [
    {
     "name": "stdout",
     "output_type": "stream",
     "text": [
      "initializing ocelot...\n"
     ]
    }
   ],
   "source": [
    "import cheetah\n",
    "from gym import spaces\n",
    "import numpy as np\n",
    "import torch\n",
    "from torch import nn\n",
    "from torch import optim\n",
    "\n",
    "from environments import ARESlatticeStage3v1_9 as lattice\n",
    "from environments import utils\n",
    "from environments.absolute import ARESEAAbsolute\n",
    "from oneshot0script import Simulation"
   ]
  },
  {
   "cell_type": "code",
   "execution_count": 2,
   "metadata": {},
   "outputs": [],
   "source": [
    "obs_dim = 13\n",
    "act_dim = 5"
   ]
  },
  {
   "cell_type": "code",
   "execution_count": 3,
   "metadata": {},
   "outputs": [],
   "source": [
    "actor = nn.Sequential(\n",
    "    nn.Linear(obs_dim, 64),\n",
    "    nn.ReLU(),\n",
    "    nn.Linear(64, 32),\n",
    "    nn.ReLU(),\n",
    "    nn.Linear(32, act_dim)\n",
    ")\n",
    "optimizer = optim.Adam(actor.parameters())"
   ]
  },
  {
   "cell_type": "markdown",
   "metadata": {},
   "source": [
    "## Training"
   ]
  },
  {
   "cell_type": "code",
   "execution_count": 4,
   "metadata": {},
   "outputs": [],
   "source": [
    "batch_size = 4"
   ]
  },
  {
   "cell_type": "code",
   "execution_count": 5,
   "metadata": {},
   "outputs": [
    {
     "name": "stdout",
     "output_type": "stream",
     "text": [
      "WARNING: Diagnostic screen was converted with default screen properties.\n",
      "WARNING: Diagnostic screen was converted with default screen properties.\n",
      "WARNING: Diagnostic screen was converted with default screen properties.\n",
      "WARNING: Diagnostic screen was converted with default screen properties.\n"
     ]
    }
   ],
   "source": [
    "simulations = [Simulation() for _ in range(batch_size)]\n",
    "\n",
    "observation_factor = np.concatenate([\n",
    "    simulations[0].actuator_space.high,\n",
    "    simulations[0].goal_space.high,\n",
    "    simulations[0].goal_space.high\n",
    "])\n",
    "observation_factor = torch.tensor(observation_factor, dtype=torch.float32)\n",
    "actuator_factor = torch.tensor(simulations[0].actuator_space.high)"
   ]
  },
  {
   "cell_type": "code",
   "execution_count": 6,
   "metadata": {},
   "outputs": [],
   "source": [
    "observations = [simulation.reset() for simulation in simulations]\n",
    "observations = torch.tensor(observations, dtype=torch.float32)"
   ]
  },
  {
   "cell_type": "code",
   "execution_count": 7,
   "metadata": {},
   "outputs": [],
   "source": [
    "normalized_observations = observations / observation_factor"
   ]
  },
  {
   "cell_type": "code",
   "execution_count": 8,
   "metadata": {},
   "outputs": [],
   "source": [
    "normalized_actuators = actor(normalized_observations)"
   ]
  },
  {
   "cell_type": "code",
   "execution_count": 9,
   "metadata": {},
   "outputs": [
    {
     "data": {
      "text/plain": [
       "tensor([[ 0.2251,  0.1527,  0.0831, -0.1527, -0.0262],\n",
       "        [-0.2565,  0.5736, -0.3095, -1.0026,  1.4190],\n",
       "        [-0.0208,  0.1915, -0.0612, -0.5002,  0.4889],\n",
       "        [ 0.1435,  0.2361, -0.1092, -0.3842,  0.1792]],\n",
       "       grad_fn=<AddmmBackward>)"
      ]
     },
     "execution_count": 9,
     "metadata": {},
     "output_type": "execute_result"
    }
   ],
   "source": [
    "normalized_actuators"
   ]
  },
  {
   "cell_type": "code",
   "execution_count": 10,
   "metadata": {},
   "outputs": [],
   "source": [
    "actuators = normalized_actuators * actuator_factor"
   ]
  },
  {
   "cell_type": "code",
   "execution_count": 11,
   "metadata": {},
   "outputs": [
    {
     "data": {
      "text/plain": [
       "tensor(6.7525, grad_fn=<SelectBackward>)"
      ]
     },
     "execution_count": 11,
     "metadata": {},
     "output_type": "execute_result"
    }
   ],
   "source": [
    "actuators[0,0]"
   ]
  },
  {
   "cell_type": "code",
   "execution_count": 12,
   "metadata": {},
   "outputs": [],
   "source": [
    "simulations[0].segment.AREAMQZM1.k1 = actuators[0,0]"
   ]
  },
  {
   "cell_type": "code",
   "execution_count": 13,
   "metadata": {},
   "outputs": [
    {
     "data": {
      "text/plain": [
       "tensor(6.7525, grad_fn=<SelectBackward>)"
      ]
     },
     "execution_count": 13,
     "metadata": {},
     "output_type": "execute_result"
    }
   ],
   "source": [
    "simulations[0].segment.AREAMQZM1.k1"
   ]
  },
  {
   "cell_type": "code",
   "execution_count": 14,
   "metadata": {},
   "outputs": [
    {
     "data": {
      "text/plain": [
       "tensor([[ 9.5017e-01,  1.1997e-01,  0.0000e+00,  0.0000e+00,  0.0000e+00,\n",
       "          0.0000e+00,  0.0000e+00],\n",
       "        [-8.1007e-01,  9.5017e-01,  0.0000e+00,  0.0000e+00,  0.0000e+00,\n",
       "          0.0000e+00,  0.0000e+00],\n",
       "        [ 0.0000e+00,  0.0000e+00,  1.0507e+00,  1.2405e-01,  0.0000e+00,\n",
       "          0.0000e+00,  0.0000e+00],\n",
       "        [ 0.0000e+00,  0.0000e+00,  8.3767e-01,  1.0507e+00,  0.0000e+00,\n",
       "          0.0000e+00,  0.0000e+00],\n",
       "        [ 0.0000e+00,  0.0000e+00,  0.0000e+00,  0.0000e+00,  1.0000e+00,\n",
       "         -3.1857e-06,  0.0000e+00],\n",
       "        [ 0.0000e+00,  0.0000e+00,  0.0000e+00,  0.0000e+00,  0.0000e+00,\n",
       "          1.0000e+00,  0.0000e+00],\n",
       "        [ 0.0000e+00,  0.0000e+00,  0.0000e+00,  0.0000e+00,  0.0000e+00,\n",
       "          0.0000e+00,  1.0000e+00]], grad_fn=<StackBackward>)"
      ]
     },
     "execution_count": 14,
     "metadata": {},
     "output_type": "execute_result"
    }
   ],
   "source": [
    "simulations[0].segment.AREAMQZM1.transfer_map(100e6)"
   ]
  },
  {
   "cell_type": "code",
   "execution_count": 15,
   "metadata": {},
   "outputs": [],
   "source": [
    "simulations[0].segment.AREABSCR1.is_active = False"
   ]
  },
  {
   "cell_type": "code",
   "execution_count": 19,
   "metadata": {},
   "outputs": [
    {
     "data": {
      "text/plain": [
       "tensor([[-8.4032e-01,  1.0285e+00,  0.0000e+00,  0.0000e+00,  0.0000e+00,\n",
       "          0.0000e+00, -7.0699e-05],\n",
       "        [-1.0978e+00,  1.5356e-01,  0.0000e+00,  0.0000e+00,  0.0000e+00,\n",
       "          0.0000e+00, -1.5711e-04],\n",
       "        [ 0.0000e+00,  0.0000e+00,  4.0701e+00,  3.4338e+00,  0.0000e+00,\n",
       "          0.0000e+00, -4.7298e-04],\n",
       "        [ 0.0000e+00,  0.0000e+00,  2.3897e+00,  2.2618e+00,  0.0000e+00,\n",
       "          0.0000e+00, -4.9539e-04],\n",
       "        [ 0.0000e+00,  0.0000e+00,  0.0000e+00,  0.0000e+00,  1.0000e+00,\n",
       "          3.3267e-05,  0.0000e+00],\n",
       "        [ 0.0000e+00,  0.0000e+00,  0.0000e+00,  0.0000e+00,  0.0000e+00,\n",
       "          1.0000e+00,  0.0000e+00],\n",
       "        [ 0.0000e+00,  0.0000e+00,  0.0000e+00,  0.0000e+00,  0.0000e+00,\n",
       "          0.0000e+00,  1.0000e+00]], grad_fn=<MmBackward>)"
      ]
     },
     "execution_count": 19,
     "metadata": {},
     "output_type": "execute_result"
    }
   ],
   "source": [
    "tm = simulations[0].segment.transfer_map(100e6)\n",
    "tm"
   ]
  },
  {
   "cell_type": "code",
   "execution_count": 22,
   "metadata": {},
   "outputs": [
    {
     "data": {
      "text/plain": [
       "tensor([[-7.6972e-04, -9.8297e-04, -1.9867e-04,  ...,  3.8758e-04,\n",
       "         -7.0604e-05,  1.0000e+00],\n",
       "        [-1.7490e-03, -2.2654e-03,  4.1637e-04,  ..., -1.4024e-03,\n",
       "          2.8208e-04,  1.0000e+00],\n",
       "        [-2.1087e-03, -2.7429e-03, -7.4929e-04,  ...,  5.4059e-04,\n",
       "          7.4710e-04,  1.0000e+00],\n",
       "        ...,\n",
       "        [-1.9686e-03, -2.5559e-03,  4.8129e-04,  ...,  5.3410e-05,\n",
       "         -2.9865e-04,  1.0000e+00],\n",
       "        [-1.7767e-03, -2.2936e-03,  1.3442e-03,  ...,  1.5718e-03,\n",
       "          1.3241e-04,  1.0000e+00],\n",
       "        [-1.9718e-03, -2.5544e-03, -6.4533e-03,  ...,  1.4219e-03,\n",
       "         -4.8789e-04,  1.0000e+00]], grad_fn=<MmBackward>)"
      ]
     },
     "execution_count": 22,
     "metadata": {},
     "output_type": "execute_result"
    }
   ],
   "source": [
    "incoming = simulations[0].incoming\n",
    "outgoing = torch.matmul(incoming.particles, tm.t())\n",
    "outgoing"
   ]
  },
  {
   "cell_type": "code",
   "execution_count": 29,
   "metadata": {},
   "outputs": [],
   "source": [
    "mu_x = outgoing[:,0].mean()\n",
    "mu_y = outgoing[:,3].mean()\n",
    "sigma_x = outgoing[:,0].std()\n",
    "sigma_y = outgoing[:,3].std()"
   ]
  },
  {
   "cell_type": "code",
   "execution_count": 32,
   "metadata": {},
   "outputs": [
    {
     "data": {
      "text/plain": [
       "tensor([-0.0019, -0.0004,  0.0012,  0.0017], grad_fn=<StackBackward>)"
      ]
     },
     "execution_count": 32,
     "metadata": {},
     "output_type": "execute_result"
    }
   ],
   "source": [
    "achieved = torch.stack([mu_x, mu_y, sigma_x, sigma_y])\n",
    "achieved"
   ]
  },
  {
   "cell_type": "code",
   "execution_count": 35,
   "metadata": {},
   "outputs": [
    {
     "data": {
      "text/plain": [
       "tensor([ 0.0013, -0.0019,  0.0002,  0.0005])"
      ]
     },
     "execution_count": 35,
     "metadata": {},
     "output_type": "execute_result"
    }
   ],
   "source": [
    "desired = torch.tensor(simulations[0].desired, dtype=torch.float32)\n",
    "desired"
   ]
  },
  {
   "cell_type": "code",
   "execution_count": 36,
   "metadata": {},
   "outputs": [
    {
     "data": {
      "text/plain": [
       "tensor(-4.7025, grad_fn=<LogBackward>)"
      ]
     },
     "execution_count": 36,
     "metadata": {},
     "output_type": "execute_result"
    }
   ],
   "source": [
    "offset = achieved - desired\n",
    "weights = torch.tensor([1, 1, 2, 2], dtype=torch.float32)\n",
    "\n",
    "objective = torch.log((weights * torch.abs(offset)).sum())\n",
    "objective"
   ]
  },
  {
   "cell_type": "code",
   "execution_count": 38,
   "metadata": {},
   "outputs": [],
   "source": [
    "actor.zero_grad()\n",
    "objective.backward()\n",
    "optimizer.step()"
   ]
  },
  {
   "cell_type": "code",
   "execution_count": null,
   "metadata": {},
   "outputs": [],
   "source": []
  },
  {
   "cell_type": "code",
   "execution_count": 17,
   "metadata": {},
   "outputs": [
    {
     "data": {
      "text/plain": [
       "tensor([-0.0049, -0.0013,  0.0029,  0.0016])"
      ]
     },
     "execution_count": 17,
     "metadata": {},
     "output_type": "execute_result"
    }
   ],
   "source": [
    "simulations[0].track(actuators[0])"
   ]
  },
  {
   "cell_type": "code",
   "execution_count": 20,
   "metadata": {},
   "outputs": [
    {
     "data": {
      "text/plain": [
       "numpy.ndarray"
      ]
     },
     "execution_count": 20,
     "metadata": {},
     "output_type": "execute_result"
    }
   ],
   "source": [
    "type(simulations[0].track(actuators[0]))"
   ]
  },
  {
   "cell_type": "code",
   "execution_count": 18,
   "metadata": {},
   "outputs": [
    {
     "name": "stdout",
     "output_type": "stream",
     "text": [
      "WARNING: Diagnostic screen was converted with default screen properties.\n"
     ]
    }
   ],
   "source": [
    "cell = utils.subcell_of(lattice.cell, \"AREASOLA1\", \"AREABSCR1\")\n",
    "segment = cheetah.Segment.from_ocelot(cell)"
   ]
  },
  {
   "cell_type": "code",
   "execution_count": 19,
   "metadata": {},
   "outputs": [],
   "source": [
    "beam = cheetah.Beam.make_random(\n",
    "    n=int(1e5),\n",
    "    mu_x=np.random.uniform(-3e-3, 3e-3),\n",
    "    mu_y=np.random.uniform(-3e-4, 3e-4),\n",
    "    mu_xp=np.random.uniform(-1e-4, 1e-4),\n",
    "    mu_yp=np.random.uniform(-1e-4, 1e-4),\n",
    "    sigma_x=np.random.uniform(0, 2e-3),\n",
    "    sigma_y=np.random.uniform(0, 2e-3),\n",
    "    sigma_xp=np.random.uniform(0, 1e-4),\n",
    "    sigma_yp=np.random.uniform(0, 1e-4),\n",
    "    sigma_s=np.random.uniform(0, 2e-3),\n",
    "    sigma_p=np.random.uniform(0, 5e-3),\n",
    "    energy=np.random.uniform(80e6, 160e6)\n",
    ")"
   ]
  },
  {
   "cell_type": "code",
   "execution_count": 23,
   "metadata": {},
   "outputs": [],
   "source": [
    "incoming = beam.particles\n",
    "tm = segment.transfer_map(beam.energy)"
   ]
  },
  {
   "cell_type": "code",
   "execution_count": 26,
   "metadata": {},
   "outputs": [
    {
     "data": {
      "text/plain": [
       "torch.Size([7, 7])"
      ]
     },
     "execution_count": 26,
     "metadata": {},
     "output_type": "execute_result"
    }
   ],
   "source": [
    "observation = [\n",
    "    segment\n",
    "]"
   ]
  },
  {
   "cell_type": "code",
   "execution_count": 29,
   "metadata": {},
   "outputs": [
    {
     "data": {
      "text/plain": [
       "0"
      ]
     },
     "execution_count": 29,
     "metadata": {},
     "output_type": "execute_result"
    }
   ],
   "source": [
    "segment.AREAMQZM1.k1\n"
   ]
  },
  {
   "cell_type": "code",
   "execution_count": null,
   "metadata": {},
   "outputs": [],
   "source": []
  }
 ],
 "metadata": {
  "kernelspec": {
   "display_name": "Python 3",
   "language": "python",
   "name": "python3"
  },
  "language_info": {
   "codemirror_mode": {
    "name": "ipython",
    "version": 3
   },
   "file_extension": ".py",
   "mimetype": "text/x-python",
   "name": "python",
   "nbconvert_exporter": "python",
   "pygments_lexer": "ipython3",
   "version": "3.8.10"
  }
 },
 "nbformat": 4,
 "nbformat_minor": 4
}
