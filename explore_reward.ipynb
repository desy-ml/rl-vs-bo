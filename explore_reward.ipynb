{
 "cells": [
  {
   "cell_type": "code",
   "execution_count": 12,
   "metadata": {},
   "outputs": [],
   "source": [
    "import ipywidgets\n",
    "\n",
    "from train import ARESEA"
   ]
  },
  {
   "cell_type": "code",
   "execution_count": 16,
   "metadata": {},
   "outputs": [],
   "source": [
    "env = ARESEA(\n",
    "    action_type=\"direct\",\n",
    "    incoming=\"random\",\n",
    "    magnet_init=\"zero\",\n",
    "    misalignments=\"random\",\n",
    "    reward_method=\"feedback\",\n",
    "    quad_action=\"oneway\",\n",
    "    target_beam_mode=\"zero\",\n",
    "    w_mu_x=1.0,\n",
    "    w_mu_y=1.0,\n",
    "    w_on_screen=1.0,\n",
    "    w_sigma_x=1.0,\n",
    "    w_sigma_y=1.0,\n",
    "    w_time=0.0,\n",
    ")"
   ]
  },
  {
   "cell_type": "code",
   "execution_count": 17,
   "metadata": {},
   "outputs": [
    {
     "data": {
      "text/plain": [
       "{'beam': array([-0.00010183,  0.0004994 , -0.00058444,  0.00016641], dtype=float32),\n",
       " 'incoming': array([ 8.10325040e+07, -1.07164189e-04,  6.36346813e-05, -3.62946332e-04,\n",
       "         7.69071703e-05,  4.98832145e-04,  1.16198935e-05,  1.33344220e-04,\n",
       "         4.86547178e-05,  2.18716559e-05,  5.58806874e-04], dtype=float32),\n",
       " 'magnets': array([0., 0., 0., 0., 0.], dtype=float32),\n",
       " 'misalignments': array([ 0.00030859,  0.00026053, -0.00026099, -0.00033023,  0.00012446,\n",
       "        -0.00028967,  0.00012486,  0.00037885], dtype=float32),\n",
       " 'target': array([0., 0., 0., 0.], dtype=float32)}"
      ]
     },
     "execution_count": 17,
     "metadata": {},
     "output_type": "execute_result"
    }
   ],
   "source": [
    "env.reset()"
   ]
  },
  {
   "cell_type": "code",
   "execution_count": 20,
   "metadata": {},
   "outputs": [
    {
     "data": {
      "application/vnd.jupyter.widget-view+json": {
       "model_id": "ea83aee3c83a4c03a94cd02a3b3eeb9e",
       "version_major": 2,
       "version_minor": 0
      },
      "text/plain": [
       "interactive(children=(IntSlider(value=0, description='q1', max=70), IntSlider(value=0, description='q2', max=0…"
      ]
     },
     "metadata": {},
     "output_type": "display_data"
    },
    {
     "data": {
      "text/plain": [
       "<function __main__.do_step(q1=0.0, q2=0.0, cv=0.0, q3=0.0, ch=0.0)>"
      ]
     },
     "execution_count": 20,
     "metadata": {},
     "output_type": "execute_result"
    }
   ],
   "source": [
    "def do_step(q1=0.0, q2=0.0, cv=0.0, q3=0.0, ch=0.0):\n",
    "    observation, reward, done, info = env.step([q1,q2,cv*1e-3,q3,ch*1e-3])\n",
    "    print(f\"REWARD -----\\n{reward}\")\n",
    "    print(f\"OBSERVATION -----\\n{observation}\")\n",
    "\n",
    "ipywidgets.interact(\n",
    "    do_step,\n",
    "    q1=(0,70,1),\n",
    "    q2=(-70,0,1),\n",
    "    cv=(-6.1782,6.1782,0.1),\n",
    "    q3=(0,70,1),\n",
    "    ch=(-6.1782,6.1782,0.1),\n",
    ")"
   ]
  },
  {
   "cell_type": "code",
   "execution_count": null,
   "metadata": {},
   "outputs": [],
   "source": []
  }
 ],
 "metadata": {
  "interpreter": {
   "hash": "c52a148f042e18d735c6c9f66b6910136f20093b56325d8390c2dc5c9d3fe4fb"
  },
  "kernelspec": {
   "display_name": "Python 3.9.7 ('rl39')",
   "language": "python",
   "name": "python3"
  },
  "language_info": {
   "codemirror_mode": {
    "name": "ipython",
    "version": 3
   },
   "file_extension": ".py",
   "mimetype": "text/x-python",
   "name": "python",
   "nbconvert_exporter": "python",
   "pygments_lexer": "ipython3",
   "version": "3.9.7"
  },
  "orig_nbformat": 4
 },
 "nbformat": 4,
 "nbformat_minor": 2
}
