{
 "cells": [
  {
   "cell_type": "code",
   "execution_count": 27,
   "metadata": {},
   "outputs": [],
   "source": [
    "from datetime import date\n",
    "from glob import glob\n",
    "\n",
    "import pandas as pd"
   ]
  },
  {
   "cell_type": "code",
   "execution_count": 2,
   "metadata": {},
   "outputs": [
    {
     "name": "stdout",
     "output_type": "stream",
     "text": [
      "machine_studies/211125_all_agents_000_002/\n",
      "machine_studies/211125_polished_donkey_22_66/\n",
      "machine_studies/211202_all_agents_000_002/\n",
      "machine_studies/211202_all_agents_000_002_solenoid_adjusted/\n",
      "machine_studies/211202_polar_lake_000_069/\n",
      "machine_studies/211202_polished_donkey_003_021/\n",
      "machine_studies/211202_polished_donkey_067_099/\n",
      "machine_studies/211209_all_agents_000_002_drift/\n",
      "machine_studies/211209_all_three_drift/\n",
      "machine_studies/211209_hannes_vs_agent_01/\n",
      "machine_studies/211209_still_deluge_000_050/\n",
      "machine_studies/211209_still_deluge_050_100/\n",
      "machine_studies/211209_willi_vs_agent_01/\n",
      "machine_studies/deluge_100_150/\n",
      "machine_studies/deluge_150_200/\n",
      "machine_studies/deluge_200_250/\n",
      "machine_studies/donkey_100_150/\n",
      "machine_studies/donkey_150_200/\n",
      "machine_studies/donkey_200_250/\n",
      "machine_studies/lake_100_150/\n",
      "machine_studies/lake_150_200/\n",
      "machine_studies/lake_200_250/\n",
      "machine_studies/lake_70_100/\n",
      "machine_studies/longrun/\n",
      "machine_studies/shortrun/\n",
      "machine_studies/snapshots/\n"
     ]
    }
   ],
   "source": [
    "!ls -d machine_studies/*/"
   ]
  },
  {
   "cell_type": "markdown",
   "metadata": {},
   "source": [
    "## Over Problems Experiments"
   ]
  },
  {
   "cell_type": "code",
   "execution_count": 3,
   "metadata": {},
   "outputs": [],
   "source": [
    "# Polished Donkey\n",
    "filepaths = sorted(glob(\"machine_studies/*donkey*/*.pkl\") + glob(\"machine_studies/211125_all_agents_000_002/*donkey*.pkl\"))\n",
    "dfdonkey = pd.concat([pd.read_pickle(path) for path in filepaths])"
   ]
  },
  {
   "cell_type": "code",
   "execution_count": 4,
   "metadata": {},
   "outputs": [],
   "source": [
    "filepaths = sorted(glob(\"machine_studies/*lake*/*.pkl\"))\n",
    "dfpolar = pd.concat([pd.read_pickle(path) for path in filepaths])"
   ]
  },
  {
   "cell_type": "code",
   "execution_count": 5,
   "metadata": {},
   "outputs": [],
   "source": [
    "filepaths = sorted(glob(\"machine_studies/*deluge*/*.pkl\"))\n",
    "dfstill = pd.concat([pd.read_pickle(path) for path in filepaths])"
   ]
  },
  {
   "cell_type": "code",
   "execution_count": 16,
   "metadata": {},
   "outputs": [],
   "source": [
    "df = pd.concat([dfdonkey,dfpolar,dfstill])"
   ]
  },
  {
   "cell_type": "code",
   "execution_count": 17,
   "metadata": {},
   "outputs": [],
   "source": [
    "df.drop(\"beam_image\", axis=1, inplace=True)"
   ]
  },
  {
   "cell_type": "code",
   "execution_count": 18,
   "metadata": {},
   "outputs": [],
   "source": [
    "df.to_pickle(\"machine_studies/summary_agentsoverproblems.pkl\")"
   ]
  },
  {
   "cell_type": "code",
   "execution_count": 19,
   "metadata": {},
   "outputs": [],
   "source": [
    "del dfdonkey\n",
    "del dfpolar\n",
    "del dfstill"
   ]
  },
  {
   "cell_type": "markdown",
   "metadata": {},
   "source": [
    "## Drift Experiments"
   ]
  },
  {
   "cell_type": "code",
   "execution_count": 21,
   "metadata": {},
   "outputs": [
    {
     "data": {
      "text/plain": [
       "['machine_studies/211125_all_agents_000_002',\n",
       " 'machine_studies/211202_all_agents_000_002',\n",
       " 'machine_studies/211202_all_agents_000_002_solenoid_adjusted',\n",
       " 'machine_studies/211209_all_agents_000_002_drift']"
      ]
     },
     "execution_count": 21,
     "metadata": {},
     "output_type": "execute_result"
    }
   ],
   "source": [
    "directories = sorted(glob(\"machine_studies/*_all_agents*\"))\n",
    "directories"
   ]
  },
  {
   "cell_type": "code",
   "execution_count": 22,
   "metadata": {},
   "outputs": [],
   "source": [
    "comments = [None, None, \"solenoid adjusted\", None]\n",
    "assert len(comments) == len(directories)"
   ]
  },
  {
   "cell_type": "code",
   "execution_count": 28,
   "metadata": {},
   "outputs": [],
   "source": [
    "dates = [\n",
    "    date(year=2021, month=11, day=25),\n",
    "    date(year=2021, month=12, day=2),\n",
    "    date(year=2021, month=12, day=2),\n",
    "    date(year=2021, month=12, day=9)\n",
    "]\n",
    "assert len(dates) == len(directories)"
   ]
  },
  {
   "cell_type": "code",
   "execution_count": 29,
   "metadata": {},
   "outputs": [],
   "source": [
    "dfs = []\n",
    "for directory, comment, rundate in zip(directories, comments, dates):\n",
    "    filepaths = glob(f\"{directory}/*.pkl\")\n",
    "    df = pd.concat([pd.read_pickle(path) for path in filepaths])\n",
    "    df[\"comment\"] = comment\n",
    "    df[\"date\"] = rundate\n",
    "    dfs.append(df)\n",
    "df = pd.concat(dfs)"
   ]
  },
  {
   "cell_type": "code",
   "execution_count": 33,
   "metadata": {},
   "outputs": [],
   "source": [
    "df.drop(\"beam_image\", axis=1, inplace=True)"
   ]
  },
  {
   "cell_type": "code",
   "execution_count": 34,
   "metadata": {},
   "outputs": [],
   "source": [
    "df.to_pickle(\"machine_studies/summary_driftexperiments.pkl\")"
   ]
  },
  {
   "cell_type": "markdown",
   "metadata": {},
   "source": [
    "## Agent vs. Operator"
   ]
  },
  {
   "cell_type": "code",
   "execution_count": null,
   "metadata": {},
   "outputs": [],
   "source": []
  },
  {
   "cell_type": "markdown",
   "metadata": {},
   "source": [
    "## Long Run"
   ]
  },
  {
   "cell_type": "code",
   "execution_count": null,
   "metadata": {},
   "outputs": [],
   "source": []
  }
 ],
 "metadata": {
  "interpreter": {
   "hash": "ccdc9136ee009f57e92d6ccdab0b437bf42648d06763028052c9284a9cda45ef"
  },
  "kernelspec": {
   "display_name": "Python 3.9.7 64-bit ('rl39': conda)",
   "language": "python",
   "name": "python3"
  },
  "language_info": {
   "codemirror_mode": {
    "name": "ipython",
    "version": 3
   },
   "file_extension": ".py",
   "mimetype": "text/x-python",
   "name": "python",
   "nbconvert_exporter": "python",
   "pygments_lexer": "ipython3",
   "version": "3.9.7"
  },
  "orig_nbformat": 4
 },
 "nbformat": 4,
 "nbformat_minor": 2
}
