{
 "cells": [
  {
   "cell_type": "code",
   "execution_count": 1,
   "metadata": {},
   "outputs": [],
   "source": [
    "from datetime import date\n",
    "from glob import glob\n",
    "import pickle\n",
    "\n",
    "import pandas as pd"
   ]
  },
  {
   "cell_type": "code",
   "execution_count": 2,
   "metadata": {},
   "outputs": [
    {
     "name": "stdout",
     "output_type": "stream",
     "text": [
      "machine_studies/211125_all_agents_000_002/\n",
      "machine_studies/211125_polished_donkey_22_66/\n",
      "machine_studies/211202_all_agents_000_002/\n",
      "machine_studies/211202_all_agents_000_002_solenoid_adjusted/\n",
      "machine_studies/211202_polar_lake_000_069/\n",
      "machine_studies/211202_polished_donkey_003_021/\n",
      "machine_studies/211202_polished_donkey_067_099/\n",
      "machine_studies/211209_all_agents_000_002_drift/\n",
      "machine_studies/211209_hannes_vs_agent_01/\n",
      "machine_studies/211209_still_deluge_000_050/\n",
      "machine_studies/211209_still_deluge_050_100/\n",
      "machine_studies/211209_willi_vs_agent_01/\n",
      "machine_studies/deluge_100_150/\n",
      "machine_studies/deluge_150_200/\n",
      "machine_studies/deluge_200_250/\n",
      "machine_studies/donkey_100_150/\n",
      "machine_studies/donkey_150_200/\n",
      "machine_studies/donkey_200_250/\n",
      "machine_studies/lake_100_150/\n",
      "machine_studies/lake_150_200/\n",
      "machine_studies/lake_200_250/\n",
      "machine_studies/lake_70_100/\n",
      "machine_studies/longrun/\n",
      "machine_studies/shortrun/\n",
      "machine_studies/snapshots/\n"
     ]
    }
   ],
   "source": [
    "!ls -d machine_studies/*/"
   ]
  },
  {
   "cell_type": "markdown",
   "metadata": {},
   "source": [
    "## Over Problems Experiments"
   ]
  },
  {
   "cell_type": "code",
   "execution_count": 3,
   "metadata": {},
   "outputs": [],
   "source": [
    "# Polished Donkey\n",
    "filepaths = sorted(glob(\"machine_studies/*donkey*/*.pkl\") + glob(\"machine_studies/211125_all_agents_000_002/*donkey*.pkl\"))\n",
    "dfdonkey = pd.concat([pd.read_pickle(path) for path in filepaths], ignore_index=True)"
   ]
  },
  {
   "cell_type": "code",
   "execution_count": 4,
   "metadata": {},
   "outputs": [],
   "source": [
    "filepaths = sorted(glob(\"machine_studies/*lake*/*.pkl\"))\n",
    "dfpolar = pd.concat([pd.read_pickle(path) for path in filepaths], ignore_index=True)"
   ]
  },
  {
   "cell_type": "code",
   "execution_count": 5,
   "metadata": {},
   "outputs": [],
   "source": [
    "filepaths = sorted(glob(\"machine_studies/*deluge*/*.pkl\"))\n",
    "dfstill = pd.concat([pd.read_pickle(path) for path in filepaths], ignore_index=True)"
   ]
  },
  {
   "cell_type": "code",
   "execution_count": 6,
   "metadata": {},
   "outputs": [],
   "source": [
    "df = pd.concat([dfdonkey,dfpolar,dfstill], ignore_index=True)"
   ]
  },
  {
   "cell_type": "code",
   "execution_count": 7,
   "metadata": {},
   "outputs": [],
   "source": [
    "df.drop(\"beam_image\", axis=1, inplace=True)"
   ]
  },
  {
   "cell_type": "code",
   "execution_count": 8,
   "metadata": {},
   "outputs": [],
   "source": [
    "df.to_pickle(\"machine_studies/summary_agentsoverproblems.pkl\")"
   ]
  },
  {
   "cell_type": "code",
   "execution_count": 9,
   "metadata": {},
   "outputs": [],
   "source": [
    "del df\n",
    "del dfdonkey\n",
    "del dfpolar\n",
    "del dfstill"
   ]
  },
  {
   "cell_type": "markdown",
   "metadata": {},
   "source": [
    "## Drift Experiments"
   ]
  },
  {
   "cell_type": "code",
   "execution_count": 10,
   "metadata": {},
   "outputs": [
    {
     "data": {
      "text/plain": [
       "['machine_studies/211125_all_agents_000_002',\n",
       " 'machine_studies/211202_all_agents_000_002',\n",
       " 'machine_studies/211202_all_agents_000_002_solenoid_adjusted',\n",
       " 'machine_studies/211209_all_agents_000_002_drift']"
      ]
     },
     "execution_count": 10,
     "metadata": {},
     "output_type": "execute_result"
    }
   ],
   "source": [
    "directories = sorted(glob(\"machine_studies/*_all_agents*\"))\n",
    "directories"
   ]
  },
  {
   "cell_type": "code",
   "execution_count": 11,
   "metadata": {},
   "outputs": [],
   "source": [
    "comments = [None, None, \"solenoid adjusted\", None]\n",
    "assert len(comments) == len(directories)"
   ]
  },
  {
   "cell_type": "code",
   "execution_count": 12,
   "metadata": {},
   "outputs": [],
   "source": [
    "dates = [\n",
    "    date(year=2021, month=11, day=25),\n",
    "    date(year=2021, month=12, day=2),\n",
    "    date(year=2021, month=12, day=2),\n",
    "    date(year=2021, month=12, day=9)\n",
    "]\n",
    "assert len(dates) == len(directories)"
   ]
  },
  {
   "cell_type": "code",
   "execution_count": 13,
   "metadata": {},
   "outputs": [],
   "source": [
    "dfs = []\n",
    "for directory, comment, rundate in zip(directories, comments, dates):\n",
    "    filepaths = glob(f\"{directory}/*.pkl\")\n",
    "    df = pd.concat([pd.read_pickle(path) for path in filepaths], ignore_index=True)\n",
    "    df[\"comment\"] = comment\n",
    "    df[\"date\"] = rundate\n",
    "    dfs.append(df)\n",
    "df = pd.concat(dfs, ignore_index=True)"
   ]
  },
  {
   "cell_type": "code",
   "execution_count": 14,
   "metadata": {},
   "outputs": [],
   "source": [
    "df.drop(\"beam_image\", axis=1, inplace=True)"
   ]
  },
  {
   "cell_type": "code",
   "execution_count": 15,
   "metadata": {},
   "outputs": [],
   "source": [
    "df.to_pickle(\"machine_studies/summary_driftexperiments.pkl\")"
   ]
  },
  {
   "cell_type": "code",
   "execution_count": 16,
   "metadata": {},
   "outputs": [],
   "source": [
    "del df"
   ]
  },
  {
   "cell_type": "markdown",
   "metadata": {},
   "source": [
    "## Agents vs. Operators"
   ]
  },
  {
   "cell_type": "code",
   "execution_count": 74,
   "metadata": {},
   "outputs": [],
   "source": [
    "# Hannes\n",
    "directory = \"machine_studies/211209_hannes_vs_agent_01\"\n",
    "filepaths = glob(f\"{directory}/*.pkl\")\n",
    "\n",
    "hannes = []\n",
    "for path in filepaths:\n",
    "    with open(path, \"rb\") as f:\n",
    "        hannes.append(pickle.load(f))\n",
    "\n",
    "hannes = {k: v for f in hannes for k, v in f.items()}\n",
    "\n",
    "dfhannes = pd.DataFrame(hannes)\n",
    "dfhannes = dfhannes.T\n",
    "dfhannes = dfhannes.applymap(lambda x: x[\"data\"])\n",
    "\n",
    "dfhannes = dfhannes[[\n",
    "    \"SINBAD.MAGNETS/MAGNET.ML/AREAMQZM1/STRENGTH.RBV\",\n",
    "    \"SINBAD.MAGNETS/MAGNET.ML/AREAMQZM2/STRENGTH.RBV\",\n",
    "    \"SINBAD.MAGNETS/MAGNET.ML/AREAMQZM3/STRENGTH.RBV\",\n",
    "    \"SINBAD.MAGNETS/MAGNET.ML/AREAMCVM1/KICK_MRAD.RBV\",\n",
    "    \"SINBAD.MAGNETS/MAGNET.ML/AREAMCHM1/KICK_MRAD.RBV\",\n",
    "    \"SINBAD.DIAG/CAMERA/AR.EA.BSC.R.1/IMAGE_EXT_ZMQ\"\n",
    "]]\n",
    "dfhannes.rename(columns={\n",
    "    \"SINBAD.MAGNETS/MAGNET.ML/AREAMQZM1/STRENGTH.RBV\": \"q1\",\n",
    "    \"SINBAD.MAGNETS/MAGNET.ML/AREAMQZM2/STRENGTH.RBV\": \"q2\",\n",
    "    \"SINBAD.MAGNETS/MAGNET.ML/AREAMQZM3/STRENGTH.RBV\": \"q3\",\n",
    "    \"SINBAD.MAGNETS/MAGNET.ML/AREAMCVM1/KICK_MRAD.RBV\": \"cv\",\n",
    "    \"SINBAD.MAGNETS/MAGNET.ML/AREAMCHM1/KICK_MRAD.RBV\": \"ch\",\n",
    "    \"SINBAD.DIAG/CAMERA/AR.EA.BSC.R.1/IMAGE_EXT_ZMQ\": \"beam_image\"\n",
    "}, inplace=True)\n",
    "\n",
    "dfhannes = dfhannes.reset_index().rename(columns={\"index\": \"step\"})\n",
    "dfhannes[\"model\"] = \"Hannes\"\n",
    "dfhannes[\"method\"] = \"operator\"\n",
    "dfhannes[\"description\"] = \"Beam optimisation performed by human operator\"\n",
    "dfhannes[\"cv\"] = dfhannes[\"cv\"] * 1e-3\n",
    "dfhannes[\"ch\"] = dfhannes[\"ch\"] * 1e-3\n",
    "dfhannes[\"problem\"] = 0\n",
    "dfhannes[\"mup_x\"] = 0.0\n",
    "dfhannes[\"mup_y\"] = 0.0\n",
    "dfhannes[\"sigmap_x\"] = 0.0\n",
    "dfhannes[\"sigmap_y\"] = 0.0"
   ]
  },
  {
   "cell_type": "code",
   "execution_count": 75,
   "metadata": {},
   "outputs": [],
   "source": [
    "# Willi\n",
    "directory = \"machine_studies/211209_willi_vs_agent_01\"\n",
    "filepaths = glob(f\"{directory}/*.pkl\")\n",
    "\n",
    "willi = []\n",
    "for path in filepaths:\n",
    "    with open(path, \"rb\") as f:\n",
    "        willi.append(pickle.load(f))\n",
    "\n",
    "willi = {k: v for f in willi for k, v in f.items()}\n",
    "\n",
    "dfwilli = pd.DataFrame(willi)\n",
    "dfwilli = dfwilli.T\n",
    "dfwilli = dfwilli.applymap(lambda x: x[\"data\"])\n",
    "\n",
    "dfwilli = dfwilli[[\n",
    "    \"SINBAD.MAGNETS/MAGNET.ML/AREAMQZM1/STRENGTH.RBV\",\n",
    "    \"SINBAD.MAGNETS/MAGNET.ML/AREAMQZM2/STRENGTH.RBV\",\n",
    "    \"SINBAD.MAGNETS/MAGNET.ML/AREAMQZM3/STRENGTH.RBV\",\n",
    "    \"SINBAD.MAGNETS/MAGNET.ML/AREAMCVM1/KICK_MRAD.RBV\",\n",
    "    \"SINBAD.MAGNETS/MAGNET.ML/AREAMCHM1/KICK_MRAD.RBV\",\n",
    "    \"SINBAD.DIAG/CAMERA/AR.EA.BSC.R.1/IMAGE_EXT_ZMQ\"\n",
    "]]\n",
    "dfwilli.rename(columns={\n",
    "    \"SINBAD.MAGNETS/MAGNET.ML/AREAMQZM1/STRENGTH.RBV\": \"q1\",\n",
    "    \"SINBAD.MAGNETS/MAGNET.ML/AREAMQZM2/STRENGTH.RBV\": \"q2\",\n",
    "    \"SINBAD.MAGNETS/MAGNET.ML/AREAMQZM3/STRENGTH.RBV\": \"q3\",\n",
    "    \"SINBAD.MAGNETS/MAGNET.ML/AREAMCVM1/KICK_MRAD.RBV\": \"cv\",\n",
    "    \"SINBAD.MAGNETS/MAGNET.ML/AREAMCHM1/KICK_MRAD.RBV\": \"ch\",\n",
    "    \"SINBAD.DIAG/CAMERA/AR.EA.BSC.R.1/IMAGE_EXT_ZMQ\": \"beam_image\"\n",
    "}, inplace=True)\n",
    "\n",
    "dfwilli = dfwilli.reset_index().rename(columns={\"index\": \"step\"})\n",
    "dfwilli[\"model\"] = \"Willi\"\n",
    "dfwilli[\"method\"] = \"operator\"\n",
    "dfwilli[\"description\"] = \"Beam optimisation performed by human operator\"\n",
    "dfwilli[\"cv\"] = dfwilli[\"cv\"] * 1e-3\n",
    "dfwilli[\"ch\"] = dfwilli[\"ch\"] * 1e-3\n",
    "dfwilli[\"problem\"] = 0\n",
    "dfwilli[\"mup_x\"] = 0.0\n",
    "dfwilli[\"mup_y\"] = 0.0\n",
    "dfwilli[\"sigmap_x\"] = 0.0\n",
    "dfwilli[\"sigmap_y\"] = 0.0"
   ]
  },
  {
   "cell_type": "code",
   "execution_count": 76,
   "metadata": {},
   "outputs": [],
   "source": [
    "# Agents\n",
    "filepaths = glob(\"machine_studies/211209_all_agents_000_002*/*_000_*.pkl\")\n",
    "dfagents = pd.concat([pd.read_pickle(path) for path in filepaths], ignore_index=True)"
   ]
  },
  {
   "cell_type": "code",
   "execution_count": 78,
   "metadata": {},
   "outputs": [],
   "source": [
    "df = pd.concat([dfhannes,dfwilli,dfagents], ignore_index=True)"
   ]
  },
  {
   "cell_type": "code",
   "execution_count": 79,
   "metadata": {},
   "outputs": [],
   "source": [
    "df.drop(\"beam_image\", axis=1, inplace=True)"
   ]
  },
  {
   "cell_type": "code",
   "execution_count": 81,
   "metadata": {},
   "outputs": [],
   "source": [
    "df.to_pickle(\"machine_studies/summary_operatorsvsagents.pkl\")"
   ]
  },
  {
   "cell_type": "markdown",
   "metadata": {},
   "source": [
    "## Long Run"
   ]
  },
  {
   "cell_type": "code",
   "execution_count": 19,
   "metadata": {},
   "outputs": [],
   "source": [
    "path = glob(\"machine_studies/longrun/*\")[0]\n",
    "df = pd.read_pickle(path)"
   ]
  },
  {
   "cell_type": "code",
   "execution_count": 21,
   "metadata": {},
   "outputs": [],
   "source": [
    "df.drop(\"beam_image\", axis=1, inplace=True)"
   ]
  },
  {
   "cell_type": "code",
   "execution_count": 22,
   "metadata": {},
   "outputs": [],
   "source": [
    "df.to_pickle(\"machine_studies/summary_longrun.pkl\")"
   ]
  },
  {
   "cell_type": "code",
   "execution_count": 23,
   "metadata": {},
   "outputs": [],
   "source": [
    "del df"
   ]
  },
  {
   "cell_type": "markdown",
   "metadata": {},
   "source": [
    "## Upstream Reaction"
   ]
  },
  {
   "cell_type": "code",
   "execution_count": null,
   "metadata": {},
   "outputs": [],
   "source": []
  }
 ],
 "metadata": {
  "interpreter": {
   "hash": "ccdc9136ee009f57e92d6ccdab0b437bf42648d06763028052c9284a9cda45ef"
  },
  "kernelspec": {
   "display_name": "Python 3.9.7 64-bit ('rl39': conda)",
   "language": "python",
   "name": "python3"
  },
  "language_info": {
   "codemirror_mode": {
    "name": "ipython",
    "version": 3
   },
   "file_extension": ".py",
   "mimetype": "text/x-python",
   "name": "python",
   "nbconvert_exporter": "python",
   "pygments_lexer": "ipython3",
   "version": "3.9.7"
  },
  "orig_nbformat": 4
 },
 "nbformat": 4,
 "nbformat_minor": 2
}
