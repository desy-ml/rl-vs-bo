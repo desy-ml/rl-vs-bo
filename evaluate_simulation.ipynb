{
 "cells": [
  {
   "cell_type": "code",
   "execution_count": 1,
   "metadata": {},
   "outputs": [],
   "source": [
    "from gym.wrappers import RescaleAction\n",
    "from stable_baselines3 import PPO, TD3\n",
    "from stable_baselines3.common.vec_env import DummyVecEnv, VecNormalize\n",
    "\n",
    "from environments import ARESEAOneStep, ARESEASequential"
   ]
  },
  {
   "cell_type": "markdown",
   "metadata": {},
   "source": [
    "## Sequential"
   ]
  },
  {
   "cell_type": "code",
   "execution_count": null,
   "metadata": {},
   "outputs": [],
   "source": []
  },
  {
   "cell_type": "markdown",
   "metadata": {},
   "source": [
    "## Onestep"
   ]
  },
  {
   "cell_type": "code",
   "execution_count": 4,
   "metadata": {},
   "outputs": [],
   "source": [
    "run_name = \"happy-snowflake-22\"\n",
    "log_dir = f\"models/{run_name}\"\n",
    "\n",
    "def make_env():\n",
    "    env = ARESEAOneStep(\n",
    "        backend=\"simulation\",\n",
    "        random_incoming=True,\n",
    "        random_initial=True,\n",
    "        beam_parameter_method=\"direct\"\n",
    "    )\n",
    "    env = RescaleAction(env, -1, 1)\n",
    "    return env\n",
    "\n",
    "env = DummyVecEnv([make_env])\n",
    "env = VecNormalize.load(f\"{log_dir}/vec_normalize.pkl\", env)\n",
    "env.training = False\n",
    "env.norm_reward = False\n",
    "\n",
    "model = PPO.load(f\"{log_dir}/model\")"
   ]
  },
  {
   "cell_type": "code",
   "execution_count": 19,
   "metadata": {},
   "outputs": [
    {
     "data": {
      "text/plain": [
       "(array([[ 0.48228568,  1.0815147 ,  0.76897246, -0.35417643,  0.9074537 ,\n",
       "         -1.0188341 ,  0.3069467 ,  1.0955995 ,  0.5280139 ,  0.10682743,\n",
       "         -0.58083767, -0.38411614,  1.1999596 ]], dtype=float32),\n",
       " array([6.904102], dtype=float32),\n",
       " array([ True]),\n",
       " [{'terminal_observation': array([ 0.15661132, -0.76719594,  0.9124457 , -0.70674366,  1.1307076 ,\n",
       "           1.6147237 , -1.3965282 ,  0.543679  ,  0.0691342 ,  0.12852256,\n",
       "          -0.75333804, -0.6109389 , -0.5976856 ], dtype=float32)}])"
      ]
     },
     "execution_count": 19,
     "metadata": {},
     "output_type": "execute_result"
    }
   ],
   "source": [
    "observation = env.reset()\n",
    "action, _ = model.predict(observation)\n",
    "observation, reward, done, info = env.step(action)\n",
    "observation, reward, done, info"
   ]
  },
  {
   "cell_type": "code",
   "execution_count": 21,
   "metadata": {},
   "outputs": [
    {
     "data": {
      "text/plain": [
       "array([[ 8.3123465e+00,  1.8768345e+01,  1.3367793e+01, -6.1579561e-04,\n",
       "         3.1429308e-03, -1.1821007e-03,  3.5710909e-04,  4.4264336e-04,\n",
       "         3.4305317e-04,  1.4438507e-03, -1.3354638e-03,  1.7808332e-03,\n",
       "         1.3824385e-02]], dtype=float32)"
      ]
     },
     "execution_count": 21,
     "metadata": {},
     "output_type": "execute_result"
    }
   ],
   "source": [
    "env.get_original_obs()"
   ]
  },
  {
   "cell_type": "code",
   "execution_count": null,
   "metadata": {},
   "outputs": [],
   "source": []
  }
 ],
 "metadata": {
  "interpreter": {
   "hash": "cb0c3e2128e3ec31ec0d90a83c3ce95af788e3d47340cfb20bbf06ca38505d8f"
  },
  "kernelspec": {
   "display_name": "Python 3.7.11 64-bit ('rl37': conda)",
   "name": "python3"
  },
  "language_info": {
   "codemirror_mode": {
    "name": "ipython",
    "version": 3
   },
   "file_extension": ".py",
   "mimetype": "text/x-python",
   "name": "python",
   "nbconvert_exporter": "python",
   "pygments_lexer": "ipython3",
   "version": "3.7.11"
  },
  "orig_nbformat": 4
 },
 "nbformat": 4,
 "nbformat_minor": 2
}
