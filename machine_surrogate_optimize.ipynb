{
 "cells": [
  {
   "cell_type": "code",
   "execution_count": 21,
   "metadata": {},
   "outputs": [],
   "source": [
    "from copy import deepcopy\n",
    "\n",
    "import numpy as np\n",
    "import dummypydoocs as pydoocs\n",
    "from scipy.optimize import Bounds, minimize\n",
    "import sympy\n",
    "\n",
    "from environments import ARESEAOptimization"
   ]
  },
  {
   "cell_type": "code",
   "execution_count": 4,
   "metadata": {},
   "outputs": [],
   "source": [
    "senv = ARESEAOptimization(backend=\"simulation\", backendargs={\"measure_beam\": \"direct\"})\n",
    "menv = ARESEAOptimization(backend=\"machine\", backendargs={\"measure_beam\": \"us\"})"
   ]
  },
  {
   "cell_type": "code",
   "execution_count": 18,
   "metadata": {},
   "outputs": [],
   "source": [
    "energy = 154e6"
   ]
  },
  {
   "cell_type": "markdown",
   "metadata": {},
   "source": [
    "## Compute incoming beam"
   ]
  },
  {
   "cell_type": "code",
   "execution_count": 19,
   "metadata": {},
   "outputs": [
    {
     "name": "stdout",
     "output_type": "stream",
     "text": [
      "Actuators are set to [0. 0. 0. 0. 0.]\n",
      "Measured beam parameters: [-0.00155367 -0.00029363  0.00128563  0.00067329]\n"
     ]
    }
   ],
   "source": [
    "menv.next_initial = np.zeros(5)\n",
    "menv.reset()\n",
    "beam_parameters = menv.backend.compute_beam_parameters()\n",
    "\n",
    "print(f\"Actuators are set to {menv.backend.actuators}\")\n",
    "print(f\"Measured beam parameters: {beam_parameters}\")"
   ]
  },
  {
   "cell_type": "code",
   "execution_count": 76,
   "metadata": {},
   "outputs": [],
   "source": [
    "senv.next_initial = np.zeros(5)\n",
    "senv.reset()\n",
    "\n",
    "segment = deepcopy(senv.backend._segment)\n",
    "segment.AREABSCR1.is_active = False\n",
    "R = segment.transfer_map(energy)"
   ]
  },
  {
   "cell_type": "code",
   "execution_count": 81,
   "metadata": {},
   "outputs": [
    {
     "data": {
      "text/plain": [
       "array([-1.5536664e-03,  0.0000000e+00, -2.9362800e-04,  0.0000000e+00,\n",
       "        0.0000000e+00,  0.0000000e+00,  1.0000000e+00])"
      ]
     },
     "execution_count": 81,
     "metadata": {},
     "output_type": "execute_result"
    }
   ],
   "source": [
    "R_inv = np.linalg.inv(R)\n",
    "\n",
    "mu_out = np.array([beam_parameters[0], 0, beam_parameters[1], 0, 0, 0, 1])\n",
    "mu_in = np.matmul(R_inv, mu_out)\n",
    "\n",
    "cov_out = np.array([\n",
    "    [eam_parameters[1]**2,           0,          0,           0,          0,          0, 0],\n",
    "    [                   0, sigma_xp**2,          0,           0,          0,          0, 0],\n",
    "    [                   0,           0, sigma_y**2,       cor_y,          0,          0, 0],\n",
    "    [                   0,           0,      cor_y, sigma_yp**2,          0,          0, 0],\n",
    "    [                   0,           0,          0,           0, sigma_s**2,      cor_s, 0],\n",
    "    [                   0,           0,          0,           0,      cor_s, sigma_p**2, 0],\n",
    "    [                   0,           0,          0,           0,          0,          0, 0]\n",
    "\n",
    "])"
   ]
  },
  {
   "cell_type": "code",
   "execution_count": 68,
   "metadata": {},
   "outputs": [
    {
     "data": {
      "text/latex": [
       "$\\displaystyle \\mu_{1} = R \\mu_{0}$"
      ],
      "text/plain": [
       "Eq(mu_1, R*mu_0)"
      ]
     },
     "execution_count": 68,
     "metadata": {},
     "output_type": "execute_result"
    }
   ],
   "source": [
    "mu0 = sympy.MatrixSymbol(\"mu_0\", 7, 1)\n",
    "mu1 = sympy.MatrixSymbol(\"mu_1\", 7, 1)\n",
    "R = sympy.MatrixSymbol(\"R\", 7, 7)\n",
    "mueq = sympy.Eq(mu1, sympy.MatMul(R, mu0), evaluate=False)\n",
    "mueq"
   ]
  },
  {
   "cell_type": "code",
   "execution_count": 75,
   "metadata": {},
   "outputs": [
    {
     "data": {
      "text/latex": [
       "$\\displaystyle R^{-1} \\mu_{1} = R^{-1} R \\mu_{0}$"
      ],
      "text/plain": [
       "Eq(R**(-1)*mu_1, R**(-1)*R*mu_0)"
      ]
     },
     "execution_count": 75,
     "metadata": {},
     "output_type": "execute_result"
    }
   ],
   "source": [
    "mueq = sympy.Eq(sympy.MatMul(R**(-1), mu1), sympy.MatMul(R**(-1), R, mu0), evaluate=False)\n",
    "mueq"
   ]
  },
  {
   "cell_type": "code",
   "execution_count": 71,
   "metadata": {},
   "outputs": [
    {
     "data": {
      "text/latex": [
       "$\\displaystyle C_{1} = R C_{0} R^{T}$"
      ],
      "text/plain": [
       "Eq(C_1, R*C_0*R.T)"
      ]
     },
     "execution_count": 71,
     "metadata": {},
     "output_type": "execute_result"
    }
   ],
   "source": [
    "cov0 = sympy.MatrixSymbol(\"C_0\", 7, 7)\n",
    "cov1 = sympy.MatrixSymbol(\"C_1\", 7, 7)\n",
    "R = sympy.MatrixSymbol(\"R\", 7, 7)\n",
    "coveq = sympy.Eq(cov1, sympy.MatMul(R, cov0, R.T), evaluate=False)\n",
    "coveq"
   ]
  },
  {
   "cell_type": "code",
   "execution_count": 73,
   "metadata": {},
   "outputs": [
    {
     "data": {
      "text/latex": [
       "$\\displaystyle R^{-1} C_{1} \\left(R^{T}\\right)^{-1} = R^{-1} R C_{0} R^{T} \\left(R^{T}\\right)^{-1}$"
      ],
      "text/plain": [
       "Eq(R**(-1)*C_1*R.T**(-1), R**(-1)*R*C_0*R.T*R.T**(-1))"
      ]
     },
     "execution_count": 73,
     "metadata": {},
     "output_type": "execute_result"
    }
   ],
   "source": [
    "coveq = sympy.Eq(sympy.MatMul(R**(-1), cov1, R.T**(-1)), sympy.MatMul(R**(-1), R, cov0, R.T, R.T**(-1)), evaluate=False)\n",
    "coveq"
   ]
  },
  {
   "cell_type": "code",
   "execution_count": null,
   "metadata": {},
   "outputs": [],
   "source": []
  }
 ],
 "metadata": {
  "interpreter": {
   "hash": "cb0c3e2128e3ec31ec0d90a83c3ce95af788e3d47340cfb20bbf06ca38505d8f"
  },
  "kernelspec": {
   "display_name": "Python 3.7.11 64-bit ('rl37': conda)",
   "language": "python",
   "name": "python3"
  },
  "language_info": {
   "codemirror_mode": {
    "name": "ipython",
    "version": 3
   },
   "file_extension": ".py",
   "mimetype": "text/x-python",
   "name": "python",
   "nbconvert_exporter": "python",
   "pygments_lexer": "ipython3",
   "version": "3.7.11"
  },
  "orig_nbformat": 4
 },
 "nbformat": 4,
 "nbformat_minor": 2
}
