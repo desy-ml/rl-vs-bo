{
 "cells": [
  {
   "cell_type": "code",
   "execution_count": 1,
   "metadata": {},
   "outputs": [],
   "source": [
    "import numpy as np\n",
    "from scipy.optimize import minimize\n",
    "import sympy\n",
    "from tqdm import tqdm\n",
    "\n",
    "from environments import ARESEAOptimization"
   ]
  },
  {
   "cell_type": "code",
   "execution_count": 2,
   "metadata": {},
   "outputs": [],
   "source": [
    "senv = ARESEAOptimization(backend=\"simulation\", backendargs={\"measure_beam\": \"direct\"})\n",
    "menv = ARESEAOptimization(backend=\"machine\", backendargs={\"measure_beam\": \"us\"})"
   ]
  },
  {
   "cell_type": "markdown",
   "metadata": {},
   "source": [
    "## Screen Misalignment\n",
    "Turn everything off. Assuming we are in the golden orbit, the position on the screen gives the screen's misalignment."
   ]
  },
  {
   "cell_type": "code",
   "execution_count": 4,
   "metadata": {},
   "outputs": [
    {
     "data": {
      "text/plain": [
       "(-0.0009826608, 0.000195752)"
      ]
     },
     "execution_count": 4,
     "metadata": {},
     "output_type": "execute_result"
    }
   ],
   "source": [
    "menv.next_initial = np.zeros(5)\n",
    "menv.reset()\n",
    "beam_parameters = menv.backend.compute_beam_parameters()\n",
    "screen_misalignment = (beam_parameters[0], beam_parameters[1])\n",
    "screen_misalignment"
   ]
  },
  {
   "cell_type": "markdown",
   "metadata": {},
   "source": [
    "## Run Quadrupole Scan\n",
    "This can be used to get the quadrupole misalignments. The scan of AREAMQZM1 is also used to characterise the incoming beam."
   ]
  },
  {
   "cell_type": "code",
   "execution_count": 5,
   "metadata": {},
   "outputs": [
    {
     "name": "stderr",
     "output_type": "stream",
     "text": [
      "100%|██████████| 9/9 [00:41<00:00,  4.56s/it]\n",
      "100%|██████████| 3/3 [00:13<00:00,  4.48s/it]\n",
      "100%|██████████| 3/3 [00:13<00:00,  4.58s/it]\n"
     ]
    }
   ],
   "source": [
    "menv.next_initial = \"stay\"\n",
    "menv.reset()\n",
    "\n",
    "quadnames = [\"AREAMQZM1\", \"AREAMQZM2\", \"AREAMQZM3\"]\n",
    "quadindices = [0, 1, 3]\n",
    "quadvalues = [\n",
    "    np.linspace(-6, 6, num=9),\n",
    "    np.linspace(-6, 6, num=3),\n",
    "    np.linspace(-6, 6, num=3)\n",
    "]\n",
    "\n",
    "beam_parameters = []\n",
    "for quadrupole, i, k1s in zip(quadnames, quadindices, quadvalues):\n",
    "    quad_beam_parameters = []\n",
    "    for k1 in tqdm(k1s):\n",
    "        actuators = np.zeros(5)\n",
    "        actuators[i] = k1\n",
    "        quad_beam_parameters.append(menv.backend.compute_beam_parameters())\n",
    "    beam_parameters.append(quad_beam_parameters)"
   ]
  },
  {
   "cell_type": "markdown",
   "metadata": {},
   "source": [
    "## Find Quadrupole Misalignments\n",
    "Optimise for the misalignments of the quadrupoles using the data from the scan above."
   ]
  },
  {
   "cell_type": "code",
   "execution_count": null,
   "metadata": {},
   "outputs": [],
   "source": [
    "quadrupole_misalignments = []\n",
    "for i, (quadindex, k1s, quad_beam_parameters) in enumerate(zip(quadindices, quadvalues, beam_parameters)):\n",
    "    def optfn(misalignment):\n",
    "        senv.backend.next_misalignments = np.zeros(8)\n",
    "        senv.backend.next_misalignments[-2:] = screen_misalignment\n",
    "        senv.backend.next_misalignments[2*i:2*i+2] = misalignment\n",
    "\n",
    "        senv.backend.next_incoming = {\"mu_x\": 0, \"mu_xp\": 0, \"mu_y\": 0, \"mu_yp\": 0}\n",
    "\n",
    "        senv.reset()\n",
    "        actuators = np.zeros(5)\n",
    "        actuators[quadindex] = k1s[0]\n",
    "        senv.backend.actuators = actuators\n",
    "        beampos_simulation = np.zeros(4)\n",
    "        beampos_simulation[:2] = senv.backend.compute_beam_parameters()[:2]\n",
    "        actuators = np.zeros(5)\n",
    "        actuators[quadindex] = k1s[-1]\n",
    "        senv.backend.actuators = actuators\n",
    "        beampos_simulation[2:] = senv.backend.compute_beam_parameters()[:2]\n",
    "\n",
    "        beampos_machine = np.array([\n",
    "            quad_beam_parameters[0][0],\n",
    "            quad_beam_parameters[0][1],\n",
    "            quad_beam_parameters[-1][0],\n",
    "            quad_beam_parameters[-1][1]\n",
    "        ])\n",
    "\n",
    "        return np.mean((beampos_machine - beampos_simulation)**2)\n",
    "    \n",
    "    optresult = minimize(optfn, x0=(0,0), method=\"Nelder-Mead\")\n",
    "    quadrupole_misalignments.append(optresult[\"x\"])\n",
    "\n",
    "quadrupole_misalignments"
   ]
  },
  {
   "cell_type": "code",
   "execution_count": 13,
   "metadata": {},
   "outputs": [
    {
     "data": {
      "text/plain": [
       "[array([0., 0.]), array([0., 0.]), array([0., 0.])]"
      ]
     },
     "execution_count": 13,
     "metadata": {},
     "output_type": "execute_result"
    }
   ],
   "source": [
    "quadrupole_misalignments = []\n",
    "for i, (quadindex, k1s, quad_beam_parameters) in enumerate(zip(quadindices, quadvalues, beam_parameters)):\n",
    "    def optfn(misalignment):\n",
    "        senv.backend.next_misalignments = np.zeros(8)\n",
    "        senv.backend.next_misalignments[-2:] = screen_misalignment\n",
    "        senv.backend.next_misalignments[2*i:2*i+2] = misalignment\n",
    "\n",
    "        senv.backend.next_incoming = {\"mu_x\": 0, \"mu_xp\": 0, \"mu_y\": 0, \"mu_yp\": 0}\n",
    "\n",
    "        senv.reset()\n",
    "        actuators = np.zeros(5)\n",
    "        actuators[quadindex] = k1s[0]\n",
    "        senv.backend.actuators = actuators\n",
    "        beampos_simulation = np.zeros(4)\n",
    "        beampos_simulation[:2] = senv.backend.compute_beam_parameters()[:2]\n",
    "        actuators = np.zeros(5)\n",
    "        actuators[quadindex] = k1s[-1]\n",
    "        senv.backend.actuators = actuators\n",
    "        beampos_simulation[2:] = senv.backend.compute_beam_parameters()[:2]\n",
    "\n",
    "        beampos_machine = np.array([\n",
    "            quad_beam_parameters[0][0],\n",
    "            quad_beam_parameters[0][1],\n",
    "            quad_beam_parameters[-1][0],\n",
    "            quad_beam_parameters[-1][1]\n",
    "        ])\n",
    "\n",
    "        return np.mean((beampos_machine - beampos_simulation)**2)\n",
    "    \n",
    "    optresult = minimize(optfn, x0=(0,0), method=\"Nelder-Mead\")\n",
    "    quadrupole_misalignments.append(optresult[\"x\"])\n",
    "\n",
    "quadrupole_misalignments"
   ]
  },
  {
   "cell_type": "markdown",
   "metadata": {},
   "source": [
    "## Infer Missing Beam Parameters\n",
    "Assuming the the beam is on the golden orbit and now knowing more about the misalignments, we can optimise for the remaining parameters of the incoming beam."
   ]
  },
  {
   "cell_type": "code",
   "execution_count": 14,
   "metadata": {},
   "outputs": [],
   "source": [
    "def optfn(parameters):\n",
    "    senv.backend.next_incoming = {\n",
    "        \"mu_x\": 0,\n",
    "        \"mu_xp\": 0,\n",
    "        \"mu_y\": 0,\n",
    "        \"mu_yp\": 0,\n",
    "        \"sigma_x\": parameters[0],\n",
    "        \"sigma_xp\": parameters[1],\n",
    "        \"sigma_y\": parameters[2],\n",
    "        \"sigma_yp\": parameters[3]\n",
    "    }\n",
    "    senv.backend.misalignments = [\n",
    "        quadrupole_misalignments[0][0],\n",
    "        quadrupole_misalignments[0][1],\n",
    "        quadrupole_misalignments[1][0],\n",
    "        quadrupole_misalignments[1][1],\n",
    "        quadrupole_misalignments[2][0],\n",
    "        quadrupole_misalignments[2][1],\n",
    "        screen_misalignment[0],\n",
    "        screen_misalignment[1]\n",
    "    ]\n",
    "\n",
    "    senv.reset()\n",
    "\n",
    "\n",
    "    for k1 in quadvalues[0]:\n",
    "        senv.backend.actuators = [k1, 0, 0, 0, 0]\n",
    "        \n"
   ]
  },
  {
   "cell_type": "code",
   "execution_count": null,
   "metadata": {},
   "outputs": [],
   "source": []
  },
  {
   "cell_type": "code",
   "execution_count": 68,
   "metadata": {},
   "outputs": [
    {
     "data": {
      "text/latex": [
       "$\\displaystyle \\mu_{1} = R \\mu_{0}$"
      ],
      "text/plain": [
       "Eq(mu_1, R*mu_0)"
      ]
     },
     "execution_count": 68,
     "metadata": {},
     "output_type": "execute_result"
    }
   ],
   "source": [
    "mu0 = sympy.MatrixSymbol(\"mu_0\", 7, 1)\n",
    "mu1 = sympy.MatrixSymbol(\"mu_1\", 7, 1)\n",
    "R = sympy.MatrixSymbol(\"R\", 7, 7)\n",
    "mueq = sympy.Eq(mu1, sympy.MatMul(R, mu0), evaluate=False)\n",
    "mueq"
   ]
  },
  {
   "cell_type": "code",
   "execution_count": 75,
   "metadata": {},
   "outputs": [
    {
     "data": {
      "text/latex": [
       "$\\displaystyle R^{-1} \\mu_{1} = R^{-1} R \\mu_{0}$"
      ],
      "text/plain": [
       "Eq(R**(-1)*mu_1, R**(-1)*R*mu_0)"
      ]
     },
     "execution_count": 75,
     "metadata": {},
     "output_type": "execute_result"
    }
   ],
   "source": [
    "mueq = sympy.Eq(sympy.MatMul(R**(-1), mu1), sympy.MatMul(R**(-1), R, mu0), evaluate=False)\n",
    "mueq"
   ]
  },
  {
   "cell_type": "code",
   "execution_count": 71,
   "metadata": {},
   "outputs": [
    {
     "data": {
      "text/latex": [
       "$\\displaystyle C_{1} = R C_{0} R^{T}$"
      ],
      "text/plain": [
       "Eq(C_1, R*C_0*R.T)"
      ]
     },
     "execution_count": 71,
     "metadata": {},
     "output_type": "execute_result"
    }
   ],
   "source": [
    "cov0 = sympy.MatrixSymbol(\"C_0\", 7, 7)\n",
    "cov1 = sympy.MatrixSymbol(\"C_1\", 7, 7)\n",
    "R = sympy.MatrixSymbol(\"R\", 7, 7)\n",
    "coveq = sympy.Eq(cov1, sympy.MatMul(R, cov0, R.T), evaluate=False)\n",
    "coveq"
   ]
  },
  {
   "cell_type": "code",
   "execution_count": 73,
   "metadata": {},
   "outputs": [
    {
     "data": {
      "text/latex": [
       "$\\displaystyle R^{-1} C_{1} \\left(R^{T}\\right)^{-1} = R^{-1} R C_{0} R^{T} \\left(R^{T}\\right)^{-1}$"
      ],
      "text/plain": [
       "Eq(R**(-1)*C_1*R.T**(-1), R**(-1)*R*C_0*R.T*R.T**(-1))"
      ]
     },
     "execution_count": 73,
     "metadata": {},
     "output_type": "execute_result"
    }
   ],
   "source": [
    "coveq = sympy.Eq(sympy.MatMul(R**(-1), cov1, R.T**(-1)), sympy.MatMul(R**(-1), R, cov0, R.T, R.T**(-1)), evaluate=False)\n",
    "coveq"
   ]
  },
  {
   "cell_type": "code",
   "execution_count": null,
   "metadata": {},
   "outputs": [],
   "source": []
  }
 ],
 "metadata": {
  "interpreter": {
   "hash": "cb0c3e2128e3ec31ec0d90a83c3ce95af788e3d47340cfb20bbf06ca38505d8f"
  },
  "kernelspec": {
   "display_name": "Python 3.7.11 64-bit ('rl37': conda)",
   "language": "python",
   "name": "python3"
  },
  "language_info": {
   "codemirror_mode": {
    "name": "ipython",
    "version": 3
   },
   "file_extension": ".py",
   "mimetype": "text/x-python",
   "name": "python",
   "nbconvert_exporter": "python",
   "pygments_lexer": "ipython3",
   "version": "3.7.11"
  },
  "orig_nbformat": 4
 },
 "nbformat": 4,
 "nbformat_minor": 2
}
