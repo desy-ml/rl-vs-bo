{
 "cells": [
  {
   "cell_type": "code",
   "execution_count": 61,
   "metadata": {},
   "outputs": [],
   "source": [
    "from copy import deepcopy\n",
    "\n",
    "import cheetah\n",
    "import matplotlib.pyplot as plt\n",
    "import numpy as np\n",
    "from scipy.optimize import Bounds, minimize\n",
    "from tqdm import tqdm\n",
    "\n",
    "from environments import ARESEAOptimization"
   ]
  },
  {
   "cell_type": "code",
   "execution_count": 2,
   "metadata": {},
   "outputs": [],
   "source": [
    "senv = ARESEAOptimization(backend=\"simulation\", backendargs={\"measure_beam\": \"direct\"})\n",
    "menv = ARESEAOptimization(backend=\"machine\", backendargs={\"measure_beam\": \"us\"})"
   ]
  },
  {
   "cell_type": "code",
   "execution_count": 47,
   "metadata": {},
   "outputs": [],
   "source": [
    "segment = deepcopy(senv.backend._segment)"
   ]
  },
  {
   "cell_type": "markdown",
   "metadata": {},
   "source": [
    "## Screen Misalignment\n",
    "Turn everything off. Assuming we are in the golden orbit, the position on the screen gives the screen's misalignment."
   ]
  },
  {
   "cell_type": "code",
   "execution_count": 19,
   "metadata": {},
   "outputs": [
    {
     "data": {
      "text/plain": [
       "(-0.0009893004, 0.000195752)"
      ]
     },
     "execution_count": 19,
     "metadata": {},
     "output_type": "execute_result"
    }
   ],
   "source": [
    "menv.next_initial = np.zeros(5)\n",
    "menv.reset()\n",
    "beam_parameters = menv.backend.compute_beam_parameters()\n",
    "screen_misalignment = (beam_parameters[0], beam_parameters[1])\n",
    "screen_misalignment"
   ]
  },
  {
   "cell_type": "code",
   "execution_count": 67,
   "metadata": {},
   "outputs": [
    {
     "data": {
      "text/plain": [
       "(-9.159563359928731e-05, 0.00013213711123191184)"
      ]
     },
     "execution_count": 67,
     "metadata": {},
     "output_type": "execute_result"
    }
   ],
   "source": [
    "pydoocs.dummy.dummy.segment.AREABSCR1.misalignment"
   ]
  },
  {
   "cell_type": "code",
   "execution_count": 48,
   "metadata": {},
   "outputs": [],
   "source": [
    "segment.AREABSCR1.misalignment = screen_misalignment"
   ]
  },
  {
   "cell_type": "markdown",
   "metadata": {},
   "source": [
    "## Run Quadrupole Scan\n",
    "This can be used to get the quadrupole misalignments. The scan of AREAMQZM1 is also used to characterise the incoming beam."
   ]
  },
  {
   "cell_type": "code",
   "execution_count": 26,
   "metadata": {},
   "outputs": [
    {
     "name": "stderr",
     "output_type": "stream",
     "text": [
      "100%|██████████| 9/9 [00:40<00:00,  4.53s/it]\n",
      "100%|██████████| 3/3 [00:13<00:00,  4.55s/it]\n",
      "100%|██████████| 3/3 [00:13<00:00,  4.53s/it]\n"
     ]
    }
   ],
   "source": [
    "menv.next_initial = \"stay\"\n",
    "menv.reset()\n",
    "\n",
    "quadnames = [\"AREAMQZM1\", \"AREAMQZM2\", \"AREAMQZM3\"]\n",
    "quadindices = {\"AREAMQZM1\": 0, \"AREAMQZM2\": 1, \"AREAMQZM3\": 3}\n",
    "quadvalues = {\n",
    "    \"AREAMQZM1\": np.linspace(-6, 6, num=9),\n",
    "    \"AREAMQZM2\": np.linspace(-6, 6, num=3),\n",
    "    \"AREAMQZM3\": np.linspace(-6, 6, num=3)\n",
    "}\n",
    "\n",
    "beam_parameters = {}\n",
    "for quadrupole in quadnames:\n",
    "    quad_beam_parameters = []\n",
    "    for k1 in tqdm(quadvalues[quadrupole]):\n",
    "        actuators = np.zeros(5)\n",
    "        actuators[quadindices[quadrupole]] = k1\n",
    "        quad_beam_parameters.append(menv.backend.compute_beam_parameters())\n",
    "    beam_parameters[quadrupole] = quad_beam_parameters"
   ]
  },
  {
   "cell_type": "markdown",
   "metadata": {},
   "source": [
    "## Find Quadrupole Misalignments\n",
    "Optimise for the misalignments of the quadrupoles using the data from the scan above."
   ]
  },
  {
   "cell_type": "code",
   "execution_count": 30,
   "metadata": {},
   "outputs": [
    {
     "data": {
      "text/plain": [
       "{'AREAMQZM1': array([-0.00098266,  0.00020065, -0.00098266,  0.00020065]),\n",
       " 'AREAMQZM2': array([-0.00098266,  0.00020554, -0.00097602,  0.00020065]),\n",
       " 'AREAMQZM3': array([-0.00098266,  0.00019575, -0.00097602,  0.00020065])}"
      ]
     },
     "execution_count": 30,
     "metadata": {},
     "output_type": "execute_result"
    }
   ],
   "source": [
    "beam_positions = {\n",
    "    quad: np.concatenate([params[0][:2], params[-1][:2]]) for quad, params in beam_parameters.items()\n",
    "}\n",
    "beam_positions"
   ]
  },
  {
   "cell_type": "code",
   "execution_count": 41,
   "metadata": {},
   "outputs": [
    {
     "data": {
      "text/plain": [
       "{'AREAMQZM1': array([0.00150256, 0.00032703]),\n",
       " 'AREAMQZM2': array([0.00210284, 0.00048627]),\n",
       " 'AREAMQZM3': array([0.00375122, 0.00074585])}"
      ]
     },
     "execution_count": 41,
     "metadata": {},
     "output_type": "execute_result"
    }
   ],
   "source": [
    "quad_misalignments = {}\n",
    "for quadname in quadnames:\n",
    "    segment.AREAMQZM1.k1 = 0\n",
    "    segment.AREAMQZM2.k1 = 0\n",
    "    segment.AREAMQZM3.k1 = 0\n",
    "    segment.AREAMCVM1.angle = 0\n",
    "    segment.AREAMCHM1.angle = 0\n",
    "\n",
    "    def optfn(misalignment):\n",
    "        quad = getattr(segment, quadname)\n",
    "        screen = segment.AREABSCR1\n",
    "\n",
    "        quad.misalignment = misalignment\n",
    "        incoming = cheetah.ParameterBeam.from_parameters(mu_x=0, mu_xp=0, mu_y=0, mu_yp=0)\n",
    "        \n",
    "        quad.k1 = quadvalues[quadname][0]\n",
    "        segment(incoming)\n",
    "        pos1 = (screen.read_beam.mu_x, screen.read_beam.mu_y)\n",
    "        \n",
    "        quad.k1 = quadvalues[quadname][0]\n",
    "        segment(incoming)\n",
    "        pos2 = (screen.read_beam.mu_x, screen.read_beam.mu_y)\n",
    "\n",
    "        positions = np.concatenate([pos1, pos2])\n",
    "\n",
    "        return np.mean((beam_positions[quadname] - positions)**2)\n",
    "    \n",
    "    optresult = minimize(optfn, x0=(0,0), method=\"Nelder-Mead\")\n",
    "\n",
    "    quad_misalignments[quadname] = optresult[\"x\"]\n",
    "\n",
    "quad_misalignments"
   ]
  },
  {
   "cell_type": "code",
   "execution_count": 68,
   "metadata": {},
   "outputs": [
    {
     "name": "stdout",
     "output_type": "stream",
     "text": [
      "(-9.273758994918802e-05, 0.0001468202966657402)\n",
      "(0.00011814138500478084, 3.423127864380721e-05)\n",
      "(-2.6225445181015153e-05, 0.00015054358727308143)\n"
     ]
    }
   ],
   "source": [
    "print(pydoocs.dummy.dummy.segment.AREAMQZM1.misalignment)\n",
    "print(pydoocs.dummy.dummy.segment.AREAMQZM2.misalignment)\n",
    "print(pydoocs.dummy.dummy.segment.AREAMQZM3.misalignment)"
   ]
  },
  {
   "cell_type": "code",
   "execution_count": 49,
   "metadata": {},
   "outputs": [],
   "source": [
    "segment.AREAMQZM1.misalignment = quad_misalignments[\"AREAMQZM1\"]\n",
    "segment.AREAMQZM2.misalignment = quad_misalignments[\"AREAMQZM2\"]\n",
    "segment.AREAMQZM3.misalignment = quad_misalignments[\"AREAMQZM3\"]"
   ]
  },
  {
   "cell_type": "markdown",
   "metadata": {},
   "source": [
    "## Infer Missing Beam Parameters\n",
    "Assuming the the beam is on the golden orbit and now knowing more about the misalignments, we can optimise for the remaining parameters of the incoming beam."
   ]
  },
  {
   "cell_type": "code",
   "execution_count": 57,
   "metadata": {},
   "outputs": [
    {
     "data": {
      "text/plain": [
       "{'mu_x': 0,\n",
       " 'mu_xp': 0,\n",
       " 'mu_y': 0,\n",
       " 'mu_yp': 0,\n",
       " 'sigma_x': 8.90640541620087e-05,\n",
       " 'sigma_xp': 0.00023964769285521467,\n",
       " 'sigma_y': 7.738284496008421e-05,\n",
       " 'sigma_yp': 0.00024535872353590094}"
      ]
     },
     "execution_count": 57,
     "metadata": {},
     "output_type": "execute_result"
    }
   ],
   "source": [
    "segment.AREAMQZM1.k1 = 0\n",
    "segment.AREAMQZM2.k1 = 0\n",
    "segment.AREAMQZM3.k1 = 0\n",
    "segment.AREAMCVM1.angle = 0\n",
    "segment.AREAMCHM1.angle = 0\n",
    "\n",
    "def optfn(parameters):\n",
    "    incoming = cheetah.ParameterBeam.from_parameters(mu_x=0, mu_xp=0, mu_y=0, mu_yp=0,\n",
    "        sigma_x=parameters[0], sigma_xp=parameters[1], sigma_y=parameters[2], sigma_yp=parameters[3])\n",
    "\n",
    "    measureds = []\n",
    "    for k1 in quadvalues[\"AREAMQZM1\"]:\n",
    "        segment.AREAMQZM1.k1 = k1\n",
    "        segment(incoming)\n",
    "\n",
    "        screen = segment.AREABSCR1\n",
    "        measured = np.array([\n",
    "            screen.read_beam.mu_x,\n",
    "            screen.read_beam.mu_y,\n",
    "            screen.read_beam.sigma_x,\n",
    "            screen.read_beam.sigma_y,\n",
    "        ])\n",
    "        measureds.append(measured)\n",
    "    \n",
    "    measureds = np.concatenate(measureds)\n",
    "    read = np.concatenate(beam_parameters[\"AREAMQZM1\"])\n",
    "\n",
    "    return ((measureds - read)**2).mean()\n",
    "\n",
    "optresult = minimize(optfn, x0=np.zeros(4), method=\"Nelder-Mead\")\n",
    "\n",
    "incoming = {\n",
    "    \"mu_x\": 0, \"mu_xp\": 0, \"mu_y\": 0, \"mu_yp\": 0,\n",
    "    \"sigma_x\": optresult[\"x\"][0], \"sigma_xp\": optresult[\"x\"][1],\n",
    "    \"sigma_y\": optresult[\"x\"][2], \"sigma_yp\": optresult[\"x\"][3]\n",
    "}\n",
    "\n",
    "incoming"
   ]
  },
  {
   "cell_type": "markdown",
   "metadata": {},
   "source": [
    "## Optimise in Simulation"
   ]
  },
  {
   "cell_type": "code",
   "execution_count": 59,
   "metadata": {},
   "outputs": [],
   "source": [
    "desired = np.zeros(4)"
   ]
  },
  {
   "cell_type": "code",
   "execution_count": 60,
   "metadata": {},
   "outputs": [
    {
     "data": {
      "text/plain": [
       "array([-5.36294680e+00, -1.88199610e+01,  1.66558912e+01, -8.07210795e-04,\n",
       "       -5.99995302e-03])"
      ]
     },
     "execution_count": 60,
     "metadata": {},
     "output_type": "execute_result"
    }
   ],
   "source": [
    "senv.next_initial = [10, -10, 10, 0, 0]\n",
    "senv.backend.next_incoming = incoming\n",
    "senv.backend.next_misalignments = [\n",
    "    quad_misalignments[\"AREAMQZM1\"][0], quad_misalignments[\"AREAMQZM1\"][1],\n",
    "    quad_misalignments[\"AREAMQZM2\"][0], quad_misalignments[\"AREAMQZM2\"][1],\n",
    "    quad_misalignments[\"AREAMQZM3\"][0], quad_misalignments[\"AREAMQZM3\"][1],\n",
    "    screen_misalignment[0], screen_misalignment[1]\n",
    "]\n",
    "senv.next_desired = desired\n",
    "\n",
    "observation = senv.reset()\n",
    "\n",
    "def optfn(actuators):\n",
    "    observation, objective, _, _ = senv.step(actuators)\n",
    "    return objective\n",
    "\n",
    "bounds = Bounds(senv.action_space.low, senv.action_space.high)\n",
    "optresult = minimize(optfn, observation[:5], method=\"Nelder-Mead\", bounds=bounds)\n",
    "\n",
    "optresult[\"x\"]"
   ]
  },
  {
   "cell_type": "code",
   "execution_count": 65,
   "metadata": {},
   "outputs": [
    {
     "data": {
      "image/png": "[encoded data removed]",
      "text/plain": [
       "<Figure size 432x288 with 1 Axes>"
      ]
     },
     "metadata": {
      "needs_background": "light"
     },
     "output_type": "display_data"
    }
   ],
   "source": [
    "senv.step(optresult[\"x\"])\n",
    "plt.imshow(senv.backend.capture_clean_beam(), extent=senv.backend._segment.AREABSCR1.extent)\n",
    "plt.show()"
   ]
  },
  {
   "cell_type": "code",
   "execution_count": 63,
   "metadata": {},
   "outputs": [
    {
     "data": {
      "image/png": "[encoded data removed]",
      "text/plain": [
       "<Figure size 432x288 with 1 Axes>"
      ]
     },
     "metadata": {
      "needs_background": "light"
     },
     "output_type": "display_data"
    }
   ],
   "source": [
    "menv.step(optresult[\"x\"])\n",
    "\n",
    "plt.imshow(menv.backend.last_beam_image, extent=senv.backend._segment.AREABSCR1.extent)\n",
    "plt.show()"
   ]
  },
  {
   "cell_type": "code",
   "execution_count": null,
   "metadata": {},
   "outputs": [],
   "source": []
  }
 ],
 "metadata": {
  "interpreter": {
   "hash": "cb0c3e2128e3ec31ec0d90a83c3ce95af788e3d47340cfb20bbf06ca38505d8f"
  },
  "kernelspec": {
   "display_name": "Python 3.7.11 64-bit ('rl37': conda)",
   "language": "python",
   "name": "python3"
  },
  "language_info": {
   "codemirror_mode": {
    "name": "ipython",
    "version": 3
   },
   "file_extension": ".py",
   "mimetype": "text/x-python",
   "name": "python",
   "nbconvert_exporter": "python",
   "pygments_lexer": "ipython3",
   "version": "3.7.11"
  },
  "orig_nbformat": 4
 },
 "nbformat": 4,
 "nbformat_minor": 2
}
