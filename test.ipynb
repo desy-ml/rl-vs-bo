{
 "cells": [
  {
   "cell_type": "code",
   "execution_count": 1,
   "metadata": {},
   "outputs": [
    {
     "name": "stdout",
     "output_type": "stream",
     "text": [
      "initializing ocelot...\n"
     ]
    }
   ],
   "source": [
    "import matplotlib.pyplot as plt\n",
    "import numpy as np\n",
    "from gym.wrappers import (\n",
    "    FilterObservation,\n",
    "    FlattenObservation,\n",
    "    RecordVideo,\n",
    "    RescaleAction,\n",
    "    TimeLimit,\n",
    ")\n",
    "from stable_baselines3.common.env_checker import check_env\n",
    "from stable_baselines3.common.env_util import unwrap_wrapper\n",
    "\n",
    "from ea_train import ARESEACheetah\n"
   ]
  },
  {
   "cell_type": "code",
   "execution_count": 2,
   "metadata": {},
   "outputs": [],
   "source": [
    "env = ARESEACheetah(\n",
    "    incoming_mode=\"random\",\n",
    "    incoming_values=None,\n",
    "    misalignment_mode=\"random\",\n",
    "    misalignment_values=None,\n",
    "    action_mode=\"direct\",\n",
    "    magnet_init_mode=\"random\",\n",
    "    magnet_init_values=None,\n",
    "    reward_mode=\"differential\",\n",
    "    target_beam_mode=\"random\",\n",
    "    target_beam_values=None,\n",
    "    w_mu_x=1.0,\n",
    "    w_mu_y=1.0,\n",
    "    w_on_screen=1.0,\n",
    "    w_sigma_x=1.0,\n",
    "    w_sigma_y=1.0,\n",
    "    w_time=1.0,\n",
    ")\n",
    "env = RescaleAction(env, -1, 1)\n",
    "\n",
    "check_env(env)\n"
   ]
  },
  {
   "cell_type": "code",
   "execution_count": 3,
   "metadata": {},
   "outputs": [
    {
     "data": {
      "text/plain": [
       "({'beam': array([0.00103681, 0.00044352, 0.0010459 , 0.00047386], dtype=float32),\n",
       "  'magnets': array([0., 0., 0., 0., 0.], dtype=float32),\n",
       "  'target': array([-0.00073662,  0.00191974,  0.00131838,  0.00049668], dtype=float32),\n",
       "  'incoming': array([ 1.0362302e+08,  9.7383739e-04,  5.0255920e-07, -8.2123058e-04,\n",
       "         -1.8168690e-05,  4.3160302e-04,  4.9915037e-05,  4.6376302e-04,\n",
       "          4.7561254e-05,  7.5433154e-06,  6.7512371e-04], dtype=float32),\n",
       "  'misalignments': array([ 7.6631660e-04,  1.4502162e-03, -1.1432454e-03,  1.8725955e-03,\n",
       "         -9.3780149e-04, -1.4829753e-03, -6.1949118e-05, -1.9043040e-03],\n",
       "        dtype=float32)},\n",
       " 1.0426414253883323,\n",
       " False,\n",
       " {'binning': array(4),\n",
       "  'l1_distance': 0.003544951556250453,\n",
       "  'on_screen_reward': 1,\n",
       "  'pixel_size': array([1.32792e-05, 9.78760e-06]),\n",
       "  'screen_resolution': array([612., 510.]),\n",
       "  'time_reward': -1})"
      ]
     },
     "execution_count": 3,
     "metadata": {},
     "output_type": "execute_result"
    }
   ],
   "source": [
    "env.step(np.zeros(5))"
   ]
  },
  {
   "cell_type": "code",
   "execution_count": null,
   "metadata": {},
   "outputs": [],
   "source": []
  }
 ],
 "metadata": {
  "kernelspec": {
   "display_name": "Python 3.9.13 ('rl39')",
   "language": "python",
   "name": "python3"
  },
  "language_info": {
   "codemirror_mode": {
    "name": "ipython",
    "version": 3
   },
   "file_extension": ".py",
   "mimetype": "text/x-python",
   "name": "python",
   "nbconvert_exporter": "python",
   "pygments_lexer": "ipython3",
   "version": "3.9.13"
  },
  "orig_nbformat": 4,
  "vscode": {
   "interpreter": {
    "hash": "343fe3b89e2d7877d61a0509fd880204236e5c07449e4c121f53f2530ef83fc9"
   }
  }
 },
 "nbformat": 4,
 "nbformat_minor": 2
}
