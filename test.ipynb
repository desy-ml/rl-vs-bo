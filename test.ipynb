{
 "cells": [
  {
   "cell_type": "code",
   "execution_count": 1,
   "metadata": {},
   "outputs": [
    {
     "name": "stdout",
     "output_type": "stream",
     "text": [
      "initializing ocelot...\n"
     ]
    }
   ],
   "source": [
    "import matplotlib.pyplot as plt\n",
    "import numpy as np\n",
    "from gym.wrappers import (\n",
    "    FilterObservation,\n",
    "    FlattenObservation,\n",
    "    RecordVideo,\n",
    "    RescaleAction,\n",
    "    TimeLimit,\n",
    ")\n",
    "from stable_baselines3.common.env_checker import check_env\n",
    "from stable_baselines3.common.env_util import unwrap_wrapper\n",
    "\n",
    "from ea_train import ARESEACheetah\n"
   ]
  },
  {
   "cell_type": "code",
   "execution_count": 2,
   "metadata": {},
   "outputs": [],
   "source": [
    "env = ARESEACheetah(\n",
    "    incoming_mode=\"random\",\n",
    "    incoming_values=None,\n",
    "    misalignment_mode=\"random\",\n",
    "    misalignment_values=None,\n",
    "    action_mode=\"direct\",\n",
    "    magnet_init_mode=\"random\",\n",
    "    magnet_init_values=None,\n",
    "    reward_mode=\"differential\",\n",
    "    target_beam_mode=\"random\",\n",
    "    target_beam_values=None,\n",
    "    w_mu_x=1.0,\n",
    "    w_mu_y=1.0,\n",
    "    w_on_screen=1.0,\n",
    "    w_sigma_x=1.0,\n",
    "    w_sigma_y=1.0,\n",
    "    w_time=1.0,\n",
    ")\n",
    "env = RescaleAction(env, -1, 1)\n",
    "\n",
    "check_env(env)\n"
   ]
  },
  {
   "cell_type": "code",
   "execution_count": null,
   "metadata": {},
   "outputs": [],
   "source": []
  }
 ],
 "metadata": {
  "kernelspec": {
   "display_name": "Python 3.9.13 ('rl39')",
   "language": "python",
   "name": "python3"
  },
  "language_info": {
   "codemirror_mode": {
    "name": "ipython",
    "version": 3
   },
   "file_extension": ".py",
   "mimetype": "text/x-python",
   "name": "python",
   "nbconvert_exporter": "python",
   "pygments_lexer": "ipython3",
   "version": "3.9.13"
  },
  "orig_nbformat": 4,
  "vscode": {
   "interpreter": {
    "hash": "343fe3b89e2d7877d61a0509fd880204236e5c07449e4c121f53f2530ef83fc9"
   }
  }
 },
 "nbformat": 4,
 "nbformat_minor": 2
}
