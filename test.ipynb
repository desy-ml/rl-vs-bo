{
 "cells": [
  {
   "cell_type": "code",
   "execution_count": 1,
   "metadata": {},
   "outputs": [
    {
     "name": "stdout",
     "output_type": "stream",
     "text": [
      "initializing ocelot...\n"
     ]
    }
   ],
   "source": [
    "import matplotlib.pyplot as plt\n",
    "import numpy as np\n",
    "from gym.wrappers import (\n",
    "    FilterObservation,\n",
    "    FlattenObservation,\n",
    "    RecordVideo,\n",
    "    RescaleAction,\n",
    "    TimeLimit,\n",
    ")\n",
    "from stable_baselines3.common.env_checker import check_env\n",
    "from stable_baselines3.common.env_util import unwrap_wrapper\n",
    "\n",
    "from ea_train import ARESEACheetah\n"
   ]
  },
  {
   "cell_type": "code",
   "execution_count": 2,
   "metadata": {},
   "outputs": [
    {
     "name": "stdout",
     "output_type": "stream",
     "text": [
      "done = False\n",
      "done = False\n",
      "done_reward = 0\n",
      "self.w_done = 1.0\n",
      "(done_reward_component) = 0.0\n"
     ]
    }
   ],
   "source": [
    "env = ARESEACheetah(\n",
    "    incoming_mode=\"random\",\n",
    "    incoming_values=None,\n",
    "    misalignment_mode=\"random\",\n",
    "    misalignment_values=None,\n",
    "    action_mode=\"direct\",\n",
    "    magnet_init_mode=\"random\",\n",
    "    magnet_init_values=None,\n",
    "    reward_mode=\"differential\",\n",
    "    target_beam_mode=\"random\",\n",
    "    target_beam_values=None,\n",
    "    w_mu_x=1.0,\n",
    "    w_mu_y=1.0,\n",
    "    w_on_screen=1.0,\n",
    "    w_sigma_x=1.0,\n",
    "    w_sigma_y=1.0,\n",
    "    w_time=1.0,\n",
    ")\n",
    "env = RescaleAction(env, -1, 1)\n",
    "\n",
    "check_env(env)\n"
   ]
  },
  {
   "cell_type": "code",
   "execution_count": 3,
   "metadata": {},
   "outputs": [
    {
     "data": {
      "text/plain": [
       "{'beam': array([-0.02273769,  0.0014518 , -0.10491275,  0.00418624], dtype=float32),\n",
       " 'magnets': array([ 5.9285854e+01,  6.0291634e+01, -6.1429283e-03,  8.9177351e+00,\n",
       "        -6.0066357e-03], dtype=float32),\n",
       " 'target': array([-0.00049748,  0.00165402, -0.00157414,  0.00032111], dtype=float32),\n",
       " 'incoming': array([ 1.5408890e+08, -3.9819602e-04,  1.6712205e-05,  4.4333999e-04,\n",
       "         8.7518652e-05,  1.9711920e-04,  4.3197695e-05,  4.0057032e-05,\n",
       "         2.0436040e-05,  4.8125894e-05,  6.2578759e-04], dtype=float32),\n",
       " 'misalignments': array([ 0.0019492 ,  0.00147858,  0.00097263,  0.00117276,  0.00010727,\n",
       "         0.00092272, -0.00191018,  0.00029119], dtype=float32)}"
      ]
     },
     "execution_count": 3,
     "metadata": {},
     "output_type": "execute_result"
    }
   ],
   "source": [
    "env.reset()"
   ]
  },
  {
   "cell_type": "code",
   "execution_count": 6,
   "metadata": {},
   "outputs": [
    {
     "name": "stdout",
     "output_type": "stream",
     "text": [
      "done = False\n",
      "done = False\n",
      "done_reward = 0\n",
      "self.w_done = 1.0\n",
      "(done_reward_component) = 0.0\n"
     ]
    },
    {
     "data": {
      "text/plain": [
       "({'beam': array([1.5461736e-03, 2.1602718e-04, 3.3121699e-04, 5.7904133e-05],\n",
       "        dtype=float32),\n",
       "  'magnets': array([0., 0., 0., 0., 0.], dtype=float32),\n",
       "  'target': array([-0.00049748,  0.00165402, -0.00157414,  0.00032111], dtype=float32),\n",
       "  'incoming': array([ 1.5408890e+08, -3.9819602e-04,  1.6712205e-05,  4.4333999e-04,\n",
       "          8.7518652e-05,  1.9711920e-04,  4.3197695e-05,  4.0057032e-05,\n",
       "          2.0436040e-05,  4.8125894e-05,  6.2578759e-04], dtype=float32),\n",
       "  'misalignments': array([ 0.0019492 ,  0.00147858,  0.00097263,  0.00117276,  0.00010727,\n",
       "          0.00092272, -0.00191018,  0.00029119], dtype=float32)},\n",
       " 0.0,\n",
       " False,\n",
       " {'binning': array(4),\n",
       "  'l1_distance': 0.005650210270687239,\n",
       "  'on_screen_reward': 1,\n",
       "  'pixel_size': array([1.32792e-05, 9.78760e-06]),\n",
       "  'screen_resolution': array([612., 510.]),\n",
       "  'time_reward': -1})"
      ]
     },
     "execution_count": 6,
     "metadata": {},
     "output_type": "execute_result"
    }
   ],
   "source": [
    "env.step(np.zeros(5))"
   ]
  },
  {
   "cell_type": "code",
   "execution_count": null,
   "metadata": {},
   "outputs": [],
   "source": []
  }
 ],
 "metadata": {
  "kernelspec": {
   "display_name": "Python 3.9.13 ('rl39')",
   "language": "python",
   "name": "python3"
  },
  "language_info": {
   "codemirror_mode": {
    "name": "ipython",
    "version": 3
   },
   "file_extension": ".py",
   "mimetype": "text/x-python",
   "name": "python",
   "nbconvert_exporter": "python",
   "pygments_lexer": "ipython3",
   "version": "3.9.13"
  },
  "orig_nbformat": 4,
  "vscode": {
   "interpreter": {
    "hash": "de5c0f035d5cb65bb5a36223dfb09884123c8b45869d8cafc4d2abfc5b48aae7"
   }
  }
 },
 "nbformat": 4,
 "nbformat_minor": 2
}
