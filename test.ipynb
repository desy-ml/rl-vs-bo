{
 "cells": [
  {
   "cell_type": "code",
   "execution_count": 1,
   "metadata": {},
   "outputs": [],
   "source": [
    "from gym.wrappers import FrameStack, RescaleAction, TimeLimit\n",
    "import matplotlib.pyplot as plt\n",
    "import numpy as np\n",
    "from stable_baselines3 import TD3\n",
    "from stable_baselines3.common.monitor import Monitor\n",
    "from stable_baselines3.common.vec_env import DummyVecEnv, VecNormalize\n",
    "\n",
    "from environments import ARESEASequential, ResetActuators"
   ]
  },
  {
   "cell_type": "code",
   "execution_count": 6,
   "metadata": {},
   "outputs": [],
   "source": [
    "def make_env():\n",
    "    env = ARESEASequential(\n",
    "        backend=\"simulation\",\n",
    "        backendargs={\"measure_beam\": \"direct\"}\n",
    "    )\n",
    "    env = FrameStack(env, 16)\n",
    "    env = ResetActuators(env)\n",
    "    env = TimeLimit(env, max_episode_steps=50)\n",
    "    env = RescaleAction(env, -1, 1)\n",
    "    env = Monitor(env, info_keywords=(\"mae\",))\n",
    "    return env"
   ]
  },
  {
   "cell_type": "code",
   "execution_count": 7,
   "metadata": {},
   "outputs": [],
   "source": [
    "log_path = \"log/major-energy-117\"\n",
    "steps = 1041000\n",
    "# log/major-energy-117/vec_normalize_1041000_steps.pkl\n",
    "\n",
    "env = DummyVecEnv([make_env])\n",
    "env = VecNormalize.load(f\"{log_path}/vec_normalize_{steps}_steps.pkl\", env)\n",
    "\n",
    "model = TD3.load(f\"{log_path}/rl_model_{steps}_steps\")"
   ]
  },
  {
   "cell_type": "code",
   "execution_count": 8,
   "metadata": {},
   "outputs": [
    {
     "data": {
      "image/png": "[encoded data removed]",
      "text/plain": [
       "<Figure size 432x288 with 1 Axes>"
      ]
     },
     "metadata": {
      "needs_background": "light"
     },
     "output_type": "display_data"
    }
   ],
   "source": [
    "maes = []\n",
    "done = False\n",
    "observation = env.reset()\n",
    "while not done:\n",
    "    action, _  = model.predict(observation)\n",
    "    observation, _, done, info = env.step(action)\n",
    "    \n",
    "    maes.append(info[0][\"mae\"])\n",
    "\n",
    "plt.title(f\"MAEs (final = {maes[-1]})\")\n",
    "plt.plot(maes)\n",
    "# plt.xscale(\"log\")\n",
    "plt.grid()\n",
    "plt.show()"
   ]
  },
  {
   "cell_type": "code",
   "execution_count": null,
   "metadata": {},
   "outputs": [],
   "source": []
  }
 ],
 "metadata": {
  "interpreter": {
   "hash": "c52a148f042e18d735c6c9f66b6910136f20093b56325d8390c2dc5c9d3fe4fb"
  },
  "kernelspec": {
   "display_name": "Python 3.9.7 ('rl39')",
   "language": "python",
   "name": "python3"
  },
  "language_info": {
   "codemirror_mode": {
    "name": "ipython",
    "version": 3
   },
   "file_extension": ".py",
   "mimetype": "text/x-python",
   "name": "python",
   "nbconvert_exporter": "python",
   "pygments_lexer": "ipython3",
   "version": "3.9.7"
  },
  "orig_nbformat": 4
 },
 "nbformat": 4,
 "nbformat_minor": 2
}
