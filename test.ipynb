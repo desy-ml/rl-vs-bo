{
 "cells": [
  {
   "cell_type": "code",
   "execution_count": 1,
   "metadata": {},
   "outputs": [
    {
     "name": "stdout",
     "output_type": "stream",
     "text": [
      "initializing ocelot...\n"
     ]
    }
   ],
   "source": [
    "import matplotlib.pyplot as plt\n",
    "import numpy as np\n",
    "from gym.wrappers import (\n",
    "    FilterObservation,\n",
    "    FlattenObservation,\n",
    "    RecordVideo,\n",
    "    RescaleAction,\n",
    "    TimeLimit,\n",
    ")\n",
    "from stable_baselines3.common.env_checker import check_env\n",
    "from stable_baselines3.common.env_util import unwrap_wrapper\n",
    "\n",
    "from ea_train import ARESEACheetah\n"
   ]
  },
  {
   "cell_type": "code",
   "execution_count": 2,
   "metadata": {},
   "outputs": [],
   "source": [
    "env = ARESEACheetah(\n",
    "    incoming_mode=\"random\",\n",
    "    incoming_values=None,\n",
    "    misalignment_mode=\"random\",\n",
    "    misalignment_values=None,\n",
    "    action_mode=\"direct\",\n",
    "    magnet_init_mode=\"random\",\n",
    "    magnet_init_values=None,\n",
    "    reward_mode=\"differential\",\n",
    "    target_beam_mode=\"random\",\n",
    "    target_beam_values=None,\n",
    "    w_mu_x=1.0,\n",
    "    w_mu_y=1.0,\n",
    "    w_on_screen=1.0,\n",
    "    w_sigma_x=1.0,\n",
    "    w_sigma_y=1.0,\n",
    "    w_time=1.0,\n",
    ")\n",
    "env = RescaleAction(env, -1, 1)\n",
    "\n",
    "check_env(env)\n"
   ]
  },
  {
   "cell_type": "code",
   "execution_count": 3,
   "metadata": {},
   "outputs": [
    {
     "data": {
      "text/plain": [
       "{'beam': array([-0.00195788,  0.00217555,  0.01382812,  0.00282404], dtype=float32),\n",
       " 'magnets': array([-3.4112434e+01,  2.1074467e+01, -6.0631298e-03, -5.2898746e+01,\n",
       "         5.5924780e-03], dtype=float32),\n",
       " 'target': array([-1.1523461e-04,  4.5870886e-05, -1.9672473e-03,  7.6189573e-04],\n",
       "       dtype=float32),\n",
       " 'incoming': array([ 1.4000757e+08, -5.4798590e-04,  4.9217608e-05,  8.8691537e-04,\n",
       "        -5.2436350e-05,  4.1198116e-04,  4.4543332e-05,  2.8576390e-04,\n",
       "         2.8824101e-05,  2.1663573e-06,  3.2638101e-04], dtype=float32),\n",
       " 'misalignments': array([ 9.3962635e-06, -4.4789066e-04, -4.5861621e-04, -3.1727768e-04,\n",
       "        -4.8978598e-04, -3.2253590e-04, -3.7911246e-04,  4.6150855e-04],\n",
       "       dtype=float32)}"
      ]
     },
     "execution_count": 3,
     "metadata": {},
     "output_type": "execute_result"
    }
   ],
   "source": [
    "env.reset()"
   ]
  },
  {
   "cell_type": "code",
   "execution_count": 4,
   "metadata": {},
   "outputs": [
    {
     "data": {
      "text/plain": [
       "({'beam': array([-6.8172259e-05,  4.2194137e-04,  3.1811997e-04,  2.9178601e-04],\n",
       "        dtype=float32),\n",
       "  'magnets': array([0., 0., 0., 0., 0.], dtype=float32),\n",
       "  'target': array([-1.1523461e-04,  4.5870886e-05, -1.9672473e-03,  7.6189573e-04],\n",
       "        dtype=float32),\n",
       "  'incoming': array([ 1.4000757e+08, -5.4798590e-04,  4.9217608e-05,  8.8691537e-04,\n",
       "         -5.2436350e-05,  4.1198116e-04,  4.4543332e-05,  2.8576390e-04,\n",
       "          2.8824101e-05,  2.1663573e-06,  3.2638101e-04], dtype=float32),\n",
       "  'misalignments': array([ 9.3962635e-06, -4.4789066e-04, -4.5861621e-04, -3.1727768e-04,\n",
       "         -4.8978598e-04, -3.2253590e-04, -3.7911246e-04,  4.6150855e-04],\n",
       "        dtype=float32)},\n",
       " 0.8543914853899783,\n",
       " False,\n",
       " {'binning': array(4),\n",
       "  'l1_distance': 0.0031786098661541473,\n",
       "  'on_screen_reward': 1,\n",
       "  'pixel_size': array([1.32792e-05, 9.78760e-06]),\n",
       "  'screen_resolution': array([612., 510.]),\n",
       "  'time_reward': -1})"
      ]
     },
     "execution_count": 4,
     "metadata": {},
     "output_type": "execute_result"
    }
   ],
   "source": [
    "env.step(np.zeros(5))"
   ]
  },
  {
   "cell_type": "code",
   "execution_count": null,
   "metadata": {},
   "outputs": [],
   "source": []
  }
 ],
 "metadata": {
  "kernelspec": {
   "display_name": "Python 3.9.13 ('rl39')",
   "language": "python",
   "name": "python3"
  },
  "language_info": {
   "codemirror_mode": {
    "name": "ipython",
    "version": 3
   },
   "file_extension": ".py",
   "mimetype": "text/x-python",
   "name": "python",
   "nbconvert_exporter": "python",
   "pygments_lexer": "ipython3",
   "version": "3.9.13"
  },
  "orig_nbformat": 4,
  "vscode": {
   "interpreter": {
    "hash": "de5c0f035d5cb65bb5a36223dfb09884123c8b45869d8cafc4d2abfc5b48aae7"
   }
  }
 },
 "nbformat": 4,
 "nbformat_minor": 2
}
