{
 "cells": [
  {
   "cell_type": "code",
   "execution_count": 1,
   "metadata": {},
   "outputs": [
    {
     "name": "stdout",
     "output_type": "stream",
     "text": [
      "initializing ocelot...\n"
     ]
    }
   ],
   "source": [
    "import matplotlib.pyplot as plt\n",
    "import numpy as np\n",
    "from gym.wrappers import (\n",
    "    FilterObservation,\n",
    "    FlattenObservation,\n",
    "    RecordVideo,\n",
    "    RescaleAction,\n",
    "    TimeLimit,\n",
    ")\n",
    "from stable_baselines3.common.env_checker import check_env\n",
    "from stable_baselines3.common.env_util import unwrap_wrapper\n",
    "\n",
    "from ea_train import ARESEACheetah\n"
   ]
  },
  {
   "cell_type": "code",
   "execution_count": 2,
   "metadata": {},
   "outputs": [],
   "source": [
    "env = ARESEACheetah(\n",
    "    incoming_mode=\"random\",\n",
    "    incoming_values=None,\n",
    "    misalignment_mode=\"random\",\n",
    "    misalignment_values=None,\n",
    "    action_mode=\"direct\",\n",
    "    magnet_init_mode=\"random\",\n",
    "    magnet_init_values=None,\n",
    "    reward_mode=\"differential\",\n",
    "    target_beam_mode=\"random\",\n",
    "    target_beam_values=None,\n",
    "    w_mu_x=1.0,\n",
    "    w_mu_y=1.0,\n",
    "    w_on_screen=1.0,\n",
    "    w_sigma_x=1.0,\n",
    "    w_sigma_y=1.0,\n",
    "    w_time=1.0,\n",
    ")\n",
    "env = RescaleAction(env, -1, 1)\n",
    "\n",
    "check_env(env)\n"
   ]
  },
  {
   "cell_type": "code",
   "execution_count": 3,
   "metadata": {},
   "outputs": [
    {
     "data": {
      "text/plain": [
       "{'beam': array([-0.07617016,  0.04147303,  0.00375429,  0.00034944], dtype=float32),\n",
       " 'magnets': array([ 6.1937988e+01, -5.4751640e+01, -3.3793340e-03, -4.8517445e+01,\n",
       "        -1.3615643e-03], dtype=float32),\n",
       " 'target': array([-0.00178121,  0.00197197, -0.00165061,  0.00168392], dtype=float32),\n",
       " 'incoming': array([1.39583712e+08, 7.62331765e-04, 3.41459927e-05, 7.01470184e-04,\n",
       "        6.46791304e-05, 3.66487715e-04, 3.18184066e-05, 7.82060379e-05,\n",
       "        1.23004065e-05, 4.96820685e-05, 7.73199543e-04], dtype=float32),\n",
       " 'misalignments': array([ 6.4752508e-05, -8.1238388e-05, -1.2819743e-04, -1.1270554e-05,\n",
       "         4.7248637e-04, -5.0389117e-05,  2.0921048e-04, -3.9881299e-04],\n",
       "       dtype=float32)}"
      ]
     },
     "execution_count": 3,
     "metadata": {},
     "output_type": "execute_result"
    }
   ],
   "source": [
    "env.reset()"
   ]
  },
  {
   "cell_type": "code",
   "execution_count": 4,
   "metadata": {},
   "outputs": [
    {
     "data": {
      "text/plain": [
       "({'beam': array([6.2298530e-04, 3.7222504e-04, 1.2326192e-03, 8.2155755e-05],\n",
       "        dtype=float32),\n",
       "  'magnets': array([0., 0., 0., 0., 0.], dtype=float32),\n",
       "  'target': array([-0.00178121,  0.00197197, -0.00165061,  0.00168392], dtype=float32),\n",
       "  'incoming': array([1.39583712e+08, 7.62331765e-04, 3.41459927e-05, 7.01470184e-04,\n",
       "         6.46791304e-05, 3.66487715e-04, 3.18184066e-05, 7.82060379e-05,\n",
       "         1.23004065e-05, 4.96820685e-05, 7.73199543e-04], dtype=float32),\n",
       "  'misalignments': array([ 6.4752508e-05, -8.1238388e-05, -1.2819743e-04, -1.1270554e-05,\n",
       "          4.7248637e-04, -5.0389117e-05,  2.0921048e-04, -3.9881299e-04],\n",
       "        dtype=float32)},\n",
       " 0.9296280233662675,\n",
       " False,\n",
       " {'binning': array(4),\n",
       "  'l1_distance': 0.008488928979204502,\n",
       "  'on_screen_reward': 1,\n",
       "  'pixel_size': array([1.32792e-05, 9.78760e-06]),\n",
       "  'screen_resolution': array([612., 510.]),\n",
       "  'time_reward': -1})"
      ]
     },
     "execution_count": 4,
     "metadata": {},
     "output_type": "execute_result"
    }
   ],
   "source": [
    "env.step(np.zeros(5))"
   ]
  },
  {
   "cell_type": "code",
   "execution_count": null,
   "metadata": {},
   "outputs": [],
   "source": []
  }
 ],
 "metadata": {
  "kernelspec": {
   "display_name": "Python 3.9.13 ('rl39')",
   "language": "python",
   "name": "python3"
  },
  "language_info": {
   "codemirror_mode": {
    "name": "ipython",
    "version": 3
   },
   "file_extension": ".py",
   "mimetype": "text/x-python",
   "name": "python",
   "nbconvert_exporter": "python",
   "pygments_lexer": "ipython3",
   "version": "3.9.13"
  },
  "orig_nbformat": 4,
  "vscode": {
   "interpreter": {
    "hash": "de5c0f035d5cb65bb5a36223dfb09884123c8b45869d8cafc4d2abfc5b48aae7"
   }
  }
 },
 "nbformat": 4,
 "nbformat_minor": 2
}
