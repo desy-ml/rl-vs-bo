{
 "cells": [
  {
   "cell_type": "code",
   "execution_count": 2,
   "metadata": {},
   "outputs": [],
   "source": [
    "from environments import machine"
   ]
  },
  {
   "cell_type": "code",
   "execution_count": 6,
   "metadata": {},
   "outputs": [
    {
     "name": "stdout",
     "output_type": "stream",
     "text": [
      "Beam Position: x=-1.71966 mm / y=0.26916 mm\n",
      "Beam Size: x=1.35893 mm / y=0.37820 mm\n"
     ]
    }
   ],
   "source": [
    "ea_us = machine.ExperimentalArea(measure_beam=\"us\")\n",
    "mu_x, mu_y, sigma_x, sigma_y = ea_us.compute_beam_parameters()\n",
    "print(f\"Beam Position: x={mu_x*1e3:.5f} mm / y={mu_y*1e3:.5f} mm\")\n",
    "print(f\"Beam Size: x={sigma_x*1e3:.5f} mm / y={sigma_y*1e3:.5f} mm\")"
   ]
  },
  {
   "cell_type": "code",
   "execution_count": 5,
   "metadata": {},
   "outputs": [
    {
     "name": "stdout",
     "output_type": "stream",
     "text": [
      "Beam Position: x=-1.72597 mm / y=2.48605 mm\n",
      "Beam Size: x=1.33509 mm / y=0.00979 mm\n"
     ]
    }
   ],
   "source": [
    "ea_us = machine.ExperimentalArea(measure_beam=\"willi\")\n",
    "mu_x, mu_y, sigma_x, sigma_y = ea_us.compute_beam_parameters()\n",
    "print(f\"Beam Position: x={mu_x*1e3:.5f} mm / y={mu_y*1e3:.5f} mm\")\n",
    "print(f\"Beam Size: x={sigma_x*1e3:.5f} mm / y={sigma_y*1e3:.5f} mm\")"
   ]
  },
  {
   "cell_type": "code",
   "execution_count": null,
   "metadata": {},
   "outputs": [],
   "source": []
  }
 ],
 "metadata": {
  "interpreter": {
   "hash": "cb0c3e2128e3ec31ec0d90a83c3ce95af788e3d47340cfb20bbf06ca38505d8f"
  },
  "kernelspec": {
   "display_name": "Python 3.7.11 64-bit ('rl37': conda)",
   "language": "python",
   "name": "python3"
  },
  "language_info": {
   "codemirror_mode": {
    "name": "ipython",
    "version": 3
   },
   "file_extension": ".py",
   "mimetype": "text/x-python",
   "name": "python",
   "nbconvert_exporter": "python",
   "pygments_lexer": "ipython3",
   "version": "3.7.11"
  },
  "orig_nbformat": 4
 },
 "nbformat": 4,
 "nbformat_minor": 2
}
