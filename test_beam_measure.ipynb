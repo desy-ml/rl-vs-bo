{
 "cells": [
  {
   "cell_type": "code",
   "execution_count": 1,
   "metadata": {},
   "outputs": [],
   "source": [
    "from environments import machine"
   ]
  },
  {
   "cell_type": "markdown",
   "metadata": {},
   "source": [
    "Initial, binning 4, gain 100"
   ]
  },
  {
   "cell_type": "code",
   "execution_count": 12,
   "metadata": {},
   "outputs": [
    {
     "name": "stdout",
     "output_type": "stream",
     "text": [
      "Beam Position: x=-1.49391 mm / y=-0.29852 mm\n",
      "Beam Size: x=0.12969 mm / y=0.12884 mm\n"
     ]
    }
   ],
   "source": [
    "ea_us = machine.ExperimentalArea(measure_beam=\"us\")\n",
    "mu_x, mu_y, sigma_x, sigma_y = ea_us.compute_beam_parameters()\n",
    "print(f\"Beam Position: x={mu_x*1e3:.5f} mm / y={mu_y*1e3:.5f} mm\")\n",
    "print(f\"Beam Size: x={sigma_x*1e3:.5f} mm / y={sigma_y*1e3:.5f} mm\")"
   ]
  },
  {
   "cell_type": "markdown",
   "metadata": {},
   "source": [
    "Hannes, binning 1, gain 100 (probably actually binning 4 and gain 0 with Willi, definitely with Hannes)"
   ]
  },
  {
   "cell_type": "code",
   "execution_count": 9,
   "metadata": {},
   "outputs": [
    {
     "name": "stdout",
     "output_type": "stream",
     "text": [
      "Beam Position: x=0.00000 mm / y=0.03915 mm\n",
      "Beam Size: x=0.03383 mm / y=0.01662 mm\n"
     ]
    }
   ],
   "source": [
    "ea_us = machine.ExperimentalArea(measure_beam=\"us\")\n",
    "mu_x, mu_y, sigma_x, sigma_y = ea_us.compute_beam_parameters()\n",
    "print(f\"Beam Position: x={mu_x*1e3:.5f} mm / y={mu_y*1e3:.5f} mm\")\n",
    "print(f\"Beam Size: x={sigma_x*1e3:.5f} mm / y={sigma_y*1e3:.5f} mm\")"
   ]
  },
  {
   "cell_type": "markdown",
   "metadata": {},
   "source": [
    "Hannes, binning 1, gain 0"
   ]
  },
  {
   "cell_type": "code",
   "execution_count": 10,
   "metadata": {},
   "outputs": [
    {
     "name": "stdout",
     "output_type": "stream",
     "text": [
      "Beam Position: x=0.00332 mm / y=0.03059 mm\n",
      "Beam Size: x=0.03947 mm / y=0.00935 mm\n"
     ]
    }
   ],
   "source": [
    "ea_us = machine.ExperimentalArea(measure_beam=\"us\")\n",
    "mu_x, mu_y, sigma_x, sigma_y = ea_us.compute_beam_parameters()\n",
    "print(f\"Beam Position: x={mu_x*1e3:.5f} mm / y={mu_y*1e3:.5f} mm\")\n",
    "print(f\"Beam Size: x={sigma_x*1e3:.5f} mm / y={sigma_y*1e3:.5f} mm\")"
   ]
  },
  {
   "cell_type": "markdown",
   "metadata": {},
   "source": [
    "Hannes, binning 1, gain 0"
   ]
  },
  {
   "cell_type": "code",
   "execution_count": 11,
   "metadata": {},
   "outputs": [
    {
     "name": "stdout",
     "output_type": "stream",
     "text": [
      "Beam Position: x=0.00461 mm / y=0.03003 mm\n",
      "Beam Size: x=0.04468 mm / y=0.01151 mm\n"
     ]
    }
   ],
   "source": [
    "ea_us = machine.ExperimentalArea(measure_beam=\"willi\")\n",
    "mu_x, mu_y, sigma_x, sigma_y = ea_us.compute_beam_parameters()\n",
    "print(f\"Beam Position: x={mu_x*1e3:.5f} mm / y={mu_y*1e3:.5f} mm\")\n",
    "print(f\"Beam Size: x={sigma_x*1e3:.5f} mm / y={sigma_y*1e3:.5f} mm\")"
   ]
  },
  {
   "cell_type": "code",
   "execution_count": null,
   "metadata": {},
   "outputs": [],
   "source": []
  }
 ],
 "metadata": {
  "interpreter": {
   "hash": "cb0c3e2128e3ec31ec0d90a83c3ce95af788e3d47340cfb20bbf06ca38505d8f"
  },
  "kernelspec": {
   "display_name": "Python 3 (ipykernel)",
   "language": "python",
   "name": "python3"
  },
  "language_info": {
   "codemirror_mode": {
    "name": "ipython",
    "version": 3
   },
   "file_extension": ".py",
   "mimetype": "text/x-python",
   "name": "python",
   "nbconvert_exporter": "python",
   "pygments_lexer": "ipython3",
   "version": "3.7.11"
  }
 },
 "nbformat": 4,
 "nbformat_minor": 4
}
