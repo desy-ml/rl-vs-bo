{
 "cells": [
  {
   "cell_type": "code",
   "execution_count": 4,
   "metadata": {},
   "outputs": [],
   "source": [
    "import numpy as np\n",
    "\n",
    "from environment import EATransverseTuning, BCTransverseTuning, DLTransverseTuning, SHTransverseTuning\n",
    "from backend import EADOOCSBackend, BCDOOCSBackend, DLDOOCSBackend, SHDOOCSBackend"
   ]
  },
  {
   "cell_type": "code",
   "execution_count": 6,
   "metadata": {},
   "outputs": [
    {
     "data": {
      "text/plain": [
       "<environment.BCTransverseTuning at 0x7fdd298b2910>"
      ]
     },
     "execution_count": 6,
     "metadata": {},
     "output_type": "execute_result"
    }
   ],
   "source": [
    "env = BCTransverseTuning(backend=BCDOOCSBackend(), w_beam=1.0, w_mu_x=1.0)\n",
    "env"
   ]
  },
  {
   "cell_type": "code",
   "execution_count": 7,
   "metadata": {},
   "outputs": [
    {
     "data": {
      "text/plain": [
       "{'beam': array([-3.0000001e-06,  6.2726117e-03,  2.0999998e-06,  3.6631846e-03],\n",
       "       dtype=float32),\n",
       " 'magnets': array([4.2000003 , 4.2000003 , 0.00618217, 0.00618217, 4.2000003 ],\n",
       "       dtype=float32),\n",
       " 'target': array([-1.3418533e-03,  5.4976648e-05,  3.2457756e-04,  1.3062134e-03],\n",
       "       dtype=float32)}"
      ]
     },
     "execution_count": 7,
     "metadata": {},
     "output_type": "execute_result"
    }
   ],
   "source": [
    "env.reset()"
   ]
  },
  {
   "cell_type": "code",
   "execution_count": 12,
   "metadata": {},
   "outputs": [
    {
     "data": {
      "text/plain": [
       "({'beam': array([-3.0000001e-06,  6.2726117e-03,  2.0999998e-06,  3.6631846e-03],\n",
       "        dtype=float32),\n",
       "  'magnets': array([4.2000003e+00, 5.1999998e+00, 4.1999985e-07, 5.2000024e-07,\n",
       "         6.2000003e+00], dtype=float32),\n",
       "  'target': array([-1.3418533e-03,  5.4976648e-05,  3.2457756e-04,  1.3062134e-03],\n",
       "        dtype=float32)},\n",
       " 0.0,\n",
       " False,\n",
       " {'binning': array([1, 1]),\n",
       "  'l1_distance': 0.001338853290770203,\n",
       "  'on_screen_reward': 1,\n",
       "  'pixel_size': array([6.00000005e-06, 4.19999985e-06]),\n",
       "  'screen_resolution': array([2463, 2055]),\n",
       "  'time_reward': -1,\n",
       "  'screen_image': array([[0, 0, 0, ..., 0, 0, 1],\n",
       "         [0, 0, 0, ..., 0, 0, 0],\n",
       "         [1, 0, 0, ..., 0, 0, 0],\n",
       "         ...,\n",
       "         [0, 0, 0, ..., 0, 0, 0],\n",
       "         [1, 0, 0, ..., 0, 0, 0],\n",
       "         [0, 0, 1, ..., 0, 0, 0]], dtype=uint16),\n",
       "  'camera_gain': 42,\n",
       "  'ARMRMCHM3': 6.775666851068077e-05,\n",
       "  'ARMRMCVM3': 6.749997187236267e-05,\n",
       "  'ARMRMCVM4': 6.775666851068077e-05,\n",
       "  'ARMRMCHM4': 6.749997187236267e-05,\n",
       "  'gun_solenoid': -0.14675501805883803})"
      ]
     },
     "execution_count": 12,
     "metadata": {},
     "output_type": "execute_result"
    }
   ],
   "source": [
    "env.step(np.array([4.2, 5.2, 0.42e-6, 0.52e-6, 6.2]))"
   ]
  },
  {
   "cell_type": "code",
   "execution_count": 20,
   "metadata": {},
   "outputs": [
    {
     "data": {
      "text/plain": [
       "({'beam': array([-0.001065  ,  0.00042803,  0.0003633 ,  0.00080611], dtype=float32),\n",
       "  'magnets': array([-2.5801668e-11, -2.5801668e-11, -6.9177379e-09,  8.1280665e-14,\n",
       "         -2.5801668e-11], dtype=float32),\n",
       "  'target': array([-1.3418533e-03,  5.4976648e-05,  3.2457756e-04,  1.3062134e-03],\n",
       "        dtype=float32)},\n",
       " 1.3444340974885547,\n",
       " False,\n",
       " {'binning': array([1, 1]),\n",
       "  'l1_distance': 0.0002768532815389335,\n",
       "  'on_screen_reward': 1,\n",
       "  'pixel_size': array([6.00000005e-06, 4.19999985e-06]),\n",
       "  'screen_resolution': array([2463, 2055]),\n",
       "  'time_reward': -1,\n",
       "  'screen_image': array([[0, 0, 0, ..., 0, 0, 0],\n",
       "         [0, 0, 0, ..., 0, 0, 0],\n",
       "         [0, 0, 0, ..., 0, 0, 0],\n",
       "         ...,\n",
       "         [0, 0, 0, ..., 0, 0, 0],\n",
       "         [1, 0, 0, ..., 0, 0, 0],\n",
       "         [0, 0, 0, ..., 0, 0, 0]], dtype=uint16),\n",
       "  'camera_gain': 42,\n",
       "  'ARMRMCHM3': 6.775666851068077e-05,\n",
       "  'ARMRMCVM3': 6.749997187236267e-05,\n",
       "  'ARMRMCVM4': 6.775666851068077e-05,\n",
       "  'ARMRMCHM4': 6.749997187236267e-05,\n",
       "  'gun_solenoid': -0.14675501805883803})"
      ]
     },
     "execution_count": 20,
     "metadata": {},
     "output_type": "execute_result"
    }
   ],
   "source": [
    "env.step(np.zeros(5))"
   ]
  },
  {
   "cell_type": "code",
   "execution_count": 19,
   "metadata": {},
   "outputs": [
    {
     "data": {
      "text/plain": [
       "({'beam': array([0.000735  , 0.00042803, 0.0003759 , 0.00079185], dtype=float32),\n",
       "  'magnets': array([-2.5801668e-11, -2.5801668e-11, -6.9177379e-09,  5.0000002e-04,\n",
       "         -2.5801668e-11], dtype=float32),\n",
       "  'target': array([-1.3418533e-03,  5.4976648e-05,  3.2457756e-04,  1.3062134e-03],\n",
       "        dtype=float32)},\n",
       " -1.3309897565136692,\n",
       " False,\n",
       " {'binning': array([1, 1]),\n",
       "  'l1_distance': 0.002076853297185153,\n",
       "  'on_screen_reward': 1,\n",
       "  'pixel_size': array([6.00000005e-06, 4.19999985e-06]),\n",
       "  'screen_resolution': array([2463, 2055]),\n",
       "  'time_reward': -1,\n",
       "  'screen_image': array([[0, 0, 0, ..., 0, 0, 0],\n",
       "         [0, 0, 0, ..., 0, 0, 0],\n",
       "         [0, 0, 0, ..., 0, 0, 0],\n",
       "         ...,\n",
       "         [0, 0, 0, ..., 0, 0, 0],\n",
       "         [0, 0, 0, ..., 0, 0, 0],\n",
       "         [0, 0, 0, ..., 0, 0, 0]], dtype=uint16),\n",
       "  'camera_gain': 42,\n",
       "  'ARMRMCHM3': 6.775666851068077e-05,\n",
       "  'ARMRMCVM3': 6.749997187236267e-05,\n",
       "  'ARMRMCVM4': 6.775666851068077e-05,\n",
       "  'ARMRMCHM4': 6.749997187236267e-05,\n",
       "  'gun_solenoid': -0.14675501805883803})"
      ]
     },
     "execution_count": 19,
     "metadata": {},
     "output_type": "execute_result"
    }
   ],
   "source": [
    "env.step(np.array([0.0, 0.0, 0.0, 5e-4, 0.0]))"
   ]
  },
  {
   "cell_type": "code",
   "execution_count": null,
   "metadata": {},
   "outputs": [],
   "source": []
  }
 ],
 "metadata": {
  "kernelspec": {
   "display_name": "Python 3",
   "language": "python",
   "name": "python3"
  },
  "language_info": {
   "codemirror_mode": {
    "name": "ipython",
    "version": 3
   },
   "file_extension": ".py",
   "mimetype": "text/x-python",
   "name": "python",
   "nbconvert_exporter": "python",
   "pygments_lexer": "ipython3",
   "version": "3.9.15"
  },
  "orig_nbformat": 4,
  "vscode": {
   "interpreter": {
    "hash": "6f56e1633cf60ed90ea4f951583f90fe5f21bec904916aef8fa303c167d94fe3"
   }
  }
 },
 "nbformat": 4,
 "nbformat_minor": 2
}
