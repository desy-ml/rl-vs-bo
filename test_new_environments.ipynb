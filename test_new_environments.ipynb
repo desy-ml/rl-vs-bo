{
 "cells": [
  {
   "cell_type": "code",
   "execution_count": 4,
   "metadata": {},
   "outputs": [],
   "source": [
    "import numpy as np\n",
    "\n",
    "from environment import EATransverseTuning, BCTransverseTuning, DLTransverseTuning, SHTransverseTuning\n",
    "from backend import EADOOCSBackend, BCDOOCSBackend, DLDOOCSBackend, SHDOOCSBackend"
   ]
  },
  {
   "attachments": {},
   "cell_type": "markdown",
   "metadata": {},
   "source": [
    "### 🛩️ ARBCBSCE1"
   ]
  },
  {
   "cell_type": "code",
   "execution_count": 6,
   "metadata": {},
   "outputs": [
    {
     "data": {
      "text/plain": [
       "<environment.BCTransverseTuning at 0x7fdd298b2910>"
      ]
     },
     "execution_count": 6,
     "metadata": {},
     "output_type": "execute_result"
    }
   ],
   "source": [
    "env = BCTransverseTuning(backend=BCDOOCSBackend(), w_beam=1.0, w_mu_x=1.0)\n",
    "env"
   ]
  },
  {
   "cell_type": "code",
   "execution_count": 7,
   "metadata": {},
   "outputs": [
    {
     "data": {
      "text/plain": [
       "{'beam': array([-3.0000001e-06,  6.2726117e-03,  2.0999998e-06,  3.6631846e-03],\n",
       "       dtype=float32),\n",
       " 'magnets': array([4.2000003 , 4.2000003 , 0.00618217, 0.00618217, 4.2000003 ],\n",
       "       dtype=float32),\n",
       " 'target': array([-1.3418533e-03,  5.4976648e-05,  3.2457756e-04,  1.3062134e-03],\n",
       "       dtype=float32)}"
      ]
     },
     "execution_count": 7,
     "metadata": {},
     "output_type": "execute_result"
    }
   ],
   "source": [
    "env.reset()"
   ]
  },
  {
   "cell_type": "code",
   "execution_count": 12,
   "metadata": {},
   "outputs": [
    {
     "data": {
      "text/plain": [
       "({'beam': array([-3.0000001e-06,  6.2726117e-03,  2.0999998e-06,  3.6631846e-03],\n",
       "        dtype=float32),\n",
       "  'magnets': array([4.2000003e+00, 5.1999998e+00, 4.1999985e-07, 5.2000024e-07,\n",
       "         6.2000003e+00], dtype=float32),\n",
       "  'target': array([-1.3418533e-03,  5.4976648e-05,  3.2457756e-04,  1.3062134e-03],\n",
       "        dtype=float32)},\n",
       " 0.0,\n",
       " False,\n",
       " {'binning': array([1, 1]),\n",
       "  'l1_distance': 0.001338853290770203,\n",
       "  'on_screen_reward': 1,\n",
       "  'pixel_size': array([6.00000005e-06, 4.19999985e-06]),\n",
       "  'screen_resolution': array([2463, 2055]),\n",
       "  'time_reward': -1,\n",
       "  'screen_image': array([[0, 0, 0, ..., 0, 0, 1],\n",
       "         [0, 0, 0, ..., 0, 0, 0],\n",
       "         [1, 0, 0, ..., 0, 0, 0],\n",
       "         ...,\n",
       "         [0, 0, 0, ..., 0, 0, 0],\n",
       "         [1, 0, 0, ..., 0, 0, 0],\n",
       "         [0, 0, 1, ..., 0, 0, 0]], dtype=uint16),\n",
       "  'camera_gain': 42,\n",
       "  'ARMRMCHM3': 6.775666851068077e-05,\n",
       "  'ARMRMCVM3': 6.749997187236267e-05,\n",
       "  'ARMRMCVM4': 6.775666851068077e-05,\n",
       "  'ARMRMCHM4': 6.749997187236267e-05,\n",
       "  'gun_solenoid': -0.14675501805883803})"
      ]
     },
     "execution_count": 12,
     "metadata": {},
     "output_type": "execute_result"
    }
   ],
   "source": [
    "env.step(np.array([4.2, 5.2, 0.42e-6, 0.52e-6, 6.2]))"
   ]
  },
  {
   "cell_type": "code",
   "execution_count": 20,
   "metadata": {},
   "outputs": [
    {
     "data": {
      "text/plain": [
       "({'beam': array([-0.001065  ,  0.00042803,  0.0003633 ,  0.00080611], dtype=float32),\n",
       "  'magnets': array([-2.5801668e-11, -2.5801668e-11, -6.9177379e-09,  8.1280665e-14,\n",
       "         -2.5801668e-11], dtype=float32),\n",
       "  'target': array([-1.3418533e-03,  5.4976648e-05,  3.2457756e-04,  1.3062134e-03],\n",
       "        dtype=float32)},\n",
       " 1.3444340974885547,\n",
       " False,\n",
       " {'binning': array([1, 1]),\n",
       "  'l1_distance': 0.0002768532815389335,\n",
       "  'on_screen_reward': 1,\n",
       "  'pixel_size': array([6.00000005e-06, 4.19999985e-06]),\n",
       "  'screen_resolution': array([2463, 2055]),\n",
       "  'time_reward': -1,\n",
       "  'screen_image': array([[0, 0, 0, ..., 0, 0, 0],\n",
       "         [0, 0, 0, ..., 0, 0, 0],\n",
       "         [0, 0, 0, ..., 0, 0, 0],\n",
       "         ...,\n",
       "         [0, 0, 0, ..., 0, 0, 0],\n",
       "         [1, 0, 0, ..., 0, 0, 0],\n",
       "         [0, 0, 0, ..., 0, 0, 0]], dtype=uint16),\n",
       "  'camera_gain': 42,\n",
       "  'ARMRMCHM3': 6.775666851068077e-05,\n",
       "  'ARMRMCVM3': 6.749997187236267e-05,\n",
       "  'ARMRMCVM4': 6.775666851068077e-05,\n",
       "  'ARMRMCHM4': 6.749997187236267e-05,\n",
       "  'gun_solenoid': -0.14675501805883803})"
      ]
     },
     "execution_count": 20,
     "metadata": {},
     "output_type": "execute_result"
    }
   ],
   "source": [
    "env.step(np.zeros(5))"
   ]
  },
  {
   "cell_type": "code",
   "execution_count": 19,
   "metadata": {},
   "outputs": [
    {
     "data": {
      "text/plain": [
       "({'beam': array([0.000735  , 0.00042803, 0.0003759 , 0.00079185], dtype=float32),\n",
       "  'magnets': array([-2.5801668e-11, -2.5801668e-11, -6.9177379e-09,  5.0000002e-04,\n",
       "         -2.5801668e-11], dtype=float32),\n",
       "  'target': array([-1.3418533e-03,  5.4976648e-05,  3.2457756e-04,  1.3062134e-03],\n",
       "        dtype=float32)},\n",
       " -1.3309897565136692,\n",
       " False,\n",
       " {'binning': array([1, 1]),\n",
       "  'l1_distance': 0.002076853297185153,\n",
       "  'on_screen_reward': 1,\n",
       "  'pixel_size': array([6.00000005e-06, 4.19999985e-06]),\n",
       "  'screen_resolution': array([2463, 2055]),\n",
       "  'time_reward': -1,\n",
       "  'screen_image': array([[0, 0, 0, ..., 0, 0, 0],\n",
       "         [0, 0, 0, ..., 0, 0, 0],\n",
       "         [0, 0, 0, ..., 0, 0, 0],\n",
       "         ...,\n",
       "         [0, 0, 0, ..., 0, 0, 0],\n",
       "         [0, 0, 0, ..., 0, 0, 0],\n",
       "         [0, 0, 0, ..., 0, 0, 0]], dtype=uint16),\n",
       "  'camera_gain': 42,\n",
       "  'ARMRMCHM3': 6.775666851068077e-05,\n",
       "  'ARMRMCVM3': 6.749997187236267e-05,\n",
       "  'ARMRMCVM4': 6.775666851068077e-05,\n",
       "  'ARMRMCHM4': 6.749997187236267e-05,\n",
       "  'gun_solenoid': -0.14675501805883803})"
      ]
     },
     "execution_count": 19,
     "metadata": {},
     "output_type": "execute_result"
    }
   ],
   "source": [
    "env.step(np.array([0.0, 0.0, 0.0, 5e-4, 0.0]))"
   ]
  },
  {
   "attachments": {},
   "cell_type": "markdown",
   "metadata": {},
   "source": [
    "### 🔎 ARDLBSCR1"
   ]
  },
  {
   "cell_type": "code",
   "execution_count": 21,
   "metadata": {},
   "outputs": [
    {
     "data": {
      "text/plain": [
       "<environment.DLTransverseTuning at 0x7fdd298abfd0>"
      ]
     },
     "execution_count": 21,
     "metadata": {},
     "output_type": "execute_result"
    }
   ],
   "source": [
    "env = DLTransverseTuning(backend=DLDOOCSBackend(), w_beam=1.0, w_mu_x=1.0)\n",
    "env"
   ]
  },
  {
   "cell_type": "code",
   "execution_count": 22,
   "metadata": {},
   "outputs": [
    {
     "data": {
      "text/plain": [
       "{'beam': array([0.00327324, 0.00051128, 0.00118605, 0.00089414], dtype=float32),\n",
       " 'magnets': array([ 0.00033809, -0.00042458,  0.25139442,  0.21784064], dtype=float32),\n",
       " 'target': array([-0.00156356,  0.00111513, -0.00085116,  0.00017814], dtype=float32)}"
      ]
     },
     "execution_count": 22,
     "metadata": {},
     "output_type": "execute_result"
    }
   ],
   "source": [
    "env.reset()"
   ]
  },
  {
   "cell_type": "code",
   "execution_count": 27,
   "metadata": {},
   "outputs": [
    {
     "data": {
      "text/plain": [
       "({'beam': array([0.00263942, 0.00020691, 0.00150444, 0.00093616], dtype=float32),\n",
       "  'magnets': array([5.0640585e-07, 5.2000024e-07, 4.2000003e+00, 5.1999998e+00],\n",
       "        dtype=float32),\n",
       "  'target': array([-0.00156356,  0.00111513, -0.00085116,  0.00017814], dtype=float32)},\n",
       " -0.514025608791394,\n",
       " False,\n",
       " {'binning': array([1, 1]),\n",
       "  'l1_distance': 0.004202978609828279,\n",
       "  'on_screen_reward': 1,\n",
       "  'pixel_size': array([3.53100011e-06, 2.53699999e-06]),\n",
       "  'screen_resolution': array([2463, 2055]),\n",
       "  'time_reward': -1,\n",
       "  'screen_image': array([[ 2,  0,  0, ...,  0,  0,  0],\n",
       "         [ 0,  2,  3, ...,  2,  8,  1],\n",
       "         [ 0,  3,  0, ...,  9,  0, 11],\n",
       "         ...,\n",
       "         [ 0,  0,  0, ...,  0,  0,  0],\n",
       "         [ 3,  0,  3, ...,  0,  2,  0],\n",
       "         [ 0,  0,  1, ...,  2,  4,  0]], dtype=uint16),\n",
       "  'camera_gain': 200,\n",
       "  'gun_solenoid': -0.14675501805883803})"
      ]
     },
     "execution_count": 27,
     "metadata": {},
     "output_type": "execute_result"
    }
   ],
   "source": [
    "env.step(np.array([0.42e-6, 0.52e-6, 4.2, 5.2]))"
   ]
  },
  {
   "cell_type": "code",
   "execution_count": 28,
   "metadata": {},
   "outputs": [
    {
     "data": {
      "text/plain": [
       "({'beam': array([0.00380465, 0.00045881, 0.00071797, 0.00098356], dtype=float32),\n",
       "  'magnets': array([-6.9177379e-09, -6.9177379e-09, -2.5801668e-11, -2.5801668e-11],\n",
       "        dtype=float32),\n",
       "  'target': array([-0.00156356,  0.00111513, -0.00085116,  0.00017814], dtype=float32)},\n",
       " -0.24090962864104157,\n",
       " False,\n",
       " {'binning': array([1, 1]),\n",
       "  'l1_distance': 0.005368208646541462,\n",
       "  'on_screen_reward': 1,\n",
       "  'pixel_size': array([3.53100011e-06, 2.53699999e-06]),\n",
       "  'screen_resolution': array([2463, 2055]),\n",
       "  'time_reward': -1,\n",
       "  'screen_image': array([[ 0,  2,  0, ...,  7, 28, 35],\n",
       "         [ 0,  0,  0, ..., 53, 35, 44],\n",
       "         [ 0,  0,  0, ..., 35, 33, 39],\n",
       "         ...,\n",
       "         [ 3,  0,  0, ...,  0,  0,  0],\n",
       "         [ 0,  3,  0, ...,  5,  1,  0],\n",
       "         [ 4,  0,  0, ...,  1,  0,  0]], dtype=uint16),\n",
       "  'camera_gain': 200,\n",
       "  'gun_solenoid': -0.14675501805883803})"
      ]
     },
     "execution_count": 28,
     "metadata": {},
     "output_type": "execute_result"
    }
   ],
   "source": [
    "env.step(np.zeros(5))"
   ]
  },
  {
   "cell_type": "code",
   "execution_count": 26,
   "metadata": {},
   "outputs": [
    {
     "data": {
      "text/plain": [
       "({'beam': array([-0.0032803 ,  0.0004693 ,  0.00061142,  0.00096632], dtype=float32),\n",
       "  'magnets': array([-6.9177379e-09, -4.9999999e-03, -2.5801668e-11, -2.5801668e-11],\n",
       "        dtype=float32),\n",
       "  'target': array([-0.00156356,  0.00111513, -0.00085116,  0.00017814], dtype=float32)},\n",
       " 0.642510744066616,\n",
       " False,\n",
       " {'binning': array([1, 1]),\n",
       "  'l1_distance': 0.0017167430766858163,\n",
       "  'on_screen_reward': 1,\n",
       "  'pixel_size': array([3.53100011e-06, 2.53699999e-06]),\n",
       "  'screen_resolution': array([2463, 2055]),\n",
       "  'time_reward': -1,\n",
       "  'screen_image': array([[ 8,  0,  0, ...,  0, 10,  4],\n",
       "         [ 6,  0,  7, ...,  3,  5,  0],\n",
       "         [ 5,  7,  4, ...,  6, 11,  0],\n",
       "         ...,\n",
       "         [ 1,  0,  0, ...,  0,  0,  0],\n",
       "         [ 0, 13,  1, ...,  0,  0,  0],\n",
       "         [ 0,  0,  0, ...,  0,  0,  0]], dtype=uint16),\n",
       "  'camera_gain': 200,\n",
       "  'gun_solenoid': -0.14675501805883803})"
      ]
     },
     "execution_count": 26,
     "metadata": {},
     "output_type": "execute_result"
    }
   ],
   "source": [
    "env.step(np.array([0.0, -3e-3, 0.0, 0.0]))"
   ]
  },
  {
   "attachments": {},
   "cell_type": "markdown",
   "metadata": {},
   "source": [
    "### 📊 ARSHBSCE2"
   ]
  },
  {
   "cell_type": "code",
   "execution_count": 29,
   "metadata": {},
   "outputs": [
    {
     "data": {
      "text/plain": [
       "<environment.SHTransverseTuning at 0x7fdd298ab640>"
      ]
     },
     "execution_count": 29,
     "metadata": {},
     "output_type": "execute_result"
    }
   ],
   "source": [
    "env = SHTransverseTuning(backend=SHDOOCSBackend(), w_beam=1.0, w_mu_x=1.0)\n",
    "env"
   ]
  },
  {
   "cell_type": "code",
   "execution_count": 30,
   "metadata": {},
   "outputs": [
    {
     "data": {
      "text/plain": [
       "{'beam': array([3.4414891e-03, 2.0517579e-04, 2.4762501e-05, 3.9355626e-04],\n",
       "       dtype=float32),\n",
       " 'magnets': array([-3.7995755e-04,  4.7431459e+00, -3.7995755e-04, -5.1591616e+00],\n",
       "       dtype=float32),\n",
       " 'target': array([0.00174177, 0.00162142, 0.00125773, 0.0011667 ], dtype=float32)}"
      ]
     },
     "execution_count": 30,
     "metadata": {},
     "output_type": "execute_result"
    }
   ],
   "source": [
    "env.reset()"
   ]
  },
  {
   "cell_type": "code",
   "execution_count": 31,
   "metadata": {},
   "outputs": [
    {
     "data": {
      "text/plain": [
       "({'beam': array([0.001277  , 0.00025124, 0.00159187, 0.00157423], dtype=float32),\n",
       "  'magnets': array([ 4.1999985e-07,  4.2000003e+00,  5.2000024e-07, -2.8266923e-03],\n",
       "        dtype=float32),\n",
       "  'target': array([0.00174177, 0.00162142, 0.00125773, 0.0011667 ], dtype=float32)},\n",
       " 0.7265590118305661,\n",
       " False,\n",
       " {'binning': array([1, 1]),\n",
       "  'l1_distance': 0.0004647723343223333,\n",
       "  'on_screen_reward': 1,\n",
       "  'pixel_size': array([9.86099988e-06, 7.07500009e-06]),\n",
       "  'screen_resolution': array([2463, 2054]),\n",
       "  'time_reward': -1,\n",
       "  'screen_image': array([[0, 1, 0, ..., 0, 0, 0],\n",
       "         [0, 0, 0, ..., 0, 0, 0],\n",
       "         [0, 0, 0, ..., 0, 0, 0],\n",
       "         ...,\n",
       "         [0, 0, 0, ..., 0, 0, 0],\n",
       "         [0, 0, 0, ..., 0, 0, 0],\n",
       "         [0, 0, 0, ..., 0, 0, 0]], dtype=uint16),\n",
       "  'magnets_before_reset': array([-3.79957557e-04,  4.74314579e+00, -3.79957557e-04, -5.15916161e+00]),\n",
       "  'screen_before_reset': array([[0, 1, 0, ..., 0, 0, 0],\n",
       "         [0, 0, 0, ..., 0, 0, 0],\n",
       "         [0, 1, 0, ..., 0, 0, 0],\n",
       "         ...,\n",
       "         [0, 0, 0, ..., 0, 0, 0],\n",
       "         [0, 0, 1, ..., 0, 0, 0],\n",
       "         [0, 0, 0, ..., 0, 0, 0]], dtype=uint16),\n",
       "  'beam_before_reset': array([3.56968196e-03, 2.05175794e-04, 2.83000004e-05, 4.14585992e-04]),\n",
       "  'screen_after_reset': array([[0, 0, 0, ..., 0, 0, 0],\n",
       "         [0, 0, 0, ..., 0, 0, 0],\n",
       "         [0, 0, 0, ..., 0, 0, 0],\n",
       "         ...,\n",
       "         [0, 0, 0, ..., 0, 0, 0],\n",
       "         [0, 0, 0, ..., 0, 0, 0],\n",
       "         [0, 0, 0, ..., 0, 0, 0]], dtype=uint16),\n",
       "  'camera_gain': 40,\n",
       "  'gun_solenoid': -0.14675501805883803})"
      ]
     },
     "execution_count": 31,
     "metadata": {},
     "output_type": "execute_result"
    }
   ],
   "source": [
    "env.step(np.array([0.42e-6, 4.2, 0.52e-6, 5.2]))"
   ]
  },
  {
   "cell_type": "code",
   "execution_count": 37,
   "metadata": {},
   "outputs": [
    {
     "data": {
      "text/plain": [
       "({'beam': array([0.00503404, 0.00077883, 0.00143623, 0.00069098], dtype=float32),\n",
       "  'magnets': array([ 8.1280665e-14, -2.5801668e-11,  8.1280665e-14, -2.5801668e-11],\n",
       "        dtype=float32),\n",
       "  'target': array([0.00174177, 0.00162142, 0.00125773, 0.0011667 ], dtype=float32)},\n",
       " -1.3053495322921305,\n",
       " False,\n",
       " {'binning': array([1, 1]),\n",
       "  'l1_distance': 0.0032922686208039518,\n",
       "  'on_screen_reward': 1,\n",
       "  'pixel_size': array([9.86099988e-06, 7.07500009e-06]),\n",
       "  'screen_resolution': array([2463, 2054]),\n",
       "  'time_reward': -1,\n",
       "  'screen_image': array([[0, 0, 0, ..., 0, 0, 0],\n",
       "         [0, 0, 0, ..., 2, 0, 0],\n",
       "         [3, 0, 0, ..., 0, 0, 1],\n",
       "         ...,\n",
       "         [3, 0, 0, ..., 0, 0, 0],\n",
       "         [1, 0, 2, ..., 0, 0, 0],\n",
       "         [1, 0, 0, ..., 0, 0, 0]], dtype=uint16),\n",
       "  'camera_gain': 150,\n",
       "  'gun_solenoid': -0.14675501805883803})"
      ]
     },
     "execution_count": 37,
     "metadata": {},
     "output_type": "execute_result"
    }
   ],
   "source": [
    "env.step(np.zeros(5))"
   ]
  },
  {
   "cell_type": "code",
   "execution_count": 36,
   "metadata": {},
   "outputs": [
    {
     "data": {
      "text/plain": [
       "({'beam': array([0.00281532, 0.00075371, 0.0030281 , 0.00072102], dtype=float32),\n",
       "  'magnets': array([ 5.0000002e-04, -2.5801668e-11, -8.9996058e-04, -2.5801668e-11],\n",
       "        dtype=float32),\n",
       "  'target': array([0.00174177, 0.00162142, 0.00125773, 0.0011667 ], dtype=float32)},\n",
       " -0.1450388369213477,\n",
       " False,\n",
       " {'binning': array([1, 1]),\n",
       "  'l1_distance': 0.001073543647304177,\n",
       "  'on_screen_reward': 1,\n",
       "  'pixel_size': array([9.86099988e-06, 7.07500009e-06]),\n",
       "  'screen_resolution': array([2463, 2054]),\n",
       "  'time_reward': -1,\n",
       "  'screen_image': array([[0, 1, 0, ..., 0, 0, 0],\n",
       "         [0, 0, 0, ..., 0, 0, 0],\n",
       "         [4, 0, 0, ..., 0, 0, 0],\n",
       "         ...,\n",
       "         [1, 0, 0, ..., 0, 0, 0],\n",
       "         [0, 3, 0, ..., 0, 2, 0],\n",
       "         [0, 0, 0, ..., 0, 1, 0]], dtype=uint16),\n",
       "  'camera_gain': 150,\n",
       "  'gun_solenoid': -0.14675501805883803})"
      ]
     },
     "execution_count": 36,
     "metadata": {},
     "output_type": "execute_result"
    }
   ],
   "source": [
    "env.step(np.array([5e-4, 0.0, -9e-4, 0.0]))"
   ]
  },
  {
   "cell_type": "code",
   "execution_count": null,
   "metadata": {},
   "outputs": [],
   "source": []
  }
 ],
 "metadata": {
  "kernelspec": {
   "display_name": "Python 3",
   "language": "python",
   "name": "python3"
  },
  "language_info": {
   "codemirror_mode": {
    "name": "ipython",
    "version": 3
   },
   "file_extension": ".py",
   "mimetype": "text/x-python",
   "name": "python",
   "nbconvert_exporter": "python",
   "pygments_lexer": "ipython3",
   "version": "3.9.15"
  },
  "orig_nbformat": 4,
  "vscode": {
   "interpreter": {
    "hash": "6f56e1633cf60ed90ea4f951583f90fe5f21bec904916aef8fa303c167d94fe3"
   }
  }
 },
 "nbformat": 4,
 "nbformat_minor": 2
}
