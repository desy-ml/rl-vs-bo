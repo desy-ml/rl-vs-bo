{
 "cells": [
  {
   "cell_type": "code",
   "execution_count": 8,
   "id": "bd05e7eb-caf4-4055-804a-d41ef523237e",
   "metadata": {},
   "outputs": [],
   "source": [
    "import requests\n",
    "\n",
    "from bs4 import BeautifulSoup"
   ]
  },
  {
   "cell_type": "code",
   "execution_count": 51,
   "id": "09d965aa-b33a-4b30-9fcf-fce7c7e167f5",
   "metadata": {},
   "outputs": [],
   "source": [
    "r1 = requests.get(\"https://ttfinfo.desy.de/elog/FileEdit?file=/SINBAD-ARESelog/data/2021/47/25.11&xsl=/elogbook/xsl/elog-fileform.xsl&mode=create\")"
   ]
  },
  {
   "cell_type": "code",
   "execution_count": 52,
   "id": "6f60a897-512d-496f-abb1-db5d1e5a3857",
   "metadata": {},
   "outputs": [],
   "source": [
    "soup = BeautifulSoup(r1.text[43:], \"html.parser\")"
   ]
  },
  {
   "cell_type": "code",
   "execution_count": 53,
   "id": "bd8b632e-4e24-483d-ab01-e2808ea28038",
   "metadata": {},
   "outputs": [
    {
     "data": {
      "text/plain": [
       "'https://ttfinfo.desy.de/elog/FileEdit?source=/SINBAD-ARESelog/data/2021/47/25.11/2021-11-25T16:02:23-00.xml'"
      ]
     },
     "execution_count": 53,
     "metadata": {},
     "output_type": "execute_result"
    }
   ],
   "source": [
    "action = soup.body.form[\"action\"]\n",
    "action"
   ]
  },
  {
   "cell_type": "code",
   "execution_count": 54,
   "id": "91c778cc-72c7-41e3-9861-7b3c4313ebe0",
   "metadata": {},
   "outputs": [
    {
     "data": {
      "text/plain": [
       "'https://ttfinfo.desy.de/elogbookManager/Manager?name=SINBAD-ARESelog&fill=/2021/47/25.11'"
      ]
     },
     "execution_count": 54,
     "metadata": {},
     "output_type": "execute_result"
    }
   ],
   "source": [
    "onsubmit = soup.body.form[\"onsubmit\"][13:-3]\n",
    "onsubmit"
   ]
  },
  {
   "cell_type": "code",
   "execution_count": 55,
   "id": "ae611e2c-8183-4ed3-ab09-e9e0229d3223",
   "metadata": {},
   "outputs": [],
   "source": [
    "r2 = requests.get(onsubmit)"
   ]
  },
  {
   "cell_type": "code",
   "execution_count": 56,
   "id": "0e13a0f6-0a95-4528-8119-b391cd2bc4af",
   "metadata": {},
   "outputs": [
    {
     "data": {
      "text/plain": [
       "200"
      ]
     },
     "execution_count": 56,
     "metadata": {},
     "output_type": "execute_result"
    }
   ],
   "source": [
    "r2.status_code"
   ]
  },
  {
   "cell_type": "code",
   "execution_count": 57,
   "id": "92a9ceda-3ee4-4090-a9d5-85c808ccb566",
   "metadata": {},
   "outputs": [],
   "source": [
    "title = \"MSK-IPC Autonmous Accelerator\"\n",
    "msg = \"Hallo Oliver und Hannes!\"\n",
    "\n",
    "r3 = requests.post(action,\n",
    "    data={\n",
    "        \"author\": \"Jan Kaiser\",\n",
    "        \"severity\": \"NONE\",\n",
    "        \"date\": \"25.11.2021\",\n",
    "        \"time\": \"16:02:23\",\n",
    "        \"keywords\": \"not set\",\n",
    "        \"location\": \"not set\",\n",
    "        \"title\": title,\n",
    "        \"text\": msg,\n",
    "        \"category\": \"USERLOG\",\n",
    "        \"metainfo\": \"2021-11-25T16:02:23-00.xml\",\n",
    "        \"backlink\": \"https://ttfinfo.desy.de/elog/XMLlist?file=/SINBAD-ARESelog/data/2021/47/25.11&xsl=/elogbook/xsl/elog.xsl\",\n",
    "        \"topic\": \"All\",\n",
    "        \"expertlist\": \"Dinter, Hannes\",\n",
    "        \"expert\": \"Dinter\",\n",
    "        \"email\": \"hannes.dinter@desy.de\",\n",
    "        \"femail\": \"\"\n",
    "    })"
   ]
  },
  {
   "cell_type": "code",
   "execution_count": 58,
   "id": "641b1bb4-ab58-4480-856c-c3b58d7b9efa",
   "metadata": {},
   "outputs": [
    {
     "data": {
      "text/plain": [
       "500"
      ]
     },
     "execution_count": 58,
     "metadata": {},
     "output_type": "execute_result"
    }
   ],
   "source": [
    "r3.status_code"
   ]
  },
  {
   "cell_type": "code",
   "execution_count": 59,
   "id": "bc73f8e4-4cea-4f48-8540-ea327a79b7a8",
   "metadata": {},
   "outputs": [
    {
     "data": {
      "text/plain": [
       "'<HTML><HEAD><TITLE>\\nSave File Output\\n</TITLE></HEAD><BODY>\\n'"
      ]
     },
     "execution_count": 59,
     "metadata": {},
     "output_type": "execute_result"
    }
   ],
   "source": [
    "r3.text"
   ]
  },
  {
   "cell_type": "code",
   "execution_count": null,
   "id": "8bcabdcf-65b9-4e3c-8efd-59ce223658e4",
   "metadata": {},
   "outputs": [],
   "source": []
  }
 ],
 "metadata": {
  "kernelspec": {
   "display_name": "Python 3 (ipykernel)",
   "language": "python",
   "name": "python3"
  },
  "language_info": {
   "codemirror_mode": {
    "name": "ipython",
    "version": 3
   },
   "file_extension": ".py",
   "mimetype": "text/x-python",
   "name": "python",
   "nbconvert_exporter": "python",
   "pygments_lexer": "ipython3",
   "version": "3.7.11"
  }
 },
 "nbformat": 4,
 "nbformat_minor": 5
}
