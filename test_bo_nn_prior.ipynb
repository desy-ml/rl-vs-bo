{
 "cells": [
  {
   "cell_type": "markdown",
   "metadata": {},
   "source": [
    "# Test BO with a trained NN as Prior"
   ]
  },
  {
   "cell_type": "code",
   "execution_count": 23,
   "metadata": {},
   "outputs": [],
   "source": [
    "from ea_train import ARESEACheetah\n",
    "import botorch\n",
    "import torch\n",
    "import torch.nn as nn\n",
    "from torch.utils.data import Dataset, DataLoader\n",
    "from gpytorch.means.mean import Mean\n",
    "import numpy as np\n",
    "from gym.wrappers import FilterObservation, FlattenObservation, RescaleAction, TimeLimit\n",
    "from gym.spaces.utils import unflatten\n",
    "from bayesopt import calculate_objective\n",
    "\n",
    "import matplotlib.pyplot as plt"
   ]
  },
  {
   "cell_type": "markdown",
   "metadata": {},
   "source": [
    "## Gather some training dataset for NN"
   ]
  },
  {
   "cell_type": "code",
   "execution_count": 164,
   "metadata": {},
   "outputs": [],
   "source": [
    "n_steps = 50000\n",
    "n_evalsteps = 10000\n",
    "config = {\n",
    "        \"action_mode\": \"direct_unidirectional_quads\",\n",
    "        \"beam_distance_ord\": 2,\n",
    "        \"gamma\": 0.99,\n",
    "        \"filter_action\": None,\n",
    "        \"filter_observation\": None,\n",
    "        \"frame_stack\": None,\n",
    "        \"incoming_mode\": \"random\",\n",
    "        \"incoming_values\": np.array(\n",
    "        [1.18e08, 0, 0, 0, 0, 5e-05, 6e-06, 4e-04, 3e-05, 9e-06, 7e-04],\n",
    "        dtype=\"float32\",\n",
    "    ),\n",
    "        \"log_beam_distance\": False,\n",
    "        \"magnet_init_mode\": \"constant\",\n",
    "        \"magnet_init_values\": np.zeros(5),\n",
    "        \"max_misalignment\": 5e-4,\n",
    "        \"max_quad_delta\": 72,\n",
    "        \"max_steerer_delta\": 6.1782e-3,\n",
    "        \"misalignment_mode\": \"constant\",\n",
    "        \"misalignment_values\": np.zeros(8),\n",
    "        \"n_envs\": 40,\n",
    "        \"normalize_beam_distance\": True,\n",
    "        \"normalize_observation\": True,\n",
    "        \"normalize_reward\": True,\n",
    "        \"rescale_action\": (-1, 1),\n",
    "        \"reward_mode\": \"differential\",\n",
    "        \"sb3_device\": \"auto\",\n",
    "        \"target_beam_mode\": \"constant\",\n",
    "        \"target_beam_values\": np.zeros(4),\n",
    "        \"target_mu_x_threshold\": 3e-6,\n",
    "        \"target_mu_y_threshold\": 3e-6,\n",
    "        \"target_sigma_x_threshold\": 3e-6,  # 20e-6 m are close to screen resolution\n",
    "        \"target_sigma_y_threshold\": 3e-6,\n",
    "        \"threshold_hold\": 3,\n",
    "        \"time_limit\": n_steps,\n",
    "        \"vec_env\": \"subproc\",\n",
    "        \"w_beam\": 1.0,\n",
    "        \"w_done\": 10.0,\n",
    "        \"w_mu_x\": 1.0,\n",
    "        \"w_mu_x_in_threshold\": 0.0,\n",
    "        \"w_mu_y\": 1.0,\n",
    "        \"w_mu_y_in_threshold\": 0.0,\n",
    "        \"w_on_screen\": 0.0,\n",
    "        \"w_sigma_x\": 1.0,\n",
    "        \"w_sigma_x_in_threshold\": 0.0,\n",
    "        \"w_sigma_y\": 1.0,\n",
    "        \"w_sigma_y_in_threshold\": 0.0,\n",
    "        \"w_time\": 0.0,\n",
    "    }"
   ]
  },
  {
   "cell_type": "code",
   "execution_count": 165,
   "metadata": {},
   "outputs": [],
   "source": [
    "env = ARESEACheetah(\n",
    "    action_mode=config[\"action_mode\"],\n",
    "    incoming_mode=config[\"incoming_mode\"],\n",
    "    incoming_values=config[\"incoming_values\"],\n",
    "    magnet_init_mode=config[\"magnet_init_mode\"],\n",
    "    magnet_init_values=config[\"magnet_init_values\"],\n",
    "    misalignment_mode=config[\"misalignment_mode\"],\n",
    "    misalignment_values=config[\"misalignment_values\"],\n",
    "    reward_mode=config[\"reward_mode\"],\n",
    "    target_beam_mode=config[\"target_beam_mode\"],\n",
    "    target_beam_values=config[\"target_beam_values\"],\n",
    "    target_mu_x_threshold=config[\"target_mu_x_threshold\"],\n",
    "    target_mu_y_threshold=config[\"target_mu_y_threshold\"],\n",
    "    target_sigma_x_threshold=config[\"target_sigma_x_threshold\"],\n",
    "    target_sigma_y_threshold=config[\"target_sigma_y_threshold\"],\n",
    "    threshold_hold=config[\"threshold_hold\"],\n",
    "    w_done=config[\"w_done\"],\n",
    "    w_mu_x=config[\"w_mu_x\"],\n",
    "    w_mu_x_in_threshold=config[\"w_mu_x_in_threshold\"],\n",
    "    w_mu_y=config[\"w_mu_y\"],\n",
    "    w_mu_y_in_threshold=config[\"w_mu_y_in_threshold\"],\n",
    "    w_on_screen=config[\"w_on_screen\"],\n",
    "    w_sigma_x=config[\"w_sigma_x\"],\n",
    "    w_sigma_x_in_threshold=config[\"w_sigma_x_in_threshold\"],\n",
    "    w_sigma_y=config[\"w_sigma_y\"],\n",
    "    w_sigma_y_in_threshold=config[\"w_sigma_y_in_threshold\"],\n",
    "    w_time=config[\"w_time\"],\n",
    ")\n",
    "env = TimeLimit(env, config[\"time_limit\"])\n",
    "if config[\"filter_observation\"] is not None:\n",
    "    env = FilterObservation(env, config[\"filter_observation\"])\n",
    "env = FlattenObservation(env)\n",
    "if config[\"rescale_action\"] is not None:\n",
    "    env = RescaleAction(\n",
    "        env, config[\"rescale_action\"][0], config[\"rescale_action\"][1]\n",
    "    )"
   ]
  },
  {
   "cell_type": "code",
   "execution_count": 166,
   "metadata": {},
   "outputs": [],
   "source": [
    "# # Gather Training data\n",
    "# np.random.seed(1)\n",
    "# observation = env.reset()\n",
    "# done = False\n",
    "# actions = np.random.random(size=(n_steps,5)) *2 - 1\n",
    "\n",
    "# objs = np.zeros(n_steps)\n",
    "# beams = np.zeros((n_steps,4))\n",
    "# for i, action in enumerate(actions):\n",
    "#     observation, reward, done, info = env.step(action)\n",
    "#     obs = unflatten(env.unwrapped.observation_space, observation)\n",
    "#     cb = obs[\"beam\"]\n",
    "#     tb = obs[\"target\"]\n",
    "#     obj = -np.log(np.mean(np.abs(cb - tb)))\n",
    "#     objs[i] = obj\n",
    "#     beams[i] = cb\n",
    "\n",
    "# # Save the data for further usage\n",
    "# with open(\"nn_for_bo/train_data.npz\", \"wb\") as f:\n",
    "#     np.savez(f ,action=actions, beam=beams, obj=objs)"
   ]
  },
  {
   "cell_type": "code",
   "execution_count": 167,
   "metadata": {},
   "outputs": [],
   "source": [
    "# # Gather Evaluation data\n",
    "# np.random.seed(2)\n",
    "# observation = env.reset()\n",
    "# done = False\n",
    "# actions = np.random.random(size=(n_evalsteps,5)) *2 - 1\n",
    "\n",
    "# objs = np.zeros(n_evalsteps)\n",
    "# beams = np.zeros((n_evalsteps,4))\n",
    "# for i, action in enumerate(actions):\n",
    "#     observation, reward, done, info = env.step(action)\n",
    "#     obs = unflatten(env.unwrapped.observation_space, observation)\n",
    "#     cb = obs[\"beam\"]\n",
    "#     tb = obs[\"target\"]\n",
    "#     obj = -np.log(np.mean(np.abs(cb - tb)))\n",
    "#     objs[i] = obj\n",
    "#     beams[i] = cb\n",
    "\n",
    "# # Save the data for further usage\n",
    "# with open(\"nn_for_bo/evaluation_data.npz\", \"wb\") as f:\n",
    "#     np.savez(f ,action=actions, beam=beams, obj=objs)"
   ]
  },
  {
   "cell_type": "code",
   "execution_count": 20,
   "metadata": {},
   "outputs": [],
   "source": [
    "# Save the data for further usage\n",
    "# with open(\"nn_for_bo/train_data.npz\", \"wb\") as f:\n",
    "#     np.savez(f ,x=actions, y=objs)"
   ]
  },
  {
   "cell_type": "code",
   "execution_count": 168,
   "metadata": {},
   "outputs": [
    {
     "name": "stdout",
     "output_type": "stream",
     "text": [
      "8.714292526245117 [-0.65109003  0.42485252  0.02563338  0.4462136   0.04448002]\n"
     ]
    }
   ],
   "source": [
    "# print(objs.max(),actions[np.argmax(objs),:])"
   ]
  },
  {
   "cell_type": "markdown",
   "metadata": {},
   "source": [
    "## Train a NN (Ver1)\n",
    "\n",
    "Predicts directly the logmae, doesn't work so well"
   ]
  },
  {
   "cell_type": "code",
   "execution_count": 68,
   "metadata": {},
   "outputs": [],
   "source": [
    "class SimpleNNforARESEA(nn.Module):\n",
    "    def __init__(self) -> None:\n",
    "        super().__init__()\n",
    "        self.layers = nn.Sequential(\n",
    "            nn.Linear(5,8,bias=True,),\n",
    "            nn.Tanh(),\n",
    "            nn.Linear(8,8),\n",
    "            nn.Tanh(),\n",
    "            nn.Linear(8,8),\n",
    "            nn.Tanh(),\n",
    "            nn.Linear(8,1)\n",
    "        )\n",
    "\n",
    "    def forward(self, x):\n",
    "        return self.layers(x)\n",
    "\n",
    "class CheetahSingleObjDataset(Dataset):\n",
    "    def __init__(self, datafile) -> None:\n",
    "        super().__init__()\n",
    "        with np.load(datafile) as data:\n",
    "            x = data[\"action\"]\n",
    "            y = data[\"obj\"]\n",
    "        self.X = torch.tensor(x, dtype=torch.float32)\n",
    "        self.Y = torch.tensor(y, dtype=torch.float32)\n",
    "\n",
    "        # output transform\n",
    "        self.Y = self.Y / 20\n",
    "    \n",
    "    def __len__(self):\n",
    "        return self.Y.shape[0]\n",
    "    \n",
    "    def __getitem__(self, index):\n",
    "        return self.X[index,:], self.Y[index]\n"
   ]
  },
  {
   "cell_type": "code",
   "execution_count": 185,
   "metadata": {},
   "outputs": [],
   "source": [
    "\n",
    "def train(dataloader, model, loss_fn, optimizer):\n",
    "    #size = len(dataloader.dataset)\n",
    "    train_epoch_loss = 0\n",
    "    model.train()\n",
    "    for batch, (X, y) in enumerate(dataloader):\n",
    "\n",
    "        # Compute prediction error\n",
    "        y_pred = model(X)\n",
    "        loss = loss_fn(y_pred, y)\n",
    "\n",
    "        # Backpropagation\n",
    "        optimizer.zero_grad()\n",
    "        loss.backward()\n",
    "        optimizer.step()\n",
    "    \n",
    "        train_epoch_loss += loss.item()\n",
    "    return train_epoch_loss\n",
    "\n",
    "def evaluate(dataloader, model, loss_fn,):\n",
    "    total_error = 0\n",
    "    model.eval()\n",
    "    for (X,y) in dataloader:\n",
    "        # Compute prediction error\n",
    "        y_pred = model(X)\n",
    "        total_error += loss_fn(y_pred, y).item()\n",
    "\n",
    "    return total_error  "
   ]
  },
  {
   "cell_type": "code",
   "execution_count": 69,
   "metadata": {},
   "outputs": [],
   "source": [
    "training_data = CheetahSingleObjDataset(datafile=\"nn_for_bo/train_data.npz\")\n",
    "train_dataloader = DataLoader(training_data, batch_size=64, shuffle=True)\n"
   ]
  },
  {
   "cell_type": "code",
   "execution_count": 70,
   "metadata": {},
   "outputs": [
    {
     "name": "stdout",
     "output_type": "stream",
     "text": [
      "Epoch 1, loss = 73.93974793329835\n",
      "-------------------------------\n",
      "Epoch 11, loss = 32.74412417784333\n",
      "-------------------------------\n",
      "Epoch 21, loss = 24.471498724538833\n",
      "-------------------------------\n",
      "Epoch 31, loss = 19.558906579390168\n",
      "-------------------------------\n",
      "Epoch 41, loss = 16.91475791891571\n",
      "-------------------------------\n",
      "Epoch 51, loss = 15.386437991866842\n",
      "-------------------------------\n",
      "Epoch 61, loss = 14.476690315874293\n",
      "-------------------------------\n",
      "Epoch 71, loss = 13.900222622323781\n",
      "-------------------------------\n",
      "Epoch 81, loss = 13.464640313526616\n",
      "-------------------------------\n",
      "Epoch 91, loss = 13.096624728175811\n",
      "-------------------------------\n",
      "Done!\n"
     ]
    }
   ],
   "source": [
    "# Training\n",
    "# model = SimpleNNforARESEA()\n",
    "# loss_fn = nn.MSELoss()\n",
    "# optimizer = torch.optim.Adam(model.parameters(), lr=1e-3)\n",
    "\n",
    "# n_epoch = 100\n",
    "# losses = np.zeros(n_epoch)\n",
    "# for t in range(n_epoch):\n",
    "    \n",
    "#     epoch_loss = train(train_dataloader, model, loss_fn, optimizer)\n",
    "#     # # cal validation loss\n",
    "#     # val_loss = evaluate(validataion_dataloader, model, loss_fn)\n",
    "#     losses[t] = epoch_loss\n",
    "#     if t % (n_epoch // 10) == 0:\n",
    "#         print(f\"Epoch {t+1}, loss = {epoch_loss}\\n-------------------------------\")\n",
    "# print(\"Done!\")\n"
   ]
  },
  {
   "cell_type": "code",
   "execution_count": 71,
   "metadata": {},
   "outputs": [],
   "source": [
    "# torch.save(model.state_dict(), f\"nn_for_bo/v1_model_weights.pth\")\n",
    "# torch.save(model, f\"nn_for_bo/v1_model.pth\")"
   ]
  },
  {
   "cell_type": "markdown",
   "metadata": {},
   "source": [
    "## Train a NN to predict out beam (Ver2)"
   ]
  },
  {
   "cell_type": "code",
   "execution_count": 182,
   "metadata": {},
   "outputs": [],
   "source": [
    "class SimpleBeamPredictNN(nn.Module):\n",
    "    def __init__(self) -> None:\n",
    "        super().__init__()\n",
    "        self.layers = nn.Sequential(\n",
    "            nn.Linear(5,8,bias=True,),\n",
    "            nn.Tanh(),\n",
    "            nn.Linear(8,8),\n",
    "            nn.Tanh(),\n",
    "            nn.Linear(8,8),\n",
    "            nn.Tanh(),\n",
    "            nn.Linear(8,4)\n",
    "        )\n",
    "\n",
    "    def forward(self, x):\n",
    "        return self.layers(x)\n",
    "\n",
    "class CheetahBeamDataset(Dataset):\n",
    "    def __init__(self, datafile) -> None:\n",
    "        super().__init__()\n",
    "        with np.load(datafile) as data:\n",
    "            x = data[\"action\"]\n",
    "            y = data[\"beam\"]\n",
    "        self.X = torch.tensor(x, dtype=torch.float32)\n",
    "        self.Y = torch.tensor(y, dtype=torch.float32)\n",
    "\n",
    "        # output transform\n",
    "        # self.Y = self.Y * 1e3\n",
    "    \n",
    "    def __len__(self):\n",
    "        return self.Y.shape[0]\n",
    "    \n",
    "    def __getitem__(self, index):\n",
    "        return self.X[index,:], self.Y[index,:]"
   ]
  },
  {
   "cell_type": "code",
   "execution_count": 186,
   "metadata": {},
   "outputs": [],
   "source": [
    "training_data = CheetahBeamDataset(datafile=\"nn_for_bo/train_data.npz\")\n",
    "train_dataloader = DataLoader(training_data, batch_size=64, shuffle=True)\n",
    "\n",
    "validation_data = CheetahBeamDataset(datafile=\"nn_for_bo/evaluation_data.npz\")\n",
    "validation_dataloader = DataLoader(training_data, batch_size=64, shuffle=False)"
   ]
  },
  {
   "cell_type": "code",
   "execution_count": 187,
   "metadata": {},
   "outputs": [
    {
     "name": "stdout",
     "output_type": "stream",
     "text": [
      "Epoch 1, loss = 1.1992168795004545, val_loss = 0.047345352582851774\n",
      "-------------------------------\n",
      "Epoch 11, loss = 0.004465262321446062, val_loss = 0.004195128832861883\n",
      "-------------------------------\n",
      "Epoch 21, loss = 0.0021646657428391336, val_loss = 0.0025365580104335095\n",
      "-------------------------------\n",
      "Epoch 31, loss = 0.0016688991468072345, val_loss = 0.0015760233541186608\n",
      "-------------------------------\n",
      "Epoch 41, loss = 0.0014578159560869608, val_loss = 0.001312688166422049\n",
      "-------------------------------\n",
      "Epoch 51, loss = 0.0012166712547241332, val_loss = 0.0012292809469727217\n",
      "-------------------------------\n",
      "Epoch 61, loss = 0.0010228210167610996, val_loss = 0.0008561271588405361\n",
      "-------------------------------\n",
      "Epoch 71, loss = 0.000921864522240412, val_loss = 0.0012660078535873254\n",
      "-------------------------------\n",
      "Epoch 81, loss = 0.0008374960533501508, val_loss = 0.000956497441677584\n",
      "-------------------------------\n",
      "Epoch 91, loss = 0.000804629614208352, val_loss = 0.00078897332463157\n",
      "-------------------------------\n",
      "Done!\n"
     ]
    }
   ],
   "source": [
    "# Training\n",
    "model = SimpleBeamPredictNN()\n",
    "loss_fn = nn.MSELoss()\n",
    "optimizer = torch.optim.Adam(model.parameters(), lr=1e-3)\n",
    "\n",
    "n_epoch = 100\n",
    "losses = np.zeros(n_epoch)\n",
    "for t in range(n_epoch):\n",
    "    \n",
    "    epoch_loss = train(train_dataloader, model, loss_fn, optimizer)\n",
    "    # cal validation loss\n",
    "    val_loss = evaluate(validation_dataloader, model, loss_fn)\n",
    "    losses[t] = epoch_loss\n",
    "    if t % (n_epoch // 10) == 0:\n",
    "        print(f\"Epoch {t+1}, loss = {epoch_loss}, val_loss = {val_loss}\\n-------------------------------\")\n",
    "print(\"Done!\")"
   ]
  },
  {
   "cell_type": "code",
   "execution_count": 190,
   "metadata": {},
   "outputs": [],
   "source": [
    "# torch.save(model.state_dict(), f\"nn_for_bo/v2_model_weights.pth\")\n",
    "# torch.save(model, f\"nn_for_bo/v2_model.pth\")"
   ]
  },
  {
   "cell_type": "code",
   "execution_count": 191,
   "metadata": {},
   "outputs": [],
   "source": [
    "# let's see some examples\n",
    "\n",
    "data = np.load(\"nn_for_bo/train_data.npz\")"
   ]
  },
  {
   "cell_type": "code",
   "execution_count": 196,
   "metadata": {},
   "outputs": [
    {
     "name": "stdout",
     "output_type": "stream",
     "text": [
      "tensor([[-3.9719e-04,  4.3851e-04,  2.5164e-04,  1.1538e-03],\n",
      "        [-1.8923e-04, -8.4991e-04, -7.6285e-04,  6.7058e-04],\n",
      "        [-2.1896e-05,  2.9048e-04,  2.3160e-04,  2.2695e-03],\n",
      "        [-1.3258e-04, -9.8997e-04, -6.0385e-04, -7.8915e-05],\n",
      "        [-5.2720e-04,  5.4195e-04, -3.4585e-04,  2.8383e-04],\n",
      "        [-2.5366e-04,  7.0576e-05, -3.4005e-03,  1.7102e-04],\n",
      "        [ 2.3597e-04,  6.7884e-04, -3.3157e-05, -1.1924e-04],\n",
      "        [-2.6534e-04,  1.9463e-03, -1.4571e-03, -7.2525e-04],\n",
      "        [ 5.4191e-04,  2.2747e-03, -3.4320e-04,  3.9201e-04],\n",
      "        [-4.3876e-04,  6.1707e-04,  5.6904e-04, -3.9463e-04]],\n",
      "       dtype=torch.float64)\n"
     ]
    }
   ],
   "source": [
    "model.eval()\n",
    "model.double()\n",
    "print(model(torch.tensor(data[\"action\"][:10])).detach() - data[\"beam\"][:10])"
   ]
  },
  {
   "cell_type": "markdown",
   "metadata": {},
   "source": [
    "## Try to Use the NN as Prior for BO"
   ]
  },
  {
   "cell_type": "code",
   "execution_count": 198,
   "metadata": {},
   "outputs": [],
   "source": [
    "class CheetahNNPrior(Mean):\n",
    "    def __init__(self):\n",
    "        super().__init__()\n",
    "        self.mlp = SimpleNNforARESEA()\n",
    "        self.mlp.load_state_dict(torch.load(f'nn_for_bo/v1_model_weights.pth'))\n",
    "        self.mlp.eval()\n",
    "        self.mlp.double() # for double input from GPyTorch\n",
    "    \n",
    "    def forward(self,x):\n",
    "        return self.mlp(x).squeeze() * 20\n",
    "\n",
    "class BeamNNPrior(Mean):\n",
    "    def __init__(self, target):\n",
    "        super().__init__()\n",
    "        self.mlp = SimpleBeamPredictNN()\n",
    "        self.mlp.load_state_dict(torch.load(f'nn_for_bo/v2_model_weights.pth'))\n",
    "        self.mlp.eval()\n",
    "        self.mlp.double() # for double input from GPyTorch\n",
    "        self.target = target\n",
    "    \n",
    "    def forward(self,x):\n",
    "        logmae = -torch.log(torch.mean(torch.abs(self.mlp(x) - self.target), dim=-1))\n",
    "        return logmae"
   ]
  },
  {
   "cell_type": "code",
   "execution_count": null,
   "metadata": {},
   "outputs": [],
   "source": []
  },
  {
   "cell_type": "code",
   "execution_count": 120,
   "metadata": {},
   "outputs": [],
   "source": [
    "from utils import FilterAction, RecordEpisode\n",
    "from eval_bo_sim import convert_incoming_from_problem, convert_misalignments_from_problem, convert_target_from_problem\n",
    "from bayesopt import calculate_objective, get_new_bound, get_next_samples, scale_action\n",
    "import json"
   ]
  },
  {
   "cell_type": "code",
   "execution_count": 200,
   "metadata": {},
   "outputs": [
    {
     "name": "stderr",
     "output_type": "stream",
     "text": [
      "/Users/chenran/opt/miniconda3/envs/rl39/lib/python3.9/site-packages/botorch/optim/optimize.py:306: RuntimeWarning: Optimization failed in `gen_candidates_scipy` with the following warning(s):\n",
      "[OptimizationWarning('Optimization failed within `scipy.optimize.minimize` with status 1.')]\n",
      "Trying again with a new set of initial conditions.\n",
      "  warnings.warn(first_warn_msg, RuntimeWarning)\n",
      "/Users/chenran/opt/miniconda3/envs/rl39/lib/python3.9/site-packages/botorch/optim/optimize.py:328: RuntimeWarning: Optimization failed on the second try, after generating a new set of initial conditions.\n",
      "  warnings.warn(\n",
      "/Users/chenran/opt/miniconda3/envs/rl39/lib/python3.9/site-packages/botorch/optim/optimize.py:306: RuntimeWarning: Optimization failed in `gen_candidates_scipy` with the following warning(s):\n",
      "[OptimizationWarning('Optimization failed within `scipy.optimize.minimize` with status 1.')]\n",
      "Trying again with a new set of initial conditions.\n",
      "  warnings.warn(first_warn_msg, RuntimeWarning)\n",
      "/Users/chenran/opt/miniconda3/envs/rl39/lib/python3.9/site-packages/botorch/optim/optimize.py:306: RuntimeWarning: Optimization failed in `gen_candidates_scipy` with the following warning(s):\n",
      "[OptimizationWarning('Optimization failed within `scipy.optimize.minimize` with status 1.')]\n",
      "Trying again with a new set of initial conditions.\n",
      "  warnings.warn(first_warn_msg, RuntimeWarning)\n",
      "/Users/chenran/opt/miniconda3/envs/rl39/lib/python3.9/site-packages/botorch/optim/optimize.py:328: RuntimeWarning: Optimization failed on the second try, after generating a new set of initial conditions.\n",
      "  warnings.warn(\n",
      "/Users/chenran/opt/miniconda3/envs/rl39/lib/python3.9/site-packages/botorch/optim/optimize.py:306: RuntimeWarning: Optimization failed in `gen_candidates_scipy` with the following warning(s):\n",
      "[OptimizationWarning('Optimization failed within `scipy.optimize.minimize` with status 2.')]\n",
      "Trying again with a new set of initial conditions.\n",
      "  warnings.warn(first_warn_msg, RuntimeWarning)\n",
      "/Users/chenran/opt/miniconda3/envs/rl39/lib/python3.9/site-packages/botorch/optim/optimize.py:306: RuntimeWarning: Optimization failed in `gen_candidates_scipy` with the following warning(s):\n",
      "[OptimizationWarning('Optimization failed within `scipy.optimize.minimize` with status 2.')]\n",
      "Trying again with a new set of initial conditions.\n",
      "  warnings.warn(first_warn_msg, RuntimeWarning)\n",
      "/Users/chenran/opt/miniconda3/envs/rl39/lib/python3.9/site-packages/botorch/optim/optimize.py:306: RuntimeWarning: Optimization failed in `gen_candidates_scipy` with the following warning(s):\n",
      "[OptimizationWarning('Optimization failed within `scipy.optimize.minimize` with status 2.')]\n",
      "Trying again with a new set of initial conditions.\n",
      "  warnings.warn(first_warn_msg, RuntimeWarning)\n",
      "/Users/chenran/opt/miniconda3/envs/rl39/lib/python3.9/site-packages/botorch/optim/optimize.py:306: RuntimeWarning: Optimization failed in `gen_candidates_scipy` with the following warning(s):\n",
      "[OptimizationWarning('Optimization failed within `scipy.optimize.minimize` with status 1.')]\n",
      "Trying again with a new set of initial conditions.\n",
      "  warnings.warn(first_warn_msg, RuntimeWarning)\n",
      "/Users/chenran/opt/miniconda3/envs/rl39/lib/python3.9/site-packages/botorch/optim/optimize.py:306: RuntimeWarning: Optimization failed in `gen_candidates_scipy` with the following warning(s):\n",
      "[OptimizationWarning('Optimization failed within `scipy.optimize.minimize` with status 1.')]\n",
      "Trying again with a new set of initial conditions.\n",
      "  warnings.warn(first_warn_msg, RuntimeWarning)\n",
      "/Users/chenran/opt/miniconda3/envs/rl39/lib/python3.9/site-packages/botorch/optim/optimize.py:306: RuntimeWarning: Optimization failed in `gen_candidates_scipy` with the following warning(s):\n",
      "[OptimizationWarning('Optimization failed within `scipy.optimize.minimize` with status 1.')]\n",
      "Trying again with a new set of initial conditions.\n",
      "  warnings.warn(first_warn_msg, RuntimeWarning)\n",
      "/Users/chenran/opt/miniconda3/envs/rl39/lib/python3.9/site-packages/botorch/optim/optimize.py:306: RuntimeWarning: Optimization failed in `gen_candidates_scipy` with the following warning(s):\n",
      "[OptimizationWarning('Optimization failed within `scipy.optimize.minimize` with status 1.')]\n",
      "Trying again with a new set of initial conditions.\n",
      "  warnings.warn(first_warn_msg, RuntimeWarning)\n",
      "/Users/chenran/opt/miniconda3/envs/rl39/lib/python3.9/site-packages/botorch/optim/optimize.py:306: RuntimeWarning: Optimization failed in `gen_candidates_scipy` with the following warning(s):\n",
      "[OptimizationWarning('Optimization failed within `scipy.optimize.minimize` with status 1.')]\n",
      "Trying again with a new set of initial conditions.\n",
      "  warnings.warn(first_warn_msg, RuntimeWarning)\n",
      "/Users/chenran/opt/miniconda3/envs/rl39/lib/python3.9/site-packages/botorch/optim/optimize.py:306: RuntimeWarning: Optimization failed in `gen_candidates_scipy` with the following warning(s):\n",
      "[OptimizationWarning('Optimization failed within `scipy.optimize.minimize` with status 1.')]\n",
      "Trying again with a new set of initial conditions.\n",
      "  warnings.warn(first_warn_msg, RuntimeWarning)\n",
      "/Users/chenran/opt/miniconda3/envs/rl39/lib/python3.9/site-packages/botorch/optim/optimize.py:306: RuntimeWarning: Optimization failed in `gen_candidates_scipy` with the following warning(s):\n",
      "[OptimizationWarning('Optimization failed within `scipy.optimize.minimize` with status 1.')]\n",
      "Trying again with a new set of initial conditions.\n",
      "  warnings.warn(first_warn_msg, RuntimeWarning)\n",
      "/Users/chenran/opt/miniconda3/envs/rl39/lib/python3.9/site-packages/botorch/optim/optimize.py:328: RuntimeWarning: Optimization failed on the second try, after generating a new set of initial conditions.\n",
      "  warnings.warn(\n",
      "/Users/chenran/opt/miniconda3/envs/rl39/lib/python3.9/site-packages/botorch/optim/optimize.py:306: RuntimeWarning: Optimization failed in `gen_candidates_scipy` with the following warning(s):\n",
      "[OptimizationWarning('Optimization failed within `scipy.optimize.minimize` with status 1.')]\n",
      "Trying again with a new set of initial conditions.\n",
      "  warnings.warn(first_warn_msg, RuntimeWarning)\n",
      "/Users/chenran/opt/miniconda3/envs/rl39/lib/python3.9/site-packages/botorch/optim/optimize.py:306: RuntimeWarning: Optimization failed in `gen_candidates_scipy` with the following warning(s):\n",
      "[OptimizationWarning('Optimization failed within `scipy.optimize.minimize` with status 1.')]\n",
      "Trying again with a new set of initial conditions.\n",
      "  warnings.warn(first_warn_msg, RuntimeWarning)\n",
      "/Users/chenran/opt/miniconda3/envs/rl39/lib/python3.9/site-packages/botorch/optim/optimize.py:306: RuntimeWarning: Optimization failed in `gen_candidates_scipy` with the following warning(s):\n",
      "[OptimizationWarning('Optimization failed within `scipy.optimize.minimize` with status 1.')]\n",
      "Trying again with a new set of initial conditions.\n",
      "  warnings.warn(first_warn_msg, RuntimeWarning)\n",
      "/Users/chenran/opt/miniconda3/envs/rl39/lib/python3.9/site-packages/botorch/optim/optimize.py:306: RuntimeWarning: Optimization failed in `gen_candidates_scipy` with the following warning(s):\n",
      "[OptimizationWarning('Optimization failed within `scipy.optimize.minimize` with status 1.')]\n",
      "Trying again with a new set of initial conditions.\n",
      "  warnings.warn(first_warn_msg, RuntimeWarning)\n"
     ]
    }
   ],
   "source": [
    "with open(\"problems.json\", \"r\") as f:\n",
    "    problems = json.load(f)\n",
    "problem = problems[0]\n",
    "\n",
    "config = {\n",
    "        \"action_mode\": \"direct_unidirectional_quads\",\n",
    "        \"filter_action\": None,\n",
    "        \"filter_observation\": None,  # [\"beam\", \"magnets\", \"target\"],\n",
    "        \"incoming_mode\": \"constant\",\n",
    "        \"incoming_values\": convert_incoming_from_problem(problem),\n",
    "        \"magnet_init_mode\": \"constant\",\n",
    "        \"magnet_init_values\": np.array([10, -10, 0, 10, 0]),\n",
    "        \"max_steps\": 150,\n",
    "        \"misalignment_mode\": \"constant\",\n",
    "        \"misalignment_values\": convert_misalignments_from_problem(problem),\n",
    "        \"rescale_action\": (-1, 1),\n",
    "        \"reward_mode\": \"differential\",\n",
    "        \"target_beam_mode\": \"constant\",\n",
    "        \"target_beam_values\": convert_target_from_problem(problem),\n",
    "        \"target_mu_x_threshold\": 20e-6,\n",
    "        \"target_mu_y_threshold\": 20e-6,\n",
    "        \"target_sigma_x_threshold\": 20e-6,\n",
    "        \"target_sigma_y_threshold\": 20e-6,\n",
    "        \"threshold_hold\": 5,\n",
    "        \"w_done\": 0.0,\n",
    "        \"w_mu_x\": 1.0,\n",
    "        \"w_mu_x_in_threshold\": 0.0,\n",
    "        \"w_mu_y\": 1.0,\n",
    "        \"w_mu_y_in_threshold\": 0.0,\n",
    "        \"w_on_screen\": 10.0,\n",
    "        \"w_sigma_x\": 1.0,\n",
    "        \"w_sigma_x_in_threshold\": 0.0,\n",
    "        \"w_sigma_y\": 1.0,\n",
    "        \"w_sigma_y_in_threshold\": 0.0,\n",
    "        \"w_time\": 0.0,\n",
    "        \"obj_function\": \"logmae\",\n",
    "        \"acquisition\": \"EI\",\n",
    "        \"init_x\": None,\n",
    "        \"init_samples\": 10,\n",
    "        \"stepsize\": 0.1,\n",
    "    }\n",
    "\n",
    "    # Create the environment\n",
    "env = ARESEACheetah(\n",
    "    action_mode=config[\"action_mode\"],\n",
    "    incoming_mode=config[\"incoming_mode\"],\n",
    "    incoming_values=config[\"incoming_values\"],\n",
    "    magnet_init_mode=config[\"magnet_init_mode\"],\n",
    "    magnet_init_values=config[\"magnet_init_values\"],\n",
    "    misalignment_mode=config[\"misalignment_mode\"],\n",
    "    misalignment_values=config[\"misalignment_values\"],\n",
    "    reward_mode=config[\"reward_mode\"],\n",
    "    target_beam_mode=config[\"target_beam_mode\"],\n",
    "    target_beam_values=config[\"target_beam_values\"],\n",
    "    target_mu_x_threshold=config[\"target_mu_x_threshold\"],\n",
    "    target_mu_y_threshold=config[\"target_mu_y_threshold\"],\n",
    "    target_sigma_x_threshold=config[\"target_sigma_x_threshold\"],\n",
    "    target_sigma_y_threshold=config[\"target_sigma_y_threshold\"],\n",
    "    threshold_hold=config[\"threshold_hold\"],\n",
    "    w_done=config[\"w_done\"],\n",
    "    w_mu_x=config[\"w_mu_x\"],\n",
    "    w_mu_x_in_threshold=config[\"w_mu_x_in_threshold\"],\n",
    "    w_mu_y=config[\"w_mu_y\"],\n",
    "    w_mu_y_in_threshold=config[\"w_mu_y_in_threshold\"],\n",
    "    w_on_screen=config[\"w_on_screen\"],\n",
    "    w_sigma_x=config[\"w_sigma_x\"],\n",
    "    w_sigma_x_in_threshold=config[\"w_sigma_x_in_threshold\"],\n",
    "    w_sigma_y=config[\"w_sigma_y\"],\n",
    "    w_sigma_y_in_threshold=config[\"w_sigma_y_in_threshold\"],\n",
    "    w_time=config[\"w_time\"],\n",
    ")\n",
    "env = TimeLimit(env, config[\"max_steps\"])\n",
    "# env = RecordEpisode(env, save_dir=f\"bo_evaluation/problem_{problem_index:03d}\")\n",
    "if config[\"filter_observation\"] is not None:\n",
    "    env = FilterObservation(env, config[\"filter_observation\"])\n",
    "if config[\"filter_action\"] is not None:\n",
    "    env = FilterAction(env, config[\"filter_action\"], replace=0)\n",
    "env = FlattenObservation(env)\n",
    "if config[\"rescale_action\"] is not None:\n",
    "    env = RescaleAction(\n",
    "        env, config[\"rescale_action\"][0], config[\"rescale_action\"][1]\n",
    "    )\n",
    "\n",
    "stepsize = config[\"stepsize\"]\n",
    "obj_function = config[\"obj_function\"]\n",
    "acquisition = config[\"acquisition\"]\n",
    "init_x = config[\"init_x\"]\n",
    "init_samples = config[\"init_samples\"]\n",
    "\n",
    "# Actual optimisation\n",
    "observation = env.reset()\n",
    "target_beam = unflatten(env.unwrapped.observation_space, observation)[\"target\"]\n",
    "done = False\n",
    "\n",
    "# Initialization\n",
    "x_dim = env.action_space.shape[0]\n",
    "if init_x is not None:  # From fix starting points\n",
    "    X = torch.tensor(init_x.reshape(-1, x_dim), dtype=torch.float32)\n",
    "else:  # Random Initialization-5.7934\n",
    "    action_i = scale_action(env, observation, config[\"filter_action\"])\n",
    "    X = torch.tensor([action_i], dtype=torch.float32)\n",
    "    bounds = get_new_bound(env, action_i, stepsize)\n",
    "    for i in range(init_samples - 1):\n",
    "        new_action = np.random.uniform(low=bounds[0], high=bounds[1]).reshape(1, -1)\n",
    "        X = torch.cat([X, torch.tensor(new_action)])\n",
    "# Sample initial Ys to build GP\n",
    "Y = torch.empty((X.shape[0], 1))\n",
    "for i, action in enumerate(X):\n",
    "    action = action.detach().numpy()\n",
    "    observation, reward, done, info = env.step(action)\n",
    "    objective = calculate_objective(env, observation, reward, obj=obj_function)\n",
    "    Y[i] = torch.tensor(objective)\n",
    "\n",
    "# Construct Prior Mean\n",
    "custom_mean = BeamNNPrior(target=torch.tensor(target_beam))\n",
    "for param in custom_mean.mlp.parameters():\n",
    "    param.requires_grad = False\n",
    "# BO Loop\n",
    "while not done:\n",
    "    current_action = X[-1].detach().numpy()\n",
    "    bounds = get_new_bound(env, current_action, stepsize)\n",
    "    action_t = get_next_samples(\n",
    "        X,\n",
    "        Y,\n",
    "        Y.max(),\n",
    "        torch.tensor(bounds, dtype=torch.float32),\n",
    "        n_points=1,\n",
    "        acquisition=acquisition,\n",
    "        mean_module=custom_mean,\n",
    "    )\n",
    "    action = action_t.detach().numpy().flatten()\n",
    "    observation, reward, done, info = env.step(action)\n",
    "    objective = calculate_objective(env, observation, reward, obj=obj_function)\n",
    "\n",
    "    # append data\n",
    "    X = torch.cat([X, action_t])\n",
    "    Y = torch.cat([Y, torch.tensor([[objective]], dtype=torch.float32)])\n"
   ]
  },
  {
   "cell_type": "code",
   "execution_count": 201,
   "metadata": {},
   "outputs": [],
   "source": [
    "observation, reward, done, info = env.step(X[Y.argmax()].detach().numpy())\n",
    "unflattened_obs = unflatten(env.unwrapped.observation_space, observation)"
   ]
  },
  {
   "cell_type": "code",
   "execution_count": 202,
   "metadata": {},
   "outputs": [
    {
     "name": "stdout",
     "output_type": "stream",
     "text": [
      "tensor(19.2606)\n"
     ]
    },
    {
     "data": {
      "image/png": "[encoded data removed]",
      "text/plain": [
       "<Figure size 640x480 with 1 Axes>"
      ]
     },
     "metadata": {},
     "output_type": "display_data"
    }
   ],
   "source": [
    "plt.plot(Y)\n",
    "print(Y.max())"
   ]
  },
  {
   "cell_type": "code",
   "execution_count": 203,
   "metadata": {},
   "outputs": [
    {
     "data": {
      "text/plain": [
       "[<matplotlib.lines.Line2D at 0x7fab2babc160>,\n",
       " <matplotlib.lines.Line2D at 0x7fab2babca30>,\n",
       " <matplotlib.lines.Line2D at 0x7fab2babca00>,\n",
       " <matplotlib.lines.Line2D at 0x7fab2babce50>,\n",
       " <matplotlib.lines.Line2D at 0x7fab2babcd60>]"
      ]
     },
     "execution_count": 203,
     "metadata": {},
     "output_type": "execute_result"
    },
    {
     "data": {
      "image/png": "[encoded data removed]",
      "text/plain": [
       "<Figure size 640x480 with 1 Axes>"
      ]
     },
     "metadata": {},
     "output_type": "display_data"
    }
   ],
   "source": [
    "plt.plot(X)"
   ]
  },
  {
   "cell_type": "markdown",
   "metadata": {},
   "source": [
    "## Try Evaluation"
   ]
  },
  {
   "cell_type": "markdown",
   "metadata": {},
   "source": []
  }
 ],
 "metadata": {
  "kernelspec": {
   "display_name": "Python 3.9.13 ('rl39')",
   "language": "python",
   "name": "python3"
  },
  "language_info": {
   "codemirror_mode": {
    "name": "ipython",
    "version": 3
   },
   "file_extension": ".py",
   "mimetype": "text/x-python",
   "name": "python",
   "nbconvert_exporter": "python",
   "pygments_lexer": "ipython3",
   "version": "3.9.13"
  },
  "orig_nbformat": 4,
  "vscode": {
   "interpreter": {
    "hash": "58689cc92d6ce00a127786fca05cd73534b5d2fd577015d561e1a642ed089a17"
   }
  }
 },
 "nbformat": 4,
 "nbformat_minor": 2
}
