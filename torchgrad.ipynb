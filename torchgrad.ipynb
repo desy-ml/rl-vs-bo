{
 "cells": [
  {
   "cell_type": "code",
   "execution_count": 73,
   "metadata": {},
   "outputs": [],
   "source": [
    "import cheetah\n",
    "from matplotlib.patches import Ellipse\n",
    "import matplotlib.pyplot as plt\n",
    "import numpy as np\n",
    "from scipy import constants\n",
    "import torch\n",
    "from torch import nn\n",
    "from torch import optim\n",
    "\n",
    "from environments.ares import ARESlatticeStage3v1_9 as lattice"
   ]
  },
  {
   "cell_type": "code",
   "execution_count": 2,
   "metadata": {},
   "outputs": [],
   "source": [
    "REST_ENERGY = torch.tensor(constants.electron_mass * constants.speed_of_light**2 / constants.elementary_charge)"
   ]
  },
  {
   "cell_type": "code",
   "execution_count": 3,
   "metadata": {},
   "outputs": [],
   "source": [
    "class AcceleratorElement(nn.Module):\n",
    "\n",
    "    def transfer_map(self, energy):\n",
    "        raise NotImplementedError\n",
    "    \n",
    "    def forward(self, energy, mu, cov):\n",
    "        R = self.transfer_map(energy)\n",
    "        mu = torch.matmul(R, mu)\n",
    "        cov = torch.matmul(R, torch.matmul(cov, R.transpose(0, 1)))\n",
    "        return mu, cov"
   ]
  },
  {
   "cell_type": "code",
   "execution_count": 4,
   "metadata": {},
   "outputs": [],
   "source": [
    "class Drift(AcceleratorElement):\n",
    "\n",
    "    def __init__(self, length):\n",
    "        super().__init__()\n",
    "        \n",
    "        self.length = torch.tensor(length)\n",
    "    \n",
    "    def transfer_map(self, energy):\n",
    "        gamma = energy / REST_ENERGY\n",
    "        igamma2 = 1 / gamma**2 if gamma != 0 else 0\n",
    "        \n",
    "        zero = torch.zeros(1).squeeze()\n",
    "        one = torch.ones(1).squeeze()\n",
    "\n",
    "        r0 = torch.stack([ one, self.length, zero,        zero, zero,                  zero, zero])\n",
    "        r1 = torch.stack([zero,         one, zero,        zero, zero,                  zero, zero])\n",
    "        r2 = torch.stack([zero,        zero,  one, self.length, zero,                  zero, zero])\n",
    "        r3 = torch.stack([zero,        zero, zero,         one, zero,                  zero, zero])\n",
    "        r4 = torch.stack([zero,        zero, zero,        zero,  one, self.length * igamma2, zero])\n",
    "        r5 = torch.stack([zero,        zero, zero,        zero, zero,                   one, zero])\n",
    "        r6 = torch.stack([zero,        zero, zero,        zero, zero,                  zero,  one])\n",
    "\n",
    "        R = torch.stack([r0, r1, r2, r3, r4, r5, r6])\n",
    "\n",
    "        return R"
   ]
  },
  {
   "cell_type": "code",
   "execution_count": 34,
   "metadata": {},
   "outputs": [],
   "source": [
    "class HorizontalSteerer(AcceleratorElement):\n",
    "\n",
    "    def __init__(self, length):\n",
    "        super().__init__()\n",
    "        \n",
    "        self.length = torch.tensor(length)\n",
    "        self.kick = nn.Parameter(torch.rand(1).squeeze())\n",
    "    \n",
    "    def transfer_map(self, energy):\n",
    "        zero = torch.zeros(1).squeeze()\n",
    "        one = torch.ones(1).squeeze()\n",
    "\n",
    "        r0 = torch.stack([ one, self.length, zero,        zero, zero, zero,      zero])\n",
    "        r1 = torch.stack([zero,         one, zero,        zero, zero, zero, self.kick])\n",
    "        r2 = torch.stack([zero,        zero,  one, self.length, zero, zero,      zero])\n",
    "        r3 = torch.stack([zero,        zero, zero,         one, zero, zero,      zero])\n",
    "        r4 = torch.stack([zero,        zero, zero,        zero,  one, zero,      zero])\n",
    "        r5 = torch.stack([zero,        zero, zero,        zero, zero,  one,      zero])\n",
    "        r6 = torch.stack([zero,        zero, zero,        zero, zero, zero,       one])\n",
    "\n",
    "        R = torch.stack([r0, r1, r2, r3, r4, r5, r6])\n",
    "\n",
    "        return R"
   ]
  },
  {
   "cell_type": "code",
   "execution_count": 35,
   "metadata": {},
   "outputs": [],
   "source": [
    "class VerticalSteerer(AcceleratorElement):\n",
    "    \n",
    "    def __init__(self, length):\n",
    "        super().__init__()\n",
    "        \n",
    "        self.length = torch.tensor(length)\n",
    "        self.kick = nn.Parameter(torch.rand(1).squeeze())\n",
    "    \n",
    "    def transfer_map(self, energy):\n",
    "        zero = torch.zeros(1).squeeze()\n",
    "        one = torch.ones(1).squeeze()\n",
    "\n",
    "        r0 = torch.stack([ one, self.length, zero,        zero, zero, zero,      zero])\n",
    "        r1 = torch.stack([zero,         one, zero,        zero, zero, zero,      zero])\n",
    "        r2 = torch.stack([zero,        zero,  one, self.length, zero, zero,      zero])\n",
    "        r3 = torch.stack([zero,        zero, zero,         one, zero, zero, self.kick])\n",
    "        r4 = torch.stack([zero,        zero, zero,        zero,  one, zero,      zero])\n",
    "        r5 = torch.stack([zero,        zero, zero,        zero, zero,  one,      zero])\n",
    "        r6 = torch.stack([zero,        zero, zero,        zero, zero, zero,       one])\n",
    "\n",
    "        R = torch.stack([r0, r1, r2, r3, r4, r5, r6])\n",
    "\n",
    "        return R"
   ]
  },
  {
   "cell_type": "code",
   "execution_count": 36,
   "metadata": {},
   "outputs": [],
   "source": [
    "class Quadrupole(AcceleratorElement):\n",
    "    \n",
    "    def __init__(self, length, misalignment=(0,0)):\n",
    "        super().__init__()\n",
    "        \n",
    "        self.length = torch.tensor(length)\n",
    "        self.k1 = nn.Parameter(torch.rand(1).squeeze())\n",
    "        self.misalignment = torch.tensor(misalignment)\n",
    "    \n",
    "    def transfer_map(self, energy):\n",
    "        gamma = energy / REST_ENERGY\n",
    "        igamma2 = 1 / gamma**2 if gamma != 0 else 0\n",
    "\n",
    "        beta = torch.sqrt(1 - igamma2)\n",
    "        \n",
    "        hx = 0\n",
    "        kx2 = self.k1 + hx**2\n",
    "        ky2 = -self.k1\n",
    "        kx = torch.sqrt(kx2 + 0.j)\n",
    "        ky = torch.sqrt(ky2 + 0.j)\n",
    "        cx = torch.cos(kx * self.length).real\n",
    "        cy = torch.cos(ky * self.length).real\n",
    "        sy = (torch.sin(ky * self.length) / ky).real if ky != 0 else self.length\n",
    "\n",
    "        if kx != 0:\n",
    "            sx = (torch.sin(kx * self.length) / kx).real\n",
    "            dx = hx / kx2 * (1. - cx)\n",
    "            r56 = hx**2 * (self.length - sx) / kx2 / beta**2\n",
    "        else:\n",
    "            sx = self.length\n",
    "            dx = self.length**2 * hx / 2\n",
    "            r56 = hx**2 * self.length**3 / 6 / beta**2\n",
    "        \n",
    "        r56 -= self.length / beta**2 * igamma2\n",
    "\n",
    "        zero = torch.zeros(1).squeeze()\n",
    "        one = torch.ones(1).squeeze()\n",
    "\n",
    "        r0 = torch.stack([            cx,        sx,      zero,  zero, zero,      dx / beta, zero])\n",
    "        r1 = torch.stack([     -kx2 * sx,        cx,      zero,  zero, zero, sx * hx / beta, zero])\n",
    "        r2 = torch.stack([          zero,      zero,        cy,    sy, zero,           zero, zero])\n",
    "        r3 = torch.stack([          zero,      zero, -ky2 * sy,    cy, zero,           zero, zero])\n",
    "        r4 = torch.stack([sx * hx / beta, dx / beta,      zero,  zero,  one,            r56, zero])\n",
    "        r5 = torch.stack([          zero,      zero,      zero,  zero, zero,            one, zero])\n",
    "        r6 = torch.stack([          zero,      zero,      zero,  zero, zero,           zero,  one])\n",
    "\n",
    "        R = torch.stack([r0, r1, r2, r3, r4, r5, r6])\n",
    "        \n",
    "        if self.misalignment[0] == 0 and self.misalignment[1] == 0:\n",
    "            return R\n",
    "        else:\n",
    "            r0 = torch.stack([ one, zero, zero, zero, zero, zero, self.misalignment[0]])\n",
    "            r1 = torch.stack([zero,  one, zero, zero, zero, zero,                 zero])\n",
    "            r2 = torch.stack([zero, zero,  one, zero, zero, zero, self.misalignment[1]])\n",
    "            r3 = torch.stack([zero, zero, zero,  one, zero, zero,                 zero])\n",
    "            r4 = torch.stack([zero, zero, zero, zero,  one, zero,                 zero])\n",
    "            r5 = torch.stack([zero, zero, zero, zero, zero,  one,                 zero])\n",
    "            r6 = torch.stack([zero, zero, zero, zero, zero, zero,                  one])\n",
    "\n",
    "            R_entry = torch.stack([r0, r1, r2, r3, r4, r5, r6])\n",
    "\n",
    "            r0 = torch.stack([ one, zero, zero, zero, zero, zero, -self.misalignment[0]])\n",
    "            r1 = torch.stack([zero,  one, zero, zero, zero, zero,                  zero])\n",
    "            r2 = torch.stack([zero, zero,  one, zero, zero, zero, -self.misalignment[1]])\n",
    "            r3 = torch.stack([zero, zero, zero,  one, zero, zero,                  zero])\n",
    "            r4 = torch.stack([zero, zero, zero, zero,  one, zero,                  zero])\n",
    "            r5 = torch.stack([zero, zero, zero, zero, zero,  one,                  zero])\n",
    "            r6 = torch.stack([zero, zero, zero, zero, zero, zero,                   one])\n",
    "\n",
    "            R_exit = torch.stack([r0, r1, r2, r3, r4, r5, r6])\n",
    "\n",
    "            R = torch.matmul(R_entry, R)\n",
    "            R = torch.matmul(R, R_exit)\n",
    "\n",
    "            return R"
   ]
  },
  {
   "cell_type": "code",
   "execution_count": 43,
   "metadata": {},
   "outputs": [],
   "source": [
    "class ExperimentalArea(nn.Module):\n",
    "\n",
    "    def __init__(self):\n",
    "        super().__init__()\n",
    "\n",
    "        self.d1 = Drift(length=0.18)\n",
    "        self.q1 = Quadrupole(length=0.12)\n",
    "        self.d2 = Drift(length=0.43)\n",
    "        self.q2 = Quadrupole(length=0.12)\n",
    "        self.d3 = Drift(length=0.20)\n",
    "        self.cv = VerticalSteerer(length=0.02)\n",
    "        self.d4 = Drift(length=0.20)\n",
    "        self.q3 = Quadrupole(length=0.12)\n",
    "        self.d5 = Drift(length=0.18)\n",
    "        self.ch = HorizontalSteerer(length=0.02)\n",
    "        self.d6 = Drift(length=0.45)\n",
    "\n",
    "        self.elements = [self.d1, self.q1, self.d2, self.q2, self.d3, self.cv, self.d4, self.q3,\n",
    "                         self.d5, self.ch, self.d6]\n",
    "\n",
    "    def forward(self, energy, mu, cov):\n",
    "        for element in self.elements:\n",
    "            mu, cov = element(energy, mu, cov)\n",
    "        sigma_x = torch.sqrt(cov[0,0])\n",
    "        sigma_y = torch.sqrt(cov[2,2])\n",
    "        achieved = torch.stack([mu[0], mu[1], sigma_x, sigma_y])\n",
    "        return achieved"
   ]
  },
  {
   "cell_type": "code",
   "execution_count": 44,
   "metadata": {},
   "outputs": [
    {
     "data": {
      "text/plain": [
       "ExperimentalArea(\n",
       "  (d1): Drift()\n",
       "  (q1): Quadrupole()\n",
       "  (d2): Drift()\n",
       "  (q2): Quadrupole()\n",
       "  (d3): Drift()\n",
       "  (cv): VerticalSteerer()\n",
       "  (d4): Drift()\n",
       "  (q3): Quadrupole()\n",
       "  (d5): Drift()\n",
       "  (ch): HorizontalSteerer()\n",
       "  (d6): Drift()\n",
       ")"
      ]
     },
     "execution_count": 44,
     "metadata": {},
     "output_type": "execute_result"
    }
   ],
   "source": [
    "model = ExperimentalArea()\n",
    "model"
   ]
  },
  {
   "cell_type": "code",
   "execution_count": 45,
   "metadata": {},
   "outputs": [],
   "source": [
    "mu_x = np.random.uniform(-3e-3, 3e-3)\n",
    "mu_xp = np.random.uniform(-1e-4, 1e-4)\n",
    "mu_y = np.random.uniform(-3e-4, 3e-4)\n",
    "mu_yp = np.random.uniform(-1e-4, 1e-4)\n",
    "\n",
    "sigma_x = np.random.uniform(0, 2e-3)\n",
    "sigma_y = np.random.uniform(0, 2e-3)\n",
    "sigma_xp = np.random.uniform(0, 1e-4)\n",
    "sigma_yp = np.random.uniform(0, 1e-4)\n",
    "sigma_s = np.random.uniform(0, 2e-3)\n",
    "sigma_p = np.random.uniform(0, 5e-3)\n",
    "\n",
    "cor_x, cor_y, cor_s = 0, 0, 0\n",
    "\n",
    "incoming_mu = torch.tensor([ mu_x, mu_xp, mu_y, mu_yp, 0, 0, 1])\n",
    "incoming_cov = torch.tensor([\n",
    "    [sigma_x**2,       cor_x,          0,           0,          0,          0, 0],\n",
    "    [     cor_x, sigma_xp**2,          0,           0,          0,          0, 0],\n",
    "    [         0,           0, sigma_y**2,       cor_y,          0,          0, 0],\n",
    "    [         0,           0,      cor_y, sigma_yp**2,          0,          0, 0],\n",
    "    [         0,           0,          0,           0, sigma_s**2,      cor_s, 0],\n",
    "    [         0,           0,          0,           0,      cor_s, sigma_p**2, 0],\n",
    "    [         0,           0,          0,           0,          0,          0, 0]\n",
    "])\n",
    "energy=np.random.uniform(80e6, 160e6)"
   ]
  },
  {
   "cell_type": "code",
   "execution_count": 42,
   "metadata": {},
   "outputs": [],
   "source": [
    "desired = torch.tensor([0.0, 0.0, 0.0, 0.0])"
   ]
  },
  {
   "cell_type": "code",
   "execution_count": 53,
   "metadata": {},
   "outputs": [],
   "source": [
    "optimizer = optim.Adam(model.parameters(), lr=1e-3)\n",
    "criterion = nn.functional.mse_loss\n",
    "\n",
    "X = incoming_mu, incoming_cov\n",
    "\n",
    "n_steps = 300\n",
    "history = []\n",
    "for i in range(n_steps):\n",
    "    y = model(energy, *X)\n",
    "    loss = criterion(y, desired)\n",
    "    \n",
    "    loss.backward()\n",
    "    optimizer.step()\n",
    "    optimizer.zero_grad()\n",
    "\n",
    "    history.append(float(loss.detach()))"
   ]
  },
  {
   "cell_type": "code",
   "execution_count": 56,
   "metadata": {},
   "outputs": [
    {
     "data": {
      "image/png": "[encoded data removed]",
      "text/plain": [
       "<Figure size 432x288 with 1 Axes>"
      ]
     },
     "metadata": {
      "needs_background": "light"
     },
     "output_type": "display_data"
    }
   ],
   "source": [
    "plt.title(\"\\\"Trained\\\" with MSE Loss\")\n",
    "plt.plot(history)\n",
    "plt.xlabel(\"Step\")\n",
    "plt.ylabel(\"MSE Loss\")\n",
    "plt.grid()\n",
    "plt.show()"
   ]
  },
  {
   "cell_type": "code",
   "execution_count": 76,
   "metadata": {},
   "outputs": [
    {
     "name": "stdout",
     "output_type": "stream",
     "text": [
      "WARNING: Diagnostic screen was converted with default screen properties.\n",
      "Desired: tensor([0., 0., 0., 0.])\n",
      "Achieved (model): tensor([ 0.0018, -0.0008,  0.0012,  0.0023], grad_fn=<StackBackward>)\n",
      "Achieved (Cheetah): [0.001813960261642933, 0.10258275270462036, 0.0012051595840603113, 0.0023476004134863615]\n"
     ]
    },
    {
     "data": {
      "image/png": "[encoded data removed]",
      "text/plain": [
       "<Figure size 432x288 with 1 Axes>"
      ]
     },
     "metadata": {
      "needs_background": "light"
     },
     "output_type": "display_data"
    }
   ],
   "source": [
    "cell = cheetah.utils.subcell_of(lattice.cell, \"AREASOLA1\", \"AREABSCR1\")\n",
    "segment = cheetah.Segment.from_ocelot(cell)\n",
    "segment.AREABSCR1.resolution = (2448, 2040)\n",
    "segment.AREABSCR1.pixel_size = (3.3198e-6, 2.4469e-6)\n",
    "segment.AREABSCR1.is_active = True\n",
    "segment.AREABSCR1.binning = 4\n",
    "\n",
    "incoming_beam = cheetah.Beam.make_random(\n",
    "    n=int(1e5),\n",
    "    mu_x=float(incoming_mu[0]),\n",
    "    mu_xp=float(incoming_mu[1]),\n",
    "    mu_y=float(incoming_mu[2]),\n",
    "    mu_yp=float(incoming_mu[3]),\n",
    "    sigma_x=float(torch.sqrt(incoming_cov[0,0])),\n",
    "    sigma_xp=float(torch.sqrt(incoming_cov[1,1])),\n",
    "    sigma_y=float(torch.sqrt(incoming_cov[2,2])),\n",
    "    sigma_yp=float(torch.sqrt(incoming_cov[3,3])),\n",
    "    sigma_s=float(torch.sqrt(incoming_cov[4,4])),\n",
    "    sigma_p=float(torch.sqrt(incoming_cov[5,5])),\n",
    "    energy=energy\n",
    ")\n",
    "\n",
    "segment.AREAMQZM1.k1 = float(model.q1.k1)\n",
    "segment.AREAMQZM2.k1 = float(model.q2.k1)\n",
    "segment.AREAMCVM1.angle = float(model.cv.kick)\n",
    "segment.AREAMQZM3.k1 = float(model.q3.k1)\n",
    "segment.AREAMCHM1.k1 = float(model.ch.kick)\n",
    "\n",
    "_ = segment(incoming_beam)\n",
    "\n",
    "print(f\"Desired: {desired}\")\n",
    "print(f\"Achieved (model): {y}\")\n",
    "print(f\"Achieved (Cheetah): {[segment.AREABSCR1.read_beam.mu_x, segment.AREABSCR1.read_beam.mu_y, segment.AREABSCR1.read_beam.sigma_x, segment.AREABSCR1.read_beam.sigma_y,]}\")\n",
    "\n",
    "plt.title(\"Cheetah Simulation with Found Parameters\")\n",
    "plt.imshow(segment.AREABSCR1.reading, interpolation=\"None\", extent=segment.AREABSCR1.extent)\n",
    "plt.plot(segment.AREABSCR1.read_beam.mu_x, segment.AREABSCR1.read_beam.mu_y, c=\"orange\", marker=\"x\")\n",
    "plt.gca().add_patch(Ellipse(\n",
    "    (segment.AREABSCR1.read_beam.mu_x,segment.AREABSCR1.read_beam.mu_y),\n",
    "    segment.AREABSCR1.read_beam.sigma_x,\n",
    "    segment.AREABSCR1.read_beam.sigma_y,\n",
    "    fill=False,\n",
    "    color=\"orange\",\n",
    "    linestyle=\"--\"\n",
    "))\n",
    "plt.show()"
   ]
  },
  {
   "cell_type": "code",
   "execution_count": 64,
   "metadata": {},
   "outputs": [
    {
     "data": {
      "text/plain": [
       "0.7411010265350342"
      ]
     },
     "execution_count": 64,
     "metadata": {},
     "output_type": "execute_result"
    }
   ],
   "source": [
    "float(model.q1.k1)"
   ]
  }
 ],
 "metadata": {
  "interpreter": {
   "hash": "cb0c3e2128e3ec31ec0d90a83c3ce95af788e3d47340cfb20bbf06ca38505d8f"
  },
  "kernelspec": {
   "display_name": "Python 3.7.11 64-bit ('rl37': conda)",
   "name": "python3"
  },
  "language_info": {
   "codemirror_mode": {
    "name": "ipython",
    "version": 3
   },
   "file_extension": ".py",
   "mimetype": "text/x-python",
   "name": "python",
   "nbconvert_exporter": "python",
   "pygments_lexer": "ipython3",
   "version": "3.7.11"
  }
 },
 "nbformat": 4,
 "nbformat_minor": 4
}
