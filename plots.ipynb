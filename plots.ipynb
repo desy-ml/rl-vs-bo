{
 "cells": [
  {
   "cell_type": "code",
   "execution_count": 1,
   "metadata": {},
   "outputs": [],
   "source": [
    "import matplotlib.pyplot as plt\n",
    "import numpy as np\n",
    "import pandas as pd\n",
    "import seaborn as sns\n",
    "\n",
    "from environments.simulation import ExperimentalArea"
   ]
  },
  {
   "cell_type": "code",
   "execution_count": 2,
   "metadata": {},
   "outputs": [],
   "source": [
    "inches_per_point = 1 / 72.27\n",
    "textwidth = 487.8225\n",
    "\n",
    "tex_fonts = {\n",
    "    # Use LaTeX to write all text\n",
    "    # \"text.usetex\": True,\n",
    "    # \"font.family\": \"serif\",\n",
    "    # Use 10pt font in plots, to match 10pt font in document\n",
    "    \"axes.labelsize\": 6,\n",
    "    \"font.size\": 6,\n",
    "    # Make the legend/label fonts a little smaller\n",
    "    \"legend.fontsize\": 6,\n",
    "    \"xtick.labelsize\": 6,\n",
    "    \"ytick.labelsize\": 6\n",
    "}\n",
    "plt.rcParams.update(tex_fonts)\n",
    "\n",
    "# plt.rc(\"font\", family=\"serif\")\n",
    "# plt.rc(\"xtick\", labelsize=\"x-small\")\n",
    "# plt.rc(\"ytick\", labelsize=\"x-small\")"
   ]
  },
  {
   "cell_type": "code",
   "execution_count": 31,
   "metadata": {},
   "outputs": [],
   "source": [
    "df = pd.read_pickle(\"machine_studies/polished-donkey-996_000_20211202155327.pkl\")"
   ]
  },
  {
   "cell_type": "code",
   "execution_count": 32,
   "metadata": {},
   "outputs": [],
   "source": [
    "tmp = df[\"q3\"].copy()\n",
    "df[\"q3\"] = df[\"cv\"].copy()\n",
    "df[\"cv\"] = tmp"
   ]
  },
  {
   "cell_type": "code",
   "execution_count": 33,
   "metadata": {},
   "outputs": [],
   "source": [
    "# Compute MAE\n",
    "df[\"delta_mu_x\"] = np.abs(df[\"mup_x\"] - df[\"mu_x\"])\n",
    "df[\"delta_mu_y\"] = np.abs(df[\"mup_y\"] - df[\"mu_y\"])\n",
    "df[\"delta_sigma_x\"] = np.abs(df[\"sigmap_x\"] - df[\"sigma_x\"])\n",
    "df[\"delta_sigma_y\"] = np.abs(df[\"sigmap_y\"] - df[\"sigma_y\"])\n",
    "df[\"mae\"] = (df[\"delta_mu_x\"] + df[\"delta_mu_y\"] + df[\"delta_sigma_x\"] + df[\"delta_sigma_y\"]) / 4"
   ]
  },
  {
   "cell_type": "code",
   "execution_count": 44,
   "metadata": {},
   "outputs": [
    {
     "data": {
      "image/png": "[encoded data removed]",
      "text/plain": [
       "<Figure size 486x121.5 with 6 Axes>"
      ]
     },
     "metadata": {},
     "output_type": "display_data"
    }
   ],
   "source": [
    "def plot_screens(df):\n",
    "    df = df.copy()\n",
    "    fig, ax = plt.subplots(1, 6, figsize=(textwidth*inches_per_point,textwidth*inches_per_point/4))\n",
    "        \n",
    "    extent = np.array(ExperimentalArea()._segment.AREABSCR1.extent) * 1000\n",
    "    for (i, sample), ax in zip(enumerate([0, 1, 2, 3, 4, 30]), ax):\n",
    "        img = df.loc[sample,\"beam_image\"].copy()\n",
    "        vmax = df.iloc[-1][\"beam_image\"].max()\n",
    "        # img[img < 0.01*vmax] = np.nan\n",
    "        ax.set_title(sample)\n",
    "        ax.imshow(img, vmin=0, vmax=vmax, extent=extent, cmap=\"coolwarm\", interpolation=\"none\")\n",
    "        history_color = \"greenyellow\"\n",
    "        ax.plot(df.loc[:sample,\"mu_x\"]*1000, df.loc[:sample,\"mu_y\"]*1000, c=history_color, ls=\"--\", lw=1)\n",
    "        # if sample > 0:\n",
    "        #     ax.arrow(\n",
    "        #         (df.loc[sample-1,\"mu_x\"]) * 1000,\n",
    "        #         (df.loc[sample-1,\"mu_y\"]) * 1000,\n",
    "        #         (df.loc[sample,\"mu_x\"]-df.loc[sample-1,\"mu_x\"]) * 1000,\n",
    "        #         (df.loc[sample,\"mu_y\"]-df.loc[sample-1,\"mu_y\"]) * 1000,\n",
    "        #         color=history_color,\n",
    "        #         head_width=0.1,\n",
    "        #         length_includes_head=True\n",
    "        #     )\n",
    "        ax.set_xticklabels([])\n",
    "        ax.set_yticklabels([])\n",
    "        ax.set_xticks([])\n",
    "        ax.set_yticks([])\n",
    "        # plt.grid(ls=\"--\")\n",
    "        ax.set_xlim(-2, 2)\n",
    "        ax.set_ylim(-1, 1)\n",
    "    fig.tight_layout(pad=0)\n",
    "    \n",
    "    return fig\n",
    "\n",
    "plot_screens(df)\n",
    "plt.savefig(\"plots/screens.pdf\", dpi=300, bbox_inches=\"tight\")\n",
    "plt.savefig(\"plots/screens.png\", dpi=300, bbox_inches=\"tight\")\n",
    "plt.show()"
   ]
  },
  {
   "cell_type": "code",
   "execution_count": 45,
   "metadata": {},
   "outputs": [
    {
     "data": {
      "image/png": "[encoded data removed]",
      "text/plain": [
       "<Figure size 218.7x131.22 with 2 Axes>"
      ]
     },
     "metadata": {
      "needs_background": "light"
     },
     "output_type": "display_data"
    }
   ],
   "source": [
    "def plot_actuators(df):\n",
    "    df = df.copy()\n",
    "    fig, ax0 = plt.subplots(figsize=(0.45*textwidth*inches_per_point,0.45*0.6*textwidth*inches_per_point))\n",
    "\n",
    "    df.rename(columns={\"step\": \"Step\"}, inplace=True)\n",
    "    sns.lineplot(data=df.set_index(\"Step\")[[\"q1\",\"q2\",\"q3\"]], legend=False, ax=ax0)\n",
    "    # for step in [0, 1, 2, 3, 4, 30]:\n",
    "    #     ax0.axvline(step, c=\"tab:gray\", alpha=0.4, lw=1)\n",
    "    ax0.set_axisbelow(True)\n",
    "    ax0.set_xlim(0, None)\n",
    "    ax0.set_ylim(-16, 16)\n",
    "    ax0.set_ylabel(\"Quadrupole Strength ($1/m^2$)\")\n",
    "    ax1 = plt.twinx()\n",
    "    df[\"Q1\"] = np.nan\n",
    "    df[\"Q2\"] = np.nan\n",
    "    df[\"Q3\"] = np.nan\n",
    "    df[[\"cv\",\"ch\"]] *= 1000\n",
    "    df.rename(columns={\"cv\": \"Cv\", \"ch\": \"Ch\"}, inplace=True)\n",
    "    sns.lineplot(data=df.set_index(\"Step\")[[\"Q1\",\"Q2\",\"Q3\",\"Cv\",\"Ch\"]], ax=ax1)\n",
    "    ax1.set_ylim(-3.1, 3.1)\n",
    "    ax1.set_ylabel(\"Steerer Kick (mrad)\")\n",
    "    ax1.legend(loc=(0.38,0.15), ncol=2)\n",
    "    return fig\n",
    "\n",
    "plot_actuators(df)\n",
    "plt.savefig(\"plots/actuators.pdf\", dpi=300, bbox_inches=\"tight\")\n",
    "plt.savefig(\"plots/actuators.png\", dpi=300, bbox_inches=\"tight\")\n",
    "plt.show()"
   ]
  },
  {
   "cell_type": "code",
   "execution_count": 46,
   "metadata": {},
   "outputs": [
    {
     "data": {
      "image/png": "[encoded data removed]",
      "text/plain": [
       "<Figure size 218.7x131.22 with 2 Axes>"
      ]
     },
     "metadata": {
      "needs_background": "light"
     },
     "output_type": "display_data"
    }
   ],
   "source": [
    "def plot_objective(df):\n",
    "    df = df.copy()\n",
    "\n",
    "    df.rename(columns={\"step\": \"Step\"}, inplace=True)\n",
    "    df[\"Reward\"] = df[\"reward\"].apply(lambda x: float(x))\n",
    "    df[\"Cumulative Reward\"] = np.nan\n",
    "    df[\"cumulative_reward\"] = np.nan\n",
    "    df.sort_index(inplace=True)\n",
    "    for i in range(len(df)):\n",
    "        df.loc[i,\"cumulative_reward\"] = df.loc[:i+1,\"Reward\"].sum()\n",
    "\n",
    "    fig, ax0 = plt.subplots(figsize=(0.45*textwidth*inches_per_point,0.45*0.6*textwidth*inches_per_point))\n",
    "    df[\"mae\"] *= 1000\n",
    "    df.rename(columns={\"mae\": \"Mean Absolute Error (mm)\"}, inplace=True)\n",
    "    sns.lineplot(data=df.set_index(\"Step\")[[\"Mean Absolute Error (mm)\",\"Cumulative Reward\"]], ax=ax0)\n",
    "    # plt.grid(ls=\"--\")\n",
    "    ax0.set_xlim(0, None)\n",
    "    ax0.set_ylabel(\"Objective\")\n",
    "    ax0.legend(loc=\"center\")\n",
    "    ax0.set_axisbelow(True)\n",
    "    # for step in [0, 1, 2, 3, 4, 30]:\n",
    "    #     ax0.axvline(step, c=\"tab:gray\", alpha=0.4, lw=1)\n",
    "    ax1 = plt.twinx()\n",
    "    sns.lineplot(data=df.set_index(\"Step\")[[\"Cumulative Reward\",\"cumulative_reward\"]], ax=ax1, legend=False)\n",
    "    ax1.set_ylabel(\"Cumulative Reward\")\n",
    "    \n",
    "    return fig\n",
    "\n",
    "plot_objective(df)\n",
    "plt.savefig(\"plots/objective_and_cumulative_reward.pdf\", dpi=300, bbox_inches=\"tight\")\n",
    "plt.savefig(\"plots/objective_and_cumulative_reward.png\", dpi=300, bbox_inches=\"tight\")\n",
    "plt.show()"
   ]
  },
  {
   "cell_type": "code",
   "execution_count": 3,
   "metadata": {},
   "outputs": [],
   "source": [
    "dfopa = pd.read_pickle(\"machine_studies/summary_operatorsvsagents.pkl\")\n",
    "\n",
    "# Compute MAE\n",
    "dfopa[\"delta_mu_x\"] = np.abs(dfopa[\"mup_x\"] - dfopa[\"mu_x\"])\n",
    "dfopa[\"delta_mu_y\"] = np.abs(dfopa[\"mup_y\"] - dfopa[\"mu_y\"])\n",
    "dfopa[\"delta_sigma_x\"] = np.abs(dfopa[\"sigmap_x\"] - dfopa[\"sigma_x\"])\n",
    "dfopa[\"delta_sigma_y\"] = np.abs(dfopa[\"sigmap_y\"] - dfopa[\"sigma_y\"])\n",
    "dfopa[\"mae\"] = (dfopa[\"delta_mu_x\"] + dfopa[\"delta_mu_y\"] + dfopa[\"delta_sigma_x\"] + dfopa[\"delta_sigma_y\"]) / 4"
   ]
  },
  {
   "cell_type": "code",
   "execution_count": 4,
   "metadata": {},
   "outputs": [],
   "source": [
    "hannes = dfopa[dfopa[\"model\"] == \"Hannes\"].set_index(\"step\").loc[100:2700].reset_index()\n",
    "hannes[\"step\"] = hannes[\"step\"] - 100\n",
    "willi = dfopa[dfopa[\"model\"] == \"Willi\"].set_index(\"step\").loc[185:2500].reset_index()\n",
    "willi[\"step\"] = willi[\"step\"] - 185\n",
    "\n",
    "polished_donkey = dfopa[dfopa[\"model\"] == \"polished-donkey-996\"].copy()\n",
    "polar_lake = dfopa[dfopa[\"model\"] == \"polar-lake-997\"].copy()\n",
    "still_deluge = dfopa[dfopa[\"model\"] == \"still-deluge-998\"].copy()\n",
    "\n",
    "est_dtoper = 0.5\n",
    "est_dtagent = 10\n",
    "\n",
    "hannes[\"estimated_t\"] = hannes[\"step\"] * est_dtoper\n",
    "willi[\"estimated_t\"] = willi[\"step\"] * est_dtoper\n",
    "polished_donkey[\"estimated_t\"] = polished_donkey[\"step\"] * est_dtagent\n",
    "polar_lake[\"estimated_t\"] = polar_lake[\"step\"] * est_dtagent\n",
    "still_deluge[\"estimated_t\"] = still_deluge[\"step\"] * est_dtagent\n",
    "\n",
    "hannes[\"model\"] = \"Operator 1\"\n",
    "willi[\"model\"] = \"Operator 2\"\n",
    "polished_donkey[\"model\"] = \"Agent 1\"\n",
    "polar_lake[\"model\"] = \"Agent 2\"\n",
    "still_deluge[\"model\"] = \"Agent 3\"\n",
    "\n",
    "dfopa2 = pd.concat([hannes, willi, polished_donkey, polar_lake, still_deluge], ignore_index=True)\n",
    "\n",
    "dfopa2[\"Time (min)\"] = dfopa2[\"estimated_t\"] / 60\n",
    "\n",
    "op1mae = dfopa2.loc[dfopa2[\"model\"] == \"Operator 1\",[\"mae\",\"Time (min)\"]].set_index(\"Time (min)\").rename(columns={\"mae\": \"Operator 1\"})\n",
    "op2mae = dfopa2.loc[dfopa2[\"model\"] == \"Operator 2\",[\"mae\",\"Time (min)\"]].set_index(\"Time (min)\").rename(columns={\"mae\": \"Operator 2\"})\n",
    "ag1mae = dfopa2.loc[dfopa2[\"model\"] == \"Agent 1\",[\"mae\",\"Time (min)\"]].set_index(\"Time (min)\").rename(columns={\"mae\": \"Agent 1\"})\n",
    "ag2mae = dfopa2.loc[dfopa2[\"model\"] == \"Agent 2\",[\"mae\",\"Time (min)\"]].set_index(\"Time (min)\").rename(columns={\"mae\": \"Agent 2\"})\n",
    "ag3mae = dfopa2.loc[dfopa2[\"model\"] == \"Agent 3\",[\"mae\",\"Time (min)\"]].set_index(\"Time (min)\").rename(columns={\"mae\": \"Agent 3\"})\n",
    "opvsagmae = pd.concat([op1mae, op2mae, ag1mae, ag2mae, ag3mae], axis=1) * 1000"
   ]
  },
  {
   "cell_type": "code",
   "execution_count": 9,
   "metadata": {},
   "outputs": [
    {
     "data": {
      "image/png": "[encoded data removed]",
      "text/plain": [
       "<Figure size 243x145.8 with 1 Axes>"
      ]
     },
     "metadata": {
      "needs_background": "light"
     },
     "output_type": "display_data"
    }
   ],
   "source": [
    "plt.figure(figsize=(0.5*textwidth*inches_per_point,0.5*0.6*textwidth*inches_per_point))\n",
    "sns.lineplot(data=opvsagmae)\n",
    "plt.xlim(0, None)\n",
    "plt.ylim(0, None)\n",
    "plt.ylabel(\"Mean Absolute Error (mm)\")\n",
    "plt.tight_layout()\n",
    "plt.savefig(\"plots/operators_vs_agents_mae.pdf\", dpi=300, bbox_inches=\"tight\")\n",
    "plt.savefig(\"plots/operators_vs_agents_mae.png\", dpi=300, bbox_inches=\"tight\")\n",
    "plt.show()"
   ]
  },
  {
   "cell_type": "code",
   "execution_count": null,
   "metadata": {},
   "outputs": [],
   "source": []
  }
 ],
 "metadata": {
  "interpreter": {
   "hash": "c52a148f042e18d735c6c9f66b6910136f20093b56325d8390c2dc5c9d3fe4fb"
  },
  "kernelspec": {
   "display_name": "Python 3.9.7 64-bit ('rl39': conda)",
   "language": "python",
   "name": "python3"
  },
  "language_info": {
   "codemirror_mode": {
    "name": "ipython",
    "version": 3
   },
   "file_extension": ".py",
   "mimetype": "text/x-python",
   "name": "python",
   "nbconvert_exporter": "python",
   "pygments_lexer": "ipython3",
   "version": "3.9.7"
  },
  "orig_nbformat": 4
 },
 "nbformat": 4,
 "nbformat_minor": 2
}
