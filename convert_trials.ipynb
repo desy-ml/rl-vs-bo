{
 "cells": [
  {
   "cell_type": "code",
   "execution_count": 6,
   "metadata": {},
   "outputs": [],
   "source": [
    "import json\n",
    "import yaml\n",
    "\n",
    "from eval_bo_sim import (\n",
    "    convert_incoming_from_problem,\n",
    "    convert_misalignments_from_problem,\n",
    "    convert_target_from_problem,\n",
    ")\n"
   ]
  },
  {
   "cell_type": "code",
   "execution_count": 3,
   "metadata": {},
   "outputs": [],
   "source": [
    "with open(\"problems.json\", \"r\") as f:\n",
    "    problems = json.load(f)\n"
   ]
  },
  {
   "cell_type": "code",
   "execution_count": 15,
   "metadata": {},
   "outputs": [],
   "source": [
    "def problem2trial(problem: dict) -> dict:\n",
    "    trial = {}\n",
    "\n",
    "    trial[\"target\"] = {\n",
    "        \"mu_x\": problem[\"desired\"][0],\n",
    "        \"sigma_x\": problem[\"desired\"][2],\n",
    "        \"mu_y\": problem[\"desired\"][1],\n",
    "        \"sigma_y\": problem[\"desired\"][3],\n",
    "    }\n",
    "    trial[\"incoming\"] = problem[\"incoming\"]\n",
    "    trial[\"misalignments\"] = {\n",
    "        \"q1_x\": problem[\"misalignments\"][0],\n",
    "        \"q1_y\": problem[\"misalignments\"][1],\n",
    "        \"q2_x\": problem[\"misalignments\"][2],\n",
    "        \"q2_y\": problem[\"misalignments\"][3],\n",
    "        \"q3_x\": problem[\"misalignments\"][4],\n",
    "        \"q3_y\": problem[\"misalignments\"][5],\n",
    "        \"screen_x\": problem[\"misalignments\"][6],\n",
    "        \"screen_y\": problem[\"misalignments\"][7],\n",
    "    }\n",
    "    trial[\"initial\"] = {\n",
    "        \"q1\": problem[\"initial\"][0],\n",
    "        \"q2\": problem[\"initial\"][1],\n",
    "        \"cv\": problem[\"initial\"][3],\n",
    "        \"q3\": problem[\"initial\"][2],\n",
    "        \"ch\": problem[\"initial\"][4],\n",
    "    }\n",
    "\n",
    "    return trial"
   ]
  },
  {
   "cell_type": "code",
   "execution_count": 19,
   "metadata": {},
   "outputs": [],
   "source": [
    "trials = {i: problem2trial(problem) for i, problem in enumerate(problems)}"
   ]
  },
  {
   "cell_type": "code",
   "execution_count": 24,
   "metadata": {},
   "outputs": [],
   "source": [
    "with open(\"trials.yaml\", \"w\") as f:\n",
    "    f.write(yaml.dump(trials))"
   ]
  },
  {
   "cell_type": "code",
   "execution_count": null,
   "metadata": {},
   "outputs": [],
   "source": []
  }
 ],
 "metadata": {
  "kernelspec": {
   "display_name": "rl39",
   "language": "python",
   "name": "python3"
  },
  "language_info": {
   "codemirror_mode": {
    "name": "ipython",
    "version": 3
   },
   "file_extension": ".py",
   "mimetype": "text/x-python",
   "name": "python",
   "nbconvert_exporter": "python",
   "pygments_lexer": "ipython3",
   "version": "3.9.15"
  },
  "orig_nbformat": 4,
  "vscode": {
   "interpreter": {
    "hash": "343fe3b89e2d7877d61a0509fd880204236e5c07449e4c121f53f2530ef83fc9"
   }
  }
 },
 "nbformat": 4,
 "nbformat_minor": 2
}
