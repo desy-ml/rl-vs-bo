{
 "cells": [
  {
   "cell_type": "code",
   "execution_count": 1,
   "metadata": {},
   "outputs": [],
   "source": [
    "import json\n",
    "\n",
    "import numpy as np\n",
    "\n",
    "from environments import ARESEAOptimization"
   ]
  },
  {
   "cell_type": "code",
   "execution_count": 2,
   "metadata": {},
   "outputs": [
    {
     "data": {
      "text/plain": [
       "{'initial': [-13.055176734924316,\n",
       "  -8.750419616699219,\n",
       "  -8.837950706481934,\n",
       "  -0.002660162979736924,\n",
       "  -0.005421869922429323],\n",
       " 'incoming': {'mu_x': 0.00034758623223751783,\n",
       "  'mu_xp': -2.2784792236052454e-05,\n",
       "  'mu_y': 0.0006461531156674027,\n",
       "  'mu_yp': -4.061725485371426e-05,\n",
       "  'sigma_x': 0.00039956343243829906,\n",
       "  'sigma_xp': 4.662976789404638e-05,\n",
       "  'sigma_y': 0.00013723562005907297,\n",
       "  'sigma_yp': 4.077742778463289e-05,\n",
       "  'sigma_s': 4.245071067998651e-06,\n",
       "  'sigma_p': 0.0006848658085800707,\n",
       "  'energy': 88360138.74539271},\n",
       " 'misalignments': [0.00030332794444860937,\n",
       "  -9.165473295911738e-05,\n",
       "  0.0002989406864419548,\n",
       "  0.00021716449688990183,\n",
       "  0.00023741136133197468,\n",
       "  0.00027442377268954195,\n",
       "  0.00037427117235767975,\n",
       "  -4.5894708293436914e-05],\n",
       " 'desired': [0.0, 0.0, 0.0, 0.0]}"
      ]
     },
     "execution_count": 2,
     "metadata": {},
     "output_type": "execute_result"
    }
   ],
   "source": [
    "with open(\"problems_3.json\", \"r\") as f:\n",
    "    problems = json.load(f)\n",
    "\n",
    "problem = problems[0]\n",
    "problem"
   ]
  },
  {
   "cell_type": "code",
   "execution_count": 3,
   "metadata": {},
   "outputs": [
    {
     "data": {
      "text/plain": [
       "<environments.optimization.ARESEAOptimization at 0x7fe9d2e1f910>"
      ]
     },
     "execution_count": 3,
     "metadata": {},
     "output_type": "execute_result"
    }
   ],
   "source": [
    "env = ARESEAOptimization(backendargs={\"measure_beam\": \"us\"})\n",
    "env"
   ]
  },
  {
   "cell_type": "code",
   "execution_count": 4,
   "metadata": {},
   "outputs": [
    {
     "name": "stdout",
     "output_type": "stream",
     "text": [
      "Param compute method -> pixel_size = array([1.32792e-05, 9.78760e-06])\n",
      "In env self.achieved = array([-0.00017263,  0.00156602,  0.00020299,  0.00024937])\n",
      "[ 1.00000000e+01 -1.00000000e+01  1.00000000e+01  0.00000000e+00\n",
      "  0.00000000e+00  0.00000000e+00  0.00000000e+00  0.00000000e+00\n",
      "  0.00000000e+00 -1.72629600e-04  1.56601600e-03  2.02994140e-04\n",
      "  2.49365605e-04]\n",
      "[-0.00017263  0.00156602  0.00020299  0.00024937]\n"
     ]
    }
   ],
   "source": [
    "env.next_desired = problem[\"desired\"]\n",
    "# env.next_initial = problem[\"initial\"]\n",
    "env.next_initial = np.array([10.0, -10.0, 10.0, 0.0, 0.0])\n",
    "env.backend.next_misalignments = problem[\"misalignments\"]\n",
    "env.backend.next_incoming = problem[\"incoming\"]\n",
    "\n",
    "observation = env.reset()\n",
    "print(observation)\n",
    "print(observation[-4:])"
   ]
  },
  {
   "cell_type": "code",
   "execution_count": 5,
   "metadata": {},
   "outputs": [
    {
     "data": {
      "text/plain": [
       "ParameterBeam(mu_x=-0.000176, mu_xp=-0.000101, mu_y=0.001560, mu_yp=0.000716, sigma_x=0.000228, sigma_xp=0.000269, sigma_y=0.000269, sigma_yp=0.000129, sigma_s=0.000004, sigma_p=0.000685, energy=88360138.745)"
      ]
     },
     "execution_count": 5,
     "metadata": {},
     "output_type": "execute_result"
    }
   ],
   "source": [
    "env.backend._segment.AREABSCR1.read_beam"
   ]
  },
  {
   "cell_type": "code",
   "execution_count": 6,
   "metadata": {},
   "outputs": [
    {
     "data": {
      "text/plain": [
       "4"
      ]
     },
     "execution_count": 6,
     "metadata": {},
     "output_type": "execute_result"
    }
   ],
   "source": [
    "env.backend.binning"
   ]
  },
  {
   "cell_type": "code",
   "execution_count": 7,
   "metadata": {},
   "outputs": [
    {
     "data": {
      "text/plain": [
       "ParameterBeam(mu_x=-0.000176, mu_xp=-0.000101, mu_y=0.001560, mu_yp=0.000716, sigma_x=0.000228, sigma_xp=0.000269, sigma_y=0.000269, sigma_yp=0.000129, sigma_s=0.000004, sigma_p=0.000685, energy=88360138.745)"
      ]
     },
     "execution_count": 7,
     "metadata": {},
     "output_type": "execute_result"
    }
   ],
   "source": [
    "env.backend._segment.AREABSCR1.read_beam"
   ]
  },
  {
   "cell_type": "code",
   "execution_count": 8,
   "metadata": {},
   "outputs": [
    {
     "data": {
      "text/plain": [
       "ParameterBeam(mu_x=0.000348, mu_xp=-0.000023, mu_y=0.000646, mu_yp=-0.000041, sigma_x=0.000400, sigma_xp=0.000047, sigma_y=0.000137, sigma_yp=0.000041, sigma_s=0.000004, sigma_p=0.000685, energy=88360138.745)"
      ]
     },
     "execution_count": 8,
     "metadata": {},
     "output_type": "execute_result"
    }
   ],
   "source": [
    "env.backend._incoming"
   ]
  },
  {
   "cell_type": "code",
   "execution_count": 9,
   "metadata": {},
   "outputs": [
    {
     "data": {
      "text/plain": [
       "[0.00030332794444860937,\n",
       " -9.165473295911738e-05,\n",
       " 0.0002989406864419548,\n",
       " 0.00021716449688990183,\n",
       " 0.00023741136133197468,\n",
       " 0.00027442377268954195,\n",
       " 0.00037427117235767975,\n",
       " -4.5894708293436914e-05]"
      ]
     },
     "execution_count": 9,
     "metadata": {},
     "output_type": "execute_result"
    }
   ],
   "source": [
    "env.backend.misalignments"
   ]
  },
  {
   "cell_type": "code",
   "execution_count": 10,
   "metadata": {},
   "outputs": [
    {
     "data": {
      "text/plain": [
       "array([ 10., -10.,  10.,   0.,   0.])"
      ]
     },
     "execution_count": 10,
     "metadata": {},
     "output_type": "execute_result"
    }
   ],
   "source": [
    "env.backend.actuators"
   ]
  },
  {
   "cell_type": "code",
   "execution_count": 12,
   "metadata": {},
   "outputs": [
    {
     "data": {
      "text/plain": [
       "(-0.0040634352, 0.0040634352, -0.002495838, 0.002495838)"
      ]
     },
     "execution_count": 12,
     "metadata": {},
     "output_type": "execute_result"
    }
   ],
   "source": [
    "env.backend._segment.AREABSCR1.extent"
   ]
  },
  {
   "cell_type": "code",
   "execution_count": 11,
   "metadata": {},
   "outputs": [
    {
     "data": {
      "image/png": "[encoded data removed]",
      "text/plain": [
       "<Figure size 1440x1152 with 1 Axes>"
      ]
     },
     "metadata": {
      "needs_background": "light"
     },
     "output_type": "display_data"
    }
   ],
   "source": [
    "import matplotlib.pyplot as plt\n",
    "from matplotlib.patches import Ellipse\n",
    "plt.figure(figsize=(20,16))\n",
    "plt.imshow(env.backend._segment.AREABSCR1.reading, extent=env.backend._segment.AREABSCR1.extent)\n",
    "e = Ellipse((observation[-4],observation[-3]), observation[-2], observation[-1], ls=\"--\", fill=False, color=\"red\")\n",
    "plt.gca().add_patch(e)\n",
    "e2 = Ellipse((env.backend._segment.AREABSCR1.read_beam.mu_x,env.backend._segment.AREABSCR1.read_beam.mu_y), env.backend._segment.AREABSCR1.read_beam.sigma_x, env.backend._segment.AREABSCR1.read_beam.sigma_y, ls=\"dotted\", fill=False, color=\"blue\")\n",
    "plt.gca().add_patch(e2)\n",
    "plt.show()"
   ]
  },
  {
   "cell_type": "code",
   "execution_count": null,
   "metadata": {},
   "outputs": [],
   "source": []
  },
  {
   "cell_type": "code",
   "execution_count": null,
   "metadata": {},
   "outputs": [],
   "source": []
  },
  {
   "cell_type": "code",
   "execution_count": 1,
   "metadata": {},
   "outputs": [],
   "source": [
    "from gym.wrappers import RescaleAction\n",
    "import json\n",
    "import numpy as np\n",
    "import matplotlib.pyplot as plt\n",
    "import pandas as pd\n",
    "from scipy.optimize import Bounds, minimize\n",
    "from tqdm import tqdm\n",
    "\n",
    "from environments import ARESEAOptimization, ResetActuatorsToDFD"
   ]
  },
  {
   "cell_type": "code",
   "execution_count": 2,
   "metadata": {},
   "outputs": [],
   "source": [
    "def pack_dataframe(fn):\n",
    "    def wrapper(env, problem=None):\n",
    "        observations, incoming, misalignments = fn(env, problem=problem)\n",
    "        observations = np.array(observations)\n",
    "\n",
    "        df = pd.DataFrame(np.arange(len(observations)), columns=[\"step\"])\n",
    "        df[\"q1\"] = observations[:,0]\n",
    "        df[\"q2\"] = observations[:,1]\n",
    "        df[\"q3\"] = observations[:,2]\n",
    "        df[\"cv\"] = observations[:,3]\n",
    "        df[\"ch\"] = observations[:,4]\n",
    "        df[\"mup_x\"] = observations[:,5]\n",
    "        df[\"mup_y\"] = observations[:,6]\n",
    "        df[\"sigmap_x\"] = observations[:,7]\n",
    "        df[\"sigmap_y\"] = observations[:,8]\n",
    "        df[\"mu_x\"] = observations[:,9]\n",
    "        df[\"mu_y\"] = observations[:,10]\n",
    "        df[\"sigma_x\"] = observations[:,11]\n",
    "        df[\"sigma_y\"] = observations[:,12]\n",
    "        for k in incoming.keys():\n",
    "            df[\"incoming_\"+k] = float(incoming[k])\n",
    "        df[\"misalignment_q1_x\"] = misalignments[0]\n",
    "        df[\"misalignment_q1_y\"] = misalignments[1]\n",
    "        df[\"misalignment_q2_x\"] = misalignments[2]\n",
    "        df[\"misalignment_q2_y\"] = misalignments[3]\n",
    "        df[\"misalignment_q3_x\"] = misalignments[4]\n",
    "        df[\"misalignment_q3_y\"] = misalignments[5]\n",
    "        df[\"misalignment_screen_x\"] = misalignments[6]\n",
    "        df[\"misalignment_screen_y\"] = misalignments[7]\n",
    "\n",
    "        return df\n",
    "    \n",
    "    return wrapper"
   ]
  },
  {
   "cell_type": "code",
   "execution_count": 3,
   "metadata": {},
   "outputs": [],
   "source": [
    "@pack_dataframe\n",
    "def run(env, problem=None):\n",
    "    if problem is not None:\n",
    "        if \"initial\" in problem:\n",
    "            env.unwrapped.next_initial = problem[\"initial\"]\n",
    "        if \"incoming\" in problem:\n",
    "            env.unwrapped.backend.next_incoming = problem[\"incoming\"]\n",
    "        if \"misalignments\" in problem:\n",
    "            env.unwrapped.backend.next_misalignments = problem[\"misalignments\"]\n",
    "        if \"desired\" in problem:\n",
    "            env.unwrapped.next_desired = problem[\"desired\"]\n",
    "\n",
    "    observations = []\n",
    "\n",
    "    observation = env.reset()\n",
    "    print(f\"{observation = }\")\n",
    "\n",
    "    observations.append(observation)\n",
    "    incoming = env.backend._incoming.parameters\n",
    "    misalignments = env.backend.misalignments\n",
    "\n",
    "    def optfn(actuators):\n",
    "        observation, objective, _, _ = env.step(actuators)\n",
    "        observations.append(observation)\n",
    "        return objective\n",
    "\n",
    "    bounds = Bounds(env.action_space.low, env.action_space.high)\n",
    "    # TODO: Should probably be options={\"fatol\": 4.5e-11}\n",
    "    #       Because max pixel_size = 3.3198e-6\n",
    "    #       Double that (two pixels) -> 6.6396e-06\n",
    "    #       Squared error would then be 4.408428816e-11\n",
    "    #       Round to 4.5e-11\n",
    "    minimize(optfn, observation[:5], method=\"Nelder-Mead\", bounds=bounds, options={\"fatol\": 4.5e-11, \"xatol\": 1})\n",
    "\n",
    "    return observations, incoming, misalignments"
   ]
  },
  {
   "cell_type": "code",
   "execution_count": 4,
   "metadata": {},
   "outputs": [],
   "source": [
    "def cache_to_file(fn):\n",
    "    def wrapper(method, **kwargs):\n",
    "        filename = f\".cache_3/{method}.pkl\"\n",
    "        \n",
    "        try:\n",
    "            raise FileNotFoundError\n",
    "            evaluation = pd.read_pickle(filename)\n",
    "            print(f\"Read {method} from cache file\")\n",
    "        except FileNotFoundError:\n",
    "            print(\"ACTUALLY RUN BECAUSE \\\"FILE NOT FOUND\\\"\")\n",
    "            evaluation = fn(method, **kwargs)\n",
    "            # evaluation.to_pickle(filename)\n",
    "        \n",
    "        return evaluation\n",
    "\n",
    "    return wrapper"
   ]
  },
  {
   "cell_type": "code",
   "execution_count": 7,
   "metadata": {},
   "outputs": [],
   "source": [
    "@cache_to_file\n",
    "def evaluate(method, description=None):\n",
    "    env = ARESEAOptimization(backendargs={\"measure_beam\": \"direct\"})\n",
    "\n",
    "    with open(\"problems_3.json\", \"r\") as f:\n",
    "        problems = json.load(f)\n",
    "    problems = problems[:1]\n",
    "    \n",
    "    if \"fdf\" in method:\n",
    "        env = ResetActuatorsToDFD(env)\n",
    "    if \"normalize\" in method:\n",
    "        env = RescaleAction(env, -1, 1)\n",
    "\n",
    "    evaluation = []\n",
    "    for i, problem in enumerate(tqdm(problems)):\n",
    "        result = run(env, problem=problem)\n",
    "        result[\"problem\"] = i\n",
    "        evaluation.append(result)\n",
    "    evaluation = pd.concat(evaluation)\n",
    "    evaluation[\"method\"] = method\n",
    "    evaluation[\"model\"] = method\n",
    "    if description is not None:\n",
    "        evaluation[\"description\"] = description\n",
    "    \n",
    "    return evaluation"
   ]
  },
  {
   "cell_type": "code",
   "execution_count": 8,
   "metadata": {},
   "outputs": [
    {
     "name": "stdout",
     "output_type": "stream",
     "text": [
      "ACTUALLY RUN BECAUSE \"FILE NOT FOUND\"\n"
     ]
    },
    {
     "name": "stderr",
     "output_type": "stream",
     "text": [
      "  0%|          | 0/1 [00:00<?, ?it/s]"
     ]
    },
    {
     "name": "stdout",
     "output_type": "stream",
     "text": [
      "In env self.achieved = array([-0.00017622,  0.00155988,  0.00022783,  0.00026904], dtype=float32)\n",
      "observation = array([ 1.00000000e+01, -1.00000000e+01,  1.00000000e+01,  0.00000000e+00,\n",
      "        0.00000000e+00,  0.00000000e+00,  0.00000000e+00,  0.00000000e+00,\n",
      "        0.00000000e+00, -1.76220958e-04,  1.55987556e-03,  2.27825440e-04,\n",
      "        2.69044831e-04])\n"
     ]
    },
    {
     "name": "stderr",
     "output_type": "stream",
     "text": [
      "100%|██████████| 1/1 [00:00<00:00,  1.33it/s]\n"
     ]
    }
   ],
   "source": [
    "df = evaluate(\"nelder-mead-fdf\", description=\"Nelder-Mead Optimiser Starting at FDF\")"
   ]
  },
  {
   "cell_type": "code",
   "execution_count": 9,
   "metadata": {},
   "outputs": [
    {
     "data": {
      "text/plain": [
       "step                                                         0\n",
       "q1                                                        10.0\n",
       "q2                                                       -10.0\n",
       "q3                                                        10.0\n",
       "cv                                                         0.0\n",
       "ch                                                         0.0\n",
       "mup_x                                                      0.0\n",
       "mup_y                                                      0.0\n",
       "sigmap_x                                                   0.0\n",
       "sigmap_y                                                   0.0\n",
       "mu_x                                                 -0.000176\n",
       "mu_y                                                   0.00156\n",
       "sigma_x                                               0.000228\n",
       "sigma_y                                               0.000269\n",
       "incoming_mu_x                                         0.000348\n",
       "incoming_mu_xp                                       -0.000023\n",
       "incoming_mu_y                                         0.000646\n",
       "incoming_mu_yp                                       -0.000041\n",
       "incoming_sigma_x                                        0.0004\n",
       "incoming_sigma_xp                                     0.000047\n",
       "incoming_sigma_y                                      0.000137\n",
       "incoming_sigma_yp                                     0.000041\n",
       "incoming_sigma_s                                      0.000004\n",
       "incoming_sigma_p                                      0.000685\n",
       "incoming_energy                                88360138.745393\n",
       "misalignment_q1_x                                     0.000303\n",
       "misalignment_q1_y                                    -0.000092\n",
       "misalignment_q2_x                                     0.000299\n",
       "misalignment_q2_y                                     0.000217\n",
       "misalignment_q3_x                                     0.000237\n",
       "misalignment_q3_y                                     0.000274\n",
       "misalignment_screen_x                                 0.000374\n",
       "misalignment_screen_y                                -0.000046\n",
       "problem                                                      0\n",
       "method                                         nelder-mead-fdf\n",
       "model                                          nelder-mead-fdf\n",
       "description              Nelder-Mead Optimiser Starting at FDF\n",
       "Name: 0, dtype: object"
      ]
     },
     "execution_count": 9,
     "metadata": {},
     "output_type": "execute_result"
    }
   ],
   "source": [
    "df.loc[0]"
   ]
  },
  {
   "cell_type": "code",
   "execution_count": null,
   "metadata": {},
   "outputs": [],
   "source": []
  }
 ],
 "metadata": {
  "interpreter": {
   "hash": "c52a148f042e18d735c6c9f66b6910136f20093b56325d8390c2dc5c9d3fe4fb"
  },
  "kernelspec": {
   "display_name": "Python 3.9.7 64-bit ('rl39': conda)",
   "language": "python",
   "name": "python3"
  },
  "language_info": {
   "codemirror_mode": {
    "name": "ipython",
    "version": 3
   },
   "file_extension": ".py",
   "mimetype": "text/x-python",
   "name": "python",
   "nbconvert_exporter": "python",
   "pygments_lexer": "ipython3",
   "version": "3.9.7"
  },
  "orig_nbformat": 4
 },
 "nbformat": 4,
 "nbformat_minor": 2
}
