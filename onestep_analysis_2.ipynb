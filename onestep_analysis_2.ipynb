{
 "cells": [
  {
   "cell_type": "code",
   "execution_count": 1,
   "source": [
    "import matplotlib.pyplot as plt\n",
    "from matplotlib.patches import Ellipse\n",
    "from stable_baselines3 import PPO\n",
    "\n",
    "from environments.onestep import ARESEAOneStep"
   ],
   "outputs": [
    {
     "output_type": "stream",
     "name": "stdout",
     "text": [
      "initializing ocelot...\n"
     ]
    }
   ],
   "metadata": {}
  },
  {
   "cell_type": "code",
   "execution_count": 2,
   "source": [
    "model = PPO.load(\"models/copper-haze-9\")"
   ],
   "outputs": [],
   "metadata": {}
  },
  {
   "cell_type": "code",
   "execution_count": 3,
   "source": [
    "env = ARESEAOneStep()"
   ],
   "outputs": [
    {
     "output_type": "stream",
     "name": "stdout",
     "text": [
      "WARNING: Diagnostic screen was converted with default screen properties.\n"
     ]
    }
   ],
   "metadata": {}
  },
  {
   "cell_type": "code",
   "execution_count": 15,
   "source": [
    "observation = env.reset()\n",
    "\n",
    "before = env.segment.AREABSCR1.reading\n",
    "\n",
    "action, _ = model.predict(observation, deterministic=True)\n",
    "env.step(action)\n",
    "\n",
    "after = env.segment.AREABSCR1.reading\n",
    "\n",
    "print(\"Desired:\", env.desired)\n",
    "\n",
    "screen = env.segment.AREABSCR1\n",
    "\n",
    "plt.figure(figsize=(10,5))\n",
    "\n",
    "plt.subplot(121)\n",
    "plt.imshow(before, extent=screen.extent, interpolation=\"None\")\n",
    "plt.title(\"Before\")\n",
    "\n",
    "plt.subplot(122)\n",
    "plt.imshow(after, extent=screen.extent, interpolation=\"None\")\n",
    "mu_x, mu_y, sigma_x, sigma_y = env.desired\n",
    "ellipse = Ellipse((mu_x,mu_y), sigma_x, sigma_y, fill=False, color=\"white\")\n",
    "plt.gca().add_patch(ellipse)\n",
    "plt.title(\"After\")\n",
    "\n",
    "plt.show()"
   ],
   "outputs": [
    {
     "output_type": "stream",
     "name": "stdout",
     "text": [
      "Desired: [-0.00112887  0.00097818  0.00028367  0.00023182]\n"
     ]
    },
    {
     "output_type": "display_data",
     "data": {
      "image/png": "[encoded data removed]",
      "text/plain": [
       "<Figure size 720x360 with 2 Axes>"
      ]
     },
     "metadata": {
      "needs_background": "light"
     }
    }
   ],
   "metadata": {}
  },
  {
   "cell_type": "code",
   "execution_count": null,
   "source": [],
   "outputs": [],
   "metadata": {}
  }
 ],
 "metadata": {
  "kernelspec": {
   "name": "python3",
   "display_name": "Python 3.7.11 64-bit ('rl37': conda)"
  },
  "language_info": {
   "codemirror_mode": {
    "name": "ipython",
    "version": 3
   },
   "file_extension": ".py",
   "mimetype": "text/x-python",
   "name": "python",
   "nbconvert_exporter": "python",
   "pygments_lexer": "ipython3",
   "version": "3.7.11"
  },
  "interpreter": {
   "hash": "7bde36871b824b4d36fabfa1b9ef22ed0a72d66cc63d7bbb2838f0f962c8a495"
  }
 },
 "nbformat": 4,
 "nbformat_minor": 4
}