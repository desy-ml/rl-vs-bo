{
 "cells": [
  {
   "cell_type": "code",
   "execution_count": 1,
   "metadata": {},
   "outputs": [],
   "source": [
    "import numpy as np\n",
    "import pandas as pd\n",
    "from scipy.optimize import minimize\n",
    "\n",
    "from environments import ARESEAOptimization"
   ]
  },
  {
   "cell_type": "code",
   "execution_count": 13,
   "metadata": {},
   "outputs": [],
   "source": [
    "def pack_dataframe(fn):\n",
    "    def wrapper(env, desired):\n",
    "        observations, beam_images = fn(env, desired)\n",
    "        observations = np.array(observations)\n",
    "\n",
    "        df = pd.DataFrame(np.arange(len(observations)), columns=[\"step\"])\n",
    "        df[\"q1\"] = observations[:,0]\n",
    "        df[\"q2\"] = observations[:,1]\n",
    "        df[\"cv\"] = observations[:,2]\n",
    "        df[\"q3\"] = observations[:,3]\n",
    "        df[\"ch\"] = observations[:,4]\n",
    "        df[\"mup_x\"] = observations[:,5]\n",
    "        df[\"mup_y\"] = observations[:,6]\n",
    "        df[\"sigmap_x\"] = observations[:,7]\n",
    "        df[\"sigmap_y\"] = observations[:,8]\n",
    "        df[\"mu_x\"] = observations[:,9]\n",
    "        df[\"mu_y\"] = observations[:,10]\n",
    "        df[\"sigma_x\"] = observations[:,11]\n",
    "        df[\"sigma_y\"] = observations[:,12]\n",
    "        df[\"beam_image\"] = beam_images\n",
    "\n",
    "        df[\"measure_beam\"] = env.backend._beam_parameter_method\n",
    "\n",
    "        return df\n",
    "    \n",
    "    return wrapper"
   ]
  },
  {
   "cell_type": "code",
   "execution_count": 14,
   "metadata": {},
   "outputs": [],
   "source": [
    "@pack_dataframe\n",
    "def run(env, desired):\n",
    "    env.next_initial = [10, -10, 10, 0, 0]\n",
    "    env.next_desired = desired\n",
    "\n",
    "    observations = []\n",
    "    beam_images = []\n",
    "\n",
    "    observation = env.reset()\n",
    "\n",
    "    observations.append(observation)\n",
    "    beam_images.append(env.backend.last_beam_image)\n",
    "\n",
    "    def optfn(actuators):\n",
    "        observation, objective, _, _ = env.step(actuators)\n",
    "        observations.append(observation)\n",
    "        beam_images.append(env.backend.last_beam_image)\n",
    "        return objective\n",
    "\n",
    "    minimize(optfn, observation[:5], method=\"Nelder-Mead\", options={\"disp\": True})\n",
    "\n",
    "    return observations, beam_images"
   ]
  },
  {
   "cell_type": "code",
   "execution_count": 15,
   "metadata": {},
   "outputs": [],
   "source": [
    "env = ARESEAOptimization(backend=\"machine\", backendargs={\"measure_beam\": \"us\"})"
   ]
  },
  {
   "cell_type": "code",
   "execution_count": 16,
   "metadata": {},
   "outputs": [
    {
     "name": "stdout",
     "output_type": "stream",
     "text": [
      "Optimization terminated successfully.\n",
      "         Current function value: 0.000000\n",
      "         Iterations: 95\n",
      "         Function evaluations: 221\n"
     ]
    }
   ],
   "source": [
    "df = run(env, np.zeros(4))"
   ]
  },
  {
   "cell_type": "code",
   "execution_count": null,
   "metadata": {},
   "outputs": [],
   "source": []
  }
 ],
 "metadata": {
  "interpreter": {
   "hash": "cb0c3e2128e3ec31ec0d90a83c3ce95af788e3d47340cfb20bbf06ca38505d8f"
  },
  "kernelspec": {
   "display_name": "Python 3.7.11 64-bit ('rl37': conda)",
   "language": "python",
   "name": "python3"
  },
  "language_info": {
   "codemirror_mode": {
    "name": "ipython",
    "version": 3
   },
   "file_extension": ".py",
   "mimetype": "text/x-python",
   "name": "python",
   "nbconvert_exporter": "python",
   "pygments_lexer": "ipython3",
   "version": "3.7.11"
  },
  "orig_nbformat": 4
 },
 "nbformat": 4,
 "nbformat_minor": 2
}
