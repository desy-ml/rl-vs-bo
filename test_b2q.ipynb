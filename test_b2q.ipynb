{
 "cells": [
  {
   "cell_type": "code",
   "execution_count": 1,
   "metadata": {},
   "outputs": [
    {
     "name": "stdout",
     "output_type": "stream",
     "text": [
      "initializing ocelot...\n"
     ]
    }
   ],
   "source": [
    "from gym.wrappers import RescaleAction\n",
    "import numpy as np\n",
    "from stable_baselines3.common.env_checker import check_env\n",
    "\n",
    "from ea_b2q_train import ARESEACheetah\n"
   ]
  },
  {
   "cell_type": "code",
   "execution_count": 2,
   "metadata": {},
   "outputs": [],
   "source": [
    "env = ARESEACheetah(\n",
    "    misalignment_mode=\"constant\",\n",
    "    misalignment_values=np.array([1e-3, 0.0, 0.0, 0.0, 0.0, 0.0, 0.0, 0.0]),\n",
    ")\n",
    "env = RescaleAction(env, -1, 1)\n"
   ]
  },
  {
   "cell_type": "code",
   "execution_count": 10,
   "metadata": {},
   "outputs": [],
   "source": [
    "incoming = env.observation_space[\"incoming\"].sample()\n",
    "incoming[1:5] = 0.0\n",
    "\n",
    "env = ARESEACheetah(\n",
    "    misalignment_mode=\"random\",\n",
    "    # misalignment_values=np.array([0.0, 0.0, 0.0, 0.0, 0.0, 0.0, 0.0, 0.0]),\n",
    "    incoming_mode=\"constant\",\n",
    "    incoming_values=incoming,\n",
    "    magnet_init_mode=\"constant\",\n",
    "    magnet_init_values=np.zeros(4),\n",
    ")\n",
    "env = RescaleAction(env, -1, 1)"
   ]
  },
  {
   "cell_type": "code",
   "execution_count": 11,
   "metadata": {},
   "outputs": [],
   "source": [
    "check_env(env)\n"
   ]
  },
  {
   "cell_type": "code",
   "execution_count": 12,
   "metadata": {},
   "outputs": [
    {
     "data": {
      "text/plain": [
       "({'beam_movements': array([0.00096754, 0.00042261, 0.00046476, 0.00335007, 0.0001399 ,\n",
       "         0.00281193], dtype=float32),\n",
       "  'magnets': array([0.       , 0.       , 0.       , 0.0061782], dtype=float32),\n",
       "  'incoming': array([1.5442250e+08, 0.0000000e+00, 0.0000000e+00, 0.0000000e+00,\n",
       "         0.0000000e+00, 3.6508313e-04, 2.8573715e-05, 1.6901904e-04,\n",
       "         2.3440668e-06, 1.3316452e-06, 9.3469006e-04], dtype=float32),\n",
       "  'misalignments': array([ 0.00147126,  0.00140611,  0.00101516, -0.00177636,  0.00054221,\n",
       "         -0.00191532,  0.00093721, -0.00115498], dtype=float32)},\n",
       " -0.6540834605693817,\n",
       " False,\n",
       " {'binning': array(4),\n",
       "  'movement_reward': 0.34591654,\n",
       "  'pixel_size': array([1.32792e-05, 9.78760e-06]),\n",
       "  'screen_resolution': array([612., 510.]),\n",
       "  'time_reward': -1})"
      ]
     },
     "execution_count": 12,
     "metadata": {},
     "output_type": "execute_result"
    }
   ],
   "source": [
    "env.step(np.array([0.0, 0.0, 0.0, 1.0]))\n"
   ]
  },
  {
   "cell_type": "code",
   "execution_count": 13,
   "metadata": {},
   "outputs": [
    {
     "data": {
      "text/plain": [
       "({'beam_movements': array([0.02057023, 0.02034672, 0.01627692, 0.01597089, 0.01027046,\n",
       "         0.00921997], dtype=float32),\n",
       "  'magnets': array([-0.00374497,  0.00572194, -0.0048592 , -0.00443223], dtype=float32),\n",
       "  'incoming': array([1.5442250e+08, 0.0000000e+00, 0.0000000e+00, 0.0000000e+00,\n",
       "         0.0000000e+00, 3.6508313e-04, 2.8573715e-05, 1.6901904e-04,\n",
       "         2.3440668e-06, 1.3316452e-06, 9.3469006e-04], dtype=float32),\n",
       "  'misalignments': array([ 0.00147126,  0.00140611,  0.00101516, -0.00177636,  0.00054221,\n",
       "         -0.00191532,  0.00093721, -0.00115498], dtype=float32)},\n",
       " -23.022396087646484,\n",
       " False,\n",
       " {'binning': array(4),\n",
       "  'movement_reward': -22.022396,\n",
       "  'pixel_size': array([1.32792e-05, 9.78760e-06]),\n",
       "  'screen_resolution': array([612., 510.]),\n",
       "  'time_reward': -1})"
      ]
     },
     "execution_count": 13,
     "metadata": {},
     "output_type": "execute_result"
    }
   ],
   "source": [
    "env.step(env.action_space.sample())"
   ]
  },
  {
   "cell_type": "code",
   "execution_count": null,
   "metadata": {},
   "outputs": [],
   "source": []
  }
 ],
 "metadata": {
  "kernelspec": {
   "display_name": "Python 3.9.13 ('rl39')",
   "language": "python",
   "name": "python3"
  },
  "language_info": {
   "codemirror_mode": {
    "name": "ipython",
    "version": 3
   },
   "file_extension": ".py",
   "mimetype": "text/x-python",
   "name": "python",
   "nbconvert_exporter": "python",
   "pygments_lexer": "ipython3",
   "version": "3.9.13"
  },
  "orig_nbformat": 4,
  "vscode": {
   "interpreter": {
    "hash": "343fe3b89e2d7877d61a0509fd880204236e5c07449e4c121f53f2530ef83fc9"
   }
  }
 },
 "nbformat": 4,
 "nbformat_minor": 2
}
