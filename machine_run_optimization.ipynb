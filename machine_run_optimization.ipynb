{
 "cells": [
  {
   "cell_type": "code",
   "execution_count": 1,
   "metadata": {},
   "outputs": [],
   "source": [
    "import os\n",
    "os.environ[\"EARLMCP\"] = \"pydoocs\""
   ]
  },
  {
   "cell_type": "code",
   "execution_count": 2,
   "metadata": {},
   "outputs": [],
   "source": [
    "from datetime import datetime\n",
    "import json\n",
    "\n",
    "import matplotlib.pyplot as plt\n",
    "import numpy as np\n",
    "import pandas as pd\n",
    "from scipy.optimize import Bounds, minimize\n",
    "\n",
    "from environments import ARESEAOptimization, ResetActuatorsToDFD"
   ]
  },
  {
   "cell_type": "code",
   "execution_count": 3,
   "metadata": {},
   "outputs": [],
   "source": [
    "def pack_dataframe(fn):\n",
    "    def wrapper(env, problem=None, **kwargs):\n",
    "        observations, beam_images = fn(env, problem=problem, **kwargs)\n",
    "        observations = np.array(observations)\n",
    "\n",
    "        df = pd.DataFrame(np.arange(len(observations)), columns=[\"step\"])\n",
    "        df[\"q1\"] = observations[:,0]\n",
    "        df[\"q2\"] = observations[:,1]\n",
    "        df[\"q3\"] = observations[:,2]\n",
    "        df[\"cv\"] = observations[:,3]\n",
    "        df[\"ch\"] = observations[:,4]\n",
    "        df[\"mup_x\"] = observations[:,5]\n",
    "        df[\"mup_y\"] = observations[:,6]\n",
    "        df[\"sigmap_x\"] = observations[:,7]\n",
    "        df[\"sigmap_y\"] = observations[:,8]\n",
    "        df[\"mu_x\"] = observations[:,9]\n",
    "        df[\"mu_y\"] = observations[:,10]\n",
    "        df[\"sigma_x\"] = observations[:,11]\n",
    "        df[\"sigma_y\"] = observations[:,12]\n",
    "        df[\"beam_image\"] = beam_images\n",
    "\n",
    "        df[\"measure_beam\"] = env.backend._beam_parameter_method\n",
    "\n",
    "        return df\n",
    "    \n",
    "    return wrapper"
   ]
  },
  {
   "cell_type": "code",
   "execution_count": 23,
   "metadata": {},
   "outputs": [],
   "source": [
    "@pack_dataframe\n",
    "def run(env, problem=None, maxfev=300):\n",
    "    if problem is not None:\n",
    "        if \"initial\" in problem:\n",
    "            env.unwrapped.next_initial = problem[\"initial\"]\n",
    "        if \"desired\" in problem:\n",
    "            env.unwrapped.next_desired = problem[\"desired\"]\n",
    "\n",
    "    observations = []\n",
    "    beam_images = []\n",
    "\n",
    "    observation = env.reset()\n",
    "\n",
    "    observations.append(observation)\n",
    "    beam_images.append(env.unwrapped.backend.last_beam_image)\n",
    "\n",
    "    env.unwrapped.next_initial = \"stay\"\n",
    "\n",
    "    def optfn(actuators):\n",
    "        print(f\"Setting {actuators = }\")\n",
    "        observation, objective, _, _ = env.step(actuators)\n",
    "        observations.append(observation)\n",
    "        beam_images.append(env.unwrapped.backend.last_beam_image)\n",
    "        return objective\n",
    "\n",
    "    bounds = Bounds(env.action_space.low, env.action_space.high)\n",
    "    init_simplex = np.array([\n",
    "        [10.0, -10.0, 10.0, 0.0, 0.0],\n",
    "        [15.0, -10.0, 10.0, 0.0, 0.0],\n",
    "        [10.0, -15.0, 10.0, 0.0, 0.0],\n",
    "        [10.0, -10.0, 15.0, 0.0, 0.0],\n",
    "        [10.0, -10.0, 10.0, 0.5e-3, 0.0],\n",
    "        [10.0, -10.0, 10.0, 0.0, 0.5e-3]\n",
    "    ])\n",
    "    res = minimize(optfn, observation[:5], method=\"Nelder-Mead\", bounds=bounds, options={\"initial_simplex\":init_simplex,\"fatol\": 4.5e-11, \"xatol\": 1, \"maxfev\": maxfev, \"disp\":True})\n",
    "\n",
    "    observation, _, _, _ = env.step(res.x)\n",
    "    observations.append(observation)\n",
    "    beam_images.append(env.unwrapped.backend.last_beam_image)\n",
    "\n",
    "    return observations, beam_images"
   ]
  },
  {
   "cell_type": "code",
   "execution_count": 24,
   "metadata": {},
   "outputs": [],
   "source": [
    "env = ARESEAOptimization(backend=\"machine\", objective=\"mse\", backendargs={\"measure_beam\": \"us\"})\n",
    "env = ResetActuatorsToDFD(env)"
   ]
  },
  {
   "cell_type": "code",
   "execution_count": 25,
   "metadata": {},
   "outputs": [],
   "source": [
    "with open(\"problems_3.json\", \"r\") as f:\n",
    "    problems = json.load(f)"
   ]
  },
  {
   "cell_type": "code",
   "execution_count": 26,
   "metadata": {},
   "outputs": [
    {
     "name": "stdout",
     "output_type": "stream",
     "text": [
      "Setting actuators = array([ 10., -10.,  10.,   0.,   0.])\n",
      "Setting actuators = array([ 15., -10.,  10.,   0.,   0.])\n",
      "Setting actuators = array([ 10., -15.,  10.,   0.,   0.])\n",
      "Setting actuators = array([ 10., -10.,  15.,   0.,   0.])\n",
      "Setting actuators = array([ 1.e+01, -1.e+01,  1.e+01,  5.e-04,  0.e+00])\n",
      "Setting actuators = array([ 1.e+01, -1.e+01,  1.e+01,  0.e+00,  5.e-04])\n",
      "Setting actuators = array([ 5.0e+00, -1.2e+01,  1.2e+01,  2.0e-04,  2.0e-04])\n",
      "Setting actuators = array([ 8.00e+00, -1.28e+01,  1.28e+01, -4.20e-04,  2.80e-04])\n",
      "Setting actuators = array([ 7.200e+00, -6.920e+00,  1.392e+01, -8.800e-05,  3.920e-04])\n",
      "Setting actuators = array([ 5.800e+00, -2.880e+00,  1.588e+01, -1.320e-04,  5.880e-04])\n",
      "Setting actuators = array([ 5.5200e+00, -9.0720e+00,  1.6272e+01, -1.4080e-04,  6.2720e-04])\n",
      "Setting actuators = array([ 3.72800e+00, -8.70080e+00,  1.17808e+01, -1.97120e-04,\n",
      "        8.78080e-04])\n",
      "Setting actuators = array([ 5.92000e-01, -8.05120e+00,  1.01712e+01, -2.95680e-04,\n",
      "        1.31712e-03])\n",
      "Setting actuators = array([ 2.764800e+00, -4.001280e+00,  1.292928e+01,  2.726080e-04,\n",
      "        1.012928e-03])\n",
      "Setting actuators = array([ 4.8707200e+00, -1.6017920e+00,  1.4100992e+01, -3.1834880e-04,\n",
      "        1.4180992e-03])\n",
      "Setting actuators = array([ 4.8060800e+00,  3.5973120e+00,  1.5151488e+01, -5.7752320e-04,\n",
      "        2.0271488e-03])\n",
      "Setting actuators = array([-2.20684800e+00,  1.83713280e+00,  1.81615872e+01, -3.49358080e-04,\n",
      "        1.72895872e-03])\n",
      "Setting actuators = array([-8.17587200e-01,  5.27278592e+00,  1.26454221e+01, -2.91981312e-04,\n",
      "        2.04246221e-03])\n",
      "Setting actuators = array([-3.98638080e+00,  1.24451789e+01,  1.08321331e+01, -3.67571968e-04,\n",
      "        2.75009331e-03])\n",
      "Setting actuators = array([-5.01213952e+00,  5.21085747e+00,  1.10182753e+01, -3.95010099e-04,\n",
      "        2.94649953e-03])\n",
      "Warning: Maximum number of function evaluations has been exceeded.\n"
     ]
    }
   ],
   "source": [
    "maxfev = 20\n",
    "run_name = \"shenaninganz_initsimplex\"\n",
    "timestamp = datetime.now().strftime(\"%Y%m%d%H%M%S\")\n",
    "\n",
    "df = run(env, problems[0], maxfev=maxfev)\n",
    "\n",
    "df.to_pickle(f\"machine_studies/opt_nelder_{timestamp}_{run_name}_{maxfev}.pkl\")"
   ]
  },
  {
   "cell_type": "markdown",
   "metadata": {},
   "source": [
    "## Evaluation Stuff"
   ]
  },
  {
   "cell_type": "code",
   "execution_count": 27,
   "metadata": {},
   "outputs": [
    {
     "data": {
      "image/png": "[encoded data removed]",
      "text/plain": [
       "<Figure size 720x288 with 1 Axes>"
      ]
     },
     "metadata": {
      "needs_background": "light"
     },
     "output_type": "display_data"
    }
   ],
   "source": [
    "# Compute MAE\n",
    "df[\"delta_mu_x\"] = np.abs(df[\"mup_x\"] - df[\"mu_x\"])\n",
    "df[\"delta_mu_y\"] = np.abs(df[\"mup_x\"] - df[\"mu_x\"])\n",
    "df[\"delta_sigma_x\"] = np.abs(df[\"sigmap_x\"] - df[\"sigma_x\"])\n",
    "df[\"delta_sigma_y\"] = np.abs(df[\"sigmap_y\"] - df[\"sigma_y\"])\n",
    "df[\"mae\"] = (df[\"delta_mu_x\"] + df[\"delta_mu_y\"] + df[\"delta_sigma_x\"] + df[\"delta_sigma_y\"]) / 4\n",
    "\n",
    "plt.figure(figsize=(10,4))\n",
    "plt.plot(df[\"mae\"])\n",
    "plt.title(f'Objective Function \\n Run {timestamp} {run_name}')\n",
    "plt.xlabel('agent steps')\n",
    "plt.ylabel('objective function')\n",
    "plt.grid(True)\n",
    "\n",
    "# plt.savefig(f'machine_studies/plots/{timestamp}_{run_name}_objective_plot.pdf',bbox_inches = 'tight')\n",
    "# plt.savefig(f'machine_studies/plots/{timestamp}_{run_name}_objective_plot.png',bbox_inches = 'tight')\n",
    "\n",
    "# plt.yscale('log')\n",
    "\n",
    "# plt.savefig(f'machine_studies/plots/{timestamp}_{run_name}_objective_plot_ylog.pdf',bbox_inches = 'tight')\n",
    "# plt.savefig(f'machine_studies/plots/{timestamp}_{run_name}_objective_plot_ylog.png',bbox_inches = 'tight')\n",
    "\n",
    "plt.show()\n"
   ]
  },
  {
   "cell_type": "code",
   "execution_count": null,
   "metadata": {},
   "outputs": [],
   "source": []
  }
 ],
 "metadata": {
  "interpreter": {
   "hash": "cb0c3e2128e3ec31ec0d90a83c3ce95af788e3d47340cfb20bbf06ca38505d8f"
  },
  "kernelspec": {
   "display_name": "Python 3 (ipykernel)",
   "language": "python",
   "name": "python3"
  },
  "language_info": {
   "codemirror_mode": {
    "name": "ipython",
    "version": 3
   },
   "file_extension": ".py",
   "mimetype": "text/x-python",
   "name": "python",
   "nbconvert_exporter": "python",
   "pygments_lexer": "ipython3",
   "version": "3.9.7"
  }
 },
 "nbformat": 4,
 "nbformat_minor": 4
}
