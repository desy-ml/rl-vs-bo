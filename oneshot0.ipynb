{
 "cells": [
  {
   "cell_type": "code",
   "execution_count": 1,
   "metadata": {},
   "outputs": [
    {
     "name": "stdout",
     "output_type": "stream",
     "text": [
      "initializing ocelot...\n"
     ]
    }
   ],
   "source": [
    "import cheetah\n",
    "from gym import spaces\n",
    "import numpy as np\n",
    "import torch\n",
    "from torch import distributions\n",
    "from torch import nn\n",
    "from torch import optim\n",
    "\n",
    "from environments import ARESlatticeStage3v1_9 as lattice\n",
    "from environments import utils\n",
    "from environments.absolute import ARESEAAbsolute"
   ]
  },
  {
   "cell_type": "markdown",
   "metadata": {},
   "source": [
    "## Create model"
   ]
  },
  {
   "cell_type": "code",
   "execution_count": 2,
   "metadata": {},
   "outputs": [],
   "source": [
    "obs_dim = 13\n",
    "act_dim = 5\n",
    "\n",
    "class GaussianActor(nn.Module):\n",
    "\n",
    "    def __init__(self, obs_dim, act_dim):\n",
    "        super().__init__()\n",
    "\n",
    "        self.log_std = nn.Parameter(0.5 * torch.ones(act_dim))\n",
    "        self.mu_net = nn.Sequential(\n",
    "            nn.Linear(obs_dim, 64),\n",
    "            nn.ReLU(),\n",
    "            nn.Linear(64, 32),\n",
    "            nn.ReLU(),\n",
    "            nn.Linear(32, act_dim)\n",
    "        )\n",
    "    \n",
    "    def forward(self, observation, action=None):\n",
    "        mu = self.mu_net(observation)\n",
    "        std = torch.exp(self.log_std)\n",
    "        pi = distributions.Normal(mu, std)\n",
    "\n",
    "        if action is None:\n",
    "            return pi\n",
    "        else:\n",
    "            log_probs = pi.log_prob(action).sum(axis=-1)\n",
    "            return pi, log_probs\n",
    "\n",
    "policy = GaussianActor(obs_dim, act_dim)\n",
    "optimizer = optim.Adam(policy.parameters())"
   ]
  },
  {
   "cell_type": "markdown",
   "metadata": {},
   "source": [
    "## Create simulation"
   ]
  },
  {
   "cell_type": "code",
   "execution_count": 3,
   "metadata": {},
   "outputs": [
    {
     "name": "stdout",
     "output_type": "stream",
     "text": [
      "WARNING: Diagnostic screen was converted with default screen properties.\n"
     ]
    }
   ],
   "source": [
    "screen_resolution = (2448, 2040)\n",
    "pixel_size = (3.3198e-6, 2.4469e-6)\n",
    "\n",
    "cell = utils.subcell_of(lattice.cell, \"AREASOLA1\", \"AREABSCR1\")\n",
    "\n",
    "segment = cheetah.Segment.from_ocelot(cell)\n",
    "segment.AREABSCR1.resolution = screen_resolution\n",
    "segment.AREABSCR1.pixel_size = pixel_size\n",
    "segment.AREABSCR1.is_active = True\n",
    "\n",
    "segment.AREABSCR1.binning = 4"
   ]
  },
  {
   "cell_type": "code",
   "execution_count": 4,
   "metadata": {},
   "outputs": [],
   "source": [
    "actuator_space = spaces.Box(\n",
    "    low=np.array([-30, -30, -30, -3e-3, -6e-3], dtype=np.float32),\n",
    "    high=np.array([30, 30, 30, 3e-3, 6e-3], dtype=np.float32)\n",
    ")\n",
    "goal_space = spaces.Box(\n",
    "    low=np.array([-2e-3, -2e-3, 0, 0], dtype=np.float32),\n",
    "    high=np.array([2e-3, 2e-3, 5e-4, 5e-4], dtype=np.float32)\n",
    ")"
   ]
  },
  {
   "cell_type": "markdown",
   "metadata": {},
   "source": [
    "## Gather experience"
   ]
  },
  {
   "cell_type": "code",
   "execution_count": 5,
   "metadata": {},
   "outputs": [],
   "source": [
    "batch_size = 4"
   ]
  },
  {
   "cell_type": "code",
   "execution_count": 6,
   "metadata": {},
   "outputs": [],
   "source": [
    "def track(actuators, incoming):\n",
    "    segment.AREAMQZM1.k1, segment.AREAMQZM2.k1, segment.AREAMQZM3.k1 = actuators[:3]\n",
    "    segment.AREAMCVM1.angle, segment.AREAMCHM1.angle = actuators[3:]\n",
    "\n",
    "    outgoing = segment(incoming)\n",
    "    \n",
    "    return np.array([\n",
    "        segment.AREABSCR1.read_beam.mu_x,\n",
    "        segment.AREABSCR1.read_beam.mu_y,\n",
    "        segment.AREABSCR1.read_beam.sigma_x,\n",
    "        segment.AREABSCR1.read_beam.sigma_y\n",
    "    ])"
   ]
  },
  {
   "cell_type": "code",
   "execution_count": 7,
   "metadata": {},
   "outputs": [],
   "source": [
    "incoming = [cheetah.Beam.make_random(\n",
    "    n=int(1e5),\n",
    "    mu_x=np.random.uniform(-3e-3, 3e-3),\n",
    "    mu_y=np.random.uniform(-3e-4, 3e-4),\n",
    "    mu_xp=np.random.uniform(-1e-4, 1e-4),\n",
    "    mu_yp=np.random.uniform(-1e-4, 1e-4),\n",
    "    sigma_x=np.random.uniform(0, 2e-3),\n",
    "    sigma_y=np.random.uniform(0, 2e-3),\n",
    "    sigma_xp=np.random.uniform(0, 1e-4),\n",
    "    sigma_yp=np.random.uniform(0, 1e-4),\n",
    "    sigma_s=np.random.uniform(0, 2e-3),\n",
    "    sigma_p=np.random.uniform(0, 5e-3),\n",
    "    energy=np.random.uniform(80e6, 160e6)\n",
    ") for _ in range(batch_size)]\n",
    "initial_actuators = [actuator_space.sample() for _ in range(batch_size)]\n",
    "desired = [goal_space.sample() for _ in range(batch_size)]\n",
    "achieved = [track(actuators=x, incoming=y) for x, y in zip(initial_actuators, incoming)]\n",
    "\n",
    "actuators_normalized = [a / actuator_space.high for a in initial_actuators]\n",
    "desired_normalized = [d / goal_space.high for d in desired]\n",
    "achieved_normalized = [a / goal_space.high for a in achieved]\n",
    "\n",
    "observations = [np.concatenate([act, des, ach]) for act, des, ach in zip(actuators_normalized, desired_normalized, achieved_normalized)]\n",
    "observations = torch.tensor(observations, dtype=torch.float32)"
   ]
  },
  {
   "cell_type": "code",
   "execution_count": 8,
   "metadata": {},
   "outputs": [
    {
     "data": {
      "text/plain": [
       "array([[ 2.8479309e+01, -3.4326981e+01,  2.8535709e+01, -2.5276872e-03,\n",
       "        -3.0465245e-03],\n",
       "       [-9.6333328e+01, -3.2546627e+01,  8.5156364e+00,  2.9103868e-03,\n",
       "         1.9680706e-03],\n",
       "       [-9.2171669e+01, -4.0584469e+01,  2.7397198e+01,  4.8694834e-03,\n",
       "        -8.1009697e-03],\n",
       "       [ 4.2317543e+01, -6.7360062e+01, -4.8868019e+01, -3.5976479e-04,\n",
       "        -2.5459831e-03]], dtype=float32)"
      ]
     },
     "execution_count": 8,
     "metadata": {},
     "output_type": "execute_result"
    }
   ],
   "source": [
    "actuators_normalized = policy(observations).sample()\n",
    "actuators = actuators_normalized.detach().numpy() * actuator_space.high\n",
    "actuators"
   ]
  },
  {
   "cell_type": "code",
   "execution_count": 9,
   "metadata": {},
   "outputs": [],
   "source": [
    "new_achieved = [track(a, i) for a, i in zip(actuators, incoming)]"
   ]
  },
  {
   "cell_type": "code",
   "execution_count": 10,
   "metadata": {},
   "outputs": [
    {
     "data": {
      "text/plain": [
       "[array([-0.00189775, -0.00600762,  0.00181811,  0.00821099]),\n",
       " array([-0.12700735,  0.00299701,  0.04130615,  0.00225607]),\n",
       " array([0.01800249, 0.01066626, 0.00688471, 0.01080656]),\n",
       " array([ 0.21646318, -0.00201749,  0.03719341,  0.0121554 ])]"
      ]
     },
     "execution_count": 10,
     "metadata": {},
     "output_type": "execute_result"
    }
   ],
   "source": [
    "new_achieved"
   ]
  },
  {
   "cell_type": "code",
   "execution_count": 11,
   "metadata": {},
   "outputs": [],
   "source": [
    "def objective_fn(achieved, desired):\n",
    "    offset = achieved - desired\n",
    "    weights = np.array([1, 1, 2, 2])\n",
    "\n",
    "    return np.log((weights * np.abs(offset)).sum())"
   ]
  },
  {
   "cell_type": "code",
   "execution_count": 12,
   "metadata": {},
   "outputs": [
    {
     "data": {
      "text/plain": [
       "tensor([-3.5180, -1.5374, -2.7500, -1.1577])"
      ]
     },
     "execution_count": 12,
     "metadata": {},
     "output_type": "execute_result"
    }
   ],
   "source": [
    "objectives = torch.tensor([objective_fn(a, d) for a, d in zip(new_achieved, desired)], dtype=torch.float32)\n",
    "objectives"
   ]
  },
  {
   "cell_type": "markdown",
   "metadata": {},
   "source": [
    "## Update model"
   ]
  },
  {
   "cell_type": "code",
   "execution_count": 13,
   "metadata": {},
   "outputs": [
    {
     "data": {
      "text/plain": [
       "tensor([-7.5909, -9.0304, -8.9039, -9.9233], grad_fn=<SumBackward1>)"
      ]
     },
     "execution_count": 13,
     "metadata": {},
     "output_type": "execute_result"
    }
   ],
   "source": [
    "policy_distributions = policy(observations)\n",
    "log_probs = policy_distributions.log_prob(actuators_normalized).sum(axis=-1)\n",
    "log_probs"
   ]
  },
  {
   "cell_type": "code",
   "execution_count": 14,
   "metadata": {},
   "outputs": [
    {
     "data": {
      "text/plain": [
       "tensor([-1.1727,  0.6458, -0.4676,  0.9945])"
      ]
     },
     "execution_count": 14,
     "metadata": {},
     "output_type": "execute_result"
    }
   ],
   "source": [
    "mean = objectives.mean()\n",
    "std = objectives.std().clamp_min(1e-12)\n",
    "normalized_objectives = (objectives - mean) / std\n",
    "normalized_objectives"
   ]
  },
  {
   "cell_type": "code",
   "execution_count": 15,
   "metadata": {},
   "outputs": [
    {
     "data": {
      "text/plain": [
       "tensor(-0.6588, grad_fn=<MeanBackward0>)"
      ]
     },
     "execution_count": 15,
     "metadata": {},
     "output_type": "execute_result"
    }
   ],
   "source": [
    "loss = (log_probs * normalized_objectives).mean()\n",
    "loss"
   ]
  },
  {
   "cell_type": "code",
   "execution_count": 16,
   "metadata": {},
   "outputs": [],
   "source": [
    "policy.zero_grad()\n",
    "loss.backward()\n",
    "optimizer.step()"
   ]
  },
  {
   "cell_type": "code",
   "execution_count": 4,
   "metadata": {},
   "outputs": [],
   "source": [
    "def rollout(env, policy, batch_size):\n",
    "    observations = torch.zeros(batch_size, env.observation_space.shape[0])\n",
    "    actions = torch.zeros(batch_size, env.action_space.shape[0])\n",
    "    objectives = torch.zeros(batch_size)\n",
    "\n",
    "    for i in range(batch_size):\n",
    "        observation = env.reset()\n",
    "        observation = torch.tensor(observation, dtype=torch.float32)\n",
    "        observations[i] = observation\n",
    "\n",
    "        observation = torch.unsqueeze(observation, 0)\n",
    "        action = policy(observation)\n",
    "        action = torch.squeeze(action)\n",
    "        actions[i] = action\n",
    "        \n",
    "        action = action.detach().numpy()\n",
    "        _, objective, _, _ = env.step(action)\n",
    "        objectives[i] = objective\n",
    "    \n",
    "    return observations, actions, objectives"
   ]
  },
  {
   "cell_type": "code",
   "execution_count": 5,
   "metadata": {},
   "outputs": [
    {
     "ename": "RuntimeError",
     "evalue": "element 0 of tensors does not require grad and does not have a grad_fn",
     "output_type": "error",
     "traceback": [
      "\u001b[0;31m---------------------------------------------------------------------------\u001b[0m",
      "\u001b[0;31mRuntimeError\u001b[0m                              Traceback (most recent call last)",
      "\u001b[0;32m<ipython-input-5-aebe35161f8a>\u001b[0m in \u001b[0;36m<module>\u001b[0;34m\u001b[0m\n\u001b[1;32m      8\u001b[0m \u001b[0;34m\u001b[0m\u001b[0m\n\u001b[1;32m      9\u001b[0m     \u001b[0mpolicy\u001b[0m\u001b[0;34m.\u001b[0m\u001b[0mzero_grad\u001b[0m\u001b[0;34m(\u001b[0m\u001b[0;34m)\u001b[0m\u001b[0;34m\u001b[0m\u001b[0;34m\u001b[0m\u001b[0m\n\u001b[0;32m---> 10\u001b[0;31m     \u001b[0mloss\u001b[0m\u001b[0;34m.\u001b[0m\u001b[0mbackward\u001b[0m\u001b[0;34m(\u001b[0m\u001b[0;34m)\u001b[0m\u001b[0;34m\u001b[0m\u001b[0;34m\u001b[0m\u001b[0m\n\u001b[0m\u001b[1;32m     11\u001b[0m     \u001b[0moptimizer\u001b[0m\u001b[0;34m.\u001b[0m\u001b[0mstep\u001b[0m\u001b[0;34m(\u001b[0m\u001b[0;34m)\u001b[0m\u001b[0;34m\u001b[0m\u001b[0;34m\u001b[0m\u001b[0m\n",
      "\u001b[0;32m/usr/local/lib/python3.8/site-packages/torch/_tensor.py\u001b[0m in \u001b[0;36mbackward\u001b[0;34m(self, gradient, retain_graph, create_graph, inputs)\u001b[0m\n\u001b[1;32m    253\u001b[0m                 \u001b[0mcreate_graph\u001b[0m\u001b[0;34m=\u001b[0m\u001b[0mcreate_graph\u001b[0m\u001b[0;34m,\u001b[0m\u001b[0;34m\u001b[0m\u001b[0;34m\u001b[0m\u001b[0m\n\u001b[1;32m    254\u001b[0m                 inputs=inputs)\n\u001b[0;32m--> 255\u001b[0;31m         \u001b[0mtorch\u001b[0m\u001b[0;34m.\u001b[0m\u001b[0mautograd\u001b[0m\u001b[0;34m.\u001b[0m\u001b[0mbackward\u001b[0m\u001b[0;34m(\u001b[0m\u001b[0mself\u001b[0m\u001b[0;34m,\u001b[0m \u001b[0mgradient\u001b[0m\u001b[0;34m,\u001b[0m \u001b[0mretain_graph\u001b[0m\u001b[0;34m,\u001b[0m \u001b[0mcreate_graph\u001b[0m\u001b[0;34m,\u001b[0m \u001b[0minputs\u001b[0m\u001b[0;34m=\u001b[0m\u001b[0minputs\u001b[0m\u001b[0;34m)\u001b[0m\u001b[0;34m\u001b[0m\u001b[0;34m\u001b[0m\u001b[0m\n\u001b[0m\u001b[1;32m    256\u001b[0m \u001b[0;34m\u001b[0m\u001b[0m\n\u001b[1;32m    257\u001b[0m     \u001b[0;32mdef\u001b[0m \u001b[0mregister_hook\u001b[0m\u001b[0;34m(\u001b[0m\u001b[0mself\u001b[0m\u001b[0;34m,\u001b[0m \u001b[0mhook\u001b[0m\u001b[0;34m)\u001b[0m\u001b[0;34m:\u001b[0m\u001b[0;34m\u001b[0m\u001b[0;34m\u001b[0m\u001b[0m\n",
      "\u001b[0;32m/usr/local/lib/python3.8/site-packages/torch/autograd/__init__.py\u001b[0m in \u001b[0;36mbackward\u001b[0;34m(tensors, grad_tensors, retain_graph, create_graph, grad_variables, inputs)\u001b[0m\n\u001b[1;32m    145\u001b[0m         \u001b[0mretain_graph\u001b[0m \u001b[0;34m=\u001b[0m \u001b[0mcreate_graph\u001b[0m\u001b[0;34m\u001b[0m\u001b[0;34m\u001b[0m\u001b[0m\n\u001b[1;32m    146\u001b[0m \u001b[0;34m\u001b[0m\u001b[0m\n\u001b[0;32m--> 147\u001b[0;31m     Variable._execution_engine.run_backward(\n\u001b[0m\u001b[1;32m    148\u001b[0m         \u001b[0mtensors\u001b[0m\u001b[0;34m,\u001b[0m \u001b[0mgrad_tensors_\u001b[0m\u001b[0;34m,\u001b[0m \u001b[0mretain_graph\u001b[0m\u001b[0;34m,\u001b[0m \u001b[0mcreate_graph\u001b[0m\u001b[0;34m,\u001b[0m \u001b[0minputs\u001b[0m\u001b[0;34m,\u001b[0m\u001b[0;34m\u001b[0m\u001b[0;34m\u001b[0m\u001b[0m\n\u001b[1;32m    149\u001b[0m         allow_unreachable=True, accumulate_grad=True)  # allow_unreachable flag\n",
      "\u001b[0;31mRuntimeError\u001b[0m: element 0 of tensors does not require grad and does not have a grad_fn"
     ]
    }
   ],
   "source": [
    "n_steps = 1000\n",
    "batch_size = 64\n",
    "\n",
    "for i in range(n_steps):\n",
    "    observations, actions, objectives = rollout(env, policy, batch_size)\n",
    "\n",
    "    loss = objectives.mean()\n",
    "    \n",
    "    policy.zero_grad()\n",
    "    loss.backward()\n",
    "    optimizer.step()\n",
    "\n",
    "    print(f\"Finished step {i}\")"
   ]
  },
  {
   "cell_type": "code",
   "execution_count": null,
   "metadata": {},
   "outputs": [],
   "source": [
    "class GaussianActor(nn.Module):\n",
    "\n",
    "    def __init__(self, obs_dim, act_dim):\n",
    "        super().__init__()\n",
    "\n",
    "        self.log_std = nn.Parameter(0.5 * torch.ones(act_dim))\n",
    "        self.mu_net = nn.Sequential(\n",
    "            nn.Linear(obs_dim, 64),\n",
    "            nn.ReLU(),\n",
    "            nn.Linear(64, 32),\n",
    "            nn.ReLU(),\n",
    "            nn.Linear(32, act_dim)\n",
    "        )\n",
    "    \n",
    "    def forward(self, observation, action=None):\n",
    "        mu = self.mu_net(observation)\n",
    "        std = torch.exp(self.log_std)\n",
    "        pi = distributions.Normal(mu, std)\n",
    "\n",
    "        if action is None:\n",
    "            return pi\n",
    "        else:\n",
    "            log_probs = pi.log_prob(action).sum(axis=-1)\n",
    "            return pi, log_probs\n",
    "\n",
    "\n",
    "class OneShotPolicyGradient:\n",
    "\n",
    "    def __init__(self, env, batch_size=64):\n",
    "        self.env = env\n",
    "        self.batch_size = batch_size\n",
    "\n",
    "        self.actor = GaussianActor(env.observation_space.shape, env.action_space.shape)\n",
    "        self.optimizer = optim.Adam(self.actor.parameters)\n",
    "    \n",
    "    def learn(self, n_steps=1000):\n",
    "        step = 0\n",
    "        while step < n_steps:\n",
    "            \n",
    "            \n",
    "            \n",
    "\n",
    "            step += self.batch_size\n",
    "\n",
    "\n",
    "if __name__ == \"__main__\":\n",
    "    env = ARESEAAbsolute()\n",
    "    env = FlattenObservation(env)"
   ]
  }
 ],
 "metadata": {
  "interpreter": {
   "hash": "aee8b7b246df8f9039afb4144a1f6fd8d2ca17a180786b69acc140d282b71a49"
  },
  "kernelspec": {
   "display_name": "Python 3",
   "language": "python",
   "name": "python3"
  },
  "language_info": {
   "codemirror_mode": {
    "name": "ipython",
    "version": 3
   },
   "file_extension": ".py",
   "mimetype": "text/x-python",
   "name": "python",
   "nbconvert_exporter": "python",
   "pygments_lexer": "ipython3",
   "version": "3.8.10"
  }
 },
 "nbformat": 4,
 "nbformat_minor": 4
}
