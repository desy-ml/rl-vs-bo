{
 "cells": [
  {
   "cell_type": "code",
   "execution_count": 13,
   "id": "71b1af3b-15a1-4502-9f56-23d63dd3b006",
   "metadata": {},
   "outputs": [],
   "source": [
    "import os\n",
    "import pickle\n",
    "\n",
    "import matplotlib.pyplot as plt"
   ]
  },
  {
   "cell_type": "code",
   "execution_count": 2,
   "id": "3228de41-7e66-4973-b0a3-d56b8e8fa375",
   "metadata": {},
   "outputs": [],
   "source": [
    "filename = \"experiments/20210930145746_seq_agent_002/log.pkl\"\n",
    "with open(filename, \"rb\") as f:\n",
    "    data = pickle.load(f)"
   ]
  },
  {
   "cell_type": "code",
   "execution_count": 3,
   "id": "fa7c6ec9-84f2-461f-8a5f-257b7351e31c",
   "metadata": {},
   "outputs": [
    {
     "data": {
      "text/plain": [
       "['backgrounds',\n",
       " 'background',\n",
       " 'beams',\n",
       " 'beam',\n",
       " 'screen_data',\n",
       " 'observation',\n",
       " 'action',\n",
       " 'time',\n",
       " 'history',\n",
       " 'model_name',\n",
       " 'target_delta']"
      ]
     },
     "execution_count": 3,
     "metadata": {},
     "output_type": "execute_result"
    }
   ],
   "source": [
    "[key for key in data.keys() if key[0].islower()]"
   ]
  },
  {
   "cell_type": "code",
   "execution_count": null,
   "id": "2253b580-e903-453c-a91b-e50d9fcb5348",
   "metadata": {},
   "outputs": [],
   "source": [
    "data[\"beams\"][0].shape"
   ]
  },
  {
   "cell_type": "code",
   "execution_count": 5,
   "id": "b361edfc-3e79-49c1-be3c-784ac68e184e",
   "metadata": {},
   "outputs": [],
   "source": [
    "test = data[\"beams\"][34][3]"
   ]
  },
  {
   "cell_type": "code",
   "execution_count": 6,
   "id": "f13d4280-9a13-4f5e-9c20-c04972f7f035",
   "metadata": {},
   "outputs": [
    {
     "data": {
      "image/png": "[encoded data removed]",
      "text/plain": [
       "<Figure size 432x288 with 1 Axes>"
      ]
     },
     "metadata": {
      "needs_background": "light"
     },
     "output_type": "display_data"
    }
   ],
   "source": [
    "plt.imshow(test)\n",
    "plt.show()"
   ]
  },
  {
   "cell_type": "code",
   "execution_count": 7,
   "id": "6814f135-2ced-4b0a-9223-fe5ec002cd0f",
   "metadata": {},
   "outputs": [],
   "source": [
    "for key in [\"backgrounds\", \"beams\"]:\n",
    "    data[key] = [img[:,1:-1,1:-1].reshape(10, 513, 2054//513, 615, 2462//615).mean(-1).mean(2) for img in data[key]]"
   ]
  },
  {
   "cell_type": "code",
   "execution_count": 8,
   "id": "4a8234a8-6ce8-42f6-b550-d32be0ed573f",
   "metadata": {},
   "outputs": [
    {
     "data": {
      "text/plain": [
       "(10, 513, 615)"
      ]
     },
     "execution_count": 8,
     "metadata": {},
     "output_type": "execute_result"
    }
   ],
   "source": [
    "data[\"beams\"][0].shape"
   ]
  },
  {
   "cell_type": "code",
   "execution_count": 9,
   "id": "51e3df2e-c9c1-49f1-8c5c-d56d3f868079",
   "metadata": {},
   "outputs": [],
   "source": [
    "for key in [\"background\", \"beam\", \"screen_data\"]:\n",
    "    data[key] = [img[1:-1,1:-1].reshape(513, 2054//513, 615, 2462//615).mean(-1).mean(1) for img in data[key]]"
   ]
  },
  {
   "cell_type": "code",
   "execution_count": 10,
   "id": "fb0547a1-030d-411e-a707-6a86b75f3b92",
   "metadata": {},
   "outputs": [
    {
     "data": {
      "text/plain": [
       "(513, 615)"
      ]
     },
     "execution_count": 10,
     "metadata": {},
     "output_type": "execute_result"
    }
   ],
   "source": [
    "data[\"beam\"][0].shape"
   ]
  },
  {
   "cell_type": "code",
   "execution_count": 11,
   "id": "48281849-7514-4e76-bb71-4af529fc082d",
   "metadata": {},
   "outputs": [],
   "source": [
    "test = data[\"beams\"][34][3]"
   ]
  },
  {
   "cell_type": "code",
   "execution_count": 12,
   "id": "a597b1a8-37d6-475f-a1a1-a21b072012f8",
   "metadata": {},
   "outputs": [
    {
     "data": {
      "image/png": "[encoded data removed]",
      "text/plain": [
       "<Figure size 432x288 with 1 Axes>"
      ]
     },
     "metadata": {
      "needs_background": "light"
     },
     "output_type": "display_data"
    }
   ],
   "source": [
    "plt.imshow(test)\n",
    "plt.show()"
   ]
  },
  {
   "cell_type": "code",
   "execution_count": 18,
   "id": "64ab6729-74a5-43ad-befa-51686d0f0945",
   "metadata": {},
   "outputs": [],
   "source": [
    "os.mkdir(\"experiments/20210930145746_seq_agent_002_rebinned\")\n",
    "with open(\"experiments/20210930145746_seq_agent_002_rebinned/log.pkl\", \"wb\") as f:\n",
    "    pickle.dump(data, f)"
   ]
  },
  {
   "cell_type": "code",
   "execution_count": null,
   "id": "20d38c47-3a34-42a6-b6a2-83ca2ebc6e99",
   "metadata": {},
   "outputs": [],
   "source": []
  }
 ],
 "metadata": {
  "kernelspec": {
   "display_name": "Python 3 (ipykernel)",
   "language": "python",
   "name": "python3"
  },
  "language_info": {
   "codemirror_mode": {
    "name": "ipython",
    "version": 3
   },
   "file_extension": ".py",
   "mimetype": "text/x-python",
   "name": "python",
   "nbconvert_exporter": "python",
   "pygments_lexer": "ipython3",
   "version": "3.7.11"
  }
 },
 "nbformat": 4,
 "nbformat_minor": 5
}
