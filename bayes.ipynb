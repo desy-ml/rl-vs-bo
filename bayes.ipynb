{
 "cells": [
  {
   "cell_type": "code",
   "execution_count": 1,
   "id": "aff2fb33-bb7e-4e42-bab7-f0547c092085",
   "metadata": {},
   "outputs": [
    {
     "name": "stdout",
     "output_type": "stream",
     "text": [
      "initializing ocelot...\n"
     ]
    }
   ],
   "source": [
    "from bayes_opt import BayesianOptimization\n",
    "import matplotlib.pyplot as plt\n",
    "from matplotlib.patches import Ellipse\n",
    "import numpy as np\n",
    "\n",
    "from environments.onestep import ARESEAOneStep\n",
    "from oneshot0script import Simulation"
   ]
  },
  {
   "cell_type": "code",
   "execution_count": 2,
   "id": "d605f0e7-a2d1-465a-a9a2-6a3297ff0d97",
   "metadata": {},
   "outputs": [
    {
     "name": "stdout",
     "output_type": "stream",
     "text": [
      "WARNING: Diagnostic screen was converted with default screen properties.\n"
     ]
    }
   ],
   "source": [
    "env = ARESEAOneStep()"
   ]
  },
  {
   "cell_type": "code",
   "execution_count": 21,
   "id": "2f7b5464-d58b-429e-9d9e-eca7eba9403e",
   "metadata": {},
   "outputs": [],
   "source": [
    "env.reset()\n",
    "before = env.segment.AREABSCR1.reading"
   ]
  },
  {
   "cell_type": "code",
   "execution_count": 22,
   "id": "4d772273-7607-4f95-bd54-9237acad7650",
   "metadata": {},
   "outputs": [],
   "source": [
    "def black_box_function(q1, q2, q3, cv, ch):\n",
    "    action = np.array([q1, q2, q3, cv, ch])\n",
    "    _, reward, _, _ = env.step(action)\n",
    "    return reward"
   ]
  },
  {
   "cell_type": "code",
   "execution_count": 23,
   "id": "28b9cf5c-ce88-47b8-9033-cd5c0446eec8",
   "metadata": {},
   "outputs": [],
   "source": [
    "parameter_bounds = {\"q1\": (-1,1), \"q2\": (-1,1), \"q3\": (-1,1), \"cv\": (-1,1), \"ch\": (-1,1)}"
   ]
  },
  {
   "cell_type": "code",
   "execution_count": 24,
   "id": "a2043fe7-69bc-444b-ba77-5a4f96f0ab01",
   "metadata": {},
   "outputs": [
    {
     "name": "stdout",
     "output_type": "stream",
     "text": [
      "|   iter    |  target   |    ch     |    cv     |    q1     |    q2     |    q3     |\n",
      "-------------------------------------------------------------------------------------\n",
      "| \u001b[0m 1       \u001b[0m | \u001b[0m 3.978   \u001b[0m | \u001b[0m 0.3883  \u001b[0m | \u001b[0m-0.04292 \u001b[0m | \u001b[0m-0.6122  \u001b[0m | \u001b[0m 0.2807  \u001b[0m | \u001b[0m-0.918   \u001b[0m |\n",
      "| \u001b[0m 2       \u001b[0m | \u001b[0m 2.893   \u001b[0m | \u001b[0m-0.6101  \u001b[0m | \u001b[0m 0.7929  \u001b[0m | \u001b[0m-0.65    \u001b[0m | \u001b[0m-0.7526  \u001b[0m | \u001b[0m-0.6211  \u001b[0m |\n",
      "| \u001b[95m 3       \u001b[0m | \u001b[95m 4.15    \u001b[0m | \u001b[95m-0.9039  \u001b[0m | \u001b[95m 0.3514  \u001b[0m | \u001b[95m 0.5542  \u001b[0m | \u001b[95m 0.5347  \u001b[0m | \u001b[95m-0.9715  \u001b[0m |\n",
      "| \u001b[95m 4       \u001b[0m | \u001b[95m 4.205   \u001b[0m | \u001b[95m 0.1318  \u001b[0m | \u001b[95m-0.3553  \u001b[0m | \u001b[95m-0.6555  \u001b[0m | \u001b[95m 0.8563  \u001b[0m | \u001b[95m 0.9749  \u001b[0m |\n",
      "| \u001b[95m 5       \u001b[0m | \u001b[95m 4.734   \u001b[0m | \u001b[95m 0.4814  \u001b[0m | \u001b[95m 0.09557 \u001b[0m | \u001b[95m-0.2346  \u001b[0m | \u001b[95m-0.2356  \u001b[0m | \u001b[95m 0.2164  \u001b[0m |\n",
      "| \u001b[0m 6       \u001b[0m | \u001b[0m 4.136   \u001b[0m | \u001b[0m-0.01429 \u001b[0m | \u001b[0m 0.09352 \u001b[0m | \u001b[0m-0.9569  \u001b[0m | \u001b[0m-0.3325  \u001b[0m | \u001b[0m 0.949   \u001b[0m |\n",
      "| \u001b[95m 7       \u001b[0m | \u001b[95m 5.282   \u001b[0m | \u001b[95m 0.3941  \u001b[0m | \u001b[95m-0.03339 \u001b[0m | \u001b[95m-0.3666  \u001b[0m | \u001b[95m 0.0378  \u001b[0m | \u001b[95m 0.4857  \u001b[0m |\n",
      "| \u001b[0m 8       \u001b[0m | \u001b[0m 5.273   \u001b[0m | \u001b[0m 0.6825  \u001b[0m | \u001b[0m-0.1608  \u001b[0m | \u001b[0m-0.08974 \u001b[0m | \u001b[0m 0.1504  \u001b[0m | \u001b[0m 0.6881  \u001b[0m |\n",
      "| \u001b[0m 9       \u001b[0m | \u001b[0m 4.913   \u001b[0m | \u001b[0m 1.0     \u001b[0m | \u001b[0m 0.3812  \u001b[0m | \u001b[0m-0.4978  \u001b[0m | \u001b[0m 0.4007  \u001b[0m | \u001b[0m 0.6198  \u001b[0m |\n",
      "| \u001b[0m 10      \u001b[0m | \u001b[0m 4.582   \u001b[0m | \u001b[0m 1.0     \u001b[0m | \u001b[0m-0.6911  \u001b[0m | \u001b[0m-0.6339  \u001b[0m | \u001b[0m-0.01488 \u001b[0m | \u001b[0m 0.4802  \u001b[0m |\n",
      "| \u001b[0m 11      \u001b[0m | \u001b[0m 3.918   \u001b[0m | \u001b[0m 0.2466  \u001b[0m | \u001b[0m 0.3933  \u001b[0m | \u001b[0m 0.3054  \u001b[0m | \u001b[0m 0.3676  \u001b[0m | \u001b[0m 0.8003  \u001b[0m |\n",
      "| \u001b[0m 12      \u001b[0m | \u001b[0m 5.28    \u001b[0m | \u001b[0m 0.2371  \u001b[0m | \u001b[0m-0.03105 \u001b[0m | \u001b[0m-0.3926  \u001b[0m | \u001b[0m-0.0125  \u001b[0m | \u001b[0m 0.4245  \u001b[0m |\n",
      "| \u001b[95m 13      \u001b[0m | \u001b[95m 5.87    \u001b[0m | \u001b[95m 0.1765  \u001b[0m | \u001b[95m-0.6445  \u001b[0m | \u001b[95m-0.05813 \u001b[0m | \u001b[95m-0.04827 \u001b[0m | \u001b[95m 0.5006  \u001b[0m |\n",
      "| \u001b[0m 14      \u001b[0m | \u001b[0m 5.293   \u001b[0m | \u001b[0m 0.168   \u001b[0m | \u001b[0m-1.0     \u001b[0m | \u001b[0m 0.3668  \u001b[0m | \u001b[0m-0.4271  \u001b[0m | \u001b[0m 0.7991  \u001b[0m |\n",
      "| \u001b[0m 15      \u001b[0m | \u001b[0m 5.448   \u001b[0m | \u001b[0m-0.3934  \u001b[0m | \u001b[0m-1.0     \u001b[0m | \u001b[0m 0.03753 \u001b[0m | \u001b[0m 0.04793 \u001b[0m | \u001b[0m 0.2027  \u001b[0m |\n",
      "| \u001b[0m 16      \u001b[0m | \u001b[0m 4.578   \u001b[0m | \u001b[0m 0.4249  \u001b[0m | \u001b[0m-1.0     \u001b[0m | \u001b[0m 0.4472  \u001b[0m | \u001b[0m 0.3516  \u001b[0m | \u001b[0m 0.1832  \u001b[0m |\n",
      "| \u001b[0m 17      \u001b[0m | \u001b[0m 4.732   \u001b[0m | \u001b[0m-0.1721  \u001b[0m | \u001b[0m-1.0     \u001b[0m | \u001b[0m-0.4046  \u001b[0m | \u001b[0m-0.4915  \u001b[0m | \u001b[0m 0.5147  \u001b[0m |\n",
      "| \u001b[0m 18      \u001b[0m | \u001b[0m 4.832   \u001b[0m | \u001b[0m-0.327   \u001b[0m | \u001b[0m-0.5641  \u001b[0m | \u001b[0m 0.2123  \u001b[0m | \u001b[0m-0.0226  \u001b[0m | \u001b[0m 0.7242  \u001b[0m |\n",
      "| \u001b[95m 19      \u001b[0m | \u001b[95m 6.005   \u001b[0m | \u001b[95m 0.05228 \u001b[0m | \u001b[95m-0.6578  \u001b[0m | \u001b[95m-0.3224  \u001b[0m | \u001b[95m 0.2185  \u001b[0m | \u001b[95m 0.1573  \u001b[0m |\n",
      "| \u001b[0m 20      \u001b[0m | \u001b[0m 5.17    \u001b[0m | \u001b[0m-0.4035  \u001b[0m | \u001b[0m-1.0     \u001b[0m | \u001b[0m-0.5847  \u001b[0m | \u001b[0m 0.5705  \u001b[0m | \u001b[0m-0.1101  \u001b[0m |\n",
      "| \u001b[0m 21      \u001b[0m | \u001b[0m 5.121   \u001b[0m | \u001b[0m 0.09332 \u001b[0m | \u001b[0m-0.7285  \u001b[0m | \u001b[0m-0.09519 \u001b[0m | \u001b[0m-0.1613  \u001b[0m | \u001b[0m-0.08716 \u001b[0m |\n",
      "| \u001b[0m 22      \u001b[0m | \u001b[0m 5.186   \u001b[0m | \u001b[0m 0.1447  \u001b[0m | \u001b[0m-0.8974  \u001b[0m | \u001b[0m-0.4993  \u001b[0m | \u001b[0m 0.3573  \u001b[0m | \u001b[0m 0.4301  \u001b[0m |\n",
      "| \u001b[0m 23      \u001b[0m | \u001b[0m 5.372   \u001b[0m | \u001b[0m-0.1714  \u001b[0m | \u001b[0m-0.4427  \u001b[0m | \u001b[0m-0.1161  \u001b[0m | \u001b[0m 0.4542  \u001b[0m | \u001b[0m 0.1318  \u001b[0m |\n",
      "| \u001b[0m 24      \u001b[0m | \u001b[0m 4.263   \u001b[0m | \u001b[0m 1.0     \u001b[0m | \u001b[0m-0.8579  \u001b[0m | \u001b[0m 0.723   \u001b[0m | \u001b[0m-1.0     \u001b[0m | \u001b[0m 1.0     \u001b[0m |\n",
      "| \u001b[0m 25      \u001b[0m | \u001b[0m 5.21    \u001b[0m | \u001b[0m-0.2544  \u001b[0m | \u001b[0m-0.5574  \u001b[0m | \u001b[0m-0.4818  \u001b[0m | \u001b[0m 0.08069 \u001b[0m | \u001b[0m 0.2124  \u001b[0m |\n",
      "| \u001b[0m 26      \u001b[0m | \u001b[0m 5.744   \u001b[0m | \u001b[0m 0.4856  \u001b[0m | \u001b[0m-0.4681  \u001b[0m | \u001b[0m-0.1941  \u001b[0m | \u001b[0m 0.3086  \u001b[0m | \u001b[0m 0.2513  \u001b[0m |\n",
      "| \u001b[0m 27      \u001b[0m | \u001b[0m 4.283   \u001b[0m | \u001b[0m-0.8758  \u001b[0m | \u001b[0m-0.9886  \u001b[0m | \u001b[0m 0.9727  \u001b[0m | \u001b[0m-0.9457  \u001b[0m | \u001b[0m 0.6334  \u001b[0m |\n",
      "| \u001b[0m 28      \u001b[0m | \u001b[0m 4.453   \u001b[0m | \u001b[0m 1.0     \u001b[0m | \u001b[0m 1.0     \u001b[0m | \u001b[0m 1.0     \u001b[0m | \u001b[0m 1.0     \u001b[0m | \u001b[0m-1.0     \u001b[0m |\n",
      "| \u001b[0m 29      \u001b[0m | \u001b[0m 3.12    \u001b[0m | \u001b[0m 1.0     \u001b[0m | \u001b[0m-1.0     \u001b[0m | \u001b[0m 1.0     \u001b[0m | \u001b[0m-1.0     \u001b[0m | \u001b[0m-1.0     \u001b[0m |\n",
      "| \u001b[0m 30      \u001b[0m | \u001b[0m 4.011   \u001b[0m | \u001b[0m-1.0     \u001b[0m | \u001b[0m-1.0     \u001b[0m | \u001b[0m-1.0     \u001b[0m | \u001b[0m 1.0     \u001b[0m | \u001b[0m-1.0     \u001b[0m |\n",
      "=====================================================================================\n"
     ]
    }
   ],
   "source": [
    "optimizer = BayesianOptimization(\n",
    "    f=black_box_function,\n",
    "    pbounds=parameter_bounds\n",
    ")\n",
    "optimizer.maximize()"
   ]
  },
  {
   "cell_type": "code",
   "execution_count": 25,
   "id": "2da30ddf-e7b5-4084-916e-f9deb9fe1a0d",
   "metadata": {},
   "outputs": [
    {
     "name": "stdout",
     "output_type": "stream",
     "text": [
      "Desired: [-3.9280774e-05 -1.5888276e-03  4.7727444e-04  1.3756983e-04]\n"
     ]
    },
    {
     "data": {
      "image/png": "[encoded data removed]",
      "text/plain": [
       "<Figure size 720x360 with 2 Axes>"
      ]
     },
     "metadata": {
      "needs_background": "light"
     },
     "output_type": "display_data"
    }
   ],
   "source": [
    "print(\"Desired:\", env.desired)\n",
    "\n",
    "screen = env.segment.AREABSCR1\n",
    "\n",
    "plt.figure(figsize=(10,5))\n",
    "\n",
    "plt.subplot(121)\n",
    "plt.imshow(before, extent=screen.extent, interpolation=\"None\")\n",
    "plt.title(\"Before\")\n",
    "\n",
    "env.step(np.array([\n",
    "    optimizer.max[\"params\"][\"q1\"],\n",
    "    optimizer.max[\"params\"][\"q2\"],\n",
    "    optimizer.max[\"params\"][\"q3\"],\n",
    "    optimizer.max[\"params\"][\"cv\"],\n",
    "    optimizer.max[\"params\"][\"ch\"]\n",
    "]))\n",
    "\n",
    "plt.subplot(122)\n",
    "plt.imshow(screen.reading, extent=screen.extent, interpolation=\"None\")\n",
    "mu_x, mu_y, sigma_x, sigma_y = env.desired\n",
    "ellipse = Ellipse((mu_x,mu_y), sigma_x, sigma_y, fill=False, color=\"white\")\n",
    "plt.gca().add_patch(ellipse)\n",
    "plt.title(\"After\")\n",
    "\n",
    "plt.show()"
   ]
  },
  {
   "cell_type": "code",
   "execution_count": 16,
   "id": "16f2f7d0-e4fd-4d71-ac32-36c75bd8c682",
   "metadata": {},
   "outputs": [
    {
     "name": "stdout",
     "output_type": "stream",
     "text": [
      "WARNING: Diagnostic screen was converted with default screen properties.\n"
     ]
    },
    {
     "data": {
      "text/plain": [
       "array([-1.5970795e+01, -2.0227522e+01, -3.0365849e+00, -2.3424055e-03,\n",
       "       -5.0537526e-03,  1.9406258e-05, -9.6958305e-04,  1.1257718e-04,\n",
       "        3.3369160e-04, -2.3870913e-02, -2.0172757e-03,  1.7924888e-02,\n",
       "        4.4323067e-04], dtype=float32)"
      ]
     },
     "execution_count": 16,
     "metadata": {},
     "output_type": "execute_result"
    }
   ],
   "source": [
    "simulation = Simulation()\n",
    "simulation.reset()"
   ]
  },
  {
   "cell_type": "code",
   "execution_count": 17,
   "id": "9c76f723-816f-47dd-964a-1721cef3d046",
   "metadata": {},
   "outputs": [],
   "source": [
    "before = simulation.segment.AREABSCR1.reading"
   ]
  },
  {
   "cell_type": "code",
   "execution_count": 18,
   "id": "fd0c3eba-bc43-43eb-80eb-8d1acca1a302",
   "metadata": {},
   "outputs": [
    {
     "data": {
      "text/plain": [
       "array([2.2494400e+00, 4.1752610e+00, 4.1667311e-04, 4.1772236e-04],\n",
       "      dtype=float32)"
      ]
     },
     "execution_count": 18,
     "metadata": {},
     "output_type": "execute_result"
    }
   ],
   "source": [
    "simulation.track([1, 2, 3, 4, 5])"
   ]
  },
  {
   "cell_type": "code",
   "execution_count": 19,
   "id": "1670fe08-fd16-44ce-80bd-2e6d31797516",
   "metadata": {},
   "outputs": [],
   "source": [
    "def black_box_function(q1, q2, q3, cv, ch):\n",
    "    achieved = simulation.track([q1, q2, q3, cv, ch])\n",
    "    \n",
    "    def objective_fn(achieved, desired):\n",
    "        offset = achieved - desired\n",
    "        weights = np.array([1, 1, 2, 2])\n",
    "\n",
    "        return np.log((weights * np.abs(offset)).sum())\n",
    "    \n",
    "    objective = objective_fn(achieved, simulation.desired)\n",
    "    \n",
    "    return objective"
   ]
  },
  {
   "cell_type": "code",
   "execution_count": 20,
   "id": "2ede775f-2870-42c3-9dc8-2a67eaf436f8",
   "metadata": {},
   "outputs": [],
   "source": [
    "parameter_bounds = {\n",
    "    \"q1\": (-30, 30),\n",
    "    \"q2\": (-30, 30),\n",
    "    \"q3\": (-30, 30),\n",
    "    \"cv\": (-3e-3, 3e-3),\n",
    "    \"ch\": (-6e-3, 6e-3)\n",
    "}"
   ]
  },
  {
   "cell_type": "code",
   "execution_count": 21,
   "id": "d7f37f32-762e-46b2-9f1d-f6a37c4d07d9",
   "metadata": {},
   "outputs": [],
   "source": [
    "optimizer = BayesianOptimization(\n",
    "    f=black_box_function,\n",
    "    pbounds=parameter_bounds\n",
    ")"
   ]
  },
  {
   "cell_type": "code",
   "execution_count": 22,
   "id": "495e5514-b3dd-4874-a3cc-b1e81aae2a34",
   "metadata": {},
   "outputs": [
    {
     "name": "stdout",
     "output_type": "stream",
     "text": [
      "|   iter    |  target   |    ch     |    cv     |    q1     |    q2     |    q3     |\n",
      "-------------------------------------------------------------------------------------\n",
      "| \u001b[0m 1       \u001b[0m | \u001b[0m-4.797   \u001b[0m | \u001b[0m-0.006   \u001b[0m | \u001b[0m 0.002932\u001b[0m | \u001b[0m-10.48   \u001b[0m | \u001b[0m 2.893   \u001b[0m | \u001b[0m 13.57   \u001b[0m |\n",
      "| \u001b[95m 2       \u001b[0m | \u001b[95m-4.242   \u001b[0m | \u001b[95m 0.002512\u001b[0m | \u001b[95m 0.000824\u001b[0m | \u001b[95m-1.549   \u001b[0m | \u001b[95m-8.549   \u001b[0m | \u001b[95m-1.609   \u001b[0m |\n",
      "| \u001b[0m 3       \u001b[0m | \u001b[0m-5.788   \u001b[0m | \u001b[0m-0.001817\u001b[0m | \u001b[0m-0.000115\u001b[0m | \u001b[0m 4.966   \u001b[0m | \u001b[0m 1.666   \u001b[0m | \u001b[0m-16.91   \u001b[0m |\n",
      "| \u001b[0m 4       \u001b[0m | \u001b[0m-4.532   \u001b[0m | \u001b[0m 0.00214 \u001b[0m | \u001b[0m-0.001838\u001b[0m | \u001b[0m-19.4    \u001b[0m | \u001b[0m 14.27   \u001b[0m | \u001b[0m 15.95   \u001b[0m |\n",
      "| \u001b[95m 5       \u001b[0m | \u001b[95m-2.392   \u001b[0m | \u001b[95m-0.001968\u001b[0m | \u001b[95m 0.000128\u001b[0m | \u001b[95m-11.9    \u001b[0m | \u001b[95m-23.22   \u001b[0m | \u001b[95m-19.54   \u001b[0m |\n",
      "| \u001b[95m 6       \u001b[0m | \u001b[95m-2.368   \u001b[0m | \u001b[95m-0.004359\u001b[0m | \u001b[95m-0.001236\u001b[0m | \u001b[95m-11.92   \u001b[0m | \u001b[95m-22.73   \u001b[0m | \u001b[95m-20.82   \u001b[0m |\n",
      "| \u001b[95m 7       \u001b[0m | \u001b[95m-1.379   \u001b[0m | \u001b[95m-0.006   \u001b[0m | \u001b[95m-0.003   \u001b[0m | \u001b[95m-30.0    \u001b[0m | \u001b[95m-30.0    \u001b[0m | \u001b[95m-30.0    \u001b[0m |\n",
      "| \u001b[0m 8       \u001b[0m | \u001b[0m-1.949   \u001b[0m | \u001b[0m 0.006   \u001b[0m | \u001b[0m-0.003   \u001b[0m | \u001b[0m-30.0    \u001b[0m | \u001b[0m-9.548   \u001b[0m | \u001b[0m-30.0    \u001b[0m |\n",
      "| \u001b[0m 9       \u001b[0m | \u001b[0m-4.552   \u001b[0m | \u001b[0m 0.006   \u001b[0m | \u001b[0m-0.003   \u001b[0m | \u001b[0m 30.0    \u001b[0m | \u001b[0m-30.0    \u001b[0m | \u001b[0m 30.0    \u001b[0m |\n",
      "| \u001b[0m 10      \u001b[0m | \u001b[0m-2.616   \u001b[0m | \u001b[0m-0.006   \u001b[0m | \u001b[0m-0.003   \u001b[0m | \u001b[0m-30.0    \u001b[0m | \u001b[0m-30.0    \u001b[0m | \u001b[0m 7.868   \u001b[0m |\n",
      "| \u001b[0m 11      \u001b[0m | \u001b[0m-1.817   \u001b[0m | \u001b[0m-0.006   \u001b[0m | \u001b[0m-0.003   \u001b[0m | \u001b[0m-30.0    \u001b[0m | \u001b[0m-23.34   \u001b[0m | \u001b[0m-17.33   \u001b[0m |\n",
      "| \u001b[0m 12      \u001b[0m | \u001b[0m-2.364   \u001b[0m | \u001b[0m-0.006   \u001b[0m | \u001b[0m-0.003   \u001b[0m | \u001b[0m 30.0    \u001b[0m | \u001b[0m-30.0    \u001b[0m | \u001b[0m-30.0    \u001b[0m |\n",
      "| \u001b[0m 13      \u001b[0m | \u001b[0m-3.408   \u001b[0m | \u001b[0m 0.006   \u001b[0m | \u001b[0m-0.003   \u001b[0m | \u001b[0m-30.0    \u001b[0m | \u001b[0m 30.0    \u001b[0m | \u001b[0m-30.0    \u001b[0m |\n",
      "| \u001b[0m 14      \u001b[0m | \u001b[0m-3.005   \u001b[0m | \u001b[0m-0.006   \u001b[0m | \u001b[0m-0.003   \u001b[0m | \u001b[0m 3.066   \u001b[0m | \u001b[0m-30.0    \u001b[0m | \u001b[0m-30.0    \u001b[0m |\n",
      "| \u001b[0m 15      \u001b[0m | \u001b[0m-3.339   \u001b[0m | \u001b[0m 0.006   \u001b[0m | \u001b[0m-0.003   \u001b[0m | \u001b[0m 30.0    \u001b[0m | \u001b[0m 30.0    \u001b[0m | \u001b[0m 30.0    \u001b[0m |\n",
      "| \u001b[0m 16      \u001b[0m | \u001b[0m-1.582   \u001b[0m | \u001b[0m 0.006   \u001b[0m | \u001b[0m 0.003   \u001b[0m | \u001b[0m-30.0    \u001b[0m | \u001b[0m-21.83   \u001b[0m | \u001b[0m-30.0    \u001b[0m |\n",
      "| \u001b[0m 17      \u001b[0m | \u001b[0m-1.668   \u001b[0m | \u001b[0m-0.000994\u001b[0m | \u001b[0m 0.000634\u001b[0m | \u001b[0m-20.42   \u001b[0m | \u001b[0m-29.97   \u001b[0m | \u001b[0m-29.91   \u001b[0m |\n",
      "| \u001b[0m 18      \u001b[0m | \u001b[0m-3.446   \u001b[0m | \u001b[0m 0.006   \u001b[0m | \u001b[0m-0.003   \u001b[0m | \u001b[0m-30.0    \u001b[0m | \u001b[0m-30.0    \u001b[0m | \u001b[0m 30.0    \u001b[0m |\n",
      "| \u001b[0m 19      \u001b[0m | \u001b[0m-1.562   \u001b[0m | \u001b[0m 0.006   \u001b[0m | \u001b[0m-0.003   \u001b[0m | \u001b[0m-30.0    \u001b[0m | \u001b[0m-30.0    \u001b[0m | \u001b[0m-22.69   \u001b[0m |\n",
      "| \u001b[0m 20      \u001b[0m | \u001b[0m-1.591   \u001b[0m | \u001b[0m-0.002245\u001b[0m | \u001b[0m 0.002144\u001b[0m | \u001b[0m-26.22   \u001b[0m | \u001b[0m-27.09   \u001b[0m | \u001b[0m-27.82   \u001b[0m |\n",
      "| \u001b[0m 21      \u001b[0m | \u001b[0m-1.421   \u001b[0m | \u001b[0m 0.006   \u001b[0m | \u001b[0m-0.003   \u001b[0m | \u001b[0m-30.0    \u001b[0m | \u001b[0m-29.08   \u001b[0m | \u001b[0m-30.0    \u001b[0m |\n",
      "| \u001b[0m 22      \u001b[0m | \u001b[0m-2.83    \u001b[0m | \u001b[0m-0.006   \u001b[0m | \u001b[0m 0.003   \u001b[0m | \u001b[0m 30.0    \u001b[0m | \u001b[0m-30.0    \u001b[0m | \u001b[0m-9.241   \u001b[0m |\n",
      "| \u001b[0m 23      \u001b[0m | \u001b[0m-1.474   \u001b[0m | \u001b[0m 0.005851\u001b[0m | \u001b[0m 0.000163\u001b[0m | \u001b[0m-28.46   \u001b[0m | \u001b[0m-29.56   \u001b[0m | \u001b[0m-28.75   \u001b[0m |\n",
      "| \u001b[0m 24      \u001b[0m | \u001b[0m-1.834   \u001b[0m | \u001b[0m-0.006   \u001b[0m | \u001b[0m 0.003   \u001b[0m | \u001b[0m-30.0    \u001b[0m | \u001b[0m-30.0    \u001b[0m | \u001b[0m-10.84   \u001b[0m |\n",
      "| \u001b[95m 25      \u001b[0m | \u001b[95m-1.372   \u001b[0m | \u001b[95m-0.006   \u001b[0m | \u001b[95m 0.003   \u001b[0m | \u001b[95m-30.0    \u001b[0m | \u001b[95m-30.0    \u001b[0m | \u001b[95m-30.0    \u001b[0m |\n",
      "| \u001b[0m 26      \u001b[0m | \u001b[0m-3.89    \u001b[0m | \u001b[0m-0.006   \u001b[0m | \u001b[0m 0.003   \u001b[0m | \u001b[0m 30.0    \u001b[0m | \u001b[0m 30.0    \u001b[0m | \u001b[0m-30.0    \u001b[0m |\n",
      "| \u001b[0m 27      \u001b[0m | \u001b[0m-3.487   \u001b[0m | \u001b[0m-0.006   \u001b[0m | \u001b[0m 0.003   \u001b[0m | \u001b[0m-30.0    \u001b[0m | \u001b[0m 30.0    \u001b[0m | \u001b[0m 30.0    \u001b[0m |\n",
      "| \u001b[0m 28      \u001b[0m | \u001b[0m-1.91    \u001b[0m | \u001b[0m 0.001743\u001b[0m | \u001b[0m 0.002708\u001b[0m | \u001b[0m-22.71   \u001b[0m | \u001b[0m-18.47   \u001b[0m | \u001b[0m-28.23   \u001b[0m |\n",
      "| \u001b[0m 29      \u001b[0m | \u001b[0m-1.821   \u001b[0m | \u001b[0m-0.002234\u001b[0m | \u001b[0m 0.000640\u001b[0m | \u001b[0m-21.98   \u001b[0m | \u001b[0m-29.98   \u001b[0m | \u001b[0m-20.58   \u001b[0m |\n",
      "| \u001b[0m 30      \u001b[0m | \u001b[0m-1.821   \u001b[0m | \u001b[0m-0.002234\u001b[0m | \u001b[0m 0.000640\u001b[0m | \u001b[0m-21.98   \u001b[0m | \u001b[0m-29.98   \u001b[0m | \u001b[0m-20.58   \u001b[0m |\n",
      "=====================================================================================\n"
     ]
    }
   ],
   "source": [
    "optimizer.maximize()"
   ]
  },
  {
   "cell_type": "code",
   "execution_count": 23,
   "id": "96f1ca36-e2c7-4b57-bf76-9766ab76dae5",
   "metadata": {},
   "outputs": [
    {
     "data": {
      "text/plain": [
       "{'target': -1.3719613968434976,\n",
       " 'params': {'ch': -0.006, 'cv': 0.003, 'q1': -30.0, 'q2': -30.0, 'q3': -30.0}}"
      ]
     },
     "execution_count": 23,
     "metadata": {},
     "output_type": "execute_result"
    }
   ],
   "source": [
    "optimizer.max"
   ]
  },
  {
   "cell_type": "code",
   "execution_count": 27,
   "id": "58bfe16b-548c-4749-8610-bcc5cad1d99a",
   "metadata": {},
   "outputs": [
    {
     "name": "stdout",
     "output_type": "stream",
     "text": [
      "Desired: [ 1.9406258e-05 -9.6958305e-04  1.1257718e-04  3.3369160e-04]\n"
     ]
    },
    {
     "data": {
      "image/png": "[encoded data removed]",
      "text/plain": [
       "<Figure size 720x360 with 2 Axes>"
      ]
     },
     "metadata": {
      "needs_background": "light"
     },
     "output_type": "display_data"
    }
   ],
   "source": [
    "print(\"Desired:\", simulation.desired)\n",
    "\n",
    "screen = simulation.segment.AREABSCR1\n",
    "\n",
    "plt.figure(figsize=(10,5))\n",
    "\n",
    "plt.subplot(121)\n",
    "plt.imshow(before, extent=screen.extent, interpolation=\"None\")\n",
    "plt.title(\"Before\")\n",
    "\n",
    "simulation.track([\n",
    "    optimizer.max[\"params\"][\"q1\"],\n",
    "    optimizer.max[\"params\"][\"q2\"],\n",
    "    optimizer.max[\"params\"][\"q3\"],\n",
    "    optimizer.max[\"params\"][\"cv\"],\n",
    "    optimizer.max[\"params\"][\"ch\"]\n",
    "])\n",
    "\n",
    "plt.subplot(122)\n",
    "plt.imshow(screen.reading, extent=screen.extent, interpolation=\"None\")\n",
    "mu_x, mu_y, sigma_x, sigma_y = simulation.desired\n",
    "ellipse = Ellipse((mu_x,mu_y), sigma_x, sigma_y, fill=False, color=\"white\")\n",
    "plt.gca().add_patch(ellipse)\n",
    "plt.title(\"After\")\n",
    "\n",
    "plt.show()"
   ]
  },
  {
   "cell_type": "code",
   "execution_count": null,
   "id": "a116b663-5853-4a5e-9296-453eeebf46f2",
   "metadata": {},
   "outputs": [],
   "source": []
  }
 ],
 "metadata": {
  "kernelspec": {
   "display_name": "Python 3 (ipykernel)",
   "language": "python",
   "name": "python3"
  },
  "language_info": {
   "codemirror_mode": {
    "name": "ipython",
    "version": 3
   },
   "file_extension": ".py",
   "mimetype": "text/x-python",
   "name": "python",
   "nbconvert_exporter": "python",
   "pygments_lexer": "ipython3",
   "version": "3.7.11"
  }
 },
 "nbformat": 4,
 "nbformat_minor": 5
}
