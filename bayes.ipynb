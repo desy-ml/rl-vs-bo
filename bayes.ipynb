{
 "cells": [
  {
   "cell_type": "code",
   "execution_count": 1,
   "source": [
    "from bayes_opt import BayesianOptimization\n",
    "import matplotlib.pyplot as plt\n",
    "from matplotlib.patches import Ellipse\n",
    "import numpy as np\n",
    "import torch\n",
    "\n",
    "from environments.onestep import ARESEAOneStep\n",
    "from onestep import GaussianActor, Simulation"
   ],
   "outputs": [
    {
     "output_type": "stream",
     "name": "stdout",
     "text": [
      "initializing ocelot...\n"
     ]
    }
   ],
   "metadata": {}
  },
  {
   "cell_type": "markdown",
   "source": [
    "## Bayesian Optimisation"
   ],
   "metadata": {}
  },
  {
   "cell_type": "code",
   "execution_count": 2,
   "source": [
    "env = ARESEAOneStep()\n",
    "observation = env.reset()\n",
    "before = env.segment.AREABSCR1.reading"
   ],
   "outputs": [
    {
     "output_type": "stream",
     "name": "stdout",
     "text": [
      "WARNING: Diagnostic screen was converted with default screen properties.\n"
     ]
    }
   ],
   "metadata": {}
  },
  {
   "cell_type": "code",
   "execution_count": 3,
   "source": [
    "def objective_fn(q1, q2, q3, cv, ch):\n",
    "    action = np.array([q1, q2, q3, cv, ch])\n",
    "    _, reward, _, _ = env.step(action)\n",
    "    return reward"
   ],
   "outputs": [],
   "metadata": {}
  },
  {
   "cell_type": "code",
   "execution_count": 4,
   "source": [
    "pbounds = {\"q1\": (-1,1), \"q2\": (-1,1), \"q3\": (-1,1), \"cv\": (-1,1), \"ch\": (-1,1)}"
   ],
   "outputs": [],
   "metadata": {}
  },
  {
   "cell_type": "code",
   "execution_count": 5,
   "source": [
    "optimizer = BayesianOptimization(\n",
    "    f=objective_fn,\n",
    "    pbounds=pbounds\n",
    ")\n",
    "optimizer.maximize(init_points=3, n_iter=50-3)"
   ],
   "outputs": [
    {
     "output_type": "stream",
     "name": "stdout",
     "text": [
      "|   iter    |  target   |    ch     |    cv     |    q1     |    q2     |    q3     |\n",
      "-------------------------------------------------------------------------------------\n",
      "| \u001b[0m 1       \u001b[0m | \u001b[0m 4.969   \u001b[0m | \u001b[0m 0.9894  \u001b[0m | \u001b[0m 0.7641  \u001b[0m | \u001b[0m 0.8099  \u001b[0m | \u001b[0m-0.8258  \u001b[0m | \u001b[0m 0.8547  \u001b[0m |\n",
      "| \u001b[0m 2       \u001b[0m | \u001b[0m 3.973   \u001b[0m | \u001b[0m 0.763   \u001b[0m | \u001b[0m-0.781   \u001b[0m | \u001b[0m 0.9276  \u001b[0m | \u001b[0m-0.01737 \u001b[0m | \u001b[0m 0.3355  \u001b[0m |\n",
      "| \u001b[0m 3       \u001b[0m | \u001b[0m 2.862   \u001b[0m | \u001b[0m-0.04679 \u001b[0m | \u001b[0m 0.9612  \u001b[0m | \u001b[0m-0.5067  \u001b[0m | \u001b[0m-0.2719  \u001b[0m | \u001b[0m-0.6948  \u001b[0m |\n",
      "| \u001b[0m 4       \u001b[0m | \u001b[0m 4.909   \u001b[0m | \u001b[0m 0.9647  \u001b[0m | \u001b[0m 0.4733  \u001b[0m | \u001b[0m 0.8538  \u001b[0m | \u001b[0m-0.6534  \u001b[0m | \u001b[0m 0.7708  \u001b[0m |\n",
      "| \u001b[0m 5       \u001b[0m | \u001b[0m 3.198   \u001b[0m | \u001b[0m 1.0     \u001b[0m | \u001b[0m 1.0     \u001b[0m | \u001b[0m 1.0     \u001b[0m | \u001b[0m 1.0     \u001b[0m | \u001b[0m 1.0     \u001b[0m |\n",
      "| \u001b[0m 6       \u001b[0m | \u001b[0m 4.816   \u001b[0m | \u001b[0m-0.1678  \u001b[0m | \u001b[0m 0.4588  \u001b[0m | \u001b[0m 1.0     \u001b[0m | \u001b[0m-1.0     \u001b[0m | \u001b[0m 1.0     \u001b[0m |\n",
      "| \u001b[0m 7       \u001b[0m | \u001b[0m 3.861   \u001b[0m | \u001b[0m 1.0     \u001b[0m | \u001b[0m-0.3043  \u001b[0m | \u001b[0m-0.4044  \u001b[0m | \u001b[0m-1.0     \u001b[0m | \u001b[0m 1.0     \u001b[0m |\n",
      "| \u001b[0m 8       \u001b[0m | \u001b[0m 4.047   \u001b[0m | \u001b[0m-1.0     \u001b[0m | \u001b[0m-1.0     \u001b[0m | \u001b[0m 1.0     \u001b[0m | \u001b[0m-1.0     \u001b[0m | \u001b[0m 1.0     \u001b[0m |\n",
      "| \u001b[0m 9       \u001b[0m | \u001b[0m 3.021   \u001b[0m | \u001b[0m 1.0     \u001b[0m | \u001b[0m 0.7906  \u001b[0m | \u001b[0m 1.0     \u001b[0m | \u001b[0m-1.0     \u001b[0m | \u001b[0m-0.135   \u001b[0m |\n",
      "| \u001b[95m 10      \u001b[0m | \u001b[95m 5.606   \u001b[0m | \u001b[95m 0.4123  \u001b[0m | \u001b[95m 0.6101  \u001b[0m | \u001b[95m 0.6069  \u001b[0m | \u001b[95m-0.741   \u001b[0m | \u001b[95m 1.0     \u001b[0m |\n",
      "| \u001b[0m 11      \u001b[0m | \u001b[0m 4.485   \u001b[0m | \u001b[0m 0.1668  \u001b[0m | \u001b[0m 1.0     \u001b[0m | \u001b[0m 0.1315  \u001b[0m | \u001b[0m-1.0     \u001b[0m | \u001b[0m 1.0     \u001b[0m |\n",
      "| \u001b[0m 12      \u001b[0m | \u001b[0m 4.295   \u001b[0m | \u001b[0m 0.3141  \u001b[0m | \u001b[0m 0.8893  \u001b[0m | \u001b[0m 1.0     \u001b[0m | \u001b[0m-0.4058  \u001b[0m | \u001b[0m 1.0     \u001b[0m |\n",
      "| \u001b[0m 13      \u001b[0m | \u001b[0m 5.364   \u001b[0m | \u001b[0m 0.5098  \u001b[0m | \u001b[0m 0.2085  \u001b[0m | \u001b[0m 0.6282  \u001b[0m | \u001b[0m-1.0     \u001b[0m | \u001b[0m 1.0     \u001b[0m |\n",
      "| \u001b[0m 14      \u001b[0m | \u001b[0m 5.365   \u001b[0m | \u001b[0m 0.1034  \u001b[0m | \u001b[0m 0.06387 \u001b[0m | \u001b[0m 0.3839  \u001b[0m | \u001b[0m-0.3612  \u001b[0m | \u001b[0m 0.8949  \u001b[0m |\n",
      "| \u001b[0m 15      \u001b[0m | \u001b[0m 4.938   \u001b[0m | \u001b[0m-0.7247  \u001b[0m | \u001b[0m-0.1149  \u001b[0m | \u001b[0m-0.09298 \u001b[0m | \u001b[0m 0.06081 \u001b[0m | \u001b[0m 1.0     \u001b[0m |\n",
      "| \u001b[0m 16      \u001b[0m | \u001b[0m 3.985   \u001b[0m | \u001b[0m-0.9183  \u001b[0m | \u001b[0m-0.9176  \u001b[0m | \u001b[0m-0.5865  \u001b[0m | \u001b[0m 1.0     \u001b[0m | \u001b[0m 1.0     \u001b[0m |\n",
      "| \u001b[0m 17      \u001b[0m | \u001b[0m 4.724   \u001b[0m | \u001b[0m 0.6943  \u001b[0m | \u001b[0m 0.4577  \u001b[0m | \u001b[0m 0.1921  \u001b[0m | \u001b[0m-0.4259  \u001b[0m | \u001b[0m 1.0     \u001b[0m |\n",
      "| \u001b[0m 18      \u001b[0m | \u001b[0m 4.949   \u001b[0m | \u001b[0m-0.3858  \u001b[0m | \u001b[0m 0.02587 \u001b[0m | \u001b[0m 0.1375  \u001b[0m | \u001b[0m-0.842   \u001b[0m | \u001b[0m 1.0     \u001b[0m |\n",
      "| \u001b[0m 19      \u001b[0m | \u001b[0m 4.377   \u001b[0m | \u001b[0m-0.9449  \u001b[0m | \u001b[0m 0.1645  \u001b[0m | \u001b[0m 0.8214  \u001b[0m | \u001b[0m 0.03098 \u001b[0m | \u001b[0m 0.8219  \u001b[0m |\n",
      "| \u001b[0m 20      \u001b[0m | \u001b[0m 3.689   \u001b[0m | \u001b[0m-1.0     \u001b[0m | \u001b[0m-0.3632  \u001b[0m | \u001b[0m-1.0     \u001b[0m | \u001b[0m-0.7101  \u001b[0m | \u001b[0m 1.0     \u001b[0m |\n",
      "| \u001b[0m 21      \u001b[0m | \u001b[0m 4.92    \u001b[0m | \u001b[0m-0.1744  \u001b[0m | \u001b[0m-0.6313  \u001b[0m | \u001b[0m 0.3096  \u001b[0m | \u001b[0m-0.1518  \u001b[0m | \u001b[0m 1.0     \u001b[0m |\n",
      "| \u001b[0m 22      \u001b[0m | \u001b[0m 3.897   \u001b[0m | \u001b[0m-1.0     \u001b[0m | \u001b[0m-1.0     \u001b[0m | \u001b[0m 1.0     \u001b[0m | \u001b[0m 1.0     \u001b[0m | \u001b[0m-1.0     \u001b[0m |\n",
      "| \u001b[0m 23      \u001b[0m | \u001b[0m 5.243   \u001b[0m | \u001b[0m 0.161   \u001b[0m | \u001b[0m 0.3195  \u001b[0m | \u001b[0m 0.5119  \u001b[0m | \u001b[0m-0.7945  \u001b[0m | \u001b[0m 0.6186  \u001b[0m |\n",
      "| \u001b[0m 24      \u001b[0m | \u001b[0m 3.427   \u001b[0m | \u001b[0m 1.0     \u001b[0m | \u001b[0m-1.0     \u001b[0m | \u001b[0m-1.0     \u001b[0m | \u001b[0m 1.0     \u001b[0m | \u001b[0m-1.0     \u001b[0m |\n",
      "| \u001b[0m 25      \u001b[0m | \u001b[0m 3.786   \u001b[0m | \u001b[0m-1.0     \u001b[0m | \u001b[0m 1.0     \u001b[0m | \u001b[0m-1.0     \u001b[0m | \u001b[0m 1.0     \u001b[0m | \u001b[0m 1.0     \u001b[0m |\n",
      "| \u001b[0m 26      \u001b[0m | \u001b[0m 2.425   \u001b[0m | \u001b[0m-1.0     \u001b[0m | \u001b[0m-1.0     \u001b[0m | \u001b[0m 1.0     \u001b[0m | \u001b[0m-1.0     \u001b[0m | \u001b[0m-1.0     \u001b[0m |\n",
      "| \u001b[0m 27      \u001b[0m | \u001b[0m 3.336   \u001b[0m | \u001b[0m-1.0     \u001b[0m | \u001b[0m-1.0     \u001b[0m | \u001b[0m 1.0     \u001b[0m | \u001b[0m 1.0     \u001b[0m | \u001b[0m 1.0     \u001b[0m |\n",
      "| \u001b[0m 28      \u001b[0m | \u001b[0m 3.291   \u001b[0m | \u001b[0m 1.0     \u001b[0m | \u001b[0m-1.0     \u001b[0m | \u001b[0m-1.0     \u001b[0m | \u001b[0m 1.0     \u001b[0m | \u001b[0m 1.0     \u001b[0m |\n",
      "| \u001b[0m 29      \u001b[0m | \u001b[0m 3.609   \u001b[0m | \u001b[0m-1.0     \u001b[0m | \u001b[0m-1.0     \u001b[0m | \u001b[0m-1.0     \u001b[0m | \u001b[0m 1.0     \u001b[0m | \u001b[0m-1.0     \u001b[0m |\n",
      "| \u001b[0m 30      \u001b[0m | \u001b[0m 5.392   \u001b[0m | \u001b[0m 0.1432  \u001b[0m | \u001b[0m-0.09943 \u001b[0m | \u001b[0m 0.8778  \u001b[0m | \u001b[0m-0.576   \u001b[0m | \u001b[0m 1.0     \u001b[0m |\n",
      "| \u001b[0m 31      \u001b[0m | \u001b[0m 4.416   \u001b[0m | \u001b[0m 1.0     \u001b[0m | \u001b[0m-1.0     \u001b[0m | \u001b[0m 1.0     \u001b[0m | \u001b[0m-1.0     \u001b[0m | \u001b[0m 1.0     \u001b[0m |\n",
      "| \u001b[95m 32      \u001b[0m | \u001b[95m 6.254   \u001b[0m | \u001b[95m 0.107   \u001b[0m | \u001b[95m 0.3105  \u001b[0m | \u001b[95m 0.5555  \u001b[0m | \u001b[95m-0.678   \u001b[0m | \u001b[95m 1.0     \u001b[0m |\n",
      "| \u001b[0m 33      \u001b[0m | \u001b[0m 5.508   \u001b[0m | \u001b[0m-0.1974  \u001b[0m | \u001b[0m 0.4709  \u001b[0m | \u001b[0m 0.4811  \u001b[0m | \u001b[0m-0.4973  \u001b[0m | \u001b[0m 1.0     \u001b[0m |\n",
      "| \u001b[0m 34      \u001b[0m | \u001b[0m 4.0     \u001b[0m | \u001b[0m-1.0     \u001b[0m | \u001b[0m 1.0     \u001b[0m | \u001b[0m 1.0     \u001b[0m | \u001b[0m 1.0     \u001b[0m | \u001b[0m-1.0     \u001b[0m |\n",
      "| \u001b[0m 35      \u001b[0m | \u001b[0m 1.531   \u001b[0m | \u001b[0m 1.0     \u001b[0m | \u001b[0m-1.0     \u001b[0m | \u001b[0m-1.0     \u001b[0m | \u001b[0m-1.0     \u001b[0m | \u001b[0m-1.0     \u001b[0m |\n",
      "| \u001b[0m 36      \u001b[0m | \u001b[0m 3.661   \u001b[0m | \u001b[0m 1.0     \u001b[0m | \u001b[0m-1.0     \u001b[0m | \u001b[0m 1.0     \u001b[0m | \u001b[0m 1.0     \u001b[0m | \u001b[0m-1.0     \u001b[0m |\n",
      "| \u001b[0m 37      \u001b[0m | \u001b[0m 3.742   \u001b[0m | \u001b[0m 1.0     \u001b[0m | \u001b[0m 1.0     \u001b[0m | \u001b[0m 1.0     \u001b[0m | \u001b[0m 1.0     \u001b[0m | \u001b[0m-1.0     \u001b[0m |\n",
      "| \u001b[0m 38      \u001b[0m | \u001b[0m 3.572   \u001b[0m | \u001b[0m 1.0     \u001b[0m | \u001b[0m 1.0     \u001b[0m | \u001b[0m-1.0     \u001b[0m | \u001b[0m 1.0     \u001b[0m | \u001b[0m 1.0     \u001b[0m |\n",
      "| \u001b[0m 39      \u001b[0m | \u001b[0m 5.865   \u001b[0m | \u001b[0m 0.1747  \u001b[0m | \u001b[0m 0.301   \u001b[0m | \u001b[0m 0.4536  \u001b[0m | \u001b[0m-0.7014  \u001b[0m | \u001b[0m 0.9704  \u001b[0m |\n",
      "| \u001b[0m 40      \u001b[0m | \u001b[0m 4.836   \u001b[0m | \u001b[0m 0.06557 \u001b[0m | \u001b[0m 0.2211  \u001b[0m | \u001b[0m 0.8114  \u001b[0m | \u001b[0m-0.3493  \u001b[0m | \u001b[0m 0.9817  \u001b[0m |\n",
      "| \u001b[0m 41      \u001b[0m | \u001b[0m 5.834   \u001b[0m | \u001b[0m-0.09286 \u001b[0m | \u001b[0m 0.03378 \u001b[0m | \u001b[0m 0.6271  \u001b[0m | \u001b[0m-0.853   \u001b[0m | \u001b[0m 1.0     \u001b[0m |\n",
      "| \u001b[0m 42      \u001b[0m | \u001b[0m 4.639   \u001b[0m | \u001b[0m-1.0     \u001b[0m | \u001b[0m 1.0     \u001b[0m | \u001b[0m-0.06657 \u001b[0m | \u001b[0m-0.3887  \u001b[0m | \u001b[0m 1.0     \u001b[0m |\n",
      "| \u001b[0m 43      \u001b[0m | \u001b[0m 4.647   \u001b[0m | \u001b[0m 0.1216  \u001b[0m | \u001b[0m-0.7682  \u001b[0m | \u001b[0m 0.4484  \u001b[0m | \u001b[0m-0.9619  \u001b[0m | \u001b[0m 0.9703  \u001b[0m |\n",
      "| \u001b[0m 44      \u001b[0m | \u001b[0m 3.436   \u001b[0m | \u001b[0m-1.0     \u001b[0m | \u001b[0m 1.0     \u001b[0m | \u001b[0m 0.6181  \u001b[0m | \u001b[0m 1.0     \u001b[0m | \u001b[0m 1.0     \u001b[0m |\n",
      "| \u001b[0m 45      \u001b[0m | \u001b[0m 6.249   \u001b[0m | \u001b[0m-0.5796  \u001b[0m | \u001b[0m-0.2748  \u001b[0m | \u001b[0m 0.2019  \u001b[0m | \u001b[0m-0.3129  \u001b[0m | \u001b[0m 0.3256  \u001b[0m |\n",
      "| \u001b[0m 46      \u001b[0m | \u001b[0m 4.886   \u001b[0m | \u001b[0m-1.0     \u001b[0m | \u001b[0m-0.1433  \u001b[0m | \u001b[0m 0.03839 \u001b[0m | \u001b[0m-0.2367  \u001b[0m | \u001b[0m 0.1054  \u001b[0m |\n",
      "| \u001b[0m 47      \u001b[0m | \u001b[0m 5.135   \u001b[0m | \u001b[0m-0.2424  \u001b[0m | \u001b[0m-0.5205  \u001b[0m | \u001b[0m 0.0197  \u001b[0m | \u001b[0m-0.2246  \u001b[0m | \u001b[0m 0.1937  \u001b[0m |\n",
      "| \u001b[0m 48      \u001b[0m | \u001b[0m 4.777   \u001b[0m | \u001b[0m-0.5052  \u001b[0m | \u001b[0m-0.2957  \u001b[0m | \u001b[0m 0.5674  \u001b[0m | \u001b[0m-0.5785  \u001b[0m | \u001b[0m 0.3488  \u001b[0m |\n",
      "| \u001b[95m 49      \u001b[0m | \u001b[95m 6.928   \u001b[0m | \u001b[95m-0.4275  \u001b[0m | \u001b[95m 0.04201 \u001b[0m | \u001b[95m 0.1027  \u001b[0m | \u001b[95m-0.1459  \u001b[0m | \u001b[95m 0.4136  \u001b[0m |\n",
      "| \u001b[0m 50      \u001b[0m | \u001b[0m 5.132   \u001b[0m | \u001b[0m-0.4405  \u001b[0m | \u001b[0m-0.05606 \u001b[0m | \u001b[0m 0.2502  \u001b[0m | \u001b[0m 0.1517  \u001b[0m | \u001b[0m 0.3056  \u001b[0m |\n",
      "=====================================================================================\n"
     ]
    }
   ],
   "metadata": {}
  },
  {
   "cell_type": "code",
   "execution_count": 6,
   "source": [
    "print(\"Desired:\", env.desired)\n",
    "\n",
    "screen = env.segment.AREABSCR1\n",
    "\n",
    "plt.figure(figsize=(10,5))\n",
    "\n",
    "plt.subplot(121)\n",
    "plt.imshow(before, extent=screen.extent, interpolation=\"None\")\n",
    "plt.title(\"Before\")\n",
    "\n",
    "_, reward, _, _ = env.step(np.array([\n",
    "    optimizer.max[\"params\"][\"q1\"],\n",
    "    optimizer.max[\"params\"][\"q2\"],\n",
    "    optimizer.max[\"params\"][\"q3\"],\n",
    "    optimizer.max[\"params\"][\"cv\"],\n",
    "    optimizer.max[\"params\"][\"ch\"]\n",
    "]))\n",
    "print(\"Objective:\", reward)\n",
    "\n",
    "plt.subplot(122)\n",
    "plt.imshow(screen.reading, extent=screen.extent, interpolation=\"None\")\n",
    "mu_x, mu_y, sigma_x, sigma_y = env.desired\n",
    "ellipse = Ellipse((mu_x,mu_y), sigma_x, sigma_y, fill=False, color=\"white\")\n",
    "plt.gca().add_patch(ellipse)\n",
    "plt.title(\"After\")\n",
    "\n",
    "plt.show()"
   ],
   "outputs": [
    {
     "output_type": "stream",
     "name": "stdout",
     "text": [
      "Desired: [-1.3247726e-03  7.1800320e-04  9.4300776e-05  1.8888777e-04]\n",
      "Objective: 6.928036357392659\n"
     ]
    },
    {
     "output_type": "display_data",
     "data": {
      "image/png": "[encoded data removed]",
      "text/plain": [
       "<Figure size 720x360 with 2 Axes>"
      ]
     },
     "metadata": {
      "needs_background": "light"
     }
    }
   ],
   "metadata": {}
  },
  {
   "cell_type": "code",
   "execution_count": 7,
   "source": [
    "plt.plot(optimizer.space.target)\n",
    "plt.show()"
   ],
   "outputs": [
    {
     "output_type": "display_data",
     "data": {
      "image/png": "[encoded data removed]",
      "text/plain": [
       "<Figure size 432x288 with 1 Axes>"
      ]
     },
     "metadata": {
      "needs_background": "light"
     }
    }
   ],
   "metadata": {}
  },
  {
   "cell_type": "code",
   "execution_count": 8,
   "source": [
    "simulation = Simulation()\n",
    "simulation.reset(incoming=env.incoming, initial_actuators=env.initial_actuators, desired=env.desired)"
   ],
   "outputs": [
    {
     "output_type": "stream",
     "name": "stdout",
     "text": [
      "WARNING: Diagnostic screen was converted with default screen properties.\n"
     ]
    },
    {
     "output_type": "execute_result",
     "data": {
      "text/plain": [
       "array([ 2.5910077e+00,  7.9564586e+00,  2.9757881e+01,  1.7247422e-04,\n",
       "        4.2377235e-03, -1.3247726e-03,  7.1800320e-04,  9.4300776e-05,\n",
       "        1.8888777e-04,  5.0085862e-03,  2.4738766e-03,  5.0729653e-04,\n",
       "        1.8656972e-03], dtype=float32)"
      ]
     },
     "metadata": {},
     "execution_count": 8
    }
   ],
   "metadata": {}
  },
  {
   "cell_type": "code",
   "execution_count": 9,
   "source": [
    "def target_fn(q1, q2, q3, cv, ch):\n",
    "    normalized_actuators = np.array([q1, q2, q3, cv, ch])\n",
    "    actuators = normalized_actuators * simulation.actuator_space.high\n",
    "    \n",
    "    achieved = simulation.track(actuators)\n",
    "    \n",
    "    def objective_fn(achieved, desired):\n",
    "        offset = achieved - desired\n",
    "        weights = np.array([1, 1, 2, 2])\n",
    "\n",
    "        return -np.log((weights * np.abs(offset)).sum())\n",
    "    \n",
    "    return objective_fn(achieved, simulation.desired)"
   ],
   "outputs": [],
   "metadata": {}
  },
  {
   "cell_type": "code",
   "execution_count": 10,
   "source": [
    "pbounds = {\"q1\": (-1,1), \"q2\": (-1,1), \"q3\": (-1,1), \"cv\": (-1,1), \"ch\": (-1,1)}"
   ],
   "outputs": [],
   "metadata": {}
  },
  {
   "cell_type": "code",
   "execution_count": 11,
   "source": [
    "optimizer = BayesianOptimization(\n",
    "    f=target_fn,\n",
    "    pbounds=pbounds\n",
    ")\n",
    "optimizer.maximize(init_points=3, n_iter=50-3)"
   ],
   "outputs": [
    {
     "output_type": "stream",
     "name": "stdout",
     "text": [
      "|   iter    |  target   |    ch     |    cv     |    q1     |    q2     |    q3     |\n",
      "-------------------------------------------------------------------------------------\n",
      "| \u001b[0m 1       \u001b[0m | \u001b[0m 3.922   \u001b[0m | \u001b[0m-0.4315  \u001b[0m | \u001b[0m-0.851   \u001b[0m | \u001b[0m 0.177   \u001b[0m | \u001b[0m-0.6866  \u001b[0m | \u001b[0m-0.7996  \u001b[0m |\n",
      "| \u001b[0m 2       \u001b[0m | \u001b[0m 2.902   \u001b[0m | \u001b[0m 0.6607  \u001b[0m | \u001b[0m 0.93    \u001b[0m | \u001b[0m-0.4173  \u001b[0m | \u001b[0m-0.6613  \u001b[0m | \u001b[0m-0.3652  \u001b[0m |\n",
      "| \u001b[95m 3       \u001b[0m | \u001b[95m 4.421   \u001b[0m | \u001b[95m-0.2437  \u001b[0m | \u001b[95m 0.8967  \u001b[0m | \u001b[95m 0.5068  \u001b[0m | \u001b[95m-0.5532  \u001b[0m | \u001b[95m-0.1298  \u001b[0m |\n",
      "| \u001b[0m 4       \u001b[0m | \u001b[0m 3.986   \u001b[0m | \u001b[0m 0.2512  \u001b[0m | \u001b[0m 0.2826  \u001b[0m | \u001b[0m 0.5308  \u001b[0m | \u001b[0m 0.5753  \u001b[0m | \u001b[0m 0.9974  \u001b[0m |\n",
      "| \u001b[0m 5       \u001b[0m | \u001b[0m 3.027   \u001b[0m | \u001b[0m 0.989   \u001b[0m | \u001b[0m-0.01252 \u001b[0m | \u001b[0m-0.4159  \u001b[0m | \u001b[0m-0.7882  \u001b[0m | \u001b[0m-0.1589  \u001b[0m |\n",
      "| \u001b[0m 6       \u001b[0m | \u001b[0m 4.089   \u001b[0m | \u001b[0m-0.3862  \u001b[0m | \u001b[0m 0.6865  \u001b[0m | \u001b[0m 0.7751  \u001b[0m | \u001b[0m-0.169   \u001b[0m | \u001b[0m 0.25    \u001b[0m |\n",
      "| \u001b[0m 7       \u001b[0m | \u001b[0m 3.144   \u001b[0m | \u001b[0m-0.8012  \u001b[0m | \u001b[0m 0.9787  \u001b[0m | \u001b[0m 0.8584  \u001b[0m | \u001b[0m-0.8619  \u001b[0m | \u001b[0m-0.4403  \u001b[0m |\n",
      "| \u001b[95m 8       \u001b[0m | \u001b[95m 4.487   \u001b[0m | \u001b[95m-0.03947 \u001b[0m | \u001b[95m 0.9851  \u001b[0m | \u001b[95m 0.4972  \u001b[0m | \u001b[95m-0.3613  \u001b[0m | \u001b[95m 0.1649  \u001b[0m |\n",
      "| \u001b[95m 9       \u001b[0m | \u001b[95m 4.918   \u001b[0m | \u001b[95m-0.4674  \u001b[0m | \u001b[95m 1.0     \u001b[0m | \u001b[95m 0.03823 \u001b[0m | \u001b[95m-0.3621  \u001b[0m | \u001b[95m 0.2787  \u001b[0m |\n",
      "| \u001b[95m 10      \u001b[0m | \u001b[95m 5.083   \u001b[0m | \u001b[95m-0.4768  \u001b[0m | \u001b[95m 1.0     \u001b[0m | \u001b[95m 0.02678 \u001b[0m | \u001b[95m-0.7344  \u001b[0m | \u001b[95m 0.8214  \u001b[0m |\n",
      "| \u001b[0m 11      \u001b[0m | \u001b[0m 4.183   \u001b[0m | \u001b[0m-0.9424  \u001b[0m | \u001b[0m 1.0     \u001b[0m | \u001b[0m-0.4995  \u001b[0m | \u001b[0m-0.3189  \u001b[0m | \u001b[0m 0.9827  \u001b[0m |\n",
      "| \u001b[0m 12      \u001b[0m | \u001b[0m 5.018   \u001b[0m | \u001b[0m-0.5365  \u001b[0m | \u001b[0m 0.4239  \u001b[0m | \u001b[0m-0.03266 \u001b[0m | \u001b[0m-0.9983  \u001b[0m | \u001b[0m 0.6016  \u001b[0m |\n",
      "| \u001b[95m 13      \u001b[0m | \u001b[95m 5.45    \u001b[0m | \u001b[95m-0.05745 \u001b[0m | \u001b[95m 0.5789  \u001b[0m | \u001b[95m 0.4711  \u001b[0m | \u001b[95m-1.0     \u001b[0m | \u001b[95m 1.0     \u001b[0m |\n",
      "| \u001b[0m 14      \u001b[0m | \u001b[0m 4.831   \u001b[0m | \u001b[0m-0.2408  \u001b[0m | \u001b[0m-0.2617  \u001b[0m | \u001b[0m 0.7187  \u001b[0m | \u001b[0m-1.0     \u001b[0m | \u001b[0m 1.0     \u001b[0m |\n",
      "| \u001b[0m 15      \u001b[0m | \u001b[0m 4.714   \u001b[0m | \u001b[0m 0.5361  \u001b[0m | \u001b[0m 1.0     \u001b[0m | \u001b[0m 1.0     \u001b[0m | \u001b[0m-1.0     \u001b[0m | \u001b[0m 1.0     \u001b[0m |\n",
      "| \u001b[0m 16      \u001b[0m | \u001b[0m 4.809   \u001b[0m | \u001b[0m-0.6493  \u001b[0m | \u001b[0m 0.7657  \u001b[0m | \u001b[0m 0.7746  \u001b[0m | \u001b[0m-1.0     \u001b[0m | \u001b[0m 1.0     \u001b[0m |\n",
      "| \u001b[0m 17      \u001b[0m | \u001b[0m 3.579   \u001b[0m | \u001b[0m-1.0     \u001b[0m | \u001b[0m-1.0     \u001b[0m | \u001b[0m-1.0     \u001b[0m | \u001b[0m-1.0     \u001b[0m | \u001b[0m 1.0     \u001b[0m |\n",
      "| \u001b[0m 18      \u001b[0m | \u001b[0m 4.264   \u001b[0m | \u001b[0m 0.2482  \u001b[0m | \u001b[0m 1.0     \u001b[0m | \u001b[0m-0.05772 \u001b[0m | \u001b[0m-1.0     \u001b[0m | \u001b[0m 1.0     \u001b[0m |\n",
      "| \u001b[0m 19      \u001b[0m | \u001b[0m 4.84    \u001b[0m | \u001b[0m 0.5806  \u001b[0m | \u001b[0m 0.03863 \u001b[0m | \u001b[0m 1.0     \u001b[0m | \u001b[0m-1.0     \u001b[0m | \u001b[0m 1.0     \u001b[0m |\n",
      "| \u001b[95m 20      \u001b[0m | \u001b[95m 5.495   \u001b[0m | \u001b[95m-0.2772  \u001b[0m | \u001b[95m 0.3529  \u001b[0m | \u001b[95m 0.2693  \u001b[0m | \u001b[95m-0.579   \u001b[0m | \u001b[95m 1.0     \u001b[0m |\n",
      "| \u001b[0m 21      \u001b[0m | \u001b[0m 3.642   \u001b[0m | \u001b[0m-1.0     \u001b[0m | \u001b[0m 1.0     \u001b[0m | \u001b[0m-1.0     \u001b[0m | \u001b[0m 1.0     \u001b[0m | \u001b[0m-1.0     \u001b[0m |\n",
      "| \u001b[0m 22      \u001b[0m | \u001b[0m 3.661   \u001b[0m | \u001b[0m 1.0     \u001b[0m | \u001b[0m-1.0     \u001b[0m | \u001b[0m 1.0     \u001b[0m | \u001b[0m 1.0     \u001b[0m | \u001b[0m-1.0     \u001b[0m |\n",
      "| \u001b[0m 23      \u001b[0m | \u001b[0m 3.336   \u001b[0m | \u001b[0m-1.0     \u001b[0m | \u001b[0m-1.0     \u001b[0m | \u001b[0m 1.0     \u001b[0m | \u001b[0m 1.0     \u001b[0m | \u001b[0m 1.0     \u001b[0m |\n",
      "| \u001b[0m 24      \u001b[0m | \u001b[0m 5.446   \u001b[0m | \u001b[0m 0.008013\u001b[0m | \u001b[0m 0.4216  \u001b[0m | \u001b[0m 0.7298  \u001b[0m | \u001b[0m-0.6067  \u001b[0m | \u001b[0m 1.0     \u001b[0m |\n",
      "| \u001b[0m 25      \u001b[0m | \u001b[0m 3.291   \u001b[0m | \u001b[0m 1.0     \u001b[0m | \u001b[0m-1.0     \u001b[0m | \u001b[0m-1.0     \u001b[0m | \u001b[0m 1.0     \u001b[0m | \u001b[0m 1.0     \u001b[0m |\n",
      "| \u001b[0m 26      \u001b[0m | \u001b[0m 3.609   \u001b[0m | \u001b[0m-1.0     \u001b[0m | \u001b[0m-1.0     \u001b[0m | \u001b[0m-1.0     \u001b[0m | \u001b[0m 1.0     \u001b[0m | \u001b[0m-1.0     \u001b[0m |\n",
      "| \u001b[0m 27      \u001b[0m | \u001b[0m 5.444   \u001b[0m | \u001b[0m 0.1673  \u001b[0m | \u001b[0m 0.1357  \u001b[0m | \u001b[0m 0.3173  \u001b[0m | \u001b[0m-0.7229  \u001b[0m | \u001b[0m 1.0     \u001b[0m |\n",
      "| \u001b[0m 28      \u001b[0m | \u001b[0m 4.707   \u001b[0m | \u001b[0m 1.0     \u001b[0m | \u001b[0m-1.0     \u001b[0m | \u001b[0m 1.0     \u001b[0m | \u001b[0m-0.4418  \u001b[0m | \u001b[0m 1.0     \u001b[0m |\n",
      "| \u001b[95m 29      \u001b[0m | \u001b[95m 5.552   \u001b[0m | \u001b[95m-0.06896 \u001b[0m | \u001b[95m 0.3463  \u001b[0m | \u001b[95m 0.4363  \u001b[0m | \u001b[95m-0.7799  \u001b[0m | \u001b[95m 0.6405  \u001b[0m |\n",
      "| \u001b[0m 30      \u001b[0m | \u001b[0m 2.864   \u001b[0m | \u001b[0m 1.0     \u001b[0m | \u001b[0m-1.0     \u001b[0m | \u001b[0m 1.0     \u001b[0m | \u001b[0m-1.0     \u001b[0m | \u001b[0m-0.2263  \u001b[0m |\n",
      "| \u001b[0m 31      \u001b[0m | \u001b[0m 1.511   \u001b[0m | \u001b[0m-1.0     \u001b[0m | \u001b[0m 1.0     \u001b[0m | \u001b[0m-1.0     \u001b[0m | \u001b[0m-1.0     \u001b[0m | \u001b[0m-1.0     \u001b[0m |\n",
      "| \u001b[0m 32      \u001b[0m | \u001b[0m 3.742   \u001b[0m | \u001b[0m 1.0     \u001b[0m | \u001b[0m 1.0     \u001b[0m | \u001b[0m 1.0     \u001b[0m | \u001b[0m 1.0     \u001b[0m | \u001b[0m-1.0     \u001b[0m |\n",
      "| \u001b[0m 33      \u001b[0m | \u001b[0m 3.897   \u001b[0m | \u001b[0m-1.0     \u001b[0m | \u001b[0m-1.0     \u001b[0m | \u001b[0m 1.0     \u001b[0m | \u001b[0m 1.0     \u001b[0m | \u001b[0m-1.0     \u001b[0m |\n",
      "| \u001b[0m 34      \u001b[0m | \u001b[0m 3.486   \u001b[0m | \u001b[0m 1.0     \u001b[0m | \u001b[0m-1.0     \u001b[0m | \u001b[0m 1.0     \u001b[0m | \u001b[0m 1.0     \u001b[0m | \u001b[0m 1.0     \u001b[0m |\n",
      "| \u001b[0m 35      \u001b[0m | \u001b[0m 3.961   \u001b[0m | \u001b[0m 0.75    \u001b[0m | \u001b[0m-1.0     \u001b[0m | \u001b[0m-0.04494 \u001b[0m | \u001b[0m-1.0     \u001b[0m | \u001b[0m 1.0     \u001b[0m |\n",
      "| \u001b[95m 36      \u001b[0m | \u001b[95m 7.962   \u001b[0m | \u001b[95m-0.1683  \u001b[0m | \u001b[95m 0.17    \u001b[0m | \u001b[95m 0.04802 \u001b[0m | \u001b[95m-0.4106  \u001b[0m | \u001b[95m 0.558   \u001b[0m |\n",
      "| \u001b[0m 37      \u001b[0m | \u001b[0m 5.988   \u001b[0m | \u001b[0m-0.2131  \u001b[0m | \u001b[0m-0.01746 \u001b[0m | \u001b[0m-0.1241  \u001b[0m | \u001b[0m-0.2289  \u001b[0m | \u001b[0m 0.4696  \u001b[0m |\n",
      "| \u001b[0m 38      \u001b[0m | \u001b[0m 6.837   \u001b[0m | \u001b[0m-0.03766 \u001b[0m | \u001b[0m 0.3588  \u001b[0m | \u001b[0m-0.02579 \u001b[0m | \u001b[0m-0.4095  \u001b[0m | \u001b[0m 0.5634  \u001b[0m |\n",
      "| \u001b[0m 39      \u001b[0m | \u001b[0m 2.601   \u001b[0m | \u001b[0m 0.01617 \u001b[0m | \u001b[0m 0.8802  \u001b[0m | \u001b[0m-0.2959  \u001b[0m | \u001b[0m-0.7267  \u001b[0m | \u001b[0m-0.8672  \u001b[0m |\n",
      "| \u001b[0m 40      \u001b[0m | \u001b[0m 4.839   \u001b[0m | \u001b[0m 0.7985  \u001b[0m | \u001b[0m-0.1459  \u001b[0m | \u001b[0m 0.1054  \u001b[0m | \u001b[0m-0.3622  \u001b[0m | \u001b[0m 0.885   \u001b[0m |\n",
      "| \u001b[0m 41      \u001b[0m | \u001b[0m 5.847   \u001b[0m | \u001b[0m-0.1067  \u001b[0m | \u001b[0m 0.08631 \u001b[0m | \u001b[0m 0.2668  \u001b[0m | \u001b[0m-0.3474  \u001b[0m | \u001b[0m 0.5359  \u001b[0m |\n",
      "| \u001b[0m 42      \u001b[0m | \u001b[0m 6.167   \u001b[0m | \u001b[0m-0.2192  \u001b[0m | \u001b[0m 0.1331  \u001b[0m | \u001b[0m-0.06397 \u001b[0m | \u001b[0m-0.5847  \u001b[0m | \u001b[0m 0.6166  \u001b[0m |\n",
      "| \u001b[0m 43      \u001b[0m | \u001b[0m 3.736   \u001b[0m | \u001b[0m-0.8098  \u001b[0m | \u001b[0m 0.1509  \u001b[0m | \u001b[0m-0.6985  \u001b[0m | \u001b[0m 0.1152  \u001b[0m | \u001b[0m-0.1217  \u001b[0m |\n",
      "| \u001b[0m 44      \u001b[0m | \u001b[0m 5.798   \u001b[0m | \u001b[0m-0.04337 \u001b[0m | \u001b[0m 0.4391  \u001b[0m | \u001b[0m 0.5128  \u001b[0m | \u001b[0m-0.9047  \u001b[0m | \u001b[0m 0.9776  \u001b[0m |\n",
      "| \u001b[0m 45      \u001b[0m | \u001b[0m 2.688   \u001b[0m | \u001b[0m 0.4808  \u001b[0m | \u001b[0m 0.312   \u001b[0m | \u001b[0m-0.8596  \u001b[0m | \u001b[0m 0.05036 \u001b[0m | \u001b[0m-0.9886  \u001b[0m |\n",
      "| \u001b[0m 46      \u001b[0m | \u001b[0m 7.111   \u001b[0m | \u001b[0m-0.308   \u001b[0m | \u001b[0m 0.2941  \u001b[0m | \u001b[0m 0.04883 \u001b[0m | \u001b[0m-0.3341  \u001b[0m | \u001b[0m 0.5412  \u001b[0m |\n",
      "| \u001b[0m 47      \u001b[0m | \u001b[0m 3.765   \u001b[0m | \u001b[0m-0.4802  \u001b[0m | \u001b[0m 0.3914  \u001b[0m | \u001b[0m 0.1053  \u001b[0m | \u001b[0m-0.7733  \u001b[0m | \u001b[0m-0.5404  \u001b[0m |\n",
      "| \u001b[0m 48      \u001b[0m | \u001b[0m 5.82    \u001b[0m | \u001b[0m-0.1456  \u001b[0m | \u001b[0m 0.1837  \u001b[0m | \u001b[0m 0.01001 \u001b[0m | \u001b[0m-0.3041  \u001b[0m | \u001b[0m 0.7139  \u001b[0m |\n",
      "| \u001b[0m 49      \u001b[0m | \u001b[0m 4.623   \u001b[0m | \u001b[0m-0.4366  \u001b[0m | \u001b[0m-0.1863  \u001b[0m | \u001b[0m 0.4145  \u001b[0m | \u001b[0m 0.2569  \u001b[0m | \u001b[0m-0.1012  \u001b[0m |\n",
      "| \u001b[0m 50      \u001b[0m | \u001b[0m 4.576   \u001b[0m | \u001b[0m 0.5866  \u001b[0m | \u001b[0m-0.6339  \u001b[0m | \u001b[0m 0.184   \u001b[0m | \u001b[0m 0.3003  \u001b[0m | \u001b[0m 0.3293  \u001b[0m |\n",
      "=====================================================================================\n"
     ]
    }
   ],
   "metadata": {}
  },
  {
   "cell_type": "code",
   "execution_count": 12,
   "source": [
    "print(\"Desired:\", env.desired)\n",
    "\n",
    "screen = simulation.segment.AREABSCR1\n",
    "\n",
    "plt.figure(figsize=(10,5))\n",
    "\n",
    "plt.subplot(121)\n",
    "plt.imshow(before, extent=screen.extent, interpolation=\"None\")\n",
    "plt.title(\"Before\")\n",
    "\n",
    "objective = target_fn(**optimizer.max[\"params\"])\n",
    "\n",
    "print(\"Objective:\", objective)\n",
    "\n",
    "plt.subplot(122)\n",
    "plt.imshow(screen.reading, extent=screen.extent, interpolation=\"None\")\n",
    "mu_x, mu_y, sigma_x, sigma_y = env.desired\n",
    "ellipse = Ellipse((mu_x,mu_y), sigma_x, sigma_y, fill=False, color=\"white\")\n",
    "plt.gca().add_patch(ellipse)\n",
    "plt.title(\"After\")\n",
    "\n",
    "plt.show()"
   ],
   "outputs": [
    {
     "output_type": "stream",
     "name": "stdout",
     "text": [
      "Desired: [-1.3247726e-03  7.1800320e-04  9.4300776e-05  1.8888777e-04]\n",
      "Objective: 7.962464502639209\n"
     ]
    },
    {
     "output_type": "display_data",
     "data": {
      "image/png": "[encoded data removed]",
      "text/plain": [
       "<Figure size 720x360 with 2 Axes>"
      ]
     },
     "metadata": {
      "needs_background": "light"
     }
    }
   ],
   "metadata": {}
  },
  {
   "cell_type": "code",
   "execution_count": 13,
   "source": [
    "plt.plot(optimizer.space.target)\n",
    "plt.show()"
   ],
   "outputs": [
    {
     "output_type": "display_data",
     "data": {
      "image/png": "[encoded data removed]",
      "text/plain": [
       "<Figure size 432x288 with 1 Axes>"
      ]
     },
     "metadata": {
      "needs_background": "light"
     }
    }
   ],
   "metadata": {}
  },
  {
   "cell_type": "markdown",
   "source": [
    "## Reinforcement Learning"
   ],
   "metadata": {}
  },
  {
   "cell_type": "code",
   "execution_count": 15,
   "source": [
    "timestamp = \"20210908093749\"\n",
    "model = torch.load(f\"models/onestep_vpg/onestep-model-{timestamp}.pkl\")"
   ],
   "outputs": [],
   "metadata": {}
  },
  {
   "cell_type": "code",
   "execution_count": 16,
   "source": [
    "screen = env.segment.AREABSCR1\n",
    "\n",
    "plt.figure(figsize=(10,5))\n",
    "\n",
    "plt.subplot(121)\n",
    "plt.imshow(before, extent=screen.extent, interpolation=\"None\")\n",
    "plt.title(\"Before\")\n",
    "\n",
    "torched_observation = torch.tensor(observation, dtype=torch.float32)\n",
    "unsqueezed_observation = torched_observation.unsqueeze(0)\n",
    "unsqueezed_actuators = model(unsqueezed_observation).sample()\n",
    "torched_actuators = unsqueezed_actuators.squeeze()\n",
    "actuators = torched_actuators.detach().numpy()\n",
    "_, reward, _, _ = env.step(actuators)\n",
    "\n",
    "print(\"Objective:\", reward)\n",
    "\n",
    "plt.subplot(122)\n",
    "plt.imshow(screen.reading, extent=screen.extent, interpolation=\"None\")\n",
    "mu_x, mu_y, sigma_x, sigma_y = env.desired\n",
    "ellipse = Ellipse((mu_x,mu_y), sigma_x, sigma_y, fill=False, color=\"white\")\n",
    "plt.gca().add_patch(ellipse)\n",
    "plt.title(\"After\")\n",
    "\n",
    "plt.show()"
   ],
   "outputs": [
    {
     "output_type": "stream",
     "name": "stdout",
     "text": [
      "Objective: 8.305374506214013\n"
     ]
    },
    {
     "output_type": "display_data",
     "data": {
      "image/png": "[encoded data removed]",
      "text/plain": [
       "<Figure size 720x360 with 2 Axes>"
      ]
     },
     "metadata": {
      "needs_background": "light"
     }
    }
   ],
   "metadata": {}
  },
  {
   "cell_type": "code",
   "execution_count": 17,
   "source": [
    "simulation = Simulation()\n",
    "simulation.reset(incoming=env.incoming, initial_actuators=env.initial_actuators, desired=env.desired)"
   ],
   "outputs": [
    {
     "output_type": "stream",
     "name": "stdout",
     "text": [
      "WARNING: Diagnostic screen was converted with default screen properties.\n"
     ]
    },
    {
     "output_type": "execute_result",
     "data": {
      "text/plain": [
       "array([ 2.5910077e+00,  7.9564586e+00,  2.9757881e+01,  1.7247422e-04,\n",
       "        4.2377235e-03, -1.3247726e-03,  7.1800320e-04,  9.4300776e-05,\n",
       "        1.8888777e-04,  5.0085862e-03,  2.4738766e-03,  5.0729653e-04,\n",
       "        1.8656972e-03], dtype=float32)"
      ]
     },
     "metadata": {},
     "execution_count": 17
    }
   ],
   "metadata": {}
  },
  {
   "cell_type": "code",
   "execution_count": 18,
   "source": [
    "screen = simulation.segment.AREABSCR1\n",
    "\n",
    "plt.figure(figsize=(10,5))\n",
    "\n",
    "plt.subplot(121)\n",
    "plt.imshow(before, extent=screen.extent, interpolation=\"None\")\n",
    "plt.title(\"Before\")\n",
    "\n",
    "observation_factor = np.concatenate([\n",
    "    simulation.actuator_space.high,\n",
    "    simulation.goal_space.high,\n",
    "    simulation.goal_space.high\n",
    "])\n",
    "\n",
    "normalized_observation = observation / observation_factor\n",
    "normalized_observation = torch.tensor(normalized_observation, dtype=torch.float32)\n",
    "unsqueezed_observation = normalized_observation.unsqueeze(0)\n",
    "\n",
    "unsqueezed_actuators = model(unsqueezed_observation).sample()\n",
    "\n",
    "normalized_actuators = unsqueezed_actuators.squeeze()\n",
    "actuators = normalized_actuators.detach().numpy() * simulation.actuator_space.high\n",
    "\n",
    "simulation.track(actuators)\n",
    "\n",
    "print(\"Objective:\", reward)\n",
    "\n",
    "plt.subplot(122)\n",
    "plt.imshow(screen.reading, extent=screen.extent, interpolation=\"None\")\n",
    "mu_x, mu_y, sigma_x, sigma_y = simulation.desired\n",
    "ellipse = Ellipse((mu_x,mu_y), sigma_x, sigma_y, fill=False, color=\"white\")\n",
    "plt.gca().add_patch(ellipse)\n",
    "plt.title(\"After\")\n",
    "\n",
    "plt.show()"
   ],
   "outputs": [
    {
     "output_type": "stream",
     "name": "stdout",
     "text": [
      "Objective: 8.305374506214013\n"
     ]
    },
    {
     "output_type": "display_data",
     "data": {
      "image/png": "[encoded data removed]",
      "text/plain": [
       "<Figure size 720x360 with 2 Axes>"
      ]
     },
     "metadata": {
      "needs_background": "light"
     }
    }
   ],
   "metadata": {}
  },
  {
   "cell_type": "markdown",
   "source": [
    "## Bla bla"
   ],
   "metadata": {}
  },
  {
   "cell_type": "code",
   "execution_count": 19,
   "source": [
    "simulation = Simulation()\n",
    "sobservation = simulation.reset()\n",
    "\n",
    "env = ARESEAOneStep()\n",
    "eobservation = env.reset(\n",
    "    incoming=simulation.incoming,\n",
    "    initial_actuators=simulation.initial_actuators,\n",
    "    desired=simulation.desired\n",
    ")\n",
    "\n",
    "print(\"Simulation:\", sobservation)\n",
    "print(\"Environment:\", eobservation)"
   ],
   "outputs": [
    {
     "output_type": "stream",
     "name": "stdout",
     "text": [
      "WARNING: Diagnostic screen was converted with default screen properties.\n",
      "WARNING: Diagnostic screen was converted with default screen properties.\n",
      "Simulation: [-1.3914580e+00 -8.6917009e+00  1.1059527e+01  1.5768153e-03\n",
      "  2.8975492e-03 -1.8986245e-03 -4.8392182e-04  2.9359368e-04\n",
      "  5.0233688e-05  4.5006434e-03  1.8459097e-03  4.2790661e-04\n",
      "  1.8599165e-04]\n",
      "Environment: [-0.04638194 -0.28972337  0.3686509   0.5256051   0.48292485 -0.9493122\n",
      " -0.2419609   0.58718735  0.10046737  2.2503216   0.92295486  0.85581315\n",
      "  0.3719833 ]\n"
     ]
    }
   ],
   "metadata": {}
  },
  {
   "cell_type": "code",
   "execution_count": null,
   "source": [],
   "outputs": [],
   "metadata": {}
  }
 ],
 "metadata": {
  "kernelspec": {
   "name": "python3",
   "display_name": "Python 3.7.11 64-bit ('rl37': conda)"
  },
  "language_info": {
   "codemirror_mode": {
    "name": "ipython",
    "version": 3
   },
   "file_extension": ".py",
   "mimetype": "text/x-python",
   "name": "python",
   "nbconvert_exporter": "python",
   "pygments_lexer": "ipython3",
   "version": "3.7.11"
  },
  "interpreter": {
   "hash": "7bde36871b824b4d36fabfa1b9ef22ed0a72d66cc63d7bbb2838f0f962c8a495"
  }
 },
 "nbformat": 4,
 "nbformat_minor": 5
}