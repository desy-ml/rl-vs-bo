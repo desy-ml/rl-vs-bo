{
 "cells": [
  {
   "cell_type": "code",
   "execution_count": 1,
   "id": "aff2fb33-bb7e-4e42-bab7-f0547c092085",
   "metadata": {},
   "outputs": [
    {
     "name": "stdout",
     "output_type": "stream",
     "text": [
      "initializing ocelot...\n"
     ]
    }
   ],
   "source": [
    "from bayes_opt import BayesianOptimization\n",
    "import matplotlib.pyplot as plt\n",
    "from matplotlib.patches import Ellipse\n",
    "import numpy as np\n",
    "import torch\n",
    "\n",
    "from environments.onestep import ARESEAOneStep\n",
    "from oneshot0script import GaussianActor, Simulation"
   ]
  },
  {
   "cell_type": "markdown",
   "id": "f2338d64-31e7-4168-84e9-5be83f25287a",
   "metadata": {},
   "source": [
    "## Bayesian Optimisation"
   ]
  },
  {
   "cell_type": "code",
   "execution_count": 2,
   "id": "2f7b5464-d58b-429e-9d9e-eca7eba9403e",
   "metadata": {},
   "outputs": [
    {
     "name": "stdout",
     "output_type": "stream",
     "text": [
      "WARNING: Diagnostic screen was converted with default screen properties.\n"
     ]
    }
   ],
   "source": [
    "env = ARESEAOneStep()\n",
    "observation = env.reset()\n",
    "before = env.segment.AREABSCR1.reading"
   ]
  },
  {
   "cell_type": "code",
   "execution_count": 3,
   "id": "4d772273-7607-4f95-bd54-9237acad7650",
   "metadata": {},
   "outputs": [],
   "source": [
    "def objective_fn(q1, q2, q3, cv, ch):\n",
    "    action = np.array([q1, q2, q3, cv, ch])\n",
    "    _, reward, _, _ = env.step(action)\n",
    "    return reward"
   ]
  },
  {
   "cell_type": "code",
   "execution_count": 4,
   "id": "28b9cf5c-ce88-47b8-9033-cd5c0446eec8",
   "metadata": {},
   "outputs": [],
   "source": [
    "pbounds = {\"q1\": (-1,1), \"q2\": (-1,1), \"q3\": (-1,1), \"cv\": (-1,1), \"ch\": (-1,1)}"
   ]
  },
  {
   "cell_type": "code",
   "execution_count": 5,
   "id": "a2043fe7-69bc-444b-ba77-5a4f96f0ab01",
   "metadata": {},
   "outputs": [
    {
     "name": "stdout",
     "output_type": "stream",
     "text": [
      "|   iter    |  target   |    ch     |    cv     |    q1     |    q2     |    q3     |\n",
      "-------------------------------------------------------------------------------------\n",
      "| \u001b[0m 1       \u001b[0m | \u001b[0m 5.68    \u001b[0m | \u001b[0m-0.6103  \u001b[0m | \u001b[0m-0.6498  \u001b[0m | \u001b[0m 0.6012  \u001b[0m | \u001b[0m-0.7502  \u001b[0m | \u001b[0m 0.9036  \u001b[0m |\n",
      "| \u001b[0m 2       \u001b[0m | \u001b[0m 3.882   \u001b[0m | \u001b[0m-0.4211  \u001b[0m | \u001b[0m 0.1186  \u001b[0m | \u001b[0m-0.6007  \u001b[0m | \u001b[0m 0.07574 \u001b[0m | \u001b[0m-0.4279  \u001b[0m |\n",
      "| \u001b[0m 3       \u001b[0m | \u001b[0m 5.551   \u001b[0m | \u001b[0m-0.181   \u001b[0m | \u001b[0m-0.155   \u001b[0m | \u001b[0m 0.243   \u001b[0m | \u001b[0m-0.116   \u001b[0m | \u001b[0m-0.9574  \u001b[0m |\n",
      "| \u001b[0m 4       \u001b[0m | \u001b[0m 5.142   \u001b[0m | \u001b[0m-0.3559  \u001b[0m | \u001b[0m-0.3067  \u001b[0m | \u001b[0m 0.6266  \u001b[0m | \u001b[0m-0.5265  \u001b[0m | \u001b[0m 0.5187  \u001b[0m |\n",
      "| \u001b[0m 5       \u001b[0m | \u001b[0m 3.879   \u001b[0m | \u001b[0m-0.4573  \u001b[0m | \u001b[0m-0.1549  \u001b[0m | \u001b[0m 0.4186  \u001b[0m | \u001b[0m 0.5914  \u001b[0m | \u001b[0m 0.387   \u001b[0m |\n",
      "| \u001b[0m 6       \u001b[0m | \u001b[0m 4.533   \u001b[0m | \u001b[0m-0.3712  \u001b[0m | \u001b[0m-0.767   \u001b[0m | \u001b[0m 0.8997  \u001b[0m | \u001b[0m-1.0     \u001b[0m | \u001b[0m 0.766   \u001b[0m |\n",
      "| \u001b[0m 7       \u001b[0m | \u001b[0m 4.072   \u001b[0m | \u001b[0m 0.9597  \u001b[0m | \u001b[0m-0.8935  \u001b[0m | \u001b[0m-0.5392  \u001b[0m | \u001b[0m 0.9053  \u001b[0m | \u001b[0m 0.4437  \u001b[0m |\n",
      "| \u001b[0m 8       \u001b[0m | \u001b[0m 3.409   \u001b[0m | \u001b[0m 0.2633  \u001b[0m | \u001b[0m 0.1296  \u001b[0m | \u001b[0m 0.9088  \u001b[0m | \u001b[0m 0.2525  \u001b[0m | \u001b[0m 0.8149  \u001b[0m |\n",
      "| \u001b[0m 9       \u001b[0m | \u001b[0m 4.402   \u001b[0m | \u001b[0m-0.1684  \u001b[0m | \u001b[0m 0.3172  \u001b[0m | \u001b[0m 0.003991\u001b[0m | \u001b[0m 0.1261  \u001b[0m | \u001b[0m 0.8881  \u001b[0m |\n",
      "| \u001b[0m 10      \u001b[0m | \u001b[0m 3.022   \u001b[0m | \u001b[0m 0.548   \u001b[0m | \u001b[0m 0.6633  \u001b[0m | \u001b[0m-0.4668  \u001b[0m | \u001b[0m-0.6273  \u001b[0m | \u001b[0m-0.7621  \u001b[0m |\n",
      "| \u001b[0m 11      \u001b[0m | \u001b[0m 4.133   \u001b[0m | \u001b[0m-0.3248  \u001b[0m | \u001b[0m 0.6224  \u001b[0m | \u001b[0m 0.4768  \u001b[0m | \u001b[0m 0.8409  \u001b[0m | \u001b[0m-0.5208  \u001b[0m |\n",
      "| \u001b[95m 12      \u001b[0m | \u001b[95m 6.474   \u001b[0m | \u001b[95m-0.7139  \u001b[0m | \u001b[95m-0.4163  \u001b[0m | \u001b[95m 0.3476  \u001b[0m | \u001b[95m-0.6673  \u001b[0m | \u001b[95m 0.7886  \u001b[0m |\n",
      "| \u001b[0m 13      \u001b[0m | \u001b[0m 4.925   \u001b[0m | \u001b[0m-1.0     \u001b[0m | \u001b[0m-0.4794  \u001b[0m | \u001b[0m-0.01283 \u001b[0m | \u001b[0m-0.7953  \u001b[0m | \u001b[0m 1.0     \u001b[0m |\n",
      "| \u001b[0m 14      \u001b[0m | \u001b[0m 6.459   \u001b[0m | \u001b[0m-0.9692  \u001b[0m | \u001b[0m-0.3059  \u001b[0m | \u001b[0m 0.5754  \u001b[0m | \u001b[0m-0.6098  \u001b[0m | \u001b[0m 0.7329  \u001b[0m |\n",
      "| \u001b[0m 15      \u001b[0m | \u001b[0m 4.598   \u001b[0m | \u001b[0m-0.11    \u001b[0m | \u001b[0m 0.4901  \u001b[0m | \u001b[0m 0.5776  \u001b[0m | \u001b[0m-0.8545  \u001b[0m | \u001b[0m 0.5416  \u001b[0m |\n",
      "| \u001b[0m 16      \u001b[0m | \u001b[0m 4.203   \u001b[0m | \u001b[0m 0.4017  \u001b[0m | \u001b[0m 0.7316  \u001b[0m | \u001b[0m 0.2182  \u001b[0m | \u001b[0m 0.6695  \u001b[0m | \u001b[0m-0.9921  \u001b[0m |\n",
      "| \u001b[0m 17      \u001b[0m | \u001b[0m 4.63    \u001b[0m | \u001b[0m-0.792   \u001b[0m | \u001b[0m-0.2832  \u001b[0m | \u001b[0m-0.81    \u001b[0m | \u001b[0m-0.74    \u001b[0m | \u001b[0m 0.8791  \u001b[0m |\n",
      "| \u001b[0m 18      \u001b[0m | \u001b[0m 4.652   \u001b[0m | \u001b[0m 0.6666  \u001b[0m | \u001b[0m 0.7227  \u001b[0m | \u001b[0m-0.03792 \u001b[0m | \u001b[0m 0.04853 \u001b[0m | \u001b[0m 0.3141  \u001b[0m |\n",
      "| \u001b[0m 19      \u001b[0m | \u001b[0m 4.201   \u001b[0m | \u001b[0m-0.3945  \u001b[0m | \u001b[0m 0.1092  \u001b[0m | \u001b[0m 0.8812  \u001b[0m | \u001b[0m-0.3138  \u001b[0m | \u001b[0m 0.5211  \u001b[0m |\n",
      "| \u001b[95m 20      \u001b[0m | \u001b[95m 6.489   \u001b[0m | \u001b[95m-0.8831  \u001b[0m | \u001b[95m-0.36    \u001b[0m | \u001b[95m 0.2506  \u001b[0m | \u001b[95m-0.6453  \u001b[0m | \u001b[95m 0.7657  \u001b[0m |\n",
      "| \u001b[0m 21      \u001b[0m | \u001b[0m 6.078   \u001b[0m | \u001b[0m-0.9905  \u001b[0m | \u001b[0m-0.5599  \u001b[0m | \u001b[0m 0.3585  \u001b[0m | \u001b[0m-0.6604  \u001b[0m | \u001b[0m 0.2745  \u001b[0m |\n",
      "| \u001b[0m 22      \u001b[0m | \u001b[0m 5.433   \u001b[0m | \u001b[0m-0.8853  \u001b[0m | \u001b[0m 0.08635 \u001b[0m | \u001b[0m 0.3581  \u001b[0m | \u001b[0m-0.7417  \u001b[0m | \u001b[0m 0.4195  \u001b[0m |\n",
      "| \u001b[0m 23      \u001b[0m | \u001b[0m 5.361   \u001b[0m | \u001b[0m-0.8693  \u001b[0m | \u001b[0m-0.6921  \u001b[0m | \u001b[0m 0.2722  \u001b[0m | \u001b[0m-0.2621  \u001b[0m | \u001b[0m 0.8498  \u001b[0m |\n",
      "| \u001b[0m 24      \u001b[0m | \u001b[0m 4.204   \u001b[0m | \u001b[0m-0.639   \u001b[0m | \u001b[0m-0.7905  \u001b[0m | \u001b[0m 0.5334  \u001b[0m | \u001b[0m-0.4745  \u001b[0m | \u001b[0m-1.0     \u001b[0m |\n",
      "| \u001b[0m 25      \u001b[0m | \u001b[0m 5.058   \u001b[0m | \u001b[0m-1.0     \u001b[0m | \u001b[0m-0.42    \u001b[0m | \u001b[0m 0.4907  \u001b[0m | \u001b[0m-1.0     \u001b[0m | \u001b[0m 0.6097  \u001b[0m |\n",
      "| \u001b[0m 26      \u001b[0m | \u001b[0m 4.182   \u001b[0m | \u001b[0m 0.505   \u001b[0m | \u001b[0m 0.544   \u001b[0m | \u001b[0m 0.9833  \u001b[0m | \u001b[0m-0.6063  \u001b[0m | \u001b[0m 0.4757  \u001b[0m |\n",
      "| \u001b[0m 27      \u001b[0m | \u001b[0m 3.961   \u001b[0m | \u001b[0m-0.1948  \u001b[0m | \u001b[0m 0.4581  \u001b[0m | \u001b[0m 0.8793  \u001b[0m | \u001b[0m-0.3832  \u001b[0m | \u001b[0m-0.000862\u001b[0m |\n",
      "| \u001b[0m 28      \u001b[0m | \u001b[0m 5.286   \u001b[0m | \u001b[0m-0.8466  \u001b[0m | \u001b[0m-0.09146 \u001b[0m | \u001b[0m 0.4105  \u001b[0m | \u001b[0m-0.4716  \u001b[0m | \u001b[0m 1.0     \u001b[0m |\n",
      "| \u001b[0m 29      \u001b[0m | \u001b[0m 5.901   \u001b[0m | \u001b[0m-0.9296  \u001b[0m | \u001b[0m-0.343   \u001b[0m | \u001b[0m 0.3746  \u001b[0m | \u001b[0m-0.4033  \u001b[0m | \u001b[0m 0.4916  \u001b[0m |\n",
      "| \u001b[0m 30      \u001b[0m | \u001b[0m 5.103   \u001b[0m | \u001b[0m-0.6102  \u001b[0m | \u001b[0m-0.595   \u001b[0m | \u001b[0m 0.05057 \u001b[0m | \u001b[0m-0.6842  \u001b[0m | \u001b[0m 0.4162  \u001b[0m |\n",
      "=====================================================================================\n"
     ]
    }
   ],
   "source": [
    "optimizer = BayesianOptimization(\n",
    "    f=objective_fn,\n",
    "    pbounds=pbounds\n",
    ")\n",
    "optimizer.maximize()"
   ]
  },
  {
   "cell_type": "code",
   "execution_count": 6,
   "id": "2da30ddf-e7b5-4084-916e-f9deb9fe1a0d",
   "metadata": {},
   "outputs": [
    {
     "name": "stdout",
     "output_type": "stream",
     "text": [
      "Desired: [-1.4836243e-03 -1.8799498e-03  1.3003152e-04  2.4626208e-05]\n",
      "Objective: 6.488928522546991\n"
     ]
    },
    {
     "data": {
      "image/png": "[encoded data removed]",
      "text/plain": [
       "<Figure size 720x360 with 2 Axes>"
      ]
     },
     "metadata": {
      "needs_background": "light"
     },
     "output_type": "display_data"
    }
   ],
   "source": [
    "print(\"Desired:\", env.desired)\n",
    "\n",
    "screen = env.segment.AREABSCR1\n",
    "\n",
    "plt.figure(figsize=(10,5))\n",
    "\n",
    "plt.subplot(121)\n",
    "plt.imshow(before, extent=screen.extent, interpolation=\"None\")\n",
    "plt.title(\"Before\")\n",
    "\n",
    "_, reward, _, _ = env.step(np.array([\n",
    "    optimizer.max[\"params\"][\"q1\"],\n",
    "    optimizer.max[\"params\"][\"q2\"],\n",
    "    optimizer.max[\"params\"][\"q3\"],\n",
    "    optimizer.max[\"params\"][\"cv\"],\n",
    "    optimizer.max[\"params\"][\"ch\"]\n",
    "]))\n",
    "print(\"Objective:\", reward)\n",
    "\n",
    "plt.subplot(122)\n",
    "plt.imshow(screen.reading, extent=screen.extent, interpolation=\"None\")\n",
    "mu_x, mu_y, sigma_x, sigma_y = env.desired\n",
    "ellipse = Ellipse((mu_x,mu_y), sigma_x, sigma_y, fill=False, color=\"white\")\n",
    "plt.gca().add_patch(ellipse)\n",
    "plt.title(\"After\")\n",
    "\n",
    "plt.show()"
   ]
  },
  {
   "cell_type": "code",
   "execution_count": null,
   "id": "8ac957ec-4112-44a9-a654-655a1635aef7",
   "metadata": {},
   "outputs": [],
   "source": [
    "plt.plot(optimizer.space.target)\n",
    "plt.show()"
   ]
  },
  {
   "cell_type": "code",
   "execution_count": 7,
   "id": "b0ee1a47-7de2-4c76-be57-b69a2d3a2de8",
   "metadata": {},
   "outputs": [
    {
     "name": "stdout",
     "output_type": "stream",
     "text": [
      "WARNING: Diagnostic screen was converted with default screen properties.\n"
     ]
    },
    {
     "data": {
      "text/plain": [
       "array([ 2.7730844e+01,  1.6860699e+01, -2.9200151e+00,  1.5394255e-03,\n",
       "        3.4728730e-03, -1.4836243e-03, -1.8799498e-03,  1.3003152e-04,\n",
       "        2.4626208e-05,  7.0831371e-03,  3.8319458e-03,  9.2404307e-04,\n",
       "        6.4695887e-03], dtype=float32)"
      ]
     },
     "execution_count": 7,
     "metadata": {},
     "output_type": "execute_result"
    }
   ],
   "source": [
    "simulation = Simulation()\n",
    "simulation.reset(incoming=env.incoming, initial_actuators=env.initial_actuators, desired=env.desired)"
   ]
  },
  {
   "cell_type": "code",
   "execution_count": 8,
   "id": "7e9fc8f6-c452-4661-95dd-b759c6db4e34",
   "metadata": {},
   "outputs": [],
   "source": [
    "def target_fn(q1, q2, q3, cv, ch):\n",
    "    normalized_actuators = np.array([q1, q2, q3, cv, ch])\n",
    "    actuators = normalized_actuators * simulation.actuator_space.high\n",
    "    \n",
    "    achieved = simulation.track(actuators)\n",
    "    \n",
    "    def objective_fn(achieved, desired):\n",
    "        offset = achieved - desired\n",
    "        weights = np.array([1, 1, 2, 2])\n",
    "\n",
    "        return -np.log((weights * np.abs(offset)).sum())\n",
    "    \n",
    "    return objective_fn(achieved, simulation.desired)"
   ]
  },
  {
   "cell_type": "code",
   "execution_count": 9,
   "id": "3332fb2e-703c-41b7-b4b9-4b8f0d679547",
   "metadata": {},
   "outputs": [],
   "source": [
    "pbounds = {\"q1\": (-1,1), \"q2\": (-1,1), \"q3\": (-1,1), \"cv\": (-1,1), \"ch\": (-1,1)}"
   ]
  },
  {
   "cell_type": "code",
   "execution_count": 10,
   "id": "a3e20725-8f6b-489f-a18d-37005e20ead8",
   "metadata": {},
   "outputs": [
    {
     "name": "stdout",
     "output_type": "stream",
     "text": [
      "|   iter    |  target   |    ch     |    cv     |    q1     |    q2     |    q3     |\n",
      "-------------------------------------------------------------------------------------\n",
      "| \u001b[0m 1       \u001b[0m | \u001b[0m 5.304   \u001b[0m | \u001b[0m 0.1808  \u001b[0m | \u001b[0m-0.5498  \u001b[0m | \u001b[0m 0.3743  \u001b[0m | \u001b[0m-0.9396  \u001b[0m | \u001b[0m-0.6784  \u001b[0m |\n",
      "| \u001b[0m 2       \u001b[0m | \u001b[0m 3.673   \u001b[0m | \u001b[0m 0.5346  \u001b[0m | \u001b[0m 0.004676\u001b[0m | \u001b[0m-0.3571  \u001b[0m | \u001b[0m-0.3216  \u001b[0m | \u001b[0m-0.5637  \u001b[0m |\n",
      "| \u001b[0m 3       \u001b[0m | \u001b[0m 4.555   \u001b[0m | \u001b[0m-0.4362  \u001b[0m | \u001b[0m 0.4469  \u001b[0m | \u001b[0m-0.3495  \u001b[0m | \u001b[0m 0.8737  \u001b[0m | \u001b[0m 0.04955 \u001b[0m |\n",
      "| \u001b[0m 4       \u001b[0m | \u001b[0m 3.555   \u001b[0m | \u001b[0m-0.0737  \u001b[0m | \u001b[0m 0.2985  \u001b[0m | \u001b[0m 0.7343  \u001b[0m | \u001b[0m 0.7682  \u001b[0m | \u001b[0m 0.1041  \u001b[0m |\n",
      "| \u001b[0m 5       \u001b[0m | \u001b[0m 3.49    \u001b[0m | \u001b[0m 0.1867  \u001b[0m | \u001b[0m-0.04972 \u001b[0m | \u001b[0m-0.6829  \u001b[0m | \u001b[0m-0.2051  \u001b[0m | \u001b[0m-0.3956  \u001b[0m |\n",
      "| \u001b[0m 6       \u001b[0m | \u001b[0m 4.404   \u001b[0m | \u001b[0m-0.5196  \u001b[0m | \u001b[0m 0.5343  \u001b[0m | \u001b[0m-0.2669  \u001b[0m | \u001b[0m 0.9097  \u001b[0m | \u001b[0m 0.06964 \u001b[0m |\n",
      "| \u001b[0m 7       \u001b[0m | \u001b[0m 3.389   \u001b[0m | \u001b[0m 0.1122  \u001b[0m | \u001b[0m-0.8466  \u001b[0m | \u001b[0m 0.7786  \u001b[0m | \u001b[0m-1.0     \u001b[0m | \u001b[0m-0.8202  \u001b[0m |\n",
      "| \u001b[0m 8       \u001b[0m | \u001b[0m 4.094   \u001b[0m | \u001b[0m-0.9363  \u001b[0m | \u001b[0m 0.8517  \u001b[0m | \u001b[0m 0.9894  \u001b[0m | \u001b[0m-0.3384  \u001b[0m | \u001b[0m 0.7029  \u001b[0m |\n",
      "| \u001b[0m 9       \u001b[0m | \u001b[0m 4.61    \u001b[0m | \u001b[0m 0.2027  \u001b[0m | \u001b[0m-0.442   \u001b[0m | \u001b[0m 0.228   \u001b[0m | \u001b[0m-0.9268  \u001b[0m | \u001b[0m-0.6248  \u001b[0m |\n",
      "| \u001b[0m 10      \u001b[0m | \u001b[0m 4.96    \u001b[0m | \u001b[0m 0.2275  \u001b[0m | \u001b[0m-0.5769  \u001b[0m | \u001b[0m 0.399   \u001b[0m | \u001b[0m-0.7835  \u001b[0m | \u001b[0m-0.728   \u001b[0m |\n",
      "| \u001b[0m 11      \u001b[0m | \u001b[0m 4.38    \u001b[0m | \u001b[0m 0.2978  \u001b[0m | \u001b[0m-0.5309  \u001b[0m | \u001b[0m 0.4978  \u001b[0m | \u001b[0m-0.9657  \u001b[0m | \u001b[0m-0.554   \u001b[0m |\n",
      "| \u001b[0m 12      \u001b[0m | \u001b[0m 3.074   \u001b[0m | \u001b[0m-0.6318  \u001b[0m | \u001b[0m 0.9392  \u001b[0m | \u001b[0m 0.7056  \u001b[0m | \u001b[0m 0.9902  \u001b[0m | \u001b[0m 0.6727  \u001b[0m |\n",
      "| \u001b[0m 13      \u001b[0m | \u001b[0m 5.092   \u001b[0m | \u001b[0m 0.05271 \u001b[0m | \u001b[0m-0.6058  \u001b[0m | \u001b[0m 0.3075  \u001b[0m | \u001b[0m-0.9412  \u001b[0m | \u001b[0m-0.8126  \u001b[0m |\n",
      "| \u001b[95m 14      \u001b[0m | \u001b[95m 5.784   \u001b[0m | \u001b[95m 0.004652\u001b[0m | \u001b[95m-0.6635  \u001b[0m | \u001b[95m 0.3403  \u001b[0m | \u001b[95m-0.8751  \u001b[0m | \u001b[95m-0.5684  \u001b[0m |\n",
      "| \u001b[0m 15      \u001b[0m | \u001b[0m 4.922   \u001b[0m | \u001b[0m-0.1508  \u001b[0m | \u001b[0m-0.5023  \u001b[0m | \u001b[0m 0.4279  \u001b[0m | \u001b[0m-0.8471  \u001b[0m | \u001b[0m-0.5651  \u001b[0m |\n",
      "| \u001b[0m 16      \u001b[0m | \u001b[0m 5.64    \u001b[0m | \u001b[0m 0.1351  \u001b[0m | \u001b[0m-0.4446  \u001b[0m | \u001b[0m 0.3336  \u001b[0m | \u001b[0m-0.8354  \u001b[0m | \u001b[0m-0.7119  \u001b[0m |\n",
      "| \u001b[0m 17      \u001b[0m | \u001b[0m 4.186   \u001b[0m | \u001b[0m 0.1754  \u001b[0m | \u001b[0m-0.4668  \u001b[0m | \u001b[0m 0.7199  \u001b[0m | \u001b[0m-0.3559  \u001b[0m | \u001b[0m-0.2535  \u001b[0m |\n",
      "| \u001b[0m 18      \u001b[0m | \u001b[0m 5.023   \u001b[0m | \u001b[0m-0.005322\u001b[0m | \u001b[0m-0.5841  \u001b[0m | \u001b[0m 0.245   \u001b[0m | \u001b[0m-0.7015  \u001b[0m | \u001b[0m-0.6365  \u001b[0m |\n",
      "| \u001b[0m 19      \u001b[0m | \u001b[0m 4.885   \u001b[0m | \u001b[0m-0.04269 \u001b[0m | \u001b[0m-0.7338  \u001b[0m | \u001b[0m 0.2575  \u001b[0m | \u001b[0m-0.9188  \u001b[0m | \u001b[0m-0.5237  \u001b[0m |\n",
      "| \u001b[0m 20      \u001b[0m | \u001b[0m 4.821   \u001b[0m | \u001b[0m 0.671   \u001b[0m | \u001b[0m 0.3873  \u001b[0m | \u001b[0m-0.5768  \u001b[0m | \u001b[0m-0.4576  \u001b[0m | \u001b[0m 0.6002  \u001b[0m |\n",
      "| \u001b[0m 21      \u001b[0m | \u001b[0m 4.358   \u001b[0m | \u001b[0m-0.5728  \u001b[0m | \u001b[0m 0.9977  \u001b[0m | \u001b[0m 0.07623 \u001b[0m | \u001b[0m 0.1384  \u001b[0m | \u001b[0m 0.5852  \u001b[0m |\n",
      "| \u001b[0m 22      \u001b[0m | \u001b[0m 3.744   \u001b[0m | \u001b[0m 0.1499  \u001b[0m | \u001b[0m 0.7178  \u001b[0m | \u001b[0m 0.8918  \u001b[0m | \u001b[0m 0.03933 \u001b[0m | \u001b[0m-0.2653  \u001b[0m |\n",
      "| \u001b[0m 23      \u001b[0m | \u001b[0m 4.75    \u001b[0m | \u001b[0m 0.5311  \u001b[0m | \u001b[0m-0.9344  \u001b[0m | \u001b[0m-0.3363  \u001b[0m | \u001b[0m 0.7486  \u001b[0m | \u001b[0m-0.05932 \u001b[0m |\n",
      "| \u001b[0m 24      \u001b[0m | \u001b[0m 4.318   \u001b[0m | \u001b[0m 0.6529  \u001b[0m | \u001b[0m 0.6953  \u001b[0m | \u001b[0m 0.001328\u001b[0m | \u001b[0m-0.2288  \u001b[0m | \u001b[0m-0.9298  \u001b[0m |\n",
      "| \u001b[0m 25      \u001b[0m | \u001b[0m 3.622   \u001b[0m | \u001b[0m-0.3211  \u001b[0m | \u001b[0m 0.5222  \u001b[0m | \u001b[0m 0.9242  \u001b[0m | \u001b[0m 0.5892  \u001b[0m | \u001b[0m-0.08699 \u001b[0m |\n",
      "| \u001b[0m 26      \u001b[0m | \u001b[0m 3.98    \u001b[0m | \u001b[0m-0.7222  \u001b[0m | \u001b[0m 0.1782  \u001b[0m | \u001b[0m-0.7743  \u001b[0m | \u001b[0m 0.6576  \u001b[0m | \u001b[0m 0.9064  \u001b[0m |\n",
      "| \u001b[0m 27      \u001b[0m | \u001b[0m 4.78    \u001b[0m | \u001b[0m-0.08051 \u001b[0m | \u001b[0m-0.721   \u001b[0m | \u001b[0m-0.7425  \u001b[0m | \u001b[0m-0.05321 \u001b[0m | \u001b[0m 0.5411  \u001b[0m |\n",
      "| \u001b[0m 28      \u001b[0m | \u001b[0m 4.867   \u001b[0m | \u001b[0m 0.03946 \u001b[0m | \u001b[0m-0.5476  \u001b[0m | \u001b[0m 0.4237  \u001b[0m | \u001b[0m-0.8419  \u001b[0m | \u001b[0m-0.6481  \u001b[0m |\n",
      "| \u001b[0m 29      \u001b[0m | \u001b[0m 5.074   \u001b[0m | \u001b[0m 0.1053  \u001b[0m | \u001b[0m-0.6624  \u001b[0m | \u001b[0m 0.2754  \u001b[0m | \u001b[0m-0.8622  \u001b[0m | \u001b[0m-0.629   \u001b[0m |\n",
      "| \u001b[0m 30      \u001b[0m | \u001b[0m 5.373   \u001b[0m | \u001b[0m-0.000206\u001b[0m | \u001b[0m-0.6581  \u001b[0m | \u001b[0m 0.3775  \u001b[0m | \u001b[0m-0.8023  \u001b[0m | \u001b[0m-0.4671  \u001b[0m |\n",
      "=====================================================================================\n"
     ]
    }
   ],
   "source": [
    "optimizer = BayesianOptimization(\n",
    "    f=target_fn,\n",
    "    pbounds=pbounds\n",
    ")\n",
    "optimizer.maximize()"
   ]
  },
  {
   "cell_type": "code",
   "execution_count": 11,
   "id": "ea0aeb0d-fc0c-48b8-8bd5-561239748d32",
   "metadata": {},
   "outputs": [
    {
     "name": "stdout",
     "output_type": "stream",
     "text": [
      "Desired: [-1.4836243e-03 -1.8799498e-03  1.3003152e-04  2.4626208e-05]\n",
      "Objective: 5.7838440990671325\n"
     ]
    },
    {
     "data": {
      "image/png": "[encoded data removed]",
      "text/plain": [
       "<Figure size 720x360 with 2 Axes>"
      ]
     },
     "metadata": {
      "needs_background": "light"
     },
     "output_type": "display_data"
    }
   ],
   "source": [
    "print(\"Desired:\", env.desired)\n",
    "\n",
    "screen = simulation.segment.AREABSCR1\n",
    "\n",
    "plt.figure(figsize=(10,5))\n",
    "\n",
    "plt.subplot(121)\n",
    "plt.imshow(before, extent=screen.extent, interpolation=\"None\")\n",
    "plt.title(\"Before\")\n",
    "\n",
    "objective = target_fn(**optimizer.max[\"params\"])\n",
    "\n",
    "print(\"Objective:\", objective)\n",
    "\n",
    "plt.subplot(122)\n",
    "plt.imshow(screen.reading, extent=screen.extent, interpolation=\"None\")\n",
    "mu_x, mu_y, sigma_x, sigma_y = env.desired\n",
    "ellipse = Ellipse((mu_x,mu_y), sigma_x, sigma_y, fill=False, color=\"white\")\n",
    "plt.gca().add_patch(ellipse)\n",
    "plt.title(\"After\")\n",
    "\n",
    "plt.show()"
   ]
  },
  {
   "cell_type": "code",
   "execution_count": 17,
   "id": "e1d3d912-f17f-40e6-9d5f-bc4759749214",
   "metadata": {},
   "outputs": [
    {
     "data": {
      "image/png": "[encoded data removed]",
      "text/plain": [
       "<Figure size 432x288 with 1 Axes>"
      ]
     },
     "metadata": {
      "needs_background": "light"
     },
     "output_type": "display_data"
    }
   ],
   "source": [
    "plt.plot(optimizer.space.target)\n",
    "plt.show()"
   ]
  },
  {
   "cell_type": "markdown",
   "id": "6df7f8e4-ef48-46ee-abc3-85d0fe48c413",
   "metadata": {},
   "source": [
    "## Reinforcement Learning"
   ]
  },
  {
   "cell_type": "code",
   "execution_count": 12,
   "id": "9ff53a14-4e9e-4d6a-a82c-7569cff5b2c2",
   "metadata": {},
   "outputs": [],
   "source": [
    "timestamp = \"20210908093749\"\n",
    "model = torch.load(f\"models/onestep-model-{timestamp}.pkl\")"
   ]
  },
  {
   "cell_type": "code",
   "execution_count": 13,
   "id": "7cfb1870-45fc-4eb7-ad3c-1139cf246ace",
   "metadata": {},
   "outputs": [
    {
     "name": "stdout",
     "output_type": "stream",
     "text": [
      "Objective: 5.014599631175571\n"
     ]
    },
    {
     "data": {
      "image/png": "[encoded data removed]",
      "text/plain": [
       "<Figure size 720x360 with 2 Axes>"
      ]
     },
     "metadata": {
      "needs_background": "light"
     },
     "output_type": "display_data"
    }
   ],
   "source": [
    "screen = env.segment.AREABSCR1\n",
    "\n",
    "plt.figure(figsize=(10,5))\n",
    "\n",
    "plt.subplot(121)\n",
    "plt.imshow(before, extent=screen.extent, interpolation=\"None\")\n",
    "plt.title(\"Before\")\n",
    "\n",
    "torched_observation = torch.tensor(observation, dtype=torch.float32)\n",
    "unsqueezed_observation = torched_observation.unsqueeze(0)\n",
    "unsqueezed_actuators = model(unsqueezed_observation).sample()\n",
    "torched_actuators = unsqueezed_actuators.squeeze()\n",
    "actuators = torched_actuators.detach().numpy()\n",
    "_, reward, _, _ = env.step(actuators)\n",
    "\n",
    "print(\"Objective:\", reward)\n",
    "\n",
    "plt.subplot(122)\n",
    "plt.imshow(screen.reading, extent=screen.extent, interpolation=\"None\")\n",
    "mu_x, mu_y, sigma_x, sigma_y = env.desired\n",
    "ellipse = Ellipse((mu_x,mu_y), sigma_x, sigma_y, fill=False, color=\"white\")\n",
    "plt.gca().add_patch(ellipse)\n",
    "plt.title(\"After\")\n",
    "\n",
    "plt.show()"
   ]
  },
  {
   "cell_type": "code",
   "execution_count": 14,
   "id": "c05a0895-8349-4ec0-8c50-c22e6732624b",
   "metadata": {},
   "outputs": [
    {
     "name": "stdout",
     "output_type": "stream",
     "text": [
      "WARNING: Diagnostic screen was converted with default screen properties.\n"
     ]
    },
    {
     "data": {
      "text/plain": [
       "array([ 2.7730844e+01,  1.6860699e+01, -2.9200151e+00,  1.5394255e-03,\n",
       "        3.4728730e-03, -1.4836243e-03, -1.8799498e-03,  1.3003152e-04,\n",
       "        2.4626208e-05,  7.0831371e-03,  3.8319458e-03,  9.2404307e-04,\n",
       "        6.4695887e-03], dtype=float32)"
      ]
     },
     "execution_count": 14,
     "metadata": {},
     "output_type": "execute_result"
    }
   ],
   "source": [
    "simulation = Simulation()\n",
    "simulation.reset(incoming=env.incoming, initial_actuators=env.initial_actuators, desired=env.desired)"
   ]
  },
  {
   "cell_type": "code",
   "execution_count": 15,
   "id": "a3fd040d-6d0f-43b7-bf1d-341370f0c899",
   "metadata": {},
   "outputs": [
    {
     "name": "stdout",
     "output_type": "stream",
     "text": [
      "Objective: 5.014599631175571\n"
     ]
    },
    {
     "data": {
      "image/png": "[encoded data removed]",
      "text/plain": [
       "<Figure size 720x360 with 2 Axes>"
      ]
     },
     "metadata": {
      "needs_background": "light"
     },
     "output_type": "display_data"
    }
   ],
   "source": [
    "screen = simulation.segment.AREABSCR1\n",
    "\n",
    "plt.figure(figsize=(10,5))\n",
    "\n",
    "plt.subplot(121)\n",
    "plt.imshow(before, extent=screen.extent, interpolation=\"None\")\n",
    "plt.title(\"Before\")\n",
    "\n",
    "observation_factor = np.concatenate([\n",
    "    simulation.actuator_space.high,\n",
    "    simulation.goal_space.high,\n",
    "    simulation.goal_space.high\n",
    "])\n",
    "\n",
    "normalized_observation = observation / observation_factor\n",
    "normalized_observation = torch.tensor(normalized_observation, dtype=torch.float32)\n",
    "unsqueezed_observation = normalized_observation.unsqueeze(0)\n",
    "\n",
    "unsqueezed_actuators = model(unsqueezed_observation).sample()\n",
    "\n",
    "normalized_actuators = unsqueezed_actuators.squeeze()\n",
    "actuators = normalized_actuators.detach().numpy() * simulation.actuator_space.high\n",
    "\n",
    "simulation.track(actuators)\n",
    "\n",
    "print(\"Objective:\", reward)\n",
    "\n",
    "plt.subplot(122)\n",
    "plt.imshow(screen.reading, extent=screen.extent, interpolation=\"None\")\n",
    "mu_x, mu_y, sigma_x, sigma_y = simulation.desired\n",
    "ellipse = Ellipse((mu_x,mu_y), sigma_x, sigma_y, fill=False, color=\"white\")\n",
    "plt.gca().add_patch(ellipse)\n",
    "plt.title(\"After\")\n",
    "\n",
    "plt.show()"
   ]
  },
  {
   "cell_type": "code",
   "execution_count": null,
   "id": "9b7961b5-d618-4c4d-b8f8-5d0c454284c2",
   "metadata": {},
   "outputs": [],
   "source": []
  }
 ],
 "metadata": {
  "kernelspec": {
   "display_name": "Python 3 (ipykernel)",
   "language": "python",
   "name": "python3"
  },
  "language_info": {
   "codemirror_mode": {
    "name": "ipython",
    "version": 3
   },
   "file_extension": ".py",
   "mimetype": "text/x-python",
   "name": "python",
   "nbconvert_exporter": "python",
   "pygments_lexer": "ipython3",
   "version": "3.7.11"
  }
 },
 "nbformat": 4,
 "nbformat_minor": 5
}
