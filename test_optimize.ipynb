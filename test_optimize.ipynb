{
 "cells": [
  {
   "cell_type": "code",
   "execution_count": 1,
   "metadata": {},
   "outputs": [],
   "source": [
    "from ea_optimize import optimize_ablation as optimize"
   ]
  },
  {
   "cell_type": "code",
   "execution_count": 2,
   "metadata": {},
   "outputs": [],
   "source": [
    "optimize(\n",
    "    target_mu_x=-0.0,\n",
    "    target_sigma_x=0.0,\n",
    "    target_mu_y=0.0,\n",
    "    target_sigma_y=0.0,\n",
    "    target_mu_x_threshold=1e-5,\n",
    "    target_mu_y_threshold=1e-5,\n",
    "    target_sigma_x_threshold=1e-5,\n",
    "    target_sigma_y_threshold=1e-5,\n",
    "    max_steps=10,\n",
    "    model_name=\"toasty-shape-246\",\n",
    "    logbook=False,                          # TOOOOOOOOOOOOOOOODDDDOOOOOOOOOOOOOOOOOOOOOOOOOOOOOO turn back on before running real experiment\n",
    "    callback=None,\n",
    ")"
   ]
  },
  {
   "cell_type": "code",
   "execution_count": null,
   "metadata": {},
   "outputs": [],
   "source": []
  }
 ],
 "metadata": {
  "kernelspec": {
   "display_name": "Python 3.9.7 64-bit",
   "name": "python397jvsc74a57bd0c18654824bf7067840103435c345fd3db15511ad5790ba5d23d312d9132e0798"
  },
  "language_info": {
   "codemirror_mode": {
    "name": "ipython",
    "version": 3
   },
   "file_extension": ".py",
   "mimetype": "text/x-python",
   "name": "python",
   "nbconvert_exporter": "python",
   "pygments_lexer": "ipython3",
   "version": "3.9.7"
  },
  "orig_nbformat": 3
 },
 "nbformat": 4,
 "nbformat_minor": 4
}